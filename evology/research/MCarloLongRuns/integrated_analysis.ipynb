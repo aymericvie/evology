{
 "cells": [
  {
   "cell_type": "code",
   "execution_count": 8,
   "metadata": {},
   "outputs": [
    {
     "name": "stdout",
     "output_type": "stream",
     "text": [
      "    Unnamed: 0    F      H  WShare_NT  WShare_VI  WShare_TF  SharpeNT  \\\n",
      "0            0  0.0    2.0  41.471506  41.466001  17.062493      -inf   \n",
      "1            1  0.0    2.0  33.334551  33.397376  33.268073       inf   \n",
      "2            2  0.0    5.0  33.341533  33.344518  33.313949      -inf   \n",
      "3            3  0.0    5.0  33.333721  33.341067  33.325211       inf   \n",
      "4            4  0.0   10.0  33.347965  33.350637  33.301398       inf   \n",
      "5            5  0.0   10.0  43.743452  43.744868  12.511680      -inf   \n",
      "6            6  0.0   21.0  42.399378  42.402534  15.198088       inf   \n",
      "7            7  0.0   21.0  39.203291  39.195862  21.600847       inf   \n",
      "8            8  0.0  521.0  46.279061  46.287233   7.433705       inf   \n",
      "9            9  0.0  521.0  33.338237  33.341997  33.319766      -inf   \n",
      "10          10  1.5    2.0  37.711314  32.731518  29.557168      -inf   \n",
      "11          11  1.5    2.0  33.161957  38.271435  28.566608      -inf   \n",
      "12          12  1.5    5.0  41.416554  34.992905  23.590541       inf   \n",
      "13          13  1.5    5.0  33.501572  35.702981  30.795447       inf   \n",
      "14          14  1.5   10.0  35.298198  33.797991  30.903811       inf   \n",
      "15          15  1.5   10.0  36.201384  34.291039  29.507577       inf   \n",
      "16          16  1.5   21.0  34.526747  35.371497  30.101756      -inf   \n",
      "17          17  1.5   21.0  43.210165  34.399919  22.389916       inf   \n",
      "18          18  1.5  521.0  35.638604  35.130096  29.231299       inf   \n",
      "19          19  1.5  521.0  33.036602  38.280698  28.682700       inf   \n",
      "20          20  3.0    2.0  32.998563  34.564326  32.437111       inf   \n",
      "21          21  3.0    2.0  29.994427  37.234193  32.771379       inf   \n",
      "22          22  3.0    5.0  28.255563  38.245806  33.498632      -inf   \n",
      "23          23  3.0    5.0  36.731259  34.084899  29.183841       inf   \n",
      "24          24  3.0   10.0  30.605815  34.001070  35.393115      -inf   \n",
      "25          25  3.0   10.0  31.213347  49.434466  19.352187       inf   \n",
      "26          26  3.0   21.0  29.691991  41.279731  29.028278       inf   \n",
      "27          27  3.0   21.0  34.133207  42.405767  23.461027       inf   \n",
      "28          28  3.0  521.0  35.841764  44.675717  19.482519       inf   \n",
      "29          29  3.0  521.0  38.545287  39.277232  22.177480       inf   \n",
      "\n",
      "    SharpeVI  SharpeTF  DeltaNTVI  DeltaNTTF  DeltaVITF  AvgSignificance  \\\n",
      "0       -inf      -inf   2.197268   2.413394   2.733608         1.277564   \n",
      "1        inf      -inf        NaN   4.038468   7.276572         1.136975   \n",
      "2       -inf       inf        NaN   6.038725  -1.685092         0.654501   \n",
      "3        inf      -inf        NaN   5.894075   6.094569         0.701962   \n",
      "4        inf      -inf        NaN   2.834512  -2.543899         0.552538   \n",
      "5        inf      -inf   2.809973   2.572553   2.679844         0.707508   \n",
      "6        inf      -inf   2.421209   2.190993   6.724321         0.668915   \n",
      "7        inf      -inf   2.487645   2.713796   0.101328         0.560143   \n",
      "8        inf      -inf   2.460101   2.497104  10.268953         0.553092   \n",
      "9       -inf       inf        NaN   4.940894   8.160219         0.458456   \n",
      "10      -inf      -inf  -1.106687  10.551393   4.084938         1.111785   \n",
      "11      -inf      -inf   5.602807   3.315940   3.128331         1.041142   \n",
      "12       inf      -inf   2.554903   3.649981  25.110432         0.693307   \n",
      "13       inf      -inf   3.603615   4.081215   5.018064         0.671966   \n",
      "14       inf      -inf   3.643254   4.083494   4.023991         0.497248   \n",
      "15       inf      -inf   3.313711   2.449238   2.533691         0.551544   \n",
      "16      -inf      -inf   3.269232   3.116162   3.418578         0.405009   \n",
      "17       inf      -inf   2.206319   2.754227   2.592987         0.571090   \n",
      "18       inf      -inf   4.178296   2.964479   3.492385         0.208434   \n",
      "19       inf      -inf  -7.749795   2.619338   2.628378         0.200373   \n",
      "20       inf      -inf   4.223654   3.303000   3.076064         1.073915   \n",
      "21      -inf      -inf   2.512361   3.065781   4.622239         1.074890   \n",
      "22      -inf      -inf   1.927555   2.582122   5.117738         0.698157   \n",
      "23       inf      -inf   4.926874  -1.310153   4.309652         0.738024   \n",
      "24      -inf      -inf   2.629321   7.064416   3.177821         0.584703   \n",
      "25      -inf      -inf   4.679694   2.928752   2.646504         0.598360   \n",
      "26       inf      -inf   4.371812   6.581816  -0.753110         0.495404   \n",
      "27      -inf       inf   2.753046   2.794568   3.132544         0.554774   \n",
      "28      -inf      -inf   2.431981   6.399191   3.986403         0.211645   \n",
      "29       inf      -inf   2.719698   2.520037   3.603939         1.268945   \n",
      "\n",
      "    AvgNumberDev  PerSignif  \n",
      "0       0.000000   0.000000  \n",
      "1       0.000000   0.000000  \n",
      "2       0.064290   8.830199  \n",
      "3       0.080615  10.284114  \n",
      "4       0.071104   7.696412  \n",
      "5       0.116068  11.724690  \n",
      "6       0.128547  13.512071  \n",
      "7       0.075789   8.043217  \n",
      "8       0.143563   9.030279  \n",
      "9       0.150706  13.778845  \n",
      "10      0.000000   0.000000  \n",
      "11      0.000000   0.000000  \n",
      "12      0.100062   8.923569  \n",
      "13      0.076664   8.430039  \n",
      "14      0.038199   4.535147  \n",
      "15      0.064366   5.855676  \n",
      "16      0.013806   2.200880  \n",
      "17      0.058002   6.615980  \n",
      "18      0.000553   0.200080  \n",
      "19      0.001420   0.426837  \n",
      "20      0.000000   0.000000  \n",
      "21      0.000000   0.000000  \n",
      "22      0.084998   8.216620  \n",
      "23      0.112262   9.897292  \n",
      "24      0.079510   6.015740  \n",
      "25      0.044579   5.175403  \n",
      "26      0.052211   4.401761  \n",
      "27      0.060191   5.828998  \n",
      "28      0.000007   0.013339  \n",
      "29      2.050035  15.379485  \n"
     ]
    }
   ],
   "source": [
    "import pandas as pd\n",
    "data = pd.read_csv(\"/Users/aymericvie/Documents/GitHub/evology/evology/research/MCarloLongRuns/data/data.csv\")\n",
    "print(data)\n",
    "import matplotlib.pyplot as plt\n",
    "import seaborn as sns"
   ]
  },
  {
   "cell_type": "code",
   "execution_count": 9,
   "metadata": {},
   "outputs": [
    {
     "data": {
      "text/plain": [
       "<AxesSubplot:xlabel='F', ylabel='WShare_NT'>"
      ]
     },
     "execution_count": 9,
     "metadata": {},
     "output_type": "execute_result"
    },
    {
     "data": {
      "image/png": "[encoded data removed]",
      "text/plain": [
       "<Figure size 432x288 with 1 Axes>"
      ]
     },
     "metadata": {
      "needs_background": "light"
     },
     "output_type": "display_data"
    }
   ],
   "source": [
    "sns.regplot(x='F', y='WShare_NT', data=data)"
   ]
  }
 ],
 "metadata": {
  "interpreter": {
   "hash": "aee8b7b246df8f9039afb4144a1f6fd8d2ca17a180786b69acc140d282b71a49"
  },
  "kernelspec": {
   "display_name": "Python 3.9.6 64-bit",
   "language": "python",
   "name": "python3"
  },
  "language_info": {
   "codemirror_mode": {
    "name": "ipython",
    "version": 3
   },
   "file_extension": ".py",
   "mimetype": "text/x-python",
   "name": "python",
   "nbconvert_exporter": "python",
   "pygments_lexer": "ipython3",
   "version": "3.9.6"
  },
  "orig_nbformat": 4
 },
 "nbformat": 4,
 "nbformat_minor": 2
}
