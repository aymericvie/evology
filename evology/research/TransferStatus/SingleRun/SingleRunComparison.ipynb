{
 "cells": [
  {
   "cell_type": "code",
   "execution_count": 1,
   "metadata": {},
   "outputs": [
    {
     "name": "stdout",
     "output_type": "stream",
     "text": [
      "['/Users/aymericvie/Documents/GitHub/evology/evology/research/TransferStatus/SingleRun', '/Users/aymericvie/.vscode/extensions/ms-toolsai.jupyter-2021.9.1101343141/pythonFiles', '/Users/aymericvie/.vscode/extensions/ms-toolsai.jupyter-2021.9.1101343141/pythonFiles/lib/python', '/Library/Frameworks/Python.framework/Versions/3.9/lib/python39.zip', '/Library/Frameworks/Python.framework/Versions/3.9/lib/python3.9', '/Library/Frameworks/Python.framework/Versions/3.9/lib/python3.9/lib-dynload', '', '/Library/Frameworks/Python.framework/Versions/3.9/lib/python3.9/site-packages', '/Library/Frameworks/Python.framework/Versions/3.9/lib/python3.9/site-packages/IPython/extensions', '/Users/aymericvie/.ipython']\n",
      "['vi', 'tf', 'vi', 'tf', 'vi', 'vi', 'tf', 'tf', 'nt', 'vi']\n"
     ]
    }
   ],
   "source": [
    "import sys\n",
    "print(sys.path)\n",
    "sys.path.insert(0, '/Users/aymericvie/Documents/GitHub/evology/evology/code/')\n",
    "from main import *\n",
    "\n",
    "\n",
    "random.seed = 9\n",
    "df = main(\"between\", 1, 0, 10, 0, 0, [0.3, 0.4, 0.3], True)\n"
   ]
  },
  {
   "cell_type": "markdown",
   "metadata": {},
   "source": [
    "First, let us get the data for the learning and the non learning case"
   ]
  },
  {
   "cell_type": "code",
   "execution_count": 10,
   "metadata": {},
   "outputs": [
    {
     "name": "stdout",
     "output_type": "stream",
     "text": [
      "['vi', 'nt', 'nt', 'vi', 'vi', 'tf', 'nt', 'nt', 'vi', 'tf', 'nt', 'vi', 'nt', 'nt', 'tf', 'nt', 'tf', 'tf', 'nt', 'tf', 'nt', 'tf', 'nt', 'tf', 'tf', 'tf', 'vi', 'nt', 'vi', 'nt', 'vi', 'vi', 'nt', 'tf', 'nt', 'vi', 'nt', 'nt', 'nt', 'tf', 'vi', 'tf', 'vi', 'vi', 'tf', 'vi', 'nt', 'nt', 'vi', 'nt', 'nt', 'tf', 'tf', 'tf', 'nt', 'tf', 'tf', 'nt', 'vi', 'vi', 'tf', 'vi', 'vi', 'tf', 'nt', 'vi', 'vi', 'tf', 'tf', 'nt', 'tf', 'nt', 'nt', 'nt', 'vi', 'vi', 'vi', 'nt', 'vi', 'nt', 'vi', 'tf', 'vi', 'vi', 'vi', 'nt', 'tf', 'nt', 'vi', 'tf', 'nt', 'vi', 'vi', 'vi', 'nt', 'nt', 'tf', 'nt', 'vi', 'vi']\n"
     ]
    },
    {
     "name": "stderr",
     "output_type": "stream",
     "text": [
      "  3%|▎         | 3492/100000 [00:15<07:15, 221.62it/s]"
     ]
    }
   ],
   "source": [
    "time = 100_000\n",
    "agents = 100\n",
    "from parameters import *\n",
    "wealth_coordinates = [1/3, 1/3, 1/3]\n",
    "\n",
    "df_baseline = main(\"between\", time, 0, agents, 0, 0, wealth_coordinates, False)\n",
    "df_baseline.to_csv(\"baseline.csv\")\n",
    "print(df_baseline.head())\n",
    "\n",
    "\n"
   ]
  },
  {
   "cell_type": "code",
   "execution_count": 8,
   "metadata": {},
   "outputs": [
    {
     "name": "stdout",
     "output_type": "stream",
     "text": [
      "['vi', 'vi', 'nt', 'vi', 'vi', 'nt', 'vi', 'tf', 'vi', 'tf', 'tf', 'tf', 'tf', 'vi', 'tf', 'tf', 'vi', 'vi', 'nt', 'vi', 'tf', 'nt', 'vi', 'nt', 'tf', 'nt', 'vi', 'vi', 'vi', 'tf', 'vi', 'tf', 'nt', 'nt', 'tf', 'vi', 'vi', 'nt', 'nt', 'nt', 'tf', 'vi', 'tf', 'tf', 'nt', 'vi', 'nt', 'vi', 'nt', 'vi', 'tf', 'nt', 'vi', 'vi', 'vi', 'tf', 'nt', 'vi', 'tf', 'nt', 'nt', 'tf', 'tf', 'vi', 'tf', 'nt', 'tf', 'nt', 'nt', 'nt', 'vi', 'nt', 'tf', 'tf', 'nt', 'vi', 'tf', 'tf', 'vi', 'nt', 'nt', 'vi', 'tf', 'nt', 'nt', 'vi', 'tf', 'nt', 'vi', 'nt', 'vi', 'tf', 'tf', 'nt', 'tf', 'nt', 'vi', 'tf', 'nt', 'vi']\n",
      "   Gen   Price      Mismatch  Num_NT  Num_VI  Num_TF  Mean_TF     Mean_VI  \\\n",
      "0  0.0  104.82   9133.558196    33.0    35.0    32.0      2.0  101.664132   \n",
      "1  1.0  103.31   3442.171493    33.0    35.0    32.0      2.0   99.880522   \n",
      "2  2.0  103.02   8108.528407    33.0    35.0    32.0      2.0   99.896379   \n",
      "3  3.0  103.53  13411.722420    33.0    35.0    32.0      2.0  100.256054   \n",
      "4  4.0  103.41  19845.462889    33.0    35.0    32.0      2.0   99.875710   \n",
      "\n",
      "      Mean_NT  Dividends  ...     VI_stocks  VI_returns       TF_cash  \\\n",
      "0  101.664132   0.003944  ...  1.055636e+08    0.000000  7.160619e+07   \n",
      "1   99.880522   0.003944  ...  1.044049e+08    0.024140  7.042688e+07   \n",
      "2   99.896379   0.003959  ...  1.062768e+08   -0.014810  7.511951e+07   \n",
      "3  100.256054   0.003944  ...  1.044390e+08   -0.002864  7.153894e+07   \n",
      "4   99.875710   0.003960  ...  1.019243e+08    0.005270  6.909198e+07   \n",
      "\n",
      "   TF_lending  TF_loans        TF_nav        TF_pnl  TF_signal     TF_stocks  \\\n",
      "0         0.0       0.0  1.000000e+08  1.000000e+08   0.000000  3.080781e+07   \n",
      "1         0.0       0.0  1.024140e+08  2.414000e+06   0.000000  3.154731e+07   \n",
      "2         0.0       0.0  1.019742e+08 -4.398074e+05  -0.002807  2.677013e+07   \n",
      "3         0.0       0.0  1.018896e+08 -8.454657e+04   0.004950  3.048724e+07   \n",
      "4         0.0       0.0  1.020262e+08  1.365254e+05  -0.001159  3.290285e+07   \n",
      "\n",
      "   TF_returns  \n",
      "0    0.000000  \n",
      "1    0.024140  \n",
      "2   -0.004294  \n",
      "3   -0.000829  \n",
      "4    0.001340  \n",
      "\n",
      "[5 rows x 42 columns]\n"
     ]
    }
   ],
   "source": [
    "# def main(mode, MAX_GENERATIONS, PROBA_SELECTION, POPULATION_SIZE, CROSSOVER_RATE, MUTATION_RATE, wealth_coordinates, tqdm_display):\n",
    "df_learning = main(\"between\", time, PROBA_SELECTION, agents, 0, MUTATION_RATE, wealth_coordinates, False)\n",
    "df_learning.to_csv(\"learning.csv\")\n",
    "print(df_learning.head())"
   ]
  }
 ],
 "metadata": {
  "interpreter": {
   "hash": "aee8b7b246df8f9039afb4144a1f6fd8d2ca17a180786b69acc140d282b71a49"
  },
  "kernelspec": {
   "display_name": "Python 3.9.6 64-bit",
   "name": "python3"
  },
  "language_info": {
   "codemirror_mode": {
    "name": "ipython",
    "version": 3
   },
   "file_extension": ".py",
   "mimetype": "text/x-python",
   "name": "python",
   "nbconvert_exporter": "python",
   "pygments_lexer": "ipython3",
   "version": "3.9.6"
  },
  "orig_nbformat": 4
 },
 "nbformat": 4,
 "nbformat_minor": 2
}
