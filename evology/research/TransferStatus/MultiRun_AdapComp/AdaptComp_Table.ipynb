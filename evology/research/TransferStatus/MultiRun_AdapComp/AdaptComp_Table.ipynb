{
 "cells": [
  {
   "cell_type": "code",
   "execution_count": 3,
   "metadata": {},
   "outputs": [],
   "source": [
    "#!/usr/bin/env python3\n",
    "import pandas as pd\n",
    "import random \n",
    "import matplotlib\n",
    "import matplotlib.pyplot as plt \n",
    "data = pd.DataFrame()\n",
    "\n",
    "rdsearch = pd.read_csv(\"/Users/aymericvie/Documents/GitHub/evology/evology/research/TransferStatus/MultiRun_AdapComp/data/rdsearch.csv\")\n",
    "profadap = pd.read_csv(\"/Users/aymericvie/Documents/GitHub/evology/evology/research/TransferStatus/MultiRun_AdapComp/data/profadapt.csv\")\n",
    "combined = pd.read_csv(\"/Users/aymericvie/Documents/GitHub/evology/evology/research/TransferStatus/MultiRun_AdapComp/data/combined.csv\")\n",
    "static = pd.read_csv(\"/Users/aymericvie/Documents/GitHub/evology/evology/research/TransferStatus/MultiRun_AdapComp/data/static.csv\")"
   ]
  },
  {
   "cell_type": "code",
   "execution_count": 4,
   "metadata": {},
   "outputs": [
    {
     "name": "stdout",
     "output_type": "stream",
     "text": [
      "Static / Random Search / Imitation / Combined\n"
     ]
    }
   ],
   "source": [
    "print(\"Static / Random Search / Imitation / Combined\")\n",
    "import numpy as np\n",
    "\n",
    "price_volatility_ST = np.log(static['Price'].var())\n",
    "price_volatility_RS = np.log(rdsearch['Price'].var())\n",
    "price_volatility_IM = np.log(profadap['Price'].var())\n",
    "price_volatility_CB = np.log(combined['Price'].var())\n",
    "\n",
    "WShare_NT_ST = static['WShare_NT'].mean()\n",
    "WShare_NT_RS = rdsearch['WShare_NT'].mean()\n",
    "WShare_NT_IM = profadap['WShare_NT'].mean()\n",
    "WShare_NT_CB = combined['WShare_NT'].mean()\n",
    "\n",
    "WShare_NT_ST_var = static['WShare_NT'].var()\n",
    "WShare_NT_RS_var = rdsearch['WShare_NT'].var()\n",
    "WShare_NT_IM_var = profadap['WShare_NT'].var()\n",
    "WShare_NT_CB_var = combined['WShare_NT'].var()\n",
    "\n",
    "WShare_VI_ST = static['WShare_VI'].mean()\n",
    "WShare_VI_RS = rdsearch['WShare_VI'].mean()\n",
    "WShare_VI_IM = profadap['WShare_VI'].mean()\n",
    "WShare_VI_CB = combined['WShare_VI'].mean()\n",
    "\n",
    "WShare_VI_ST_var = static['WShare_VI'].var()\n",
    "WShare_VI_RS_var = rdsearch['WShare_VI'].var()\n",
    "WShare_VI_IM_var = profadap['WShare_VI'].var()\n",
    "WShare_VI_CB_var = combined['WShare_VI'].var()\n",
    "\n",
    "####\n",
    "\n",
    "WShare_TF_ST = static['WShare_TF'].mean()\n",
    "WShare_TF_RS = rdsearch['WShare_TF'].mean()\n",
    "WShare_TF_IM = profadap['WShare_TF'].mean()\n",
    "WShare_TF_CB = combined['WShare_TF'].mean()\n",
    "\n",
    "WShare_TF_ST_var = static['WShare_TF'].var()\n",
    "WShare_TF_RS_var = rdsearch['WShare_TF'].var()\n",
    "WShare_TF_IM_var = profadap['WShare_TF'].var()\n",
    "WShare_TF_CB_var = combined['WShare_TF'].var()\n",
    "\n",
    "####\n",
    "\n",
    "Vol_ST = static['Volume'].mean()\n",
    "Vol_RS = rdsearch['Volume'].mean()\n",
    "Vol_IM = profadap['Volume'].mean()\n",
    "Vol_CB = combined['Volume'].mean()\n",
    "\n",
    "Vol_var_ST = np.log(static['Volume'].var())\n",
    "Vol_var_RS = np.log(rdsearch['Volume'].var())\n",
    "Vol_var_IM = np.log(profadap['Volume'].var())\n",
    "Vol_var_CB = np.log(combined['Volume'].var())"
   ]
  },
  {
   "cell_type": "code",
   "execution_count": 5,
   "metadata": {},
   "outputs": [
    {
     "name": "stdout",
     "output_type": "stream",
     "text": [
      "\n",
      "Texttable Table:\n",
      "                         |   Static   | Random Search | Imitation  |  Combined \n",
      "=========================+============+===============+============+===========\n",
      "    Price volatility     |   2.449    |     2.117     |   2.545    |   2.351   \n",
      "      Mean volume        | 777636.879 |  657334.197   | 685245.485 | 684678.645\n",
      "   Volume volatility     |   24.696   |    23.760     |   24.728   |   24.739  \n",
      "  Mean Wealth share NT   |   33.304   |    33.433     |   33.441   |   33.576  \n",
      "Variance Wealth share NT |   0.346    |     0.868     |   0.401    |   0.245   \n",
      "  Mean Wealth share VI   |   33.227   |    33.492     |   33.222   |   33.215  \n",
      "Variance Wealth share VI |   0.310    |     0.386     |   0.491    |   0.371   \n",
      "  Mean Wealth share TF   |   33.469   |    33.075     |   33.337   |   33.208  \n",
      "Variance Wealth share TF |   0.580    |     0.623     |   0.946    |   0.621   \n"
     ]
    }
   ],
   "source": [
    "from tabulate import tabulate\n",
    "from texttable import Texttable\n",
    "import latextable\n",
    "\n",
    "rows = [['', 'Static', 'Random Search', 'Imitation', 'Combined'],\n",
    "        ['Price volatility', str(price_volatility_ST), str(price_volatility_RS), str(price_volatility_IM), str(price_volatility_CB)],\n",
    "        ['Mean volume', str(Vol_ST), str(Vol_RS), str(Vol_IM), str(Vol_CB)],\n",
    "        ['Volume volatility', str(Vol_var_ST), str(Vol_var_RS), str(Vol_var_IM), str(Vol_var_CB)],\n",
    "        ['Mean Wealth share NT', str(WShare_NT_ST), str(WShare_NT_RS), str(WShare_NT_IM), str(WShare_NT_CB)],\n",
    "        ['Variance Wealth share NT', str(WShare_NT_ST_var), str(WShare_NT_RS_var), str(WShare_NT_IM_var), str(WShare_NT_CB_var)],\n",
    "\n",
    "        ['Mean Wealth share VI', str(WShare_VI_ST), str(WShare_VI_RS), str(WShare_VI_IM), str(WShare_VI_CB)],\n",
    "        ['Variance Wealth share VI', str(WShare_VI_ST_var), str(WShare_VI_RS_var), str(WShare_VI_IM_var), str(WShare_VI_CB_var)],\n",
    "\n",
    "        ['Mean Wealth share TF', str(WShare_TF_ST), str(WShare_TF_RS), str(WShare_TF_IM), str(WShare_TF_CB)],\n",
    "        ['Variance Wealth share TF', str(WShare_TF_ST_var), str(WShare_TF_RS_var), str(WShare_TF_IM_var), str(WShare_TF_CB_var)]\n",
    "        ]\n",
    "\n",
    "table = Texttable()\n",
    "table.set_cols_align([\"c\"] * 5)\n",
    "table.set_deco(Texttable.HEADER | Texttable.VLINES)\n",
    "table.add_rows(rows)\n",
    "\n",
    "# print('Tabulate Table:')\n",
    "# print(tabulate(rows, headers='firstrow'))\n",
    "\n",
    "print('\\nTexttable Table:')\n",
    "print(table.draw())\n",
    "\n",
    "# print('\\nTabulate Latex:')\n",
    "# print(tabulate(rows, headers='firstrow', tablefmt='latex'))"
   ]
  },
  {
   "cell_type": "code",
   "execution_count": 6,
   "metadata": {},
   "outputs": [
    {
     "name": "stdout",
     "output_type": "stream",
     "text": [
      "\n",
      "Texttable Latex:\n",
      "\\begin{table}\n",
      "\t\\begin{center}\n",
      "\t\t\\begin{tabular}{c|c|c|c|c}\n",
      "\t\t\t & Static & Random Search & Imitation & Combined \\\\\n",
      "\t\t\t\\hline\n",
      "\t\t\tPrice volatility & 2.449 & 2.117 & 2.545 & 2.351 \\\\\n",
      "\t\t\tMean volume & 777636.879 & 657334.197 & 685245.485 & 684678.645 \\\\\n",
      "\t\t\tVolume volatility & 24.696 & 23.760 & 24.728 & 24.739 \\\\\n",
      "\t\t\tMean Wealth share NT & 33.304 & 33.433 & 33.441 & 33.576 \\\\\n",
      "\t\t\tVariance Wealth share NT & 0.346 & 0.868 & 0.401 & 0.245 \\\\\n",
      "\t\t\tMean Wealth share VI & 33.227 & 33.492 & 33.222 & 33.215 \\\\\n",
      "\t\t\tVariance Wealth share VI & 0.310 & 0.386 & 0.491 & 0.371 \\\\\n",
      "\t\t\tMean Wealth share TF & 33.469 & 33.075 & 33.337 & 33.208 \\\\\n",
      "\t\t\tVariance Wealth share TF & 0.580 & 0.623 & 0.946 & 0.621 \\\\\n",
      "\t\t\\end{tabular}\n",
      "\t\\end{center}\n",
      "\t\\caption{Comparison of market dynamics under different learning algorithms}\n",
      "\\end{table}\n"
     ]
    }
   ],
   "source": [
    "print('\\nTexttable Latex:')\n",
    "print(latextable.draw_latex(table, caption=\"Comparison of market dynamics under different learning algorithms (10 repetitions of 15,000-period runs)\"))"
   ]
  }
 ],
 "metadata": {
  "interpreter": {
   "hash": "aee8b7b246df8f9039afb4144a1f6fd8d2ca17a180786b69acc140d282b71a49"
  },
  "kernelspec": {
   "display_name": "Python 3.9.6 64-bit",
   "name": "python3"
  },
  "language_info": {
   "codemirror_mode": {
    "name": "ipython",
    "version": 3
   },
   "file_extension": ".py",
   "mimetype": "text/x-python",
   "name": "python",
   "nbconvert_exporter": "python",
   "pygments_lexer": "ipython3",
   "version": "3.9.6"
  },
  "orig_nbformat": 4
 },
 "nbformat": 4,
 "nbformat_minor": 2
}
