{
 "cells": [
  {
   "cell_type": "code",
   "execution_count": 1,
   "metadata": {},
   "outputs": [],
   "source": [
    "#!/usr/bin/env python3\n",
    "import sys\n",
    "sys.path.insert(0, '/Users/aymericvie/Documents/GitHub/evology/evology/code/')\n",
    "from main import *\n",
    "# def main(mode, MAX_GENERATIONS, PROBA_SELECTION, POPULATION_SIZE, CROSSOVER_RATE, MUTATION_RATE, wealth_coordinates, tqdm_display):\n",
    "from parameters import *"
   ]
  },
  {
   "cell_type": "code",
   "execution_count": 5,
   "metadata": {},
   "outputs": [
    {
     "name": "stderr",
     "output_type": "stream",
     "text": [
      "100%|██████████| 25/25 [00:00<00:00, 368.88it/s]\n",
      "100%|██████████| 25/25 [00:00<00:00, 479.09it/s]\n",
      "100%|██████████| 25/25 [00:00<00:00, 464.78it/s]\n",
      "100%|██████████| 25/25 [00:00<00:00, 458.14it/s]\n",
      "100%|██████████| 25/25 [00:00<00:00, 453.10it/s]\n",
      "100%|██████████| 25/25 [00:00<00:00, 471.24it/s]\n",
      "100%|██████████| 25/25 [00:00<00:00, 484.70it/s]\n",
      "  0%|          | 0/25 [00:00<?, ?it/s]/Users/aymericvie/Documents/GitHub/evology/evology/code/balance_sheet.py:730: UserWarning: Wealth adjustement not perfect after MAX_ATTEMPTS.\n",
      "  warnings.warn('Wealth adjustement not perfect after MAX_ATTEMPTS.')\n",
      "100%|██████████| 25/25 [00:14<00:00,  1.74it/s]\n",
      "100%|██████████| 25/25 [00:00<00:00, 476.22it/s]\n",
      "100%|██████████| 25/25 [00:00<00:00, 478.92it/s]\n",
      "100%|██████████| 25/25 [00:00<00:00, 471.48it/s]\n",
      "100%|██████████| 25/25 [00:00<00:00, 474.68it/s]\n",
      "100%|██████████| 25/25 [00:00<00:00, 474.42it/s]\n",
      "100%|██████████| 25/25 [00:00<00:00, 464.79it/s]\n",
      "100%|██████████| 25/25 [00:00<00:00, 460.94it/s]\n",
      "100%|██████████| 25/25 [00:00<00:00, 471.32it/s]\n",
      "100%|██████████| 25/25 [00:14<00:00,  1.74it/s]\n",
      "100%|██████████| 25/25 [00:15<00:00,  1.65it/s]\n",
      "100%|██████████| 25/25 [00:00<00:00, 424.34it/s]\n",
      "100%|██████████| 25/25 [00:00<00:00, 435.52it/s]\n",
      "100%|██████████| 25/25 [00:00<00:00, 477.71it/s]\n",
      "100%|██████████| 25/25 [00:00<00:00, 462.90it/s]\n",
      "100%|██████████| 25/25 [00:00<00:00, 463.20it/s]\n",
      "100%|██████████| 25/25 [00:00<00:00, 406.71it/s]\n",
      "100%|██████████| 25/25 [00:15<00:00,  1.60it/s]\n",
      "100%|██████████| 25/25 [00:00<00:00, 477.70it/s]\n",
      "100%|██████████| 25/25 [00:00<00:00, 443.07it/s]\n",
      "100%|██████████| 25/25 [00:00<00:00, 439.93it/s]\n",
      "100%|██████████| 25/25 [00:00<00:00, 460.74it/s]\n",
      "100%|██████████| 25/25 [00:00<00:00, 454.51it/s]\n",
      "100%|██████████| 25/25 [00:14<00:00,  1.73it/s]\n",
      "100%|██████████| 25/25 [00:00<00:00, 468.31it/s]\n",
      "100%|██████████| 25/25 [00:00<00:00, 472.93it/s]\n",
      "100%|██████████| 25/25 [00:00<00:00, 452.37it/s]\n",
      "100%|██████████| 25/25 [00:00<00:00, 464.16it/s]\n",
      "100%|██████████| 25/25 [00:00<00:00, 473.41it/s]\n",
      "100%|██████████| 25/25 [00:00<00:00, 456.56it/s]\n",
      "100%|██████████| 25/25 [00:00<00:00, 466.51it/s]\n",
      "100%|██████████| 25/25 [00:00<00:00, 455.92it/s]\n",
      "100%|██████████| 25/25 [00:00<00:00, 30.64it/s]\n"
     ]
    }
   ],
   "source": [
    "\n",
    "wealth_coordinates = [1/3, 1/3, 1/3]\n",
    "time = 25 #15_000\n",
    "repetitions = 10\n",
    "\n",
    "RdSearch = main(\"between\", time, 0, 100, 0, MUTATION_RATE, wealth_coordinates, False)\n",
    "for i in range(repetitions - 1):\n",
    "    RdSearch = RdSearch.append(main(\"between\", time, 0, 100, 0, MUTATION_RATE, wealth_coordinates, False))\n",
    "RdSearch.to_csv(\"rdsearch.csv\")\n",
    "\n",
    "ProfAdapt = main(\"between\", time, PROBA_SELECTION, 100, 0, 0, wealth_coordinates, False)\n",
    "for i in range(repetitions - 1):\n",
    "    ProfAdapt = ProfAdapt.append(main(\"between\", time, PROBA_SELECTION, 100, 0, 0, wealth_coordinates, False))\n",
    "ProfAdapt.to_csv(\"profadapt.csv\")\n",
    "\n",
    "Static = main(\"static\", time, 0, 100, 0, 0, wealth_coordinates, False)\n",
    "for i in range(repetitions - 1):\n",
    "    Static = Static.append(main(\"static\", time, 0, 100, 0, 0, wealth_coordinates, False))\n",
    "Static.to_csv(\"static.csv\")\n",
    "\n",
    "Combined = main(\"between\", time, PROBA_SELECTION, 100, 0, MUTATION_RATE, wealth_coordinates, False)\n",
    "for i in range(repetitions - 1):\n",
    "    Combined = Combined.append(main(\"between\", time, PROBA_SELECTION, 100, 0, MUTATION_RATE, wealth_coordinates, False))\n",
    "Combined.to_csv(\"combined.csv\")"
   ]
  }
 ],
 "metadata": {
  "interpreter": {
   "hash": "aee8b7b246df8f9039afb4144a1f6fd8d2ca17a180786b69acc140d282b71a49"
  },
  "kernelspec": {
   "display_name": "Python 3.9.6 64-bit",
   "name": "python3"
  },
  "language_info": {
   "codemirror_mode": {
    "name": "ipython",
    "version": 3
   },
   "file_extension": ".py",
   "mimetype": "text/x-python",
   "name": "python",
   "nbconvert_exporter": "python",
   "pygments_lexer": "ipython3",
   "version": "3.9.6"
  },
  "orig_nbformat": 4
 },
 "nbformat": 4,
 "nbformat_minor": 2
}
