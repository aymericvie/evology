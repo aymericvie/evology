{
 "cells": [
  {
   "cell_type": "code",
   "execution_count": 1,
   "metadata": {},
   "outputs": [],
   "source": [
    "#!/usr/bin/env python3\n",
    "import sys\n",
    "sys.path.insert(0, '/Users/aymericvie/Documents/GitHub/evology/evology/code/')\n",
    "from main import *\n",
    "# def main(mode, MAX_GENERATIONS, PROBA_SELECTION, POPULATION_SIZE, CROSSOVER_RATE, MUTATION_RATE, wealth_coordinates, tqdm_display):\n",
    "from parameters import *"
   ]
  },
  {
   "cell_type": "code",
   "execution_count": 2,
   "metadata": {},
   "outputs": [
    {
     "name": "stderr",
     "output_type": "stream",
     "text": [
      "100%|██████████| 100/100 [00:00<00:00, 354.71it/s]\n",
      "100%|██████████| 100/100 [00:00<00:00, 367.42it/s]\n",
      "100%|██████████| 100/100 [00:00<00:00, 327.37it/s]\n",
      "100%|██████████| 100/100 [00:00<00:00, 378.92it/s]\n",
      "100%|██████████| 100/100 [00:00<00:00, 368.43it/s]\n",
      "100%|██████████| 100/100 [00:00<00:00, 372.38it/s]\n",
      "100%|██████████| 100/100 [00:00<00:00, 371.31it/s]\n",
      "100%|██████████| 100/100 [00:00<00:00, 359.97it/s]\n",
      "100%|██████████| 100/100 [00:00<00:00, 371.83it/s]\n",
      "100%|██████████| 100/100 [00:00<00:00, 367.99it/s]\n"
     ]
    }
   ],
   "source": [
    "\n",
    "wealth_coordinates = [1/3, 1/3, 1/3]\n",
    "time = 15_000 \n",
    "repetitions = 10\n",
    "\n",
    "RdSearch = main(\"between\", time, 0, 100, 0, MUTATION_RATE, wealth_coordinates, False)\n",
    "for i in range(repetitions - 1):\n",
    "    RdSearch = RdSearch.append(main(\"between\", time, 0, 100, 0, MUTATION_RATE, wealth_coordinates, False))\n",
    "RdSearch.to_csv(\"rdsearch.csv\")\n",
    "\n",
    "ProfAdapt = main(\"between\", time, PROBA_SELECTION, 100, 0, 0, wealth_coordinates, False)\n",
    "for i in range(repetitions - 1):\n",
    "    ProfAdapt = ProfAdapt.append(main(\"between\", time, PROBA_SELECTION, 100, 0, 0, wealth_coordinates, False))\n",
    "ProfAdapt.to_csv(\"profadapt.csv\")\n",
    "\n",
    "Static = main(\"static\", time, 0, 100, 0, 0, wealth_coordinates, False)\n",
    "for i in range(repetitions - 1):\n",
    "    Static = Static.append(main(\"static\", time, 0, 100, 0, 0, wealth_coordinates, False))\n",
    "Static.to_csv(\"static.csv\")\n",
    "\n",
    "Combined = main(\"between\", time, PROBA_SELECTION, 100, 0, MUTATION_RATE, wealth_coordinates, False)\n",
    "for i in range(repetitions - 1):\n",
    "    Combined = Combined.append(main(\"between\", time, PROBA_SELECTION, 100, 0, MUTATION_RATE, wealth_coordinates, False))\n",
    "Combined.to_csv(\"combined.csv\")"
   ]
  }
 ],
 "metadata": {
  "interpreter": {
   "hash": "aee8b7b246df8f9039afb4144a1f6fd8d2ca17a180786b69acc140d282b71a49"
  },
  "kernelspec": {
   "display_name": "Python 3.9.6 64-bit",
   "name": "python3"
  },
  "language_info": {
   "codemirror_mode": {
    "name": "ipython",
    "version": 3
   },
   "file_extension": ".py",
   "mimetype": "text/x-python",
   "name": "python",
   "nbconvert_exporter": "python",
   "pygments_lexer": "ipython3",
   "version": "3.9.6"
  },
  "orig_nbformat": 4
 },
 "nbformat": 4,
 "nbformat_minor": 2
}
