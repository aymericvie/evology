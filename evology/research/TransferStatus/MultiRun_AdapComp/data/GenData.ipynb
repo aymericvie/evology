{
 "cells": [
  {
   "cell_type": "code",
   "execution_count": 1,
   "metadata": {},
   "outputs": [],
   "source": [
    "#!/usr/bin/env python3\n",
    "import sys\n",
    "sys.path.insert(0, '/Users/aymericvie/Documents/GitHub/evology/evology/code/')\n",
    "from main import *\n",
    "# def main(mode, MAX_GENERATIONS, PROBA_SELECTION, POPULATION_SIZE, CROSSOVER_RATE, MUTATION_RATE, wealth_coordinates, tqdm_display):\n",
    "from parameters import *\n",
    "\n",
    "wealth_coordinates = [1/3, 1/3, 1/3]\n",
    "time = 20_000 \n",
    "repetitions = 10\n",
    "agents = 50"
   ]
  },
  {
   "cell_type": "code",
   "execution_count": 2,
   "metadata": {},
   "outputs": [
    {
     "name": "stderr",
     "output_type": "stream",
     "text": [
      " 14%|█▎        | 2732/20000 [00:11<01:11, 242.79it/s]"
     ]
    }
   ],
   "source": [
    "Static = main(\"static\", time, 0, 100, 0, 0, wealth_coordinates, False)\n",
    "for i in range(repetitions - 1):\n",
    "    Static = Static.append(main(\"static\", time, 0, agents, 0, 0, wealth_coordinates, False))\n",
    "Static.to_csv(\"static.csv\")"
   ]
  },
  {
   "cell_type": "code",
   "execution_count": null,
   "metadata": {},
   "outputs": [
    {
     "name": "stderr",
     "output_type": "stream",
     "text": [
      "100%|██████████| 10000/10000 [00:29<00:00, 339.72it/s]\n",
      "100%|██████████| 10000/10000 [00:15<00:00, 636.56it/s]\n",
      "100%|██████████| 10000/10000 [00:26<00:00, 383.67it/s]\n",
      "100%|██████████| 10000/10000 [00:16<00:00, 623.07it/s]\n",
      "100%|██████████| 10000/10000 [00:26<00:00, 381.24it/s]\n",
      "100%|██████████| 10000/10000 [00:15<00:00, 642.88it/s]\n",
      " 88%|████████▊ | 8782/10000 [00:13<00:01, 623.90it/s]"
     ]
    },
    {
     "name": "stdout",
     "output_type": "stream",
     "text": [
      "Replacing // Gen 8672 // Type: nt, C: 96135544, S+: -1748331, L: 0, M: 96472915, W: -337371\n"
     ]
    },
    {
     "name": "stderr",
     "output_type": "stream",
     "text": [
      "100%|██████████| 10000/10000 [00:15<00:00, 642.45it/s]\n",
      "100%|██████████| 10000/10000 [00:25<00:00, 386.85it/s]\n",
      "100%|██████████| 10000/10000 [00:15<00:00, 647.03it/s]\n",
      "100%|██████████| 10000/10000 [00:24<00:00, 403.53it/s]\n",
      "100%|██████████| 10000/10000 [00:15<00:00, 646.52it/s]\n",
      "100%|██████████| 10000/10000 [00:15<00:00, 627.32it/s]\n",
      "100%|██████████| 10000/10000 [00:15<00:00, 647.99it/s]\n",
      "100%|██████████| 10000/10000 [00:15<00:00, 649.87it/s]\n",
      "100%|██████████| 10000/10000 [00:15<00:00, 644.84it/s]\n",
      "100%|██████████| 10000/10000 [00:15<00:00, 641.86it/s]\n",
      " 44%|████▍     | 4404/10000 [00:06<00:08, 647.50it/s]"
     ]
    },
    {
     "name": "stdout",
     "output_type": "stream",
     "text": [
      "Replacing // Gen 4319 // Type: nt, C: 104135353, S+: -1457385, L: -8823529, M: 113632384, W: -673501\n"
     ]
    },
    {
     "name": "stderr",
     "output_type": "stream",
     "text": [
      " 79%|███████▉  | 7886/10000 [00:12<00:03, 653.91it/s]"
     ]
    },
    {
     "name": "stdout",
     "output_type": "stream",
     "text": [
      "Replacing // Gen 7775 // Type: nt, C: 108777233, S+: -1155089, L: -8823529, M: 117692021, W: -91258\n"
     ]
    },
    {
     "name": "stderr",
     "output_type": "stream",
     "text": [
      "100%|██████████| 10000/10000 [00:15<00:00, 648.54it/s]\n",
      "100%|██████████| 10000/10000 [00:15<00:00, 651.22it/s]\n",
      "100%|██████████| 10000/10000 [00:15<00:00, 641.20it/s]\n",
      "100%|██████████| 10000/10000 [00:15<00:00, 650.10it/s]\n"
     ]
    }
   ],
   "source": [
    "RdSearch = main(\"between\", time, 0, 100, 0, MUTATION_RATE, wealth_coordinates, False)\n",
    "for i in range(repetitions - 1):\n",
    "    RdSearch = RdSearch.append(main(\"between\", time, 0, agents, 0, MUTATION_RATE, wealth_coordinates, False))\n",
    "RdSearch.to_csv(\"rdsearch.csv\")"
   ]
  },
  {
   "cell_type": "code",
   "execution_count": null,
   "metadata": {},
   "outputs": [
    {
     "name": "stderr",
     "output_type": "stream",
     "text": [
      "100%|██████████| 10000/10000 [00:29<00:00, 341.57it/s]\n",
      " 57%|█████▋    | 5660/10000 [00:08<00:06, 669.29it/s]"
     ]
    },
    {
     "name": "stdout",
     "output_type": "stream",
     "text": [
      "Replacing // Gen 5538 // Type: nt, C: 118118482, S+: -1319921, L: 0, M: 118700572, W: -582090\n"
     ]
    },
    {
     "name": "stderr",
     "output_type": "stream",
     "text": [
      "100%|██████████| 10000/10000 [00:15<00:00, 655.67it/s]\n",
      "100%|██████████| 10000/10000 [00:25<00:00, 389.64it/s]\n",
      "100%|██████████| 10000/10000 [00:15<00:00, 663.86it/s]\n",
      "100%|██████████| 10000/10000 [00:15<00:00, 654.53it/s]\n",
      "100%|██████████| 10000/10000 [00:15<00:00, 655.49it/s]\n",
      "100%|██████████| 10000/10000 [00:15<00:00, 659.06it/s]\n",
      " 36%|███▌      | 3593/10000 [00:05<00:09, 652.51it/s]"
     ]
    },
    {
     "name": "stdout",
     "output_type": "stream",
     "text": [
      "Replacing // Gen 3481 // Type: nt, C: 116524941, S+: -1039220, L: -20312499, M: 138361752, W: -1524311\n"
     ]
    },
    {
     "name": "stderr",
     "output_type": "stream",
     "text": [
      "100%|██████████| 10000/10000 [00:15<00:00, 651.95it/s]\n",
      "100%|██████████| 10000/10000 [00:25<00:00, 392.65it/s]\n",
      "100%|██████████| 10000/10000 [00:15<00:00, 653.70it/s]\n",
      "100%|██████████| 10000/10000 [00:25<00:00, 390.31it/s]\n",
      "100%|██████████| 10000/10000 [00:15<00:00, 655.99it/s]\n",
      "100%|██████████| 10000/10000 [00:15<00:00, 651.38it/s]\n",
      "100%|██████████| 10000/10000 [00:15<00:00, 654.07it/s]\n",
      "100%|██████████| 10000/10000 [00:15<00:00, 643.82it/s]\n",
      "100%|██████████| 10000/10000 [00:25<00:00, 389.65it/s]\n",
      "100%|██████████| 10000/10000 [00:15<00:00, 662.38it/s]\n",
      " 78%|███████▊  | 7809/10000 [00:11<00:03, 663.35it/s]"
     ]
    },
    {
     "name": "stdout",
     "output_type": "stream",
     "text": [
      "Replacing // Gen 7711 // Type: nt, C: 104689257, S+: -626350, L: 0, M: 104775930, W: -86672\n"
     ]
    },
    {
     "name": "stderr",
     "output_type": "stream",
     "text": [
      "100%|██████████| 10000/10000 [00:15<00:00, 658.82it/s]\n",
      " 64%|██████▎   | 6374/10000 [00:09<00:05, 648.36it/s]"
     ]
    },
    {
     "name": "stdout",
     "output_type": "stream",
     "text": [
      "Replacing // Gen 6253 // Type: nt, C: 121783293, S+: -1728989, L: 0, M: 122723648, W: -940354\n"
     ]
    },
    {
     "name": "stderr",
     "output_type": "stream",
     "text": [
      "100%|██████████| 10000/10000 [00:15<00:00, 653.91it/s]\n",
      "100%|██████████| 10000/10000 [00:15<00:00, 644.47it/s]\n"
     ]
    }
   ],
   "source": [
    "\n",
    "ProfAdapt = main(\"between\", time, PROBA_SELECTION, 100, 0, 0, wealth_coordinates, False)\n",
    "for i in range(repetitions - 1):\n",
    "    ProfAdapt = ProfAdapt.append(main(\"between\", time, PROBA_SELECTION, agents, 0, 0, wealth_coordinates, False))\n",
    "ProfAdapt.to_csv(\"profadapt.csv\")"
   ]
  },
  {
   "cell_type": "code",
   "execution_count": null,
   "metadata": {},
   "outputs": [
    {
     "name": "stderr",
     "output_type": "stream",
     "text": [
      "100%|██████████| 10000/10000 [00:29<00:00, 339.17it/s]\n",
      " 27%|██▋       | 2747/10000 [00:04<00:11, 613.93it/s]"
     ]
    },
    {
     "name": "stdout",
     "output_type": "stream",
     "text": [
      "Replacing // Gen 2636 // Type: nt, C: 106496818, S+: -1624005, L: -12499999, M: 120290067, W: -1293248\n"
     ]
    },
    {
     "name": "stderr",
     "output_type": "stream",
     "text": [
      "100%|██████████| 10000/10000 [00:15<00:00, 645.80it/s]\n",
      "100%|██████████| 10000/10000 [00:15<00:00, 648.67it/s]\n",
      "100%|██████████| 10000/10000 [00:15<00:00, 646.57it/s]\n",
      "100%|██████████| 10000/10000 [00:15<00:00, 642.22it/s]\n",
      "100%|██████████| 10000/10000 [00:15<00:00, 633.11it/s]\n",
      "100%|██████████| 10000/10000 [00:15<00:00, 644.69it/s]\n",
      "100%|██████████| 10000/10000 [00:15<00:00, 641.41it/s]\n",
      " 18%|█▊        | 1786/10000 [00:02<00:12, 645.73it/s]"
     ]
    },
    {
     "name": "stdout",
     "output_type": "stream",
     "text": [
      "Replacing // Gen 1716 // Type: nt, C: 105240587, S+: -1231119, L: -8333333, M: 114087823, W: -513903\n"
     ]
    },
    {
     "name": "stderr",
     "output_type": "stream",
     "text": [
      "100%|██████████| 10000/10000 [00:15<00:00, 639.76it/s]\n",
      "100%|██████████| 10000/10000 [00:15<00:00, 644.27it/s]\n",
      "100%|██████████| 10000/10000 [00:15<00:00, 643.08it/s]\n",
      "100%|██████████| 10000/10000 [00:15<00:00, 646.01it/s]\n",
      "100%|██████████| 10000/10000 [00:15<00:00, 648.96it/s]\n",
      "100%|██████████| 10000/10000 [00:15<00:00, 649.47it/s]\n",
      "100%|██████████| 10000/10000 [00:16<00:00, 605.56it/s]\n",
      "100%|██████████| 10000/10000 [00:15<00:00, 646.64it/s]\n",
      " 65%|██████▍   | 6464/10000 [00:20<00:05, 629.11it/s]"
     ]
    },
    {
     "name": "stdout",
     "output_type": "stream",
     "text": [
      "Replacing // Gen 6385 // Type: nt, C: 174437752, S+: -1823840, L: -65299024, M: 242661934, W: -2925157\n"
     ]
    },
    {
     "name": "stderr",
     "output_type": "stream",
     "text": [
      "100%|██████████| 10000/10000 [00:26<00:00, 384.28it/s]\n",
      "100%|██████████| 10000/10000 [00:15<00:00, 644.53it/s]\n",
      "100%|██████████| 10000/10000 [00:15<00:00, 647.45it/s]\n",
      "  9%|▊         | 870/10000 [00:01<00:14, 648.68it/s]"
     ]
    },
    {
     "name": "stdout",
     "output_type": "stream",
     "text": [
      "Replacing // Gen 766 // Type: nt, C: 99444869, S+: -1109146, L: 0, M: 100388814, W: -943945\n"
     ]
    },
    {
     "name": "stderr",
     "output_type": "stream",
     "text": [
      "100%|██████████| 10000/10000 [00:15<00:00, 652.47it/s]\n"
     ]
    },
    {
     "name": "stdout",
     "output_type": "stream",
     "text": [
      "Finished\n"
     ]
    }
   ],
   "source": [
    "\n",
    "Combined = main(\"between\", time, PROBA_SELECTION, 100, 0, MUTATION_RATE, wealth_coordinates, False)\n",
    "for i in range(repetitions - 1):\n",
    "    Combined = Combined.append(main(\"between\", time, PROBA_SELECTION, agents, 0, MUTATION_RATE, wealth_coordinates, False))\n",
    "Combined.to_csv(\"combined.csv\")\n",
    "\n",
    "print('Finished')\n",
    "# took 30 minutes"
   ]
  }
 ],
 "metadata": {
  "interpreter": {
   "hash": "aee8b7b246df8f9039afb4144a1f6fd8d2ca17a180786b69acc140d282b71a49"
  },
  "kernelspec": {
   "display_name": "Python 3.9.6 64-bit",
   "name": "python3"
  },
  "language_info": {
   "codemirror_mode": {
    "name": "ipython",
    "version": 3
   },
   "file_extension": ".py",
   "mimetype": "text/x-python",
   "name": "python",
   "nbconvert_exporter": "python",
   "pygments_lexer": "ipython3",
   "version": "3.9.6"
  },
  "orig_nbformat": 4
 },
 "nbformat": 4,
 "nbformat_minor": 2
}
