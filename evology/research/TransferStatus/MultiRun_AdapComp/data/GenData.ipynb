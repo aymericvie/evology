{
 "cells": [
  {
   "cell_type": "code",
   "execution_count": 5,
   "metadata": {},
   "outputs": [],
   "source": [
    "#!/usr/bin/env python3\n",
    "import sys\n",
    "sys.path.insert(0, '/Users/aymericvie/Documents/GitHub/evology/evology/code/')\n",
    "from main import *\n",
    "# def main(mode, MAX_GENERATIONS, PROBA_SELECTION, POPULATION_SIZE, CROSSOVER_RATE, MUTATION_RATE, wealth_coordinates, tqdm_display):\n",
    "from parameters import *\n",
    "\n",
    "wealth_coordinates = [1/3, 1/3, 1/3]\n",
    "time = 15_000 \n",
    "repetitions = 5"
   ]
  },
  {
   "cell_type": "code",
   "execution_count": 6,
   "metadata": {},
   "outputs": [],
   "source": [
    "Static = main(\"static\", time, 0, 100, 0, 0, wealth_coordinates, False)\n",
    "for i in range(repetitions - 1):\n",
    "    Static = Static.append(main(\"static\", time, 0, 100, 0, 0, wealth_coordinates, False))\n",
    "Static.to_csv(\"static.csv\")"
   ]
  },
  {
   "cell_type": "code",
   "execution_count": 7,
   "metadata": {},
   "outputs": [
    {
     "name": "stderr",
     "output_type": "stream",
     "text": [
      " 13%|█▎        | 1885/15000 [00:05<00:37, 350.74it/s]"
     ]
    }
   ],
   "source": [
    "RdSearch = main(\"between\", time, 0, 100, 0, MUTATION_RATE, wealth_coordinates, False)\n",
    "for i in range(repetitions - 1):\n",
    "    RdSearch = RdSearch.append(main(\"between\", time, 0, 100, 0, MUTATION_RATE, wealth_coordinates, False))\n",
    "RdSearch.to_csv(\"rdsearch.csv\")"
   ]
  },
  {
   "cell_type": "code",
   "execution_count": null,
   "metadata": {},
   "outputs": [],
   "source": [
    "\n",
    "ProfAdapt = main(\"between\", time, PROBA_SELECTION, 100, 0, 0, wealth_coordinates, False)\n",
    "for i in range(repetitions - 1):\n",
    "    ProfAdapt = ProfAdapt.append(main(\"between\", time, PROBA_SELECTION, 100, 0, 0, wealth_coordinates, False))\n",
    "ProfAdapt.to_csv(\"profadapt.csv\")"
   ]
  },
  {
   "cell_type": "code",
   "execution_count": null,
   "metadata": {},
   "outputs": [],
   "source": [
    "\n",
    "Combined = main(\"between\", time, PROBA_SELECTION, 100, 0, MUTATION_RATE, wealth_coordinates, False)\n",
    "for i in range(repetitions - 1):\n",
    "    Combined = Combined.append(main(\"between\", time, PROBA_SELECTION, 100, 0, MUTATION_RATE, wealth_coordinates, False))\n",
    "Combined.to_csv(\"combined.csv\")\n",
    "\n",
    "print('Finished')\n",
    "# took 30 minutes"
   ]
  }
 ],
 "metadata": {
  "interpreter": {
   "hash": "aee8b7b246df8f9039afb4144a1f6fd8d2ca17a180786b69acc140d282b71a49"
  },
  "kernelspec": {
   "display_name": "Python 3.9.6 64-bit",
   "name": "python3"
  },
  "language_info": {
   "codemirror_mode": {
    "name": "ipython",
    "version": 3
   },
   "file_extension": ".py",
   "mimetype": "text/x-python",
   "name": "python",
   "nbconvert_exporter": "python",
   "pygments_lexer": "ipython3",
   "version": "3.9.6"
  },
  "orig_nbformat": 4
 },
 "nbformat": 4,
 "nbformat_minor": 2
}
