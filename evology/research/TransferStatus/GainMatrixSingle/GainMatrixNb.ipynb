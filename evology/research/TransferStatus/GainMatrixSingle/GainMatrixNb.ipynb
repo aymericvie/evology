{
 "cells": [
  {
   "cell_type": "code",
   "execution_count": 105,
   "metadata": {},
   "outputs": [
    {
     "name": "stdout",
     "output_type": "stream",
     "text": [
      "0.0013979664233541736 0.0009706173853589997 0.0009101640480326183\n",
      "0.014028209538170435 0.01084346904105246 0.011677310198846868\n",
      "----\n",
      "0.001769632597187723 0.0013012075143569804 0.0013123122799314547\n",
      "0.013456879174143751 0.011851207911038397 0.011437415365975305\n",
      "----\n",
      "0.0013843095443830695 0.0008069291589800165 0.0007646311162212165\n",
      "0.013285073532542359 0.010642361987667343 0.011865337177337098\n",
      "----\n",
      "0.0015230409529323186 0.0010741624135937502 0.0009987748316898802\n",
      "0.01341616159533029 0.01124899068293573 0.011835890782948196\n",
      "----\n"
     ]
    }
   ],
   "source": [
    "import pandas as pd\n",
    "\n",
    "standard_coord = pd.read_csv(\"/Users/aymericvie/Documents/GitHub/evology/evology/research/TransferStatus/GainMatrixSingle/data/static_standard.csv\")\n",
    "\n",
    "standard_coord_NT_Return = standard_coord['NT_MonReturns'].mean()\n",
    "standard_coord_VI_Return = standard_coord['VI_MonReturns'].mean()\n",
    "standard_coord_TF_Return = standard_coord['TF_MonReturns'].mean()\n",
    "\n",
    "print(standard_coord_NT_Return, standard_coord_VI_Return, standard_coord_TF_Return)\n",
    "\n",
    "std_std_NT = standard_coord['NT_MonReturns'].std()\n",
    "std_std_VI = standard_coord['VI_MonReturns'].std()\n",
    "std_std_TF = standard_coord['TF_MonReturns'].std()\n",
    "\n",
    "print(std_std_NT, std_std_VI, std_std_TF)\n",
    "print('----')\n",
    "NT_bump_coord = pd.read_csv(\"/Users/aymericvie/Documents/GitHub/evology/evology/research/TransferStatus/GainMatrixSingle/data/static_NT_bump.csv\")\n",
    "\n",
    "NT_bump_NT_Return = NT_bump_coord['NT_MonReturns'].mean()\n",
    "NT_bump_VI_Return = NT_bump_coord['VI_MonReturns'].mean()\n",
    "NT_bump_TF_Return = NT_bump_coord['TF_MonReturns'].mean()\n",
    "\n",
    "print(NT_bump_NT_Return, NT_bump_VI_Return, NT_bump_TF_Return)\n",
    "\n",
    "NT_bump_NT_std = NT_bump_coord['NT_MonReturns'].std()\n",
    "NT_bump_VI_std = NT_bump_coord['VI_MonReturns'].std()\n",
    "NT_bump_TF_std = NT_bump_coord['TF_MonReturns'].std()\n",
    "\n",
    "print(NT_bump_NT_std, NT_bump_VI_std, NT_bump_TF_std)\n",
    "print('----')\n",
    "\n",
    "VI_bump_coord = pd.read_csv(\"/Users/aymericvie/Documents/GitHub/evology/evology/research/TransferStatus/GainMatrixSingle/data/static_VI_bump.csv\")\n",
    "\n",
    "VI_bump_NT_Return = VI_bump_coord['NT_MonReturns'].mean()\n",
    "VI_bump_VI_Return = VI_bump_coord['VI_MonReturns'].mean()\n",
    "VI_bump_TF_Return = VI_bump_coord['TF_MonReturns'].mean()\n",
    "\n",
    "print(VI_bump_NT_Return, VI_bump_VI_Return, VI_bump_TF_Return)\n",
    "\n",
    "VI_bump_NT_std = VI_bump_coord['NT_MonReturns'].std()\n",
    "VI_bump_VI_std = VI_bump_coord['VI_MonReturns'].std()\n",
    "VI_bump_TF_std = VI_bump_coord['TF_MonReturns'].std()\n",
    "\n",
    "print(VI_bump_NT_std, VI_bump_VI_std, VI_bump_TF_std)\n",
    "print('----')\n",
    "\n",
    "TF_bump_coord = pd.read_csv(\"/Users/aymericvie/Documents/GitHub/evology/evology/research/TransferStatus/GainMatrixSingle/data/static_TF_bump.csv\")\n",
    "\n",
    "TF_bump_NT_Return = TF_bump_coord['NT_MonReturns'].mean()\n",
    "TF_bump_VI_Return = TF_bump_coord['VI_MonReturns'].mean()\n",
    "TF_bump_TF_Return = TF_bump_coord['TF_MonReturns'].mean()\n",
    "\n",
    "print(TF_bump_NT_Return, TF_bump_VI_Return, TF_bump_TF_Return)\n",
    "\n",
    "TF_bump_NT_std = TF_bump_coord['NT_MonReturns'].std()\n",
    "TF_bump_VI_std = TF_bump_coord['VI_MonReturns'].std()\n",
    "TF_bump_TF_std = TF_bump_coord['TF_MonReturns'].std()\n",
    "\n",
    "print(TF_bump_NT_std, TF_bump_VI_std, TF_bump_TF_std)\n",
    "print('----')\n",
    "\n"
   ]
  },
  {
   "cell_type": "code",
   "execution_count": 106,
   "metadata": {},
   "outputs": [
    {
     "name": "stdout",
     "output_type": "stream",
     "text": [
      "[[ 0.019 -0.001  0.006]\n",
      " [ 0.017 -0.008  0.005]\n",
      " [ 0.02  -0.007  0.004]]\n"
     ]
    },
    {
     "data": {
      "text/plain": [
       "' export later to latex table '"
      ]
     },
     "execution_count": 106,
     "metadata": {},
     "output_type": "execute_result"
    }
   ],
   "source": [
    "import numpy as np\n",
    "np.set_printoptions(suppress=True)\n",
    "h = 0.02\n",
    "GainMatrix = np.zeros((3,3))\n",
    "\n",
    "GainMatrix[0,0] = round(1/h * (NT_bump_NT_Return - standard_coord_NT_Return),3)\n",
    "GainMatrix[0,1] = round(1/h * (VI_bump_NT_Return - standard_coord_NT_Return),3)\n",
    "GainMatrix[0,2] = round(1/h * (TF_bump_NT_Return - standard_coord_NT_Return),3)\n",
    "\n",
    "GainMatrix[1,0] = round(1/h * (NT_bump_VI_Return - standard_coord_VI_Return),3)\n",
    "GainMatrix[1,1] = round(1/h * (VI_bump_VI_Return - standard_coord_VI_Return),3)\n",
    "GainMatrix[1,2] = round(1/h * (TF_bump_VI_Return - standard_coord_VI_Return),3)\n",
    "\n",
    "GainMatrix[2,0] = round(1/h * (NT_bump_TF_Return - standard_coord_TF_Return),3)\n",
    "GainMatrix[2,1] = round(1/h * (VI_bump_TF_Return - standard_coord_TF_Return),3)\n",
    "GainMatrix[2,2] = round(1/h * (TF_bump_TF_Return - standard_coord_TF_Return),3)\n",
    "\n",
    "print(GainMatrix)\n",
    "''' export later to latex table '''\n"
   ]
  },
  {
   "cell_type": "code",
   "execution_count": 107,
   "metadata": {},
   "outputs": [
    {
     "name": "stdout",
     "output_type": "stream",
     "text": [
      "0.0013979664233541736 0.0009706173853589997 0.0009101640480326183\n",
      "0.001769632597187723 0.0013012075143569804 0.0013123122799314547\n",
      "0.0013843095443830695 0.0008069291589800165 0.0007646311162212165\n",
      "0.0015230409529323186 0.0010741624135937502 0.0007646311162212165\n"
     ]
    }
   ],
   "source": [
    "''' Gain matrix estimation without outliers '''\n",
    "np.set_printoptions(suppress=True)\n",
    "margin = 10\n",
    "\n",
    "standard_coord = pd.read_csv(\"/Users/aymericvie/Documents/GitHub/evology/evology/research/TransferStatus/GainMatrixSingle/data/static_standard.csv\")\n",
    "\n",
    "new_standard_coord = pd.DataFrame()\n",
    "new_standard_coord = standard_coord[np.abs(standard_coord['NT_MonReturns']-standard_coord['NT_MonReturns'].mean()) <= (margin*standard_coord['NT_MonReturns'].std())]\n",
    "standard_coord_NT_Return = new_standard_coord['NT_MonReturns'].mean()\n",
    "\n",
    "new_standard_coord = pd.DataFrame()\n",
    "new_standard_coord = standard_coord[np.abs(standard_coord['VI_MonReturns']-standard_coord['VI_MonReturns'].mean()) <= (margin*standard_coord['VI_MonReturns'].std())]\n",
    "standard_coord_VI_Return = new_standard_coord['VI_MonReturns'].mean()\n",
    "\n",
    "new_standard_coord = pd.DataFrame()\n",
    "new_standard_coord = standard_coord[np.abs(standard_coord['TF_MonReturns']-standard_coord['TF_MonReturns'].mean()) <= (margin*standard_coord['TF_MonReturns'].std())]\n",
    "standard_coord_TF_Return = new_standard_coord['TF_MonReturns'].mean()\n",
    "\n",
    "print(standard_coord_NT_Return, standard_coord_VI_Return, standard_coord_TF_Return)\n",
    "\n",
    "\n",
    "new_NT_bump_coord = pd.DataFrame()\n",
    "new_NT_bump_coord = NT_bump_coord[np.abs(NT_bump_coord['NT_MonReturns']-NT_bump_coord['NT_MonReturns'].mean()) <= (margin*NT_bump_coord['NT_MonReturns'].std())]\n",
    "NT_bump_NT_Return = new_NT_bump_coord['NT_MonReturns'].mean()\n",
    "\n",
    "new_NT_bump_coord = pd.DataFrame()\n",
    "new_NT_bump_coord = NT_bump_coord[np.abs(NT_bump_coord['VI_MonReturns']-NT_bump_coord['VI_MonReturns'].mean()) <= (margin*NT_bump_coord['VI_MonReturns'].std())]\n",
    "NT_bump_VI_Return = new_NT_bump_coord['VI_MonReturns'].mean()\n",
    "\n",
    "new_NT_bump_coord = pd.DataFrame()\n",
    "new_NT_bump_coord = NT_bump_coord[np.abs(NT_bump_coord['TF_MonReturns']-NT_bump_coord['TF_MonReturns'].mean()) <= (margin*NT_bump_coord['TF_MonReturns'].std())]\n",
    "NT_bump_TF_Return = new_NT_bump_coord['TF_MonReturns'].mean()\n",
    "\n",
    "print(NT_bump_NT_Return, NT_bump_VI_Return, NT_bump_TF_Return)\n",
    "\n",
    "new_VI_bump_coord = pd.DataFrame()\n",
    "new_VI_bump_coord = VI_bump_coord[np.abs(VI_bump_coord['NT_MonReturns']-VI_bump_coord['NT_MonReturns'].mean()) <= (margin*VI_bump_coord['NT_MonReturns'].std())]\n",
    "VI_bump_NT_Return = new_VI_bump_coord['NT_MonReturns'].mean()\n",
    "\n",
    "new_VI_bump_coord = pd.DataFrame()\n",
    "new_VI_bump_coord = VI_bump_coord[np.abs(VI_bump_coord['VI_MonReturns']-VI_bump_coord['VI_MonReturns'].mean()) <= (margin*VI_bump_coord['VI_MonReturns'].std())]\n",
    "VI_bump_VI_Return = new_VI_bump_coord['VI_MonReturns'].mean()\n",
    "\n",
    "new_VI_bump_coord = pd.DataFrame()\n",
    "new_VI_bump_coord = VI_bump_coord[np.abs(VI_bump_coord['TF_MonReturns']-VI_bump_coord['TF_MonReturns'].mean()) <= (margin*VI_bump_coord['TF_MonReturns'].std())]\n",
    "VI_bump_TF_Return = new_VI_bump_coord['TF_MonReturns'].mean()\n",
    "\n",
    "print(VI_bump_NT_Return, VI_bump_VI_Return, VI_bump_TF_Return)\n",
    "\n",
    "new_TF_bump_coord = pd.DataFrame()\n",
    "new_TF_bump_coord = TF_bump_coord[np.abs(TF_bump_coord['NT_MonReturns']-TF_bump_coord['NT_MonReturns'].mean()) <= (margin*TF_bump_coord['NT_MonReturns'].std())]\n",
    "TF_bump_NT_Return = new_TF_bump_coord['NT_MonReturns'].mean()\n",
    "\n",
    "new_TF_bump_coord = pd.DataFrame()\n",
    "new_TF_bump_coord = TF_bump_coord[np.abs(TF_bump_coord['VI_MonReturns']-TF_bump_coord['VI_MonReturns'].mean()) <= (margin*TF_bump_coord['VI_MonReturns'].std())]\n",
    "TF_bump_VI_Return = new_TF_bump_coord['VI_MonReturns'].mean()\n",
    "\n",
    "new_TF_bump_coord = pd.DataFrame()\n",
    "new_TF_bump_coord = VI_bump_coord[np.abs(TF_bump_coord['TF_MonReturns']-TF_bump_coord['TF_MonReturns'].mean()) <= (margin*TF_bump_coord['TF_MonReturns'].std())]\n",
    "TF_bump_TF_Return = new_TF_bump_coord['TF_MonReturns'].mean()\n",
    "\n",
    "print(TF_bump_NT_Return, TF_bump_VI_Return, TF_bump_TF_Return)\n",
    "\n",
    "\n"
   ]
  },
  {
   "cell_type": "code",
   "execution_count": 108,
   "metadata": {},
   "outputs": [
    {
     "name": "stdout",
     "output_type": "stream",
     "text": [
      "[[ 0.019 -0.001  0.006]\n",
      " [ 0.017 -0.008  0.005]\n",
      " [ 0.02  -0.007 -0.007]]\n"
     ]
    },
    {
     "data": {
      "text/plain": [
       "' export later to latex table '"
      ]
     },
     "execution_count": 108,
     "metadata": {},
     "output_type": "execute_result"
    }
   ],
   "source": [
    "np.set_printoptions(suppress=True)\n",
    "GainMatrix = np.zeros((3,3))\n",
    "h = 0.02\n",
    "\n",
    "GainMatrix[0,0] = round(1/h * (NT_bump_NT_Return - standard_coord_NT_Return),3)\n",
    "GainMatrix[0,1] = round(1/h * (VI_bump_NT_Return - standard_coord_NT_Return),3)\n",
    "GainMatrix[0,2] = round(1/h * (TF_bump_NT_Return - standard_coord_NT_Return),3)\n",
    "\n",
    "GainMatrix[1,0] = round(1/h * (NT_bump_VI_Return - standard_coord_VI_Return),3)\n",
    "GainMatrix[1,1] = round(1/h * (VI_bump_VI_Return - standard_coord_VI_Return),3)\n",
    "GainMatrix[1,2] = round(1/h * (TF_bump_VI_Return - standard_coord_VI_Return),3)\n",
    "\n",
    "GainMatrix[2,0] = round(1/h * (NT_bump_TF_Return - standard_coord_TF_Return),3)\n",
    "GainMatrix[2,1] = round(1/h * (VI_bump_TF_Return - standard_coord_TF_Return),3)\n",
    "GainMatrix[2,2] = round(1/h * (TF_bump_TF_Return - standard_coord_TF_Return),3)\n",
    "\n",
    "print(GainMatrix)\n",
    "''' export later to latex table '''"
   ]
  }
 ],
 "metadata": {
  "interpreter": {
   "hash": "aee8b7b246df8f9039afb4144a1f6fd8d2ca17a180786b69acc140d282b71a49"
  },
  "kernelspec": {
   "display_name": "Python 3.9.6 64-bit",
   "language": "python",
   "name": "python3"
  },
  "language_info": {
   "codemirror_mode": {
    "name": "ipython",
    "version": 3
   },
   "file_extension": ".py",
   "mimetype": "text/x-python",
   "name": "python",
   "nbconvert_exporter": "python",
   "pygments_lexer": "ipython3",
   "version": "3.9.6"
  },
  "orig_nbformat": 4
 },
 "nbformat": 4,
 "nbformat_minor": 2
}
