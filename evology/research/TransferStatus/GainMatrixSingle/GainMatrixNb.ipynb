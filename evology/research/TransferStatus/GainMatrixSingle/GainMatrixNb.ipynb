{
 "cells": [
  {
   "cell_type": "code",
   "execution_count": 28,
   "metadata": {},
   "outputs": [
    {
     "name": "stdout",
     "output_type": "stream",
     "text": [
      "0.4992207819663157 0.00539545273084936 0.08371679483406794\n",
      "33.8314098056269 0.11441910091017093 22.434120773089337\n",
      "----\n",
      "0.008474113222088889 0.00028845725469879774 0.004773867083207023\n",
      "0.1545366668695762 0.12270239990713014 0.17381649605867422\n",
      "----\n",
      "0.00629627230589585 0.006436494618004832 0.1470174220133523\n",
      "0.16205875260024638 0.4348588612590341 51.169708400758445\n",
      "----\n",
      "0.0016232432947163359 0.0018714059611474453 0.0011930901143038018\n"
     ]
    }
   ],
   "source": [
    "import pandas as pd\n",
    "\n",
    "standard_coord = pd.read_csv(\"/Users/aymericvie/Documents/GitHub/evology/evology/research/TransferStatus/GainMatrixSingle/data/static_standard.csv\")\n",
    "\n",
    "standard_coord_NT_Return = standard_coord['NT_MonReturns'].mean()\n",
    "standard_coord_VI_Return = standard_coord['VI_MonReturns'].mean()\n",
    "standard_coord_TF_Return = standard_coord['TF_MonReturns'].mean()\n",
    "\n",
    "print(standard_coord_NT_Return, standard_coord_VI_Return, standard_coord_TF_Return)\n",
    "\n",
    "std_std_NT = standard_coord['NT_MonReturns'].std()\n",
    "std_std_VI = standard_coord['VI_MonReturns'].std()\n",
    "std_std_TF = standard_coord['TF_MonReturns'].std()\n",
    "\n",
    "print(std_std_NT, std_std_VI, std_std_TF)\n",
    "print('----')\n",
    "NT_bump_coord = pd.read_csv(\"/Users/aymericvie/Documents/GitHub/evology/evology/research/TransferStatus/GainMatrixSingle/data/static_NT_bump.csv\")\n",
    "\n",
    "NT_bump_NT_Return = NT_bump_coord['NT_MonReturns'].mean()\n",
    "NT_bump_VI_Return = NT_bump_coord['VI_MonReturns'].mean()\n",
    "NT_bump_TF_Return = NT_bump_coord['TF_MonReturns'].mean()\n",
    "\n",
    "print(NT_bump_NT_Return, NT_bump_VI_Return, NT_bump_TF_Return)\n",
    "\n",
    "NT_bump_NT_std = NT_bump_coord['NT_MonReturns'].std()\n",
    "NT_bump_VI_std = NT_bump_coord['VI_MonReturns'].std()\n",
    "NT_bump_TF_std = NT_bump_coord['TF_MonReturns'].std()\n",
    "\n",
    "print(NT_bump_NT_std, NT_bump_VI_std, NT_bump_TF_std)\n",
    "print('----')\n",
    "\n",
    "VI_bump_coord = pd.read_csv(\"/Users/aymericvie/Documents/GitHub/evology/evology/research/TransferStatus/GainMatrixSingle/data/static_VI_bump.csv\")\n",
    "\n",
    "VI_bump_NT_Return = VI_bump_coord['NT_MonReturns'].mean()\n",
    "VI_bump_VI_Return = VI_bump_coord['VI_MonReturns'].mean()\n",
    "VI_bump_TF_Return = VI_bump_coord['TF_MonReturns'].mean()\n",
    "\n",
    "print(VI_bump_NT_Return, VI_bump_VI_Return, VI_bump_TF_Return)\n",
    "\n",
    "VI_bump_NT_std = VI_bump_coord['NT_MonReturns'].std()\n",
    "VI_bump_VI_std = VI_bump_coord['VI_MonReturns'].std()\n",
    "VI_bump_TF_std = VI_bump_coord['TF_MonReturns'].std()\n",
    "\n",
    "print(VI_bump_NT_std, VI_bump_VI_std, VI_bump_TF_std)\n",
    "print('----')\n",
    "\n",
    "TF_bump_coord = pd.read_csv(\"/Users/aymericvie/Documents/GitHub/evology/evology/research/TransferStatus/GainMatrixSingle/data/static_TF_bump.csv\")\n",
    "\n",
    "TF_bump_NT_Return = TF_bump_coord['NT_MonReturns'].mean()\n",
    "TF_bump_VI_Return = TF_bump_coord['VI_MonReturns'].mean()\n",
    "TF_bump_TF_Return = TF_bump_coord['TF_MonReturns'].mean()\n",
    "\n",
    "print(TF_bump_NT_Return, TF_bump_VI_Return, TF_bump_TF_Return)\n",
    "\n",
    "TF_bump_NT_std = TF_bump_coord['NT_MonReturns'].std()\n",
    "TF_bump_VI_std = TF_bump_coord['VI_MonReturns'].std()\n",
    "TF_bump_TF_std = TF_bump_coord['TF_MonReturns'].std()\n",
    "\n",
    "print(TF_bump_NT_std, TF_bump_VI_std, TF_bump_TF_std)\n",
    "print('----')\n",
    "\n",
    "\n",
    "\n",
    "\n"
   ]
  },
  {
   "cell_type": "code",
   "execution_count": 27,
   "metadata": {},
   "outputs": [
    {
     "name": "stdout",
     "output_type": "stream",
     "text": [
      "[[-49.075 -49.767 -49.76 ]\n",
      " [ -0.511  -0.336  -0.352]\n",
      " [ -7.894  -8.249  -8.252]]\n"
     ]
    },
    {
     "data": {
      "text/plain": [
       "' export later to latex table '"
      ]
     },
     "execution_count": 27,
     "metadata": {},
     "output_type": "execute_result"
    }
   ],
   "source": [
    "import numpy as np\n",
    "np.set_printoptions(suppress=True)\n",
    "h = 0.01\n",
    "GainMatrix = np.zeros((3,3))\n",
    "\n",
    "GainMatrix[0,0] = round(1/h * (NT_bump_NT_Return - standard_coord_NT_Return),3)\n",
    "GainMatrix[0,1] = round(1/h * (VI_bump_NT_Return - standard_coord_NT_Return),3)\n",
    "GainMatrix[0,2] = round(1/h * (TF_bump_NT_Return - standard_coord_NT_Return),3)\n",
    "\n",
    "GainMatrix[1,0] = round(1/h * (NT_bump_VI_Return - standard_coord_VI_Return),3)\n",
    "GainMatrix[1,1] = round(1/h * (VI_bump_VI_Return - standard_coord_VI_Return),3)\n",
    "GainMatrix[1,2] = round(1/h * (TF_bump_VI_Return - standard_coord_VI_Return),3)\n",
    "\n",
    "GainMatrix[2,0] = round(1/h * (NT_bump_TF_Return - standard_coord_TF_Return),3)\n",
    "GainMatrix[2,1] = round(1/h * (VI_bump_TF_Return - standard_coord_TF_Return),3)\n",
    "GainMatrix[2,2] = round(1/h * (TF_bump_TF_Return - standard_coord_TF_Return),3)\n",
    "\n",
    "print(GainMatrix)\n",
    "''' export later to latex table '''"
   ]
  }
 ],
 "metadata": {
  "interpreter": {
   "hash": "aee8b7b246df8f9039afb4144a1f6fd8d2ca17a180786b69acc140d282b71a49"
  },
  "kernelspec": {
   "display_name": "Python 3.9.6 64-bit",
   "language": "python",
   "name": "python3"
  },
  "language_info": {
   "codemirror_mode": {
    "name": "ipython",
    "version": 3
   },
   "file_extension": ".py",
   "mimetype": "text/x-python",
   "name": "python",
   "nbconvert_exporter": "python",
   "pygments_lexer": "ipython3",
   "version": "3.9.6"
  },
  "orig_nbformat": 4
 },
 "nbformat": 4,
 "nbformat_minor": 2
}
