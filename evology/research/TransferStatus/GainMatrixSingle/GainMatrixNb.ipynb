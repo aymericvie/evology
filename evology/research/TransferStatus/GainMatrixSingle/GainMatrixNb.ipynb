{
 "cells": [
  {
   "cell_type": "code",
   "execution_count": 93,
   "metadata": {},
   "outputs": [
    {
     "name": "stdout",
     "output_type": "stream",
     "text": [
      "0.15411153991233995 0.0014533736315519277 0.11487733347430663\n",
      "32.81620739307097 0.07947882532718152 53.47361707912419\n",
      "----\n",
      "0.4194376472745362 0.0033619365635064328 0.09606865948456644\n",
      "39.04614333424752 0.26688651018747284 30.150435218552055\n",
      "----\n",
      "0.06676392715404163 -0.0019722304557659 0.0020272325639243698\n",
      "29.264868232033564 0.09160408211082029 0.05710972986525674\n",
      "----\n",
      "0.13391114343686755 0.0027400044401138034 0.007337423371365056\n",
      "32.0263880482659 0.0848372466592608 0.4864388472750027\n",
      "----\n"
     ]
    }
   ],
   "source": [
    "import pandas as pd\n",
    "\n",
    "standard_coord = pd.read_csv(\"/Users/aymericvie/Documents/GitHub/evology/evology/research/TransferStatus/GainMatrixSingle/data/static_standard.csv\")\n",
    "\n",
    "standard_coord_NT_Return = standard_coord['NT_MonReturns'].mean()\n",
    "standard_coord_VI_Return = standard_coord['VI_MonReturns'].mean()\n",
    "standard_coord_TF_Return = standard_coord['TF_MonReturns'].mean()\n",
    "\n",
    "print(standard_coord_NT_Return, standard_coord_VI_Return, standard_coord_TF_Return)\n",
    "\n",
    "std_std_NT = standard_coord['NT_MonReturns'].std()\n",
    "std_std_VI = standard_coord['VI_MonReturns'].std()\n",
    "std_std_TF = standard_coord['TF_MonReturns'].std()\n",
    "\n",
    "print(std_std_NT, std_std_VI, std_std_TF)\n",
    "print('----')\n",
    "NT_bump_coord = pd.read_csv(\"/Users/aymericvie/Documents/GitHub/evology/evology/research/TransferStatus/GainMatrixSingle/data/static_NT_bump.csv\")\n",
    "\n",
    "NT_bump_NT_Return = NT_bump_coord['NT_MonReturns'].mean()\n",
    "NT_bump_VI_Return = NT_bump_coord['VI_MonReturns'].mean()\n",
    "NT_bump_TF_Return = NT_bump_coord['TF_MonReturns'].mean()\n",
    "\n",
    "print(NT_bump_NT_Return, NT_bump_VI_Return, NT_bump_TF_Return)\n",
    "\n",
    "NT_bump_NT_std = NT_bump_coord['NT_MonReturns'].std()\n",
    "NT_bump_VI_std = NT_bump_coord['VI_MonReturns'].std()\n",
    "NT_bump_TF_std = NT_bump_coord['TF_MonReturns'].std()\n",
    "\n",
    "print(NT_bump_NT_std, NT_bump_VI_std, NT_bump_TF_std)\n",
    "print('----')\n",
    "\n",
    "VI_bump_coord = pd.read_csv(\"/Users/aymericvie/Documents/GitHub/evology/evology/research/TransferStatus/GainMatrixSingle/data/static_VI_bump.csv\")\n",
    "\n",
    "VI_bump_NT_Return = VI_bump_coord['NT_MonReturns'].mean()\n",
    "VI_bump_VI_Return = VI_bump_coord['VI_MonReturns'].mean()\n",
    "VI_bump_TF_Return = VI_bump_coord['TF_MonReturns'].mean()\n",
    "\n",
    "print(VI_bump_NT_Return, VI_bump_VI_Return, VI_bump_TF_Return)\n",
    "\n",
    "VI_bump_NT_std = VI_bump_coord['NT_MonReturns'].std()\n",
    "VI_bump_VI_std = VI_bump_coord['VI_MonReturns'].std()\n",
    "VI_bump_TF_std = VI_bump_coord['TF_MonReturns'].std()\n",
    "\n",
    "print(VI_bump_NT_std, VI_bump_VI_std, VI_bump_TF_std)\n",
    "print('----')\n",
    "\n",
    "TF_bump_coord = pd.read_csv(\"/Users/aymericvie/Documents/GitHub/evology/evology/research/TransferStatus/GainMatrixSingle/data/static_TF_bump.csv\")\n",
    "\n",
    "TF_bump_NT_Return = TF_bump_coord['NT_MonReturns'].mean()\n",
    "TF_bump_VI_Return = TF_bump_coord['VI_MonReturns'].mean()\n",
    "TF_bump_TF_Return = TF_bump_coord['TF_MonReturns'].mean()\n",
    "\n",
    "print(TF_bump_NT_Return, TF_bump_VI_Return, TF_bump_TF_Return)\n",
    "\n",
    "TF_bump_NT_std = TF_bump_coord['NT_MonReturns'].std()\n",
    "TF_bump_VI_std = TF_bump_coord['VI_MonReturns'].std()\n",
    "TF_bump_TF_std = TF_bump_coord['TF_MonReturns'].std()\n",
    "\n",
    "print(TF_bump_NT_std, TF_bump_VI_std, TF_bump_TF_std)\n",
    "print('----')\n",
    "\n"
   ]
  },
  {
   "cell_type": "code",
   "execution_count": 94,
   "metadata": {},
   "outputs": [
    {
     "name": "stdout",
     "output_type": "stream",
     "text": [
      "[[13.266 -4.367 -1.01 ]\n",
      " [ 0.095 -0.171  0.064]\n",
      " [-0.94  -5.643 -5.377]]\n"
     ]
    },
    {
     "data": {
      "text/plain": [
       "' export later to latex table '"
      ]
     },
     "execution_count": 94,
     "metadata": {},
     "output_type": "execute_result"
    }
   ],
   "source": [
    "import numpy as np\n",
    "np.set_printoptions(suppress=True)\n",
    "h = 0.02\n",
    "GainMatrix = np.zeros((3,3))\n",
    "\n",
    "GainMatrix[0,0] = round(1/h * (NT_bump_NT_Return - standard_coord_NT_Return),3)\n",
    "GainMatrix[0,1] = round(1/h * (VI_bump_NT_Return - standard_coord_NT_Return),3)\n",
    "GainMatrix[0,2] = round(1/h * (TF_bump_NT_Return - standard_coord_NT_Return),3)\n",
    "\n",
    "GainMatrix[1,0] = round(1/h * (NT_bump_VI_Return - standard_coord_VI_Return),3)\n",
    "GainMatrix[1,1] = round(1/h * (VI_bump_VI_Return - standard_coord_VI_Return),3)\n",
    "GainMatrix[1,2] = round(1/h * (TF_bump_VI_Return - standard_coord_VI_Return),3)\n",
    "\n",
    "GainMatrix[2,0] = round(1/h * (NT_bump_TF_Return - standard_coord_TF_Return),3)\n",
    "GainMatrix[2,1] = round(1/h * (VI_bump_TF_Return - standard_coord_TF_Return),3)\n",
    "GainMatrix[2,2] = round(1/h * (TF_bump_TF_Return - standard_coord_TF_Return),3)\n",
    "\n",
    "print(GainMatrix)\n",
    "''' export later to latex table '''\n"
   ]
  },
  {
   "cell_type": "code",
   "execution_count": 95,
   "metadata": {},
   "outputs": [
    {
     "name": "stdout",
     "output_type": "stream",
     "text": [
      "0.006690864150607716 0.0012578354856180197 0.0060637598800107806\n",
      "0.04482098976240798 0.0024103658983012748 0.017155658107827168\n",
      "0.004397046791671457 -0.002745655849826872 0.001079484084196571\n",
      "0.005497707801469802 0.0021755157123805116 0.002485710599299553\n"
     ]
    }
   ],
   "source": [
    "''' Gain matrix estimation without outliers '''\n",
    "np.set_printoptions(suppress=True)\n",
    "margin = 10\n",
    "\n",
    "standard_coord = pd.read_csv(\"/Users/aymericvie/Documents/GitHub/evology/evology/research/TransferStatus/GainMatrixSingle/data/static_standard.csv\")\n",
    "\n",
    "new_standard_coord = pd.DataFrame()\n",
    "new_standard_coord = standard_coord[np.abs(standard_coord['NT_MonReturns']-standard_coord['NT_MonReturns'].mean()) <= (margin*standard_coord['NT_MonReturns'].std())]\n",
    "standard_coord_NT_Return = new_standard_coord['NT_MonReturns'].mean()\n",
    "\n",
    "new_standard_coord = pd.DataFrame()\n",
    "new_standard_coord = standard_coord[np.abs(standard_coord['VI_MonReturns']-standard_coord['VI_MonReturns'].mean()) <= (margin*standard_coord['VI_MonReturns'].std())]\n",
    "standard_coord_VI_Return = new_standard_coord['VI_MonReturns'].mean()\n",
    "\n",
    "new_standard_coord = pd.DataFrame()\n",
    "new_standard_coord = standard_coord[np.abs(standard_coord['TF_MonReturns']-standard_coord['TF_MonReturns'].mean()) <= (margin*standard_coord['TF_MonReturns'].std())]\n",
    "standard_coord_TF_Return = new_standard_coord['TF_MonReturns'].mean()\n",
    "\n",
    "print(standard_coord_NT_Return, standard_coord_VI_Return, standard_coord_TF_Return)\n",
    "\n",
    "\n",
    "new_NT_bump_coord = pd.DataFrame()\n",
    "new_NT_bump_coord = NT_bump_coord[np.abs(NT_bump_coord['NT_MonReturns']-NT_bump_coord['NT_MonReturns'].mean()) <= (margin*NT_bump_coord['NT_MonReturns'].std())]\n",
    "NT_bump_NT_Return = new_NT_bump_coord['NT_MonReturns'].mean()\n",
    "\n",
    "new_NT_bump_coord = pd.DataFrame()\n",
    "new_NT_bump_coord = NT_bump_coord[np.abs(NT_bump_coord['VI_MonReturns']-NT_bump_coord['VI_MonReturns'].mean()) <= (margin*NT_bump_coord['VI_MonReturns'].std())]\n",
    "NT_bump_VI_Return = new_NT_bump_coord['VI_MonReturns'].mean()\n",
    "\n",
    "new_NT_bump_coord = pd.DataFrame()\n",
    "new_NT_bump_coord = NT_bump_coord[np.abs(NT_bump_coord['TF_MonReturns']-NT_bump_coord['TF_MonReturns'].mean()) <= (margin*NT_bump_coord['TF_MonReturns'].std())]\n",
    "NT_bump_TF_Return = new_NT_bump_coord['TF_MonReturns'].mean()\n",
    "\n",
    "print(NT_bump_NT_Return, NT_bump_VI_Return, NT_bump_TF_Return)\n",
    "\n",
    "new_VI_bump_coord = pd.DataFrame()\n",
    "new_VI_bump_coord = VI_bump_coord[np.abs(VI_bump_coord['NT_MonReturns']-VI_bump_coord['NT_MonReturns'].mean()) <= (margin*VI_bump_coord['NT_MonReturns'].std())]\n",
    "VI_bump_NT_Return = new_VI_bump_coord['NT_MonReturns'].mean()\n",
    "\n",
    "new_VI_bump_coord = pd.DataFrame()\n",
    "new_VI_bump_coord = VI_bump_coord[np.abs(VI_bump_coord['VI_MonReturns']-VI_bump_coord['VI_MonReturns'].mean()) <= (margin*VI_bump_coord['VI_MonReturns'].std())]\n",
    "VI_bump_VI_Return = new_VI_bump_coord['VI_MonReturns'].mean()\n",
    "\n",
    "new_VI_bump_coord = pd.DataFrame()\n",
    "new_VI_bump_coord = VI_bump_coord[np.abs(VI_bump_coord['TF_MonReturns']-VI_bump_coord['TF_MonReturns'].mean()) <= (margin*VI_bump_coord['TF_MonReturns'].std())]\n",
    "VI_bump_TF_Return = new_VI_bump_coord['TF_MonReturns'].mean()\n",
    "\n",
    "print(VI_bump_NT_Return, VI_bump_VI_Return, VI_bump_TF_Return)\n",
    "\n",
    "new_TF_bump_coord = pd.DataFrame()\n",
    "new_TF_bump_coord = TF_bump_coord[np.abs(TF_bump_coord['NT_MonReturns']-TF_bump_coord['NT_MonReturns'].mean()) <= (margin*TF_bump_coord['NT_MonReturns'].std())]\n",
    "TF_bump_NT_Return = new_TF_bump_coord['NT_MonReturns'].mean()\n",
    "\n",
    "new_TF_bump_coord = pd.DataFrame()\n",
    "new_TF_bump_coord = TF_bump_coord[np.abs(TF_bump_coord['VI_MonReturns']-TF_bump_coord['VI_MonReturns'].mean()) <= (margin*TF_bump_coord['VI_MonReturns'].std())]\n",
    "TF_bump_VI_Return = new_TF_bump_coord['VI_MonReturns'].mean()\n",
    "\n",
    "new_TF_bump_coord = pd.DataFrame()\n",
    "new_TF_bump_coord = VI_bump_coord[np.abs(TF_bump_coord['TF_MonReturns']-TF_bump_coord['TF_MonReturns'].mean()) <= (margin*TF_bump_coord['TF_MonReturns'].std())]\n",
    "TF_bump_TF_Return = new_TF_bump_coord['TF_MonReturns'].mean()\n",
    "\n",
    "print(TF_bump_NT_Return, TF_bump_VI_Return, TF_bump_TF_Return)\n",
    "\n",
    "\n"
   ]
  },
  {
   "cell_type": "code",
   "execution_count": 96,
   "metadata": {},
   "outputs": [
    {
     "name": "stdout",
     "output_type": "stream",
     "text": [
      "[[ 1.907 -0.115 -0.06 ]\n",
      " [ 0.058 -0.2    0.046]\n",
      " [ 0.555 -0.249 -0.179]]\n"
     ]
    },
    {
     "data": {
      "text/plain": [
       "' export later to latex table '"
      ]
     },
     "execution_count": 96,
     "metadata": {},
     "output_type": "execute_result"
    }
   ],
   "source": [
    "np.set_printoptions(suppress=True)\n",
    "GainMatrix = np.zeros((3,3))\n",
    "h = 0.02\n",
    "\n",
    "GainMatrix[0,0] = round(1/h * (NT_bump_NT_Return - standard_coord_NT_Return),3)\n",
    "GainMatrix[0,1] = round(1/h * (VI_bump_NT_Return - standard_coord_NT_Return),3)\n",
    "GainMatrix[0,2] = round(1/h * (TF_bump_NT_Return - standard_coord_NT_Return),3)\n",
    "\n",
    "GainMatrix[1,0] = round(1/h * (NT_bump_VI_Return - standard_coord_VI_Return),3)\n",
    "GainMatrix[1,1] = round(1/h * (VI_bump_VI_Return - standard_coord_VI_Return),3)\n",
    "GainMatrix[1,2] = round(1/h * (TF_bump_VI_Return - standard_coord_VI_Return),3)\n",
    "\n",
    "GainMatrix[2,0] = round(1/h * (NT_bump_TF_Return - standard_coord_TF_Return),3)\n",
    "GainMatrix[2,1] = round(1/h * (VI_bump_TF_Return - standard_coord_TF_Return),3)\n",
    "GainMatrix[2,2] = round(1/h * (TF_bump_TF_Return - standard_coord_TF_Return),3)\n",
    "\n",
    "print(GainMatrix)\n",
    "''' export later to latex table '''"
   ]
  }
 ],
 "metadata": {
  "interpreter": {
   "hash": "aee8b7b246df8f9039afb4144a1f6fd8d2ca17a180786b69acc140d282b71a49"
  },
  "kernelspec": {
   "display_name": "Python 3.9.6 64-bit",
   "language": "python",
   "name": "python3"
  },
  "language_info": {
   "codemirror_mode": {
    "name": "ipython",
    "version": 3
   },
   "file_extension": ".py",
   "mimetype": "text/x-python",
   "name": "python",
   "nbconvert_exporter": "python",
   "pygments_lexer": "ipython3",
   "version": "3.9.6"
  },
  "orig_nbformat": 4
 },
 "nbformat": 4,
 "nbformat_minor": 2
}
