{
 "cells": [
  {
   "cell_type": "code",
   "execution_count": 45,
   "metadata": {},
   "outputs": [
    {
     "name": "stdout",
     "output_type": "stream",
     "text": [
      "0.00042179040828959957 0.0009116512787118482 0.00152549933539493\n",
      "0.03682370574628645 0.041682553748021926 0.04390121877373065\n",
      "----\n",
      "0.000978443519793037 0.0014655542955764194 0.0009967368853568254\n",
      "0.03359634339311825 0.02152251982944608 0.01817126990984914\n",
      "----\n",
      "-1.384647579336998e-06 0.0008543410710871386 0.0011881229891518449\n",
      "0.04050686930965046 0.028891460378257353 0.024681740519116806\n",
      "----\n",
      "0.0011899543416383008 0.0013398329777764325 0.0009002673669615772\n",
      "0.040221283601115966 0.021630802258993193 0.02175906801504598\n",
      "----\n"
     ]
    }
   ],
   "source": [
    "import pandas as pd\n",
    "\n",
    "standard_coord = pd.read_csv(\"/Users/aymericvie/Documents/GitHub/evology/evology/research/TransferStatus/GainMatrixSingle/data/static_standard.csv\")\n",
    "\n",
    "standard_coord_NT_Return = standard_coord['NT_MonReturns'].mean()\n",
    "standard_coord_VI_Return = standard_coord['VI_MonReturns'].mean()\n",
    "standard_coord_TF_Return = standard_coord['TF_MonReturns'].mean()\n",
    "\n",
    "print(standard_coord_NT_Return, standard_coord_VI_Return, standard_coord_TF_Return)\n",
    "\n",
    "std_std_NT = standard_coord['NT_MonReturns'].std()\n",
    "std_std_VI = standard_coord['VI_MonReturns'].std()\n",
    "std_std_TF = standard_coord['TF_MonReturns'].std()\n",
    "\n",
    "print(std_std_NT, std_std_VI, std_std_TF)\n",
    "print('----')\n",
    "NT_bump_coord = pd.read_csv(\"/Users/aymericvie/Documents/GitHub/evology/evology/research/TransferStatus/GainMatrixSingle/data/static_NT_bump.csv\")\n",
    "\n",
    "NT_bump_NT_Return = NT_bump_coord['NT_MonReturns'].mean()\n",
    "NT_bump_VI_Return = NT_bump_coord['VI_MonReturns'].mean()\n",
    "NT_bump_TF_Return = NT_bump_coord['TF_MonReturns'].mean()\n",
    "\n",
    "print(NT_bump_NT_Return, NT_bump_VI_Return, NT_bump_TF_Return)\n",
    "\n",
    "NT_bump_NT_std = NT_bump_coord['NT_MonReturns'].std()\n",
    "NT_bump_VI_std = NT_bump_coord['VI_MonReturns'].std()\n",
    "NT_bump_TF_std = NT_bump_coord['TF_MonReturns'].std()\n",
    "\n",
    "print(NT_bump_NT_std, NT_bump_VI_std, NT_bump_TF_std)\n",
    "print('----')\n",
    "\n",
    "VI_bump_coord = pd.read_csv(\"/Users/aymericvie/Documents/GitHub/evology/evology/research/TransferStatus/GainMatrixSingle/data/static_VI_bump.csv\")\n",
    "\n",
    "VI_bump_NT_Return = VI_bump_coord['NT_MonReturns'].mean()\n",
    "VI_bump_VI_Return = VI_bump_coord['VI_MonReturns'].mean()\n",
    "VI_bump_TF_Return = VI_bump_coord['TF_MonReturns'].mean()\n",
    "\n",
    "print(VI_bump_NT_Return, VI_bump_VI_Return, VI_bump_TF_Return)\n",
    "\n",
    "VI_bump_NT_std = VI_bump_coord['NT_MonReturns'].std()\n",
    "VI_bump_VI_std = VI_bump_coord['VI_MonReturns'].std()\n",
    "VI_bump_TF_std = VI_bump_coord['TF_MonReturns'].std()\n",
    "\n",
    "print(VI_bump_NT_std, VI_bump_VI_std, VI_bump_TF_std)\n",
    "print('----')\n",
    "\n",
    "TF_bump_coord = pd.read_csv(\"/Users/aymericvie/Documents/GitHub/evology/evology/research/TransferStatus/GainMatrixSingle/data/static_TF_bump.csv\")\n",
    "\n",
    "TF_bump_NT_Return = TF_bump_coord['NT_MonReturns'].mean()\n",
    "TF_bump_VI_Return = TF_bump_coord['VI_MonReturns'].mean()\n",
    "TF_bump_TF_Return = TF_bump_coord['TF_MonReturns'].mean()\n",
    "\n",
    "print(TF_bump_NT_Return, TF_bump_VI_Return, TF_bump_TF_Return)\n",
    "\n",
    "TF_bump_NT_std = TF_bump_coord['NT_MonReturns'].std()\n",
    "TF_bump_VI_std = TF_bump_coord['VI_MonReturns'].std()\n",
    "TF_bump_TF_std = TF_bump_coord['TF_MonReturns'].std()\n",
    "\n",
    "print(TF_bump_NT_std, TF_bump_VI_std, TF_bump_TF_std)\n",
    "print('----')\n",
    "\n"
   ]
  },
  {
   "cell_type": "code",
   "execution_count": 46,
   "metadata": {},
   "outputs": [
    {
     "name": "stdout",
     "output_type": "stream",
     "text": [
      "[[ 0.071 -0.054  0.098]\n",
      " [ 0.071 -0.007  0.055]\n",
      " [-0.068 -0.043 -0.08 ]]\n"
     ]
    },
    {
     "data": {
      "text/plain": [
       "' export later to latex table '"
      ]
     },
     "execution_count": 46,
     "metadata": {},
     "output_type": "execute_result"
    }
   ],
   "source": [
    "import numpy as np\n",
    "np.set_printoptions(suppress=True)\n",
    "h = 2/256\n",
    "GainMatrix = np.zeros((3,3))\n",
    "\n",
    "GainMatrix[0,0] = round(1/h * (NT_bump_NT_Return - standard_coord_NT_Return),3)\n",
    "GainMatrix[0,1] = round(1/h * (VI_bump_NT_Return - standard_coord_NT_Return),3)\n",
    "GainMatrix[0,2] = round(1/h * (TF_bump_NT_Return - standard_coord_NT_Return),3)\n",
    "\n",
    "GainMatrix[1,0] = round(1/h * (NT_bump_VI_Return - standard_coord_VI_Return),3)\n",
    "GainMatrix[1,1] = round(1/h * (VI_bump_VI_Return - standard_coord_VI_Return),3)\n",
    "GainMatrix[1,2] = round(1/h * (TF_bump_VI_Return - standard_coord_VI_Return),3)\n",
    "\n",
    "GainMatrix[2,0] = round(1/h * (NT_bump_TF_Return - standard_coord_TF_Return),3)\n",
    "GainMatrix[2,1] = round(1/h * (VI_bump_TF_Return - standard_coord_TF_Return),3)\n",
    "GainMatrix[2,2] = round(1/h * (TF_bump_TF_Return - standard_coord_TF_Return),3)\n",
    "\n",
    "print(GainMatrix)\n",
    "''' export later to latex table '''\n"
   ]
  },
  {
   "cell_type": "code",
   "execution_count": 57,
   "metadata": {},
   "outputs": [
    {
     "name": "stdout",
     "output_type": "stream",
     "text": [
      "\n",
      "Texttable Table:\n",
      "   |   NT   |   VI   |  TF  \n",
      "===+========+========+======\n",
      "NT | 0.033  | -0.055 | 0.040\n",
      "VI | 0.056  | 0.009  | 0.045\n",
      "TF | -0.019 | -0.002 | 0.023\n"
     ]
    }
   ],
   "source": [
    "from tabulate import tabulate\n",
    "from texttable import Texttable\n",
    "import latextable\n",
    "\n",
    "rows = [['', 'NT', 'VI', 'TF'],\n",
    "        ['NT', str(GainMatrix[0,0]), str(GainMatrix[0,1]), str(GainMatrix[0,2])],\n",
    "        ['VI', str(GainMatrix[1,0]), str(GainMatrix[1,1]), str(GainMatrix[1,2])],\n",
    "        ['TF', str(GainMatrix[2,0]), str(GainMatrix[2,1]), str(GainMatrix[2,2])]]\n",
    "\n",
    "table = Texttable()\n",
    "table.set_cols_align([\"c\"] * 4)\n",
    "table.set_deco(Texttable.HEADER | Texttable.VLINES)\n",
    "table.add_rows(rows)\n",
    "\n",
    "\n",
    "print('\\nTexttable Table:')\n",
    "print(table.draw())\n",
    "# print(latextable.draw_latex(table, caption=\"Gain matrix at the equal wealth coordinates\"))"
   ]
  },
  {
   "cell_type": "code",
   "execution_count": 59,
   "metadata": {},
   "outputs": [
    {
     "name": "stdout",
     "output_type": "stream",
     "text": [
      "\\begin{table}\n",
      "\t\\begin{center}\n",
      "\t\t\\begin{tabular}{c|c|c|c}\n",
      "\t\t\t & NT & VI & TF \\\\\n",
      "\t\t\t\\hline\n",
      "\t\t\tNT & 0.033 & -0.055 & 0.040 \\\\\n",
      "\t\t\tVI & 0.056 & 0.009 & 0.045 \\\\\n",
      "\t\t\tTF & -0.019 & -0.002 & 0.023 \\\\\n",
      "\t\t\\end{tabular}\n",
      "\t\\end{center}\n",
      "\t\\caption{Gain matrix at the equal wealth coordinates}\n",
      "\\end{table}\n"
     ]
    }
   ],
   "source": [
    "print(latextable.draw_latex(table, caption=\"Gain matrix at the equal wealth coordinates\"))"
   ]
  },
  {
   "cell_type": "code",
   "execution_count": 53,
   "metadata": {},
   "outputs": [
    {
     "name": "stdout",
     "output_type": "stream",
     "text": [
      "0.00027724157013802925 0.0008252865549118169 0.001005621162520661\n",
      "0.0005319514717276877 0.0012638029138254594 0.0008588829030353721\n",
      "-0.0001531543313599827 0.0008977230988897337 0.0009871267598864004\n",
      "0.0005910139721648736 0.0011734473834815397 0.0011869592466888842\n"
     ]
    }
   ],
   "source": [
    "''' Gain matrix estimation without outliers '''\n",
    "np.set_printoptions(suppress=True)\n",
    "margin = 3\n",
    "\n",
    "standard_coord = pd.read_csv(\"/Users/aymericvie/Documents/GitHub/evology/evology/research/TransferStatus/GainMatrixSingle/data/static_standard.csv\")\n",
    "\n",
    "new_standard_coord = pd.DataFrame()\n",
    "new_standard_coord = standard_coord[np.abs(standard_coord['NT_MonReturns']-standard_coord['NT_MonReturns'].mean()) <= (margin*standard_coord['NT_MonReturns'].std())]\n",
    "standard_coord_NT_Return = new_standard_coord['NT_MonReturns'].mean()\n",
    "\n",
    "new_standard_coord = pd.DataFrame()\n",
    "new_standard_coord = standard_coord[np.abs(standard_coord['VI_MonReturns']-standard_coord['VI_MonReturns'].mean()) <= (margin*standard_coord['VI_MonReturns'].std())]\n",
    "standard_coord_VI_Return = new_standard_coord['VI_MonReturns'].mean()\n",
    "\n",
    "new_standard_coord = pd.DataFrame()\n",
    "new_standard_coord = standard_coord[np.abs(standard_coord['TF_MonReturns']-standard_coord['TF_MonReturns'].mean()) <= (margin*standard_coord['TF_MonReturns'].std())]\n",
    "standard_coord_TF_Return = new_standard_coord['TF_MonReturns'].mean()\n",
    "\n",
    "print(standard_coord_NT_Return, standard_coord_VI_Return, standard_coord_TF_Return)\n",
    "\n",
    "\n",
    "new_NT_bump_coord = pd.DataFrame()\n",
    "new_NT_bump_coord = NT_bump_coord[np.abs(NT_bump_coord['NT_MonReturns']-NT_bump_coord['NT_MonReturns'].mean()) <= (margin*NT_bump_coord['NT_MonReturns'].std())]\n",
    "NT_bump_NT_Return = new_NT_bump_coord['NT_MonReturns'].mean()\n",
    "\n",
    "new_NT_bump_coord = pd.DataFrame()\n",
    "new_NT_bump_coord = NT_bump_coord[np.abs(NT_bump_coord['VI_MonReturns']-NT_bump_coord['VI_MonReturns'].mean()) <= (margin*NT_bump_coord['VI_MonReturns'].std())]\n",
    "NT_bump_VI_Return = new_NT_bump_coord['VI_MonReturns'].mean()\n",
    "\n",
    "new_NT_bump_coord = pd.DataFrame()\n",
    "new_NT_bump_coord = NT_bump_coord[np.abs(NT_bump_coord['TF_MonReturns']-NT_bump_coord['TF_MonReturns'].mean()) <= (margin*NT_bump_coord['TF_MonReturns'].std())]\n",
    "NT_bump_TF_Return = new_NT_bump_coord['TF_MonReturns'].mean()\n",
    "\n",
    "print(NT_bump_NT_Return, NT_bump_VI_Return, NT_bump_TF_Return)\n",
    "\n",
    "new_VI_bump_coord = pd.DataFrame()\n",
    "new_VI_bump_coord = VI_bump_coord[np.abs(VI_bump_coord['NT_MonReturns']-VI_bump_coord['NT_MonReturns'].mean()) <= (margin*VI_bump_coord['NT_MonReturns'].std())]\n",
    "VI_bump_NT_Return = new_VI_bump_coord['NT_MonReturns'].mean()\n",
    "\n",
    "new_VI_bump_coord = pd.DataFrame()\n",
    "new_VI_bump_coord = VI_bump_coord[np.abs(VI_bump_coord['VI_MonReturns']-VI_bump_coord['VI_MonReturns'].mean()) <= (margin*VI_bump_coord['VI_MonReturns'].std())]\n",
    "VI_bump_VI_Return = new_VI_bump_coord['VI_MonReturns'].mean()\n",
    "\n",
    "new_VI_bump_coord = pd.DataFrame()\n",
    "new_VI_bump_coord = VI_bump_coord[np.abs(VI_bump_coord['TF_MonReturns']-VI_bump_coord['TF_MonReturns'].mean()) <= (margin*VI_bump_coord['TF_MonReturns'].std())]\n",
    "VI_bump_TF_Return = new_VI_bump_coord['TF_MonReturns'].mean()\n",
    "\n",
    "print(VI_bump_NT_Return, VI_bump_VI_Return, VI_bump_TF_Return)\n",
    "\n",
    "new_TF_bump_coord = pd.DataFrame()\n",
    "new_TF_bump_coord = TF_bump_coord[np.abs(TF_bump_coord['NT_MonReturns']-TF_bump_coord['NT_MonReturns'].mean()) <= (margin*TF_bump_coord['NT_MonReturns'].std())]\n",
    "TF_bump_NT_Return = new_TF_bump_coord['NT_MonReturns'].mean()\n",
    "\n",
    "new_TF_bump_coord = pd.DataFrame()\n",
    "new_TF_bump_coord = TF_bump_coord[np.abs(TF_bump_coord['VI_MonReturns']-TF_bump_coord['VI_MonReturns'].mean()) <= (margin*TF_bump_coord['VI_MonReturns'].std())]\n",
    "TF_bump_VI_Return = new_TF_bump_coord['VI_MonReturns'].mean()\n",
    "\n",
    "new_TF_bump_coord = pd.DataFrame()\n",
    "new_TF_bump_coord = VI_bump_coord[np.abs(TF_bump_coord['TF_MonReturns']-TF_bump_coord['TF_MonReturns'].mean()) <= (margin*TF_bump_coord['TF_MonReturns'].std())]\n",
    "TF_bump_TF_Return = new_TF_bump_coord['TF_MonReturns'].mean()\n",
    "\n",
    "print(TF_bump_NT_Return, TF_bump_VI_Return, TF_bump_TF_Return)\n",
    "\n",
    "\n"
   ]
  },
  {
   "cell_type": "code",
   "execution_count": 54,
   "metadata": {},
   "outputs": [
    {
     "name": "stdout",
     "output_type": "stream",
     "text": [
      "[[ 0.033 -0.055  0.04 ]\n",
      " [ 0.056  0.009  0.045]\n",
      " [-0.019 -0.002  0.023]]\n"
     ]
    },
    {
     "data": {
      "text/plain": [
       "' export later to latex table '"
      ]
     },
     "execution_count": 54,
     "metadata": {},
     "output_type": "execute_result"
    }
   ],
   "source": [
    "np.set_printoptions(suppress=True)\n",
    "GainMatrix = np.zeros((3,3))\n",
    "h = 2/256\n",
    "\n",
    "GainMatrix[0,0] = round(1/h * (NT_bump_NT_Return - standard_coord_NT_Return),3)\n",
    "GainMatrix[0,1] = round(1/h * (VI_bump_NT_Return - standard_coord_NT_Return),3)\n",
    "GainMatrix[0,2] = round(1/h * (TF_bump_NT_Return - standard_coord_NT_Return),3)\n",
    "\n",
    "GainMatrix[1,0] = round(1/h * (NT_bump_VI_Return - standard_coord_VI_Return),3)\n",
    "GainMatrix[1,1] = round(1/h * (VI_bump_VI_Return - standard_coord_VI_Return),3)\n",
    "GainMatrix[1,2] = round(1/h * (TF_bump_VI_Return - standard_coord_VI_Return),3)\n",
    "\n",
    "GainMatrix[2,0] = round(1/h * (NT_bump_TF_Return - standard_coord_TF_Return),3)\n",
    "GainMatrix[2,1] = round(1/h * (VI_bump_TF_Return - standard_coord_TF_Return),3)\n",
    "GainMatrix[2,2] = round(1/h * (TF_bump_TF_Return - standard_coord_TF_Return),3)\n",
    "\n",
    "print(GainMatrix)\n",
    "''' export later to latex table '''"
   ]
  },
  {
   "cell_type": "code",
   "execution_count": null,
   "metadata": {},
   "outputs": [],
   "source": [
    "from tabulate import tabulate\n",
    "from texttable import Texttable\n",
    "import latextable\n",
    "\n",
    "rows = [['', 'NT', 'VI', 'TF'],\n",
    "        ['NT', str(GainMatrix[0,0]), str(GainMatrix[0,1]), str(GainMatrix[0,2])],\n",
    "        ['VI', str(GainMatrix[1,0]), str(GainMatrix[1,1]), str(GainMatrix[1,2])],\n",
    "        ['TF', str(GainMatrix[2,0]), str(GainMatrix[2,1]), str(GainMatrix[2,2])]]\n",
    "\n",
    "table = Texttable()\n",
    "table.set_cols_align([\"c\"] * 4)\n",
    "table.set_deco(Texttable.HEADER | Texttable.VLINES)\n",
    "table.add_rows(rows)\n",
    "\n",
    "\n",
    "print('\\nTexttable Table:')\n",
    "print(table.draw())\n",
    "print(latextable.draw_latex(table, caption=\"Gain matrix at the equal wealth coordinates\"))"
   ]
  }
 ],
 "metadata": {
  "interpreter": {
   "hash": "aee8b7b246df8f9039afb4144a1f6fd8d2ca17a180786b69acc140d282b71a49"
  },
  "kernelspec": {
   "display_name": "Python 3.9.6 64-bit",
   "language": "python",
   "name": "python3"
  },
  "language_info": {
   "codemirror_mode": {
    "name": "ipython",
    "version": 3
   },
   "file_extension": ".py",
   "mimetype": "text/x-python",
   "name": "python",
   "nbconvert_exporter": "python",
   "pygments_lexer": "ipython3",
   "version": "3.9.6"
  },
  "orig_nbformat": 4
 },
 "nbformat": 4,
 "nbformat_minor": 2
}
