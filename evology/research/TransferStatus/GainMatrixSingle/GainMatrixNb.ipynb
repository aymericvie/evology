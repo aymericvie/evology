{
 "cells": [
  {
   "cell_type": "code",
   "execution_count": 30,
   "metadata": {},
   "outputs": [
    {
     "name": "stdout",
     "output_type": "stream",
     "text": [
      "0.000908683406173785 0.0012488520331086265 0.0011874817957091238\n",
      "0.0012964186781292237 0.0009563268316685184 0.000965149689807242\n",
      "0.0015252637627596038 0.0012623999249932246 0.0010987359377023268\n",
      "0.0012125853779604337 0.0008473743603994066 0.0007671504626120363\n"
     ]
    }
   ],
   "source": [
    "import pandas as pd\n",
    "\n",
    "standard_coord = pd.read_csv(\"/Users/aymericvie/Documents/GitHub/evology/evology/research/TransferStatus/GainMatrixSingle/data/static_standard.csv\")\n",
    "\n",
    "standard_coord_NT_Return = standard_coord['NT_MonReturns'].mean()\n",
    "standard_coord_VI_Return = standard_coord['VI_MonReturns'].mean()\n",
    "standard_coord_TF_Return = standard_coord['TF_MonReturns'].mean()\n",
    "\n",
    "print(standard_coord_NT_Return, standard_coord_VI_Return, standard_coord_TF_Return)\n",
    "\n",
    "NT_bump_coord = pd.read_csv(\"/Users/aymericvie/Documents/GitHub/evology/evology/research/TransferStatus/GainMatrixSingle/data/static_NT_bump.csv\")\n",
    "\n",
    "NT_bump_NT_Return = NT_bump_coord['NT_MonReturns'].mean()\n",
    "NT_bump_VI_Return = NT_bump_coord['VI_MonReturns'].mean()\n",
    "NT_bump_TF_Return = NT_bump_coord['TF_MonReturns'].mean()\n",
    "\n",
    "print(NT_bump_NT_Return, NT_bump_VI_Return, NT_bump_TF_Return)\n",
    "\n",
    "VI_bump_coord = pd.read_csv(\"/Users/aymericvie/Documents/GitHub/evology/evology/research/TransferStatus/GainMatrixSingle/data/static_VI_bump.csv\")\n",
    "\n",
    "VI_bump_NT_Return = VI_bump_coord['NT_MonReturns'].mean()\n",
    "VI_bump_VI_Return = VI_bump_coord['VI_MonReturns'].mean()\n",
    "VI_bump_TF_Return = VI_bump_coord['TF_MonReturns'].mean()\n",
    "\n",
    "print(VI_bump_NT_Return, VI_bump_VI_Return, VI_bump_TF_Return)\n",
    "\n",
    "TF_bump_coord = pd.read_csv(\"/Users/aymericvie/Documents/GitHub/evology/evology/research/TransferStatus/GainMatrixSingle/data/static_TF_bump.csv\")\n",
    "\n",
    "TF_bump_NT_Return = TF_bump_coord['NT_MonReturns'].mean()\n",
    "TF_bump_VI_Return = TF_bump_coord['VI_MonReturns'].mean()\n",
    "TF_bump_TF_Return = TF_bump_coord['TF_MonReturns'].mean()\n",
    "\n",
    "print(TF_bump_NT_Return, TF_bump_VI_Return, TF_bump_TF_Return)\n",
    "\n",
    "\n",
    "\n",
    "\n"
   ]
  },
  {
   "cell_type": "code",
   "execution_count": 31,
   "metadata": {},
   "outputs": [
    {
     "name": "stdout",
     "output_type": "stream",
     "text": [
      "[[ 0.039  0.062  0.03 ]\n",
      " [-0.029  0.001 -0.04 ]\n",
      " [-0.022 -0.009 -0.042]]\n"
     ]
    },
    {
     "data": {
      "text/plain": [
       "' export later to latex table '"
      ]
     },
     "execution_count": 31,
     "metadata": {},
     "output_type": "execute_result"
    }
   ],
   "source": [
    "import numpy as np\n",
    "np.set_printoptions(suppress=True)\n",
    "h = 0.01\n",
    "GainMatrix = np.zeros((3,3))\n",
    "\n",
    "GainMatrix[0,0] = round(1/h * (NT_bump_NT_Return - standard_coord_NT_Return),3)\n",
    "GainMatrix[0,1] = round(1/h * (VI_bump_NT_Return - standard_coord_NT_Return),3)\n",
    "GainMatrix[0,2] = round(1/h * (TF_bump_NT_Return - standard_coord_NT_Return),3)\n",
    "\n",
    "GainMatrix[1,0] = round(1/h * (NT_bump_VI_Return - standard_coord_VI_Return),3)\n",
    "GainMatrix[1,1] = round(1/h * (VI_bump_VI_Return - standard_coord_VI_Return),3)\n",
    "GainMatrix[1,2] = round(1/h * (TF_bump_VI_Return - standard_coord_VI_Return),3)\n",
    "\n",
    "GainMatrix[2,0] = round(1/h * (NT_bump_TF_Return - standard_coord_TF_Return),3)\n",
    "GainMatrix[2,1] = round(1/h * (VI_bump_TF_Return - standard_coord_TF_Return),3)\n",
    "GainMatrix[2,2] = round(1/h * (TF_bump_TF_Return - standard_coord_TF_Return),3)\n",
    "\n",
    "print(GainMatrix)\n",
    "''' export later to latex table '''"
   ]
  }
 ],
 "metadata": {
  "interpreter": {
   "hash": "aee8b7b246df8f9039afb4144a1f6fd8d2ca17a180786b69acc140d282b71a49"
  },
  "kernelspec": {
   "display_name": "Python 3.9.6 64-bit",
   "language": "python",
   "name": "python3"
  },
  "language_info": {
   "codemirror_mode": {
    "name": "ipython",
    "version": 3
   },
   "file_extension": ".py",
   "mimetype": "text/x-python",
   "name": "python",
   "nbconvert_exporter": "python",
   "pygments_lexer": "ipython3",
   "version": "3.9.6"
  },
  "orig_nbformat": 4
 },
 "nbformat": 4,
 "nbformat_minor": 2
}
