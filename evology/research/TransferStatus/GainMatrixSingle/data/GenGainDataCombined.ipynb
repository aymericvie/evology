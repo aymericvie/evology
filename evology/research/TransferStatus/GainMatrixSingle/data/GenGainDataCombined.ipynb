{
 "cells": [
  {
   "cell_type": "code",
   "execution_count": 1,
   "metadata": {},
   "outputs": [],
   "source": [
    "#!/usr/bin/env python3\n",
    "import sys\n",
    "sys.path.insert(0, '/Users/aymericvie/Documents/GitHub/evology/evology/code/')\n",
    "from main import *\n",
    "from parameters import *\n",
    "\n",
    "time = 20_000\n",
    "repetitions = 10\n",
    "agents = 50\n",
    "wealth_coordinates = [1/3, 1/3, 1/3]\n",
    "bump_size = 2 / 256\n",
    "h = bump_size"
   ]
  },
  {
   "cell_type": "code",
   "execution_count": 2,
   "metadata": {},
   "outputs": [
    {
     "name": "stdout",
     "output_type": "stream",
     "text": [
      "[0.3333333333333333, 0.3333333333333333, 0.3333333333333333]\n"
     ]
    },
    {
     "name": "stderr",
     "output_type": "stream",
     "text": [
      " 73%|███████▎  | 14590/20000 [00:31<00:11, 467.34it/s]/Users/aymericvie/Documents/GitHub/evology/evology/code/ga.py:19: UserWarning: Replacing // Gen 14617 // Type: nt, C: 280311730, S+: -705748, L: 0, M: 280697388, W: -385657\n",
      "  warnings.warn(\"Replacing // Gen \" + str(generation) + \" // Type: \" + str(pop[i].type) + \", C: \" + str(int(pop[i].cash)) + \", S+: \" + str(int(pop[i].asset)) + \", L: \" + str(int(pop[i].loan)) + \", M: \" + str(int(pop[i].margin)) + \", W: \" + str(int(pop[i].wealth)))\n",
      "100%|██████████| 20000/20000 [00:42<00:00, 470.87it/s]\n"
     ]
    },
    {
     "name": "stdout",
     "output_type": "stream",
     "text": [
      "0\n"
     ]
    },
    {
     "name": "stderr",
     "output_type": "stream",
     "text": [
      "100%|██████████| 20000/20000 [00:42<00:00, 466.65it/s]\n"
     ]
    },
    {
     "name": "stdout",
     "output_type": "stream",
     "text": [
      "1\n"
     ]
    },
    {
     "name": "stderr",
     "output_type": "stream",
     "text": [
      " 43%|████▎     | 8686/20000 [00:19<00:24, 466.93it/s]"
     ]
    }
   ],
   "source": [
    "# Static mode - Standard coordinates\n",
    "\n",
    "print(wealth_coordinates)\n",
    "\n",
    "j = 0\n",
    "while j < 1:\n",
    "    try: \n",
    "        Static = main(\"between\", time, PROBA_SELECTION, agents, 0, MUTATION_RATE, wealth_coordinates, False)\n",
    "        print(j)\n",
    "        j += 1\n",
    "    except UserWarning:\n",
    "        pass \n",
    "\n",
    "i = 1\n",
    "while i < repetitions:\n",
    "    try: \n",
    "        Static = Static.append(main(\"between\", time, PROBA_SELECTION, agents, 0, MUTATION_RATE, wealth_coordinates, False))\n",
    "        print(i)\n",
    "        i += 1\n",
    "    except UserWarning:\n",
    "        pass \n",
    "\n",
    "Static.to_csv(\"neutral_combined/static_standard.csv\")"
   ]
  },
  {
   "cell_type": "code",
   "execution_count": null,
   "metadata": {},
   "outputs": [
    {
     "name": "stdout",
     "output_type": "stream",
     "text": [
      "[0.3411458333333333, 0.3294270833333333, 0.3294270833333333]\n"
     ]
    },
    {
     "name": "stderr",
     "output_type": "stream",
     "text": [
      " 93%|█████████▎| 18676/20000 [00:38<00:02, 482.34it/s]/Users/aymericvie/Documents/GitHub/evology/evology/code/ga.py:19: UserWarning: Replacing // Gen 18679 // Type: nt, C: 348110130, S+: -1402983, L: 0, M: 354056823, W: -5946692\n",
      "  warnings.warn(\"Replacing // Gen \" + str(generation) + \" // Type: \" + str(pop[i].type) + \", C: \" + str(int(pop[i].cash)) + \", S+: \" + str(int(pop[i].asset)) + \", L: \" + str(int(pop[i].loan)) + \", M: \" + str(int(pop[i].margin)) + \", W: \" + str(int(pop[i].wealth)))\n",
      "100%|██████████| 20000/20000 [00:41<00:00, 480.02it/s]\n"
     ]
    },
    {
     "name": "stdout",
     "output_type": "stream",
     "text": [
      "0\n"
     ]
    },
    {
     "name": "stderr",
     "output_type": "stream",
     "text": [
      "100%|██████████| 20000/20000 [00:41<00:00, 480.46it/s]\n"
     ]
    },
    {
     "name": "stdout",
     "output_type": "stream",
     "text": [
      "1\n"
     ]
    },
    {
     "name": "stderr",
     "output_type": "stream",
     "text": [
      "100%|██████████| 20000/20000 [00:41<00:00, 483.50it/s]\n"
     ]
    },
    {
     "name": "stdout",
     "output_type": "stream",
     "text": [
      "2\n"
     ]
    },
    {
     "name": "stderr",
     "output_type": "stream",
     "text": [
      "100%|██████████| 20000/20000 [00:41<00:00, 481.50it/s]\n"
     ]
    },
    {
     "name": "stdout",
     "output_type": "stream",
     "text": [
      "3\n"
     ]
    },
    {
     "name": "stderr",
     "output_type": "stream",
     "text": [
      "100%|██████████| 20000/20000 [00:41<00:00, 479.19it/s]\n"
     ]
    },
    {
     "name": "stdout",
     "output_type": "stream",
     "text": [
      "4\n"
     ]
    },
    {
     "name": "stderr",
     "output_type": "stream",
     "text": [
      "100%|██████████| 20000/20000 [00:42<00:00, 474.78it/s]\n"
     ]
    },
    {
     "name": "stdout",
     "output_type": "stream",
     "text": [
      "5\n"
     ]
    },
    {
     "name": "stderr",
     "output_type": "stream",
     "text": [
      "100%|██████████| 20000/20000 [00:42<00:00, 468.99it/s]\n"
     ]
    },
    {
     "name": "stdout",
     "output_type": "stream",
     "text": [
      "6\n"
     ]
    },
    {
     "name": "stderr",
     "output_type": "stream",
     "text": [
      "100%|██████████| 20000/20000 [00:41<00:00, 482.47it/s]\n"
     ]
    },
    {
     "name": "stdout",
     "output_type": "stream",
     "text": [
      "7\n"
     ]
    },
    {
     "name": "stderr",
     "output_type": "stream",
     "text": [
      "100%|██████████| 20000/20000 [00:41<00:00, 482.57it/s]\n"
     ]
    },
    {
     "name": "stdout",
     "output_type": "stream",
     "text": [
      "8\n"
     ]
    },
    {
     "name": "stderr",
     "output_type": "stream",
     "text": [
      " 31%|███       | 6199/20000 [00:12<00:28, 488.26it/s]/Users/aymericvie/Documents/GitHub/evology/evology/code/ga.py:19: UserWarning: Replacing // Gen 6244 // Type: nt, C: 188242001, S+: -1001058, L: 0, M: 189520351, W: -1278350\n",
      "  warnings.warn(\"Replacing // Gen \" + str(generation) + \" // Type: \" + str(pop[i].type) + \", C: \" + str(int(pop[i].cash)) + \", S+: \" + str(int(pop[i].asset)) + \", L: \" + str(int(pop[i].loan)) + \", M: \" + str(int(pop[i].margin)) + \", W: \" + str(int(pop[i].wealth)))\n",
      " 41%|████      | 8103/20000 [00:16<00:24, 482.08it/s]/Users/aymericvie/Documents/GitHub/evology/evology/code/ga.py:19: UserWarning: Replacing // Gen 8128 // Type: nt, C: 190675041, S+: -949284, L: 0, M: 192600376, W: -1925335\n",
      "  warnings.warn(\"Replacing // Gen \" + str(generation) + \" // Type: \" + str(pop[i].type) + \", C: \" + str(int(pop[i].cash)) + \", S+: \" + str(int(pop[i].asset)) + \", L: \" + str(int(pop[i].loan)) + \", M: \" + str(int(pop[i].margin)) + \", W: \" + str(int(pop[i].wealth)))\n",
      "100%|██████████| 20000/20000 [00:41<00:00, 479.77it/s]\n"
     ]
    },
    {
     "name": "stdout",
     "output_type": "stream",
     "text": [
      "9\n"
     ]
    }
   ],
   "source": [
    "# Static mode - NT-bumped coordinates\n",
    "\n",
    "wealth_coordinates_NT = wealth_coordinates.copy()\n",
    "wealth_coordinates_NT[0] += h\n",
    "wealth_coordinates_NT[1] -= h/2\n",
    "wealth_coordinates_NT[2] -= h/2\n",
    "print(wealth_coordinates_NT)\n",
    "\n",
    "j = 0\n",
    "while j < 1:\n",
    "    try: \n",
    "        df = main(\"between\", time, PROBA_SELECTION, agents, 0, MUTATION_RATE, wealth_coordinates_NT, False)\n",
    "        Static = df.copy()\n",
    "        print(j)\n",
    "        j += 1\n",
    "    except UserWarning:\n",
    "        pass \n",
    "\n",
    "i = 1\n",
    "while i < repetitions:\n",
    "    try: \n",
    "        df = main(\"between\", time, PROBA_SELECTION, agents, 0, MUTATION_RATE, wealth_coordinates_NT, False)\n",
    "        Static = Static.append(df)\n",
    "        print(i)\n",
    "        i += 1\n",
    "    except UserWarning:\n",
    "        pass \n",
    "\n",
    "Static.to_csv(\"neutral_combined/static_NT_bump.csv\")"
   ]
  },
  {
   "cell_type": "code",
   "execution_count": null,
   "metadata": {},
   "outputs": [
    {
     "name": "stdout",
     "output_type": "stream",
     "text": [
      "[0.3294270833333333, 0.3411458333333333, 0.3294270833333333]\n"
     ]
    },
    {
     "name": "stderr",
     "output_type": "stream",
     "text": [
      "100%|██████████| 20000/20000 [00:40<00:00, 491.93it/s]\n",
      " 97%|█████████▋| 19386/20000 [00:39<00:01, 489.23it/s]"
     ]
    },
    {
     "name": "stdout",
     "output_type": "stream",
     "text": [
      "Replacing // Gen 19301 // Type: nt, C: 322607981, S+: -1005117, L: 0, M: 324622933, W: -2014952\n"
     ]
    },
    {
     "name": "stderr",
     "output_type": "stream",
     "text": [
      "100%|██████████| 20000/20000 [00:40<00:00, 489.88it/s]\n",
      "100%|██████████| 20000/20000 [00:40<00:00, 492.59it/s]\n",
      " 48%|████▊     | 9529/20000 [02:13<00:21, 485.93it/s]"
     ]
    },
    {
     "name": "stdout",
     "output_type": "stream",
     "text": [
      "Replacing // Gen 9462 // Type: nt, C: 145925530, S+: -865597, L: 0, M: 146147519, W: -221988\n"
     ]
    },
    {
     "name": "stderr",
     "output_type": "stream",
     "text": [
      "100%|██████████| 20000/20000 [02:35<00:00, 128.48it/s]\n",
      "100%|██████████| 20000/20000 [00:41<00:00, 482.90it/s]\n",
      "100%|██████████| 20000/20000 [00:40<00:00, 487.98it/s]\n",
      "100%|██████████| 20000/20000 [00:41<00:00, 487.00it/s]\n",
      "100%|██████████| 20000/20000 [00:41<00:00, 485.06it/s]\n",
      "100%|██████████| 20000/20000 [27:17<00:00, 12.22it/s] \n",
      "100%|██████████| 20000/20000 [00:40<00:00, 495.89it/s]\n"
     ]
    }
   ],
   "source": [
    "# Static mode - VI-bumped coordinates\n",
    "\n",
    "wealth_coordinates_VI = wealth_coordinates.copy()\n",
    "wealth_coordinates_VI[0] -= h/2\n",
    "wealth_coordinates_VI[1] += h\n",
    "wealth_coordinates_VI[2] -= h/2\n",
    "print(wealth_coordinates_VI)\n",
    "\n",
    "\n",
    "j = 0\n",
    "while j < 1:\n",
    "    try: \n",
    "        df = main(\"between\", time, PROBA_SELECTION, agents, 0, MUTATION_RATE, wealth_coordinates_VI, False)\n",
    "        Static = df.copy()\n",
    "        print(j)\n",
    "        j += 1\n",
    "    except UserWarning:\n",
    "        pass \n",
    "\n",
    "i = 1\n",
    "while i < repetitions:\n",
    "    try: \n",
    "        df = main(\"between\", time, PROBA_SELECTION, agents, 0, MUTATION_RATE, wealth_coordinates_VI, False)\n",
    "        Static = Static.append(df)\n",
    "        print(i)\n",
    "        i += 1\n",
    "    except UserWarning:\n",
    "        pass \n",
    "\n",
    "Static.to_csv(\"neutral_combined/static_VI_bump.csv\")"
   ]
  },
  {
   "cell_type": "code",
   "execution_count": null,
   "metadata": {},
   "outputs": [
    {
     "name": "stdout",
     "output_type": "stream",
     "text": [
      "[0.3294270833333333, 0.3294270833333333, 0.3411458333333333]\n"
     ]
    },
    {
     "name": "stderr",
     "output_type": "stream",
     "text": [
      "100%|██████████| 20000/20000 [00:41<00:00, 487.55it/s]\n",
      "100%|██████████| 20000/20000 [00:40<00:00, 490.62it/s]\n",
      "100%|██████████| 20000/20000 [00:41<00:00, 482.07it/s]\n",
      "100%|██████████| 20000/20000 [00:41<00:00, 483.74it/s]\n",
      "100%|██████████| 20000/20000 [00:41<00:00, 484.63it/s]\n",
      "100%|██████████| 20000/20000 [00:41<00:00, 486.00it/s]\n",
      "100%|██████████| 20000/20000 [00:40<00:00, 488.59it/s]\n",
      " 86%|████████▌ | 17234/20000 [02:29<00:05, 488.02it/s]"
     ]
    },
    {
     "name": "stdout",
     "output_type": "stream",
     "text": [
      "Replacing // Gen 17150 // Type: nt, C: 208743952, S+: -2350133, L: 0, M: 209114884, W: -370932\n"
     ]
    },
    {
     "name": "stderr",
     "output_type": "stream",
     "text": [
      "100%|██████████| 20000/20000 [02:35<00:00, 128.97it/s]\n",
      "100%|██████████| 20000/20000 [00:41<00:00, 486.93it/s]\n",
      "100%|██████████| 20000/20000 [00:41<00:00, 478.35it/s]\n"
     ]
    }
   ],
   "source": [
    "# Static mode - TF-bumped coordinates\n",
    "\n",
    "wealth_coordinates_TF = wealth_coordinates.copy()\n",
    "wealth_coordinates_TF[0] -= h/2\n",
    "wealth_coordinates_TF[1] -= h/2\n",
    "wealth_coordinates_TF[2] += h\n",
    "print(wealth_coordinates_TF)\n",
    "\n",
    "j = 0\n",
    "while j < 1:\n",
    "    try: \n",
    "        df = main(\"between\", time, PROBA_SELECTION, agents, 0, MUTATION_RATE, wealth_coordinates_TF, False)\n",
    "        Static = df.copy()\n",
    "        print(j)\n",
    "        j += 1\n",
    "    except UserWarning:\n",
    "        pass \n",
    "\n",
    "i = 1\n",
    "while i < repetitions:\n",
    "    try: \n",
    "        df = main(\"between\", time, PROBA_SELECTION, agents, 0, MUTATION_RATE, wealth_coordinates_TF, False)\n",
    "        Static = Static.append(df)\n",
    "        print(i)\n",
    "        i += 1\n",
    "    except UserWarning:\n",
    "        pass \n",
    "\n",
    "Static.to_csv(\"neutral_combined/static_TF_bump.csv\")"
   ]
  }
 ],
 "metadata": {
  "interpreter": {
   "hash": "aee8b7b246df8f9039afb4144a1f6fd8d2ca17a180786b69acc140d282b71a49"
  },
  "kernelspec": {
   "display_name": "Python 3.9.6 64-bit",
   "language": "python",
   "name": "python3"
  },
  "language_info": {
   "codemirror_mode": {
    "name": "ipython",
    "version": 3
   },
   "file_extension": ".py",
   "mimetype": "text/x-python",
   "name": "python",
   "nbconvert_exporter": "python",
   "pygments_lexer": "ipython3",
   "version": "3.9.6"
  },
  "orig_nbformat": 4
 },
 "nbformat": 4,
 "nbformat_minor": 2
}
