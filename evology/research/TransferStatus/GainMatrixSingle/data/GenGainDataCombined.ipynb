{
 "cells": [
  {
   "cell_type": "code",
   "execution_count": null,
   "metadata": {},
   "outputs": [],
   "source": [
    "#!/usr/bin/env python3\n",
    "import sys\n",
    "sys.path.insert(0, '/Users/aymericvie/Documents/GitHub/evology/evology/code/')\n",
    "from main import *\n",
    "from parameters import *\n",
    "\n",
    "time = 20_000\n",
    "repetitions = 5\n",
    "agents = 50\n",
    "wealth_coordinates = [1/3, 1/3, 1/3]\n",
    "bump_size = 2 / 256\n",
    "h = bump_size"
   ]
  },
  {
   "cell_type": "code",
   "execution_count": null,
   "metadata": {},
   "outputs": [],
   "source": [
    "# Static mode - Standard coordinates\n",
    "print(wealth_coordinates)\n",
    "Static = main(\"between\", time, PROBA_SELECTION, agents, 0, MUTATION_RATE, wealth_coordinates, False)\n",
    "for i in range(repetitions - 1):\n",
    "    Static = Static.append(main(\"between\", time, PROBA_SELECTION, agents, 0, MUTATION_RATE, wealth_coordinates, False))\n",
    "\n",
    "Static.to_csv(\"static_standard.csv\")"
   ]
  },
  {
   "cell_type": "code",
   "execution_count": null,
   "metadata": {},
   "outputs": [
    {
     "name": "stdout",
     "output_type": "stream",
     "text": [
      "\n",
      "Texttable Latex:\n",
      "\\begin{table}\n",
      "\t\\begin{center}\n",
      "\t\t\\begin{tabular}{c|c|c|c|c}\n",
      "\t\t\t & Static & Random Search & Imitation & Combined \\\\\n",
      "\t\t\t\\hline\n",
      "\t\t\tPrice volatility & 9.438 & 9.599 & 9.460 & 11.968 \\\\\n",
      "\t\t\tMean log volume & 13.113 & 13.266 & 13.358 & 13.416 \\\\\n",
      "\t\t\tVolume volatility & 25.147 & 25.949 & 27.734 & 28.234 \\\\\n",
      "\t\t\tMean Return & 0.145 & 0.184 & 0.292 & 1.923 \\\\\n",
      "\t\t\tVariance of mean return & 0.000 & 0.000 & 0.052 & 6.659 \\\\\n",
      "\t\t\tMean Wealth share NT & 32.809 & 36.013 & 34.642 & 36.390 \\\\\n",
      "\t\t\tVariance Wealth share NT & 29.675 & 108.609 & 115.544 & 124.008 \\\\\n",
      "\t\t\tMean Wealth share VI & 35.748 & 33.418 & 34.237 & 33.310 \\\\\n",
      "\t\t\tVariance Wealth share VI & 29.941 & 94.052 & 103.235 & 103.112 \\\\\n",
      "\t\t\tMean Wealth share TF & 31.443 & 30.569 & 31.122 & 30.300 \\\\\n",
      "\t\t\tVariance Wealth share TF & 13.235 & 80.696 & 94.461 & 131.726 \\\\\n",
      "\t\t\tMean Return NT & 0.180 & -0.000 & 0.157 & 19.839 \\\\\n",
      "\t\t\tVariance Return NT & 0.000 & 0.002 & 0.225 & 1862.973 \\\\\n",
      "\t\t\tMean Return VI & 0.134 & 0.301 & 3.330 & 21.798 \\\\\n",
      "\t\t\tVariance Return NT & 0.000 & 0.000 & 76.910 & 1354.966 \\\\\n",
      "\t\t\tMean Return TF & 0.118 & 0.263 & 0.419 & 1.314 \\\\\n",
      "\t\t\tVariance Return TF & 0.000 & 0.000 & 0.015 & 3.671 \\\\\n",
      "\t\t\\end{tabular}\n",
      "\t\\end{center}\n",
      "\t\\caption{Comparison of market dynamics under different learning algorithms (10 repetitions of 20,000-period runs per learning mode)}\n",
      "\\end{table}\n"
     ]
    }
   ],
   "source": []
  },
  {
   "cell_type": "code",
   "execution_count": null,
   "metadata": {},
   "outputs": [],
   "source": [
    "# Static mode - NT-bumped coordinates\n",
    "\n",
    "wealth_coordinates_NT = wealth_coordinates.copy()\n",
    "wealth_coordinates_NT[0] += h\n",
    "wealth_coordinates_NT[1] -= h/2\n",
    "wealth_coordinates_NT[2] -= h/2\n",
    "print(wealth_coordinates_NT)\n",
    "\n",
    "Static = main(\"between\", time, PROBA_SELECTION, agents, 0, MUTATION_RATE, wealth_coordinates_NT, False)\n",
    "for i in range(repetitions - 1):\n",
    "    Static = Static.append(main(\"between\", time, PROBA_SELECTION, agents, 0, MUTATION_RATE, wealth_coordinates_NT, False))\n",
    "Static.to_csv(\"static_NT_bump.csv\")"
   ]
  },
  {
   "cell_type": "code",
   "execution_count": null,
   "metadata": {},
   "outputs": [],
   "source": [
    "# Static mode - VI-bumped coordinates\n",
    "\n",
    "wealth_coordinates_VI = wealth_coordinates.copy()\n",
    "wealth_coordinates_VI[0] -= h/2\n",
    "wealth_coordinates_VI[1] += h\n",
    "wealth_coordinates_VI[2] -= h/2\n",
    "print(wealth_coordinates_VI)\n",
    "\n",
    "Static = main(\"between\", time, PROBA_SELECTION, agents, 0, MUTATION_RATE, wealth_coordinates_VI, False)\n",
    "for i in range(repetitions - 1):\n",
    "    Static = Static.append(main(\"between\", time, PROBA_SELECTION, agents, 0, MUTATION_RATE, wealth_coordinates_VI, False))\n",
    "Static.to_csv(\"static_VI_bump.csv\")"
   ]
  },
  {
   "cell_type": "code",
   "execution_count": null,
   "metadata": {},
   "outputs": [],
   "source": [
    "# Static mode - TF-bumped coordinates\n",
    "\n",
    "wealth_coordinates_TF = wealth_coordinates.copy()\n",
    "wealth_coordinates_TF[0] -= h/2\n",
    "wealth_coordinates_TF[1] -= h/2\n",
    "wealth_coordinates_TF[2] += h\n",
    "print(wealth_coordinates_TF)\n",
    "\n",
    "Static = main(\"between\", time, PROBA_SELECTION, agents, 0, MUTATION_RATE, wealth_coordinates_TF, False)\n",
    "for i in range(repetitions - 1):\n",
    "    Static = Static.append(main(\"between\", time, PROBA_SELECTION, agents, 0, MUTATION_RATE, wealth_coordinates_TF, False))\n",
    "Static.to_csv(\"static_TF_bump.csv\")"
   ]
  }
 ],
 "metadata": {
  "language_info": {
   "name": "python"
  },
  "orig_nbformat": 4
 },
 "nbformat": 4,
 "nbformat_minor": 2
}
