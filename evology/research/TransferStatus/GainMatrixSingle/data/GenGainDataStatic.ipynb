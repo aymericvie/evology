{
 "cells": [
  {
   "cell_type": "code",
   "execution_count": 3,
   "metadata": {},
   "outputs": [],
   "source": [
    "#!/usr/bin/env python3\n",
    "import sys\n",
    "sys.path.insert(0, '/Users/aymericvie/Documents/GitHub/evology/evology/code/')\n",
    "from main import *\n",
    "from parameters import *\n",
    "\n",
    "time = 20_000\n",
    "repetitions = 10\n",
    "agents = 50\n",
    "wealth_coordinates = [1/3, 1/3, 1/3]\n",
    "bump_size = 2 / 256\n",
    "h = bump_size"
   ]
  },
  {
   "cell_type": "code",
   "execution_count": 4,
   "metadata": {},
   "outputs": [
    {
     "name": "stdout",
     "output_type": "stream",
     "text": [
      "[0.3333333333333333, 0.3333333333333333, 0.3333333333333333]\n"
     ]
    },
    {
     "name": "stderr",
     "output_type": "stream",
     "text": [
      "100%|██████████| 22/22 [00:00<00:00, 471.45it/s]\n",
      "100%|██████████| 22/22 [00:00<00:00, 551.55it/s]\n",
      "100%|██████████| 22/22 [00:00<00:00, 577.50it/s]\n",
      "100%|██████████| 22/22 [00:00<00:00, 566.75it/s]\n",
      "100%|██████████| 22/22 [00:00<00:00, 570.48it/s]\n"
     ]
    }
   ],
   "source": [
    "# Static mode - Standard coordinates\n",
    "print(wealth_coordinates)\n",
    "Static = main(\"static\", time, 0, agents, 0, 0, wealth_coordinates, False)\n",
    "for i in range(repetitions - 1):\n",
    "    Static = Static.append(main(\"static\", time, 0, agents, 0, 0, wealth_coordinates, False))\n",
    "\n",
    "Static.to_csv(\"neutral_static/static_standard.csv\")"
   ]
  },
  {
   "cell_type": "code",
   "execution_count": 5,
   "metadata": {},
   "outputs": [
    {
     "name": "stdout",
     "output_type": "stream",
     "text": [
      "[0.3411458333333333, 0.3294270833333333, 0.3294270833333333]\n"
     ]
    },
    {
     "name": "stderr",
     "output_type": "stream",
     "text": [
      "100%|██████████| 22/22 [00:00<00:00, 565.70it/s]\n",
      "100%|██████████| 22/22 [00:00<00:00, 576.79it/s]\n",
      "100%|██████████| 22/22 [00:00<00:00, 575.82it/s]\n",
      "100%|██████████| 22/22 [01:52<00:00,  5.13s/it]\n",
      "100%|██████████| 22/22 [00:00<00:00, 548.86it/s]\n"
     ]
    }
   ],
   "source": [
    "# Static mode - NT-bumped coordinates\n",
    "\n",
    "wealth_coordinates_NT = wealth_coordinates.copy()\n",
    "wealth_coordinates_NT[0] += h\n",
    "wealth_coordinates_NT[1] -= h/2\n",
    "wealth_coordinates_NT[2] -= h/2\n",
    "print(wealth_coordinates_NT)\n",
    "\n",
    "Static = main(\"static\", time, 0, agents, 0, 0, wealth_coordinates_NT, False)\n",
    "for i in range(repetitions - 1):\n",
    "    Static = Static.append(main(\"static\", time, 0, agents, 0, 0, wealth_coordinates_NT, False))\n",
    "Static.to_csv(\"neutral_static/static_NT_bump.csv\")"
   ]
  },
  {
   "cell_type": "code",
   "execution_count": 6,
   "metadata": {},
   "outputs": [
    {
     "name": "stdout",
     "output_type": "stream",
     "text": [
      "[0.3294270833333333, 0.3411458333333333, 0.3294270833333333]\n"
     ]
    },
    {
     "name": "stderr",
     "output_type": "stream",
     "text": [
      "100%|██████████| 22/22 [01:52<00:00,  5.12s/it]\n",
      "100%|██████████| 22/22 [00:00<00:00, 563.38it/s]\n",
      "100%|██████████| 22/22 [00:00<00:00, 554.90it/s]\n",
      "100%|██████████| 22/22 [00:00<00:00, 544.46it/s]\n",
      "100%|██████████| 22/22 [00:00<00:00, 558.64it/s]\n"
     ]
    }
   ],
   "source": [
    "# Static mode - VI-bumped coordinates\n",
    "\n",
    "wealth_coordinates_VI = wealth_coordinates.copy()\n",
    "wealth_coordinates_VI[0] -= h/2\n",
    "wealth_coordinates_VI[1] += h\n",
    "wealth_coordinates_VI[2] -= h/2\n",
    "print(wealth_coordinates_VI)\n",
    "\n",
    "Static = main(\"static\", time, 0, agents, 0, 0, wealth_coordinates_VI, False)\n",
    "for i in range(repetitions - 1):\n",
    "    Static = Static.append(main(\"static\", time, 0, agents, 0, 0, wealth_coordinates_VI, False))\n",
    "Static.to_csv(\"neutral_static/static_VI_bump.csv\")"
   ]
  },
  {
   "cell_type": "code",
   "execution_count": 7,
   "metadata": {},
   "outputs": [
    {
     "name": "stdout",
     "output_type": "stream",
     "text": [
      "[0.3294270833333333, 0.3294270833333333, 0.3411458333333333]\n"
     ]
    },
    {
     "name": "stderr",
     "output_type": "stream",
     "text": [
      "100%|██████████| 22/22 [00:00<00:00, 580.90it/s]\n",
      "100%|██████████| 22/22 [01:52<00:00,  5.14s/it]\n",
      "100%|██████████| 22/22 [00:00<00:00, 559.64it/s]\n",
      "100%|██████████| 22/22 [00:00<00:00, 565.80it/s]\n",
      "100%|██████████| 22/22 [01:43<00:00,  4.70s/it]\n"
     ]
    }
   ],
   "source": [
    "# Static mode - TF-bumped coordinates\n",
    "\n",
    "wealth_coordinates_TF = wealth_coordinates.copy()\n",
    "wealth_coordinates_TF[0] -= h/2\n",
    "wealth_coordinates_TF[1] -= h/2\n",
    "wealth_coordinates_TF[2] += h\n",
    "print(wealth_coordinates_TF)\n",
    "\n",
    "Static = main(\"static\", time, 0, agents, 0, 0, wealth_coordinates_TF, False)\n",
    "for i in range(repetitions - 1):\n",
    "    Static = Static.append(main(\"static\", time, 0, agents, 0, 0, wealth_coordinates_TF, False))\n",
    "Static.to_csv(\"neutral_static/static_TF_bump.csv\")"
   ]
  }
 ],
 "metadata": {
  "interpreter": {
   "hash": "aee8b7b246df8f9039afb4144a1f6fd8d2ca17a180786b69acc140d282b71a49"
  },
  "kernelspec": {
   "display_name": "Python 3.9.6 64-bit",
   "language": "python",
   "name": "python3"
  },
  "language_info": {
   "codemirror_mode": {
    "name": "ipython",
    "version": 3
   },
   "file_extension": ".py",
   "mimetype": "text/x-python",
   "name": "python",
   "nbconvert_exporter": "python",
   "pygments_lexer": "ipython3",
   "version": "3.9.6"
  },
  "orig_nbformat": 4
 },
 "nbformat": 4,
 "nbformat_minor": 2
}
