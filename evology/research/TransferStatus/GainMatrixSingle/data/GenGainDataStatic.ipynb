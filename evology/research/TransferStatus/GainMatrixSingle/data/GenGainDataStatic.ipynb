{
 "cells": [
  {
   "cell_type": "code",
   "execution_count": 1,
   "metadata": {},
   "outputs": [],
   "source": [
    "#!/usr/bin/env python3\n",
    "import sys\n",
    "sys.path.insert(0, '/Users/aymericvie/Documents/GitHub/evology/evology/code/')\n",
    "from main import *\n",
    "from parameters import *\n",
    "\n",
    "time = 20_000\n",
    "repetitions = 10\n",
    "agents = 3\n",
    "wealth_coordinates = [1/3, 1/3, 1/3]\n",
    "wealth_coordinates = [0.43, 0.34, 0.23]\n",
    "wealth_coordinates = [0.50, 0.20, 0.30]\n",
    "N = 256\n",
    "# N = 128\n",
    "bump_size = 2 / N\n",
    "h = bump_size"
   ]
  },
  {
   "cell_type": "code",
   "execution_count": 2,
   "metadata": {},
   "outputs": [
    {
     "name": "stdout",
     "output_type": "stream",
     "text": [
      "[0.5, 0.2, 0.3]\n"
     ]
    },
    {
     "name": "stderr",
     "output_type": "stream",
     "text": [
      "100%|██████████| 20000/20000 [00:10<00:00, 1990.82it/s]\n",
      "100%|██████████| 20000/20000 [00:09<00:00, 2057.93it/s]\n",
      "100%|██████████| 20000/20000 [00:10<00:00, 1984.12it/s]\n",
      "100%|██████████| 20000/20000 [00:09<00:00, 2014.85it/s]\n",
      "100%|██████████| 20000/20000 [00:10<00:00, 1965.48it/s]\n",
      "100%|██████████| 20000/20000 [00:09<00:00, 2019.37it/s]\n",
      "100%|██████████| 20000/20000 [00:10<00:00, 1846.44it/s]\n",
      "  0%|          | 0/20000 [00:00<?, ?it/s]/Users/aymericvie/Documents/GitHub/evology/evology/code/balance_sheet.py:118: UserWarning: NT Error\n",
      "  warnings.warn('NT Error')\n",
      "/Users/aymericvie/Documents/GitHub/evology/evology/code/balance_sheet.py:111: UserWarning: VI Error\n",
      "  warnings.warn('VI Error')\n",
      "100%|██████████| 20000/20000 [00:10<00:00, 1961.83it/s]\n",
      "100%|██████████| 20000/20000 [00:10<00:00, 1934.63it/s]\n",
      "100%|██████████| 20000/20000 [00:11<00:00, 1731.68it/s]\n"
     ]
    }
   ],
   "source": [
    "# Static mode - Standard coordinates\n",
    "print(wealth_coordinates)\n",
    "Static = main(\"static\", time, 0, agents, 0, wealth_coordinates, tqdm_display = False, reset_wealth = True)\n",
    "for i in range(repetitions - 1):\n",
    "    Static = Static.append(main(\"static\", time, 0, agents, 0, wealth_coordinates, tqdm_display = False, reset_wealth = True))\n",
    "\n",
    "Static.to_csv(\"neutral_static/static_standard.csv\")"
   ]
  },
  {
   "cell_type": "code",
   "execution_count": 3,
   "metadata": {},
   "outputs": [
    {
     "name": "stdout",
     "output_type": "stream",
     "text": [
      "[0.5078125, 0.19609375, 0.29609375]\n"
     ]
    },
    {
     "name": "stderr",
     "output_type": "stream",
     "text": [
      "100%|██████████| 20000/20000 [00:10<00:00, 1840.42it/s]\n",
      "100%|██████████| 20000/20000 [00:10<00:00, 1906.93it/s]\n",
      "100%|██████████| 20000/20000 [00:10<00:00, 1991.83it/s]\n",
      "100%|██████████| 20000/20000 [00:10<00:00, 1949.22it/s]\n",
      "100%|██████████| 20000/20000 [00:11<00:00, 1742.03it/s]\n",
      "100%|██████████| 20000/20000 [00:10<00:00, 1840.30it/s]\n",
      "100%|██████████| 20000/20000 [00:11<00:00, 1701.62it/s]\n",
      "100%|██████████| 20000/20000 [00:10<00:00, 1842.31it/s]\n",
      "100%|██████████| 20000/20000 [00:12<00:00, 1586.54it/s]\n",
      "100%|██████████| 20000/20000 [00:11<00:00, 1702.58it/s]\n"
     ]
    }
   ],
   "source": [
    "# Static mode - NT-bumped coordinates\n",
    "\n",
    "wealth_coordinates_NT = wealth_coordinates.copy()\n",
    "wealth_coordinates_NT[0] += h\n",
    "wealth_coordinates_NT[1] -= h/2\n",
    "wealth_coordinates_NT[2] -= h/2\n",
    "print(wealth_coordinates_NT)\n",
    "\n",
    "Static = main(\"static\", time, 0, agents, 0, wealth_coordinates_NT, tqdm_display = False, reset_wealth = True)\n",
    "for i in range(repetitions - 1):\n",
    "    Static = Static.append(main(\"static\", time, 0, agents, 0, wealth_coordinates_NT, tqdm_display = False, reset_wealth = True))\n",
    "Static.to_csv(\"neutral_static/static_NT_bump.csv\")"
   ]
  },
  {
   "cell_type": "code",
   "execution_count": 4,
   "metadata": {},
   "outputs": [
    {
     "name": "stdout",
     "output_type": "stream",
     "text": [
      "[0.49609375, 0.2078125, 0.29609375]\n"
     ]
    },
    {
     "name": "stderr",
     "output_type": "stream",
     "text": [
      "100%|██████████| 20000/20000 [00:10<00:00, 1983.96it/s]\n",
      "100%|██████████| 20000/20000 [00:10<00:00, 1999.44it/s]\n",
      "100%|██████████| 20000/20000 [00:10<00:00, 1986.69it/s]\n",
      "100%|██████████| 20000/20000 [00:10<00:00, 1978.97it/s]\n",
      "100%|██████████| 20000/20000 [00:10<00:00, 1960.37it/s]\n",
      "100%|██████████| 20000/20000 [00:11<00:00, 1728.61it/s]\n",
      "100%|██████████| 20000/20000 [00:10<00:00, 1856.21it/s]\n",
      "100%|██████████| 20000/20000 [00:11<00:00, 1756.38it/s]\n",
      "100%|██████████| 20000/20000 [00:10<00:00, 1852.39it/s]\n",
      "100%|██████████| 20000/20000 [00:11<00:00, 1669.92it/s]\n"
     ]
    }
   ],
   "source": [
    "# Static mode - VI-bumped coordinates\n",
    "\n",
    "wealth_coordinates_VI = wealth_coordinates.copy()\n",
    "wealth_coordinates_VI[0] -= h/2\n",
    "wealth_coordinates_VI[1] += h\n",
    "wealth_coordinates_VI[2] -= h/2\n",
    "print(wealth_coordinates_VI)\n",
    "\n",
    "Static = main(\"static\", time, 0, agents, 0, wealth_coordinates_VI, tqdm_display = False, reset_wealth = True)\n",
    "for i in range(repetitions - 1):\n",
    "    Static = Static.append(main(\"static\", time, 0, agents, 0, wealth_coordinates_VI, tqdm_display = False, reset_wealth = True))\n",
    "Static.to_csv(\"neutral_static/static_VI_bump.csv\")"
   ]
  },
  {
   "cell_type": "code",
   "execution_count": 5,
   "metadata": {},
   "outputs": [
    {
     "name": "stdout",
     "output_type": "stream",
     "text": [
      "[0.49609375, 0.19609375, 0.3078125]\n"
     ]
    },
    {
     "name": "stderr",
     "output_type": "stream",
     "text": [
      "100%|██████████| 20000/20000 [00:10<00:00, 1986.93it/s]\n",
      "100%|██████████| 20000/20000 [00:10<00:00, 1960.29it/s]\n",
      "100%|██████████| 20000/20000 [00:10<00:00, 1934.29it/s]\n",
      "100%|██████████| 20000/20000 [00:10<00:00, 1957.12it/s]\n",
      "100%|██████████| 20000/20000 [00:11<00:00, 1731.66it/s]\n",
      "100%|██████████| 20000/20000 [00:10<00:00, 1866.63it/s]\n",
      "100%|██████████| 20000/20000 [00:11<00:00, 1695.59it/s]\n",
      "100%|██████████| 20000/20000 [00:10<00:00, 1858.14it/s]\n",
      "100%|██████████| 20000/20000 [00:10<00:00, 1965.48it/s]\n",
      "100%|██████████| 20000/20000 [00:12<00:00, 1616.47it/s]\n"
     ]
    }
   ],
   "source": [
    "# Static mode - TF-bumped coordinates\n",
    "\n",
    "wealth_coordinates_TF = wealth_coordinates.copy()\n",
    "wealth_coordinates_TF[0] -= h/2\n",
    "wealth_coordinates_TF[1] -= h/2\n",
    "wealth_coordinates_TF[2] += h\n",
    "print(wealth_coordinates_TF)\n",
    "\n",
    "Static = main(\"static\", time, 0, agents, 0, wealth_coordinates_TF, tqdm_display = False, reset_wealth = True)\n",
    "for i in range(repetitions - 1):\n",
    "    Static = Static.append(main(\"static\", time, 0, agents, 0, wealth_coordinates_TF, tqdm_display = False, reset_wealth = True))\n",
    "Static.to_csv(\"neutral_static/static_TF_bump.csv\")"
   ]
  }
 ],
 "metadata": {
  "interpreter": {
   "hash": "aee8b7b246df8f9039afb4144a1f6fd8d2ca17a180786b69acc140d282b71a49"
  },
  "kernelspec": {
   "display_name": "Python 3.9.6 64-bit",
   "language": "python",
   "name": "python3"
  },
  "language_info": {
   "codemirror_mode": {
    "name": "ipython",
    "version": 3
   },
   "file_extension": ".py",
   "mimetype": "text/x-python",
   "name": "python",
   "nbconvert_exporter": "python",
   "pygments_lexer": "ipython3",
   "version": "3.9.6"
  },
  "orig_nbformat": 4
 },
 "nbformat": 4,
 "nbformat_minor": 2
}
