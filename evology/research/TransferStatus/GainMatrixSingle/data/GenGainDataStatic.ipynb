{
 "cells": [
  {
   "cell_type": "code",
   "execution_count": 8,
   "metadata": {},
   "outputs": [],
   "source": [
    "#!/usr/bin/env python3\n",
    "import sys\n",
    "sys.path.insert(0, '/Users/aymericvie/Documents/GitHub/evology/evology/code/')\n",
    "from main import *\n",
    "from parameters import *\n",
    "\n",
    "time = 20_000\n",
    "repetitions = 10\n",
    "agents = 50\n",
    "wealth_coordinates = [1/3, 1/3, 1/3]\n",
    "bump_size = 2 / 256\n",
    "h = bump_size"
   ]
  },
  {
   "cell_type": "code",
   "execution_count": 9,
   "metadata": {},
   "outputs": [
    {
     "name": "stdout",
     "output_type": "stream",
     "text": [
      "[0.3333333333333333, 0.3333333333333333, 0.3333333333333333]\n"
     ]
    },
    {
     "name": "stderr",
     "output_type": "stream",
     "text": [
      "100%|██████████| 20000/20000 [00:40<00:00, 491.11it/s]\n",
      "100%|██████████| 20000/20000 [00:41<00:00, 480.87it/s]\n",
      "100%|██████████| 20000/20000 [00:40<00:00, 488.01it/s]\n",
      "100%|██████████| 20000/20000 [08:37<00:00, 38.62it/s] \n",
      "100%|██████████| 20000/20000 [00:41<00:00, 485.86it/s]\n",
      "100%|██████████| 20000/20000 [02:33<00:00, 130.27it/s]\n",
      "100%|██████████| 20000/20000 [00:41<00:00, 481.22it/s]\n",
      "100%|██████████| 20000/20000 [00:41<00:00, 484.89it/s]\n",
      "100%|██████████| 20000/20000 [00:41<00:00, 479.69it/s]\n",
      "100%|██████████| 20000/20000 [00:41<00:00, 482.26it/s]\n"
     ]
    }
   ],
   "source": [
    "# Static mode - Standard coordinates\n",
    "print(wealth_coordinates)\n",
    "Static = main(\"static\", time, 0, agents, 0, 0, wealth_coordinates, False)\n",
    "for i in range(repetitions - 1):\n",
    "    Static = Static.append(main(\"static\", time, 0, agents, 0, 0, wealth_coordinates, False))\n",
    "\n",
    "Static.to_csv(\"neutral_static/static_standard.csv\")"
   ]
  },
  {
   "cell_type": "code",
   "execution_count": 10,
   "metadata": {},
   "outputs": [
    {
     "name": "stdout",
     "output_type": "stream",
     "text": [
      "[0.3411458333333333, 0.3294270833333333, 0.3294270833333333]\n"
     ]
    },
    {
     "name": "stderr",
     "output_type": "stream",
     "text": [
      "100%|██████████| 20000/20000 [00:40<00:00, 488.83it/s]\n",
      "100%|██████████| 20000/20000 [00:42<00:00, 467.91it/s]\n",
      "100%|██████████| 20000/20000 [00:42<00:00, 471.31it/s]\n",
      "  1%|          | 165/20000 [01:54<19:33, 16.90it/s]/Users/aymericvie/Documents/GitHub/evology/evology/code/balance_sheet.py:130: UserWarning: NT Error\n",
      "  warnings.warn('NT Error')\n",
      "/Users/aymericvie/Documents/GitHub/evology/evology/code/balance_sheet.py:120: UserWarning: VI Error\n",
      "  warnings.warn('VI Error')\n",
      "/Users/aymericvie/Documents/GitHub/evology/evology/code/balance_sheet.py:265: UserWarning: Negative price -11.96\n",
      "  warnings.warn('Negative price '+ str(price) )\n",
      "/Users/aymericvie/Documents/GitHub/evology/evology/code/balance_sheet.py:271: RuntimeWarning: invalid value encountered in log2\n",
      "  ind.tsv = np.log2(ind[0] * abs(ind.process)) - np.log2(price)\n",
      "/Users/aymericvie/Documents/GitHub/evology/evology/code/balance_sheet.py:269: RuntimeWarning: invalid value encountered in log2\n",
      "  ind.tsv = np.log2(ind[0]) - np.log2(price)\n",
      "/Users/aymericvie/Documents/GitHub/evology/evology/code/balance_sheet.py:82: RuntimeWarning: invalid value encountered in log2\n",
      "  ind.tsv = np.log2(price_history[-1]) - np.log2(price_history[-ind[0]])\n",
      "  1%|          | 229/20000 [01:54<10:02, 32.79it/s]"
     ]
    },
    {
     "name": "stdout",
     "output_type": "stream",
     "text": [
      "Replacing // Gen 175 // Type: nt, C: -1196, S+: -1886300, L: 30124858, M: -22560148, W: -7565905\n",
      "Replacing // Gen 175 // Type: nt, C: -1196, S+: -2272364, L: 30104417, M: -27177474, W: -2928139\n",
      "Replacing // Gen 175 // Type: nt, C: -1196, S+: -1747062, L: 30147909, M: -20894871, W: -9254233\n",
      "Replacing // Gen 175 // Type: vi, C: -1196, S+: -1863607, L: 30383878, M: -22288742, W: -8096332\n",
      "Replacing // Gen 175 // Type: nt, C: -1196, S+: -1949662, L: 30131950, M: -23317962, W: -6815184\n",
      "Replacing // Gen 175 // Type: nt, C: -1196, S+: -1968118, L: 30613439, M: -23538693, W: -7075941\n",
      "Replacing // Gen 175 // Type: vi, C: -1196, S+: -1863607, L: 30383878, M: -22288742, W: -8096332\n",
      "Replacing // Gen 175 // Type: nt, C: -1196, S+: -2336022, L: 30895643, M: -27938835, W: -2958004\n",
      "Replacing // Gen 175 // Type: vi, C: -1196, S+: -1863607, L: 30383878, M: -22288742, W: -8096332\n",
      "Replacing // Gen 175 // Type: vi, C: -1196, S+: -1863607, L: 30383878, M: -22288742, W: -8096332\n",
      "Replacing // Gen 175 // Type: vi, C: -1196, S+: -1863607, L: 30383878, M: -22288742, W: -8096332\n",
      "Replacing // Gen 175 // Type: nt, C: -1196, S+: -1811891, L: 30448672, M: -21670222, W: -8779645\n",
      "Replacing // Gen 175 // Type: nt, C: -1196, S+: -1800688, L: 30350347, M: -21536232, W: -8815311\n",
      "Replacing // Gen 175 // Type: vi, C: -1196, S+: -1863607, L: 30383878, M: -22288742, W: -8096332\n",
      "Replacing // Gen 175 // Type: vi, C: -1196, S+: -1863607, L: 30383878, M: -22288742, W: -8096332\n",
      "Replacing // Gen 175 // Type: nt, C: -1196, S+: -1613476, L: 29309821, M: -19297176, W: -10013841\n",
      "Replacing // Gen 175 // Type: vi, C: -1196, S+: -1863607, L: 30383878, M: -22288742, W: -8096332\n",
      "Replacing // Gen 175 // Type: vi, C: -1196, S+: -1863607, L: 30383878, M: -22288742, W: -8096332\n",
      "Replacing // Gen 175 // Type: nt, C: -1196, S+: -2016893, L: 31080029, M: -24122048, W: -6959177\n",
      "Replacing // Gen 175 // Type: vi, C: -1196, S+: -1863607, L: 30383878, M: -22288742, W: -8096332\n",
      "Replacing // Gen 175 // Type: nt, C: -1196, S+: -1823986, L: 30458142, M: -21814877, W: -8644461\n",
      "Replacing // Gen 175 // Type: nt, C: -1196, S+: -2398064, L: 31371799, M: -28680853, W: -2692142\n",
      "Replacing // Gen 175 // Type: nt, C: -1196, S+: -1798471, L: 29852739, M: -21509722, W: -8344212\n",
      "Replacing // Gen 175 // Type: vi, C: -1196, S+: -1863607, L: 30383878, M: -22288742, W: -8096332\n",
      "Replacing // Gen 175 // Type: vi, C: -1196, S+: -1863607, L: 30383878, M: -22288742, W: -8096332\n"
     ]
    },
    {
     "name": "stderr",
     "output_type": "stream",
     "text": [
      " 49%|████▉     | 9865/20000 [02:24<00:30, 327.23it/s]"
     ]
    },
    {
     "name": "stdout",
     "output_type": "stream",
     "text": [
      "Replacing // Gen 9801 // Type: vi, C: -1196, S+: -2810958, L: 33618374, M: -33619060, W: -509\n",
      "Replacing // Gen 9801 // Type: vi, C: -1196, S+: -2810958, L: 33618374, M: -33619060, W: -509\n",
      "Replacing // Gen 9801 // Type: nt, C: -1196, S+: -2810958, L: 33618374, M: -33619060, W: -509\n",
      "Replacing // Gen 9801 // Type: vi, C: -1196, S+: -2810958, L: 33618374, M: -33619060, W: -509\n",
      "Replacing // Gen 9801 // Type: nt, C: -1196, S+: -2810958, L: 33618374, M: -33619060, W: -509\n",
      "Replacing // Gen 9801 // Type: nt, C: -1196, S+: -2810958, L: 33618374, M: -33619060, W: -509\n",
      "Replacing // Gen 9801 // Type: vi, C: -1196, S+: -2810958, L: 33618374, M: -33619060, W: -509\n",
      "Replacing // Gen 9801 // Type: nt, C: -1196, S+: -2810958, L: 33618374, M: -33619060, W: -509\n",
      "Replacing // Gen 9801 // Type: nt, C: -1196, S+: -2810958, L: 33618374, M: -33619060, W: -509\n",
      "Replacing // Gen 9801 // Type: nt, C: -1196, S+: -2810958, L: 33618374, M: -33619060, W: -509\n",
      "Replacing // Gen 9801 // Type: nt, C: -1196, S+: -2810958, L: 33618374, M: -33619060, W: -509\n",
      "Replacing // Gen 9801 // Type: nt, C: -1196, S+: -2810958, L: 33618374, M: -33619060, W: -509\n",
      "Replacing // Gen 9801 // Type: vi, C: -1196, S+: -2810958, L: 33618374, M: -33619060, W: -509\n",
      "Replacing // Gen 9801 // Type: nt, C: -1196, S+: -2810958, L: 33618374, M: -33619060, W: -509\n",
      "Replacing // Gen 9801 // Type: nt, C: -1196, S+: -2810958, L: 33618374, M: -33619060, W: -509\n",
      "Replacing // Gen 9801 // Type: nt, C: -1196, S+: -2810958, L: 33618374, M: -33619060, W: -509\n",
      "Replacing // Gen 9801 // Type: nt, C: -1196, S+: -2810958, L: 33618374, M: -33619060, W: -509\n"
     ]
    },
    {
     "name": "stderr",
     "output_type": "stream",
     "text": [
      " 76%|███████▋  | 15269/20000 [02:40<00:14, 332.70it/s]"
     ]
    },
    {
     "name": "stdout",
     "output_type": "stream",
     "text": [
      "Replacing // Gen 15231 // Type: vi, C: -1196, S+: -4020000, L: 48079822, M: -48079204, W: -1814\n",
      "Replacing // Gen 15231 // Type: nt, C: -1196, S+: -4020000, L: 48079822, M: -48079204, W: -1814\n",
      "Replacing // Gen 15231 // Type: nt, C: -1196, S+: -4020000, L: 48079822, M: -48079204, W: -1814\n",
      "Replacing // Gen 15231 // Type: nt, C: -1196, S+: -4020000, L: 48079822, M: -48079204, W: -1814\n",
      "Replacing // Gen 15231 // Type: nt, C: -1196, S+: -4020000, L: 48079822, M: -48079204, W: -1814\n",
      "Replacing // Gen 15231 // Type: nt, C: -1196, S+: -4020000, L: 48079822, M: -48079204, W: -1814\n",
      "Replacing // Gen 15231 // Type: vi, C: -1196, S+: -4020000, L: 48079822, M: -48079204, W: -1814\n",
      "Replacing // Gen 15231 // Type: vi, C: -1196, S+: -4020000, L: 48079822, M: -48079204, W: -1814\n",
      "Replacing // Gen 15231 // Type: vi, C: -1196, S+: -4020000, L: 48079822, M: -48079204, W: -1814\n"
     ]
    },
    {
     "name": "stderr",
     "output_type": "stream",
     "text": [
      " 96%|█████████▋| 19257/20000 [02:52<00:02, 333.89it/s]"
     ]
    },
    {
     "name": "stdout",
     "output_type": "stream",
     "text": [
      "Replacing // Gen 19189 // Type: vi, C: -1196, S+: -3956413, L: 47322582, M: -47318705, W: -5072\n",
      "Replacing // Gen 19189 // Type: vi, C: -1196, S+: -3956413, L: 47322582, M: -47318705, W: -5072\n",
      "Replacing // Gen 19189 // Type: vi, C: -1196, S+: -3956413, L: 47322582, M: -47318705, W: -5072\n",
      "Replacing // Gen 19189 // Type: nt, C: -1196, S+: -3956413, L: 47322582, M: -47318705, W: -5072\n",
      "Replacing // Gen 19189 // Type: nt, C: -1196, S+: -3956413, L: 47322582, M: -47318705, W: -5072\n",
      "Replacing // Gen 19189 // Type: vi, C: -1196, S+: -3956413, L: 47322582, M: -47318705, W: -5072\n"
     ]
    },
    {
     "name": "stderr",
     "output_type": "stream",
     "text": [
      "100%|██████████| 20000/20000 [02:54<00:00, 114.59it/s]\n",
      "100%|██████████| 20000/20000 [00:41<00:00, 483.52it/s]\n",
      "100%|██████████| 20000/20000 [00:41<00:00, 479.77it/s]\n",
      "100%|██████████| 20000/20000 [00:42<00:00, 474.42it/s]\n",
      "100%|██████████| 20000/20000 [00:41<00:00, 485.64it/s]\n",
      "100%|██████████| 20000/20000 [00:41<00:00, 484.26it/s]\n",
      "100%|██████████| 20000/20000 [00:41<00:00, 484.14it/s]\n"
     ]
    }
   ],
   "source": [
    "# Static mode - NT-bumped coordinates\n",
    "\n",
    "wealth_coordinates_NT = wealth_coordinates.copy()\n",
    "wealth_coordinates_NT[0] += h\n",
    "wealth_coordinates_NT[1] -= h/2\n",
    "wealth_coordinates_NT[2] -= h/2\n",
    "print(wealth_coordinates_NT)\n",
    "\n",
    "Static = main(\"static\", time, 0, agents, 0, 0, wealth_coordinates_NT, False)\n",
    "for i in range(repetitions - 1):\n",
    "    Static = Static.append(main(\"static\", time, 0, agents, 0, 0, wealth_coordinates_NT, False))\n",
    "Static.to_csv(\"neutral_static/static_NT_bump.csv\")"
   ]
  },
  {
   "cell_type": "code",
   "execution_count": 11,
   "metadata": {},
   "outputs": [
    {
     "name": "stdout",
     "output_type": "stream",
     "text": [
      "[0.3294270833333333, 0.3411458333333333, 0.3294270833333333]\n"
     ]
    },
    {
     "name": "stderr",
     "output_type": "stream",
     "text": [
      "100%|██████████| 20000/20000 [00:41<00:00, 484.43it/s]\n",
      "100%|██████████| 20000/20000 [00:41<00:00, 483.45it/s]\n",
      "100%|██████████| 20000/20000 [00:41<00:00, 484.77it/s]\n",
      "100%|██████████| 20000/20000 [00:41<00:00, 483.84it/s]\n",
      "100%|██████████| 20000/20000 [00:41<00:00, 478.05it/s]\n",
      "100%|██████████| 20000/20000 [00:41<00:00, 478.05it/s]\n",
      "100%|██████████| 20000/20000 [02:33<00:00, 130.04it/s]\n",
      "100%|██████████| 20000/20000 [00:41<00:00, 487.38it/s]\n",
      "100%|██████████| 20000/20000 [00:41<00:00, 481.26it/s]\n",
      "100%|██████████| 20000/20000 [00:41<00:00, 481.22it/s]\n"
     ]
    }
   ],
   "source": [
    "# Static mode - VI-bumped coordinates\n",
    "\n",
    "wealth_coordinates_VI = wealth_coordinates.copy()\n",
    "wealth_coordinates_VI[0] -= h/2\n",
    "wealth_coordinates_VI[1] += h\n",
    "wealth_coordinates_VI[2] -= h/2\n",
    "print(wealth_coordinates_VI)\n",
    "\n",
    "Static = main(\"static\", time, 0, agents, 0, 0, wealth_coordinates_VI, False)\n",
    "for i in range(repetitions - 1):\n",
    "    Static = Static.append(main(\"static\", time, 0, agents, 0, 0, wealth_coordinates_VI, False))\n",
    "Static.to_csv(\"neutral_static/static_VI_bump.csv\")"
   ]
  },
  {
   "cell_type": "code",
   "execution_count": 12,
   "metadata": {},
   "outputs": [
    {
     "name": "stdout",
     "output_type": "stream",
     "text": [
      "[0.3294270833333333, 0.3294270833333333, 0.3411458333333333]\n"
     ]
    },
    {
     "name": "stderr",
     "output_type": "stream",
     "text": [
      "100%|██████████| 20000/20000 [00:42<00:00, 472.27it/s]\n",
      "100%|██████████| 20000/20000 [00:41<00:00, 483.16it/s]\n",
      "100%|██████████| 20000/20000 [00:43<00:00, 463.31it/s]\n",
      "100%|██████████| 20000/20000 [00:42<00:00, 474.84it/s]\n",
      "100%|██████████| 20000/20000 [00:42<00:00, 465.56it/s]\n",
      "100%|██████████| 20000/20000 [00:42<00:00, 472.87it/s]\n",
      "100%|██████████| 20000/20000 [00:41<00:00, 483.83it/s]\n",
      "100%|██████████| 20000/20000 [00:41<00:00, 484.73it/s]\n",
      "100%|██████████| 20000/20000 [00:41<00:00, 484.39it/s]\n",
      "100%|██████████| 20000/20000 [00:41<00:00, 485.47it/s]\n"
     ]
    }
   ],
   "source": [
    "# Static mode - TF-bumped coordinates\n",
    "\n",
    "wealth_coordinates_TF = wealth_coordinates.copy()\n",
    "wealth_coordinates_TF[0] -= h/2\n",
    "wealth_coordinates_TF[1] -= h/2\n",
    "wealth_coordinates_TF[2] += h\n",
    "print(wealth_coordinates_TF)\n",
    "\n",
    "Static = main(\"static\", time, 0, agents, 0, 0, wealth_coordinates_TF, False)\n",
    "for i in range(repetitions - 1):\n",
    "    Static = Static.append(main(\"static\", time, 0, agents, 0, 0, wealth_coordinates_TF, False))\n",
    "Static.to_csv(\"neutral_static/static_TF_bump.csv\")"
   ]
  }
 ],
 "metadata": {
  "interpreter": {
   "hash": "aee8b7b246df8f9039afb4144a1f6fd8d2ca17a180786b69acc140d282b71a49"
  },
  "kernelspec": {
   "display_name": "Python 3.9.6 64-bit",
   "language": "python",
   "name": "python3"
  },
  "language_info": {
   "codemirror_mode": {
    "name": "ipython",
    "version": 3
   },
   "file_extension": ".py",
   "mimetype": "text/x-python",
   "name": "python",
   "nbconvert_exporter": "python",
   "pygments_lexer": "ipython3",
   "version": "3.9.6"
  },
  "orig_nbformat": 4
 },
 "nbformat": 4,
 "nbformat_minor": 2
}
