{
 "cells": [
  {
   "cell_type": "code",
   "execution_count": 11,
   "metadata": {},
   "outputs": [],
   "source": [
    "#!/usr/bin/env python3\n",
    "import sys\n",
    "sys.path.insert(0, '/Users/aymericvie/Documents/GitHub/evology/evology/code/')\n",
    "from main import *\n",
    "from parameters import *\n",
    "\n",
    "time = 100_000\n",
    "repetitions = 10\n",
    "agents = 3\n",
    "wealth_coordinates = [1/3, 1/3, 1/3]\n",
    "N = 256\n",
    "N = 128\n",
    "bump_size = 2 / N\n",
    "h = bump_size"
   ]
  },
  {
   "cell_type": "code",
   "execution_count": 12,
   "metadata": {},
   "outputs": [
    {
     "name": "stdout",
     "output_type": "stream",
     "text": [
      "[0.3333333333333333, 0.3333333333333333, 0.3333333333333333]\n"
     ]
    },
    {
     "name": "stderr",
     "output_type": "stream",
     "text": [
      "100%|██████████| 100000/100000 [00:32<00:00, 3068.50it/s]\n",
      "100%|██████████| 100000/100000 [00:30<00:00, 3242.48it/s]\n",
      "100%|██████████| 100000/100000 [00:31<00:00, 3207.77it/s]\n",
      "100%|██████████| 100000/100000 [00:31<00:00, 3213.32it/s]\n",
      "100%|██████████| 100000/100000 [00:30<00:00, 3238.53it/s]\n",
      "100%|██████████| 100000/100000 [00:31<00:00, 3221.30it/s]\n",
      "100%|██████████| 100000/100000 [00:31<00:00, 3181.29it/s]\n",
      "100%|██████████| 100000/100000 [00:31<00:00, 3135.09it/s]\n",
      "100%|██████████| 100000/100000 [00:30<00:00, 3277.25it/s]\n",
      "100%|██████████| 100000/100000 [00:32<00:00, 3124.07it/s]\n"
     ]
    }
   ],
   "source": [
    "# Static mode - Standard coordinates\n",
    "print(wealth_coordinates)\n",
    "Static = main(\"static\", time, 0, agents, 0, wealth_coordinates, tqdm_display = False, reset_wealth = True)\n",
    "for i in range(repetitions - 1):\n",
    "    Static = Static.append(main(\"static\", time, 0, agents, 0, wealth_coordinates, tqdm_display = False, reset_wealth = True))\n",
    "\n",
    "Static.to_csv(\"neutral_static/static_standard.csv\")"
   ]
  },
  {
   "cell_type": "code",
   "execution_count": 13,
   "metadata": {},
   "outputs": [
    {
     "name": "stdout",
     "output_type": "stream",
     "text": [
      "[0.3489583333333333, 0.3255208333333333, 0.3255208333333333]\n"
     ]
    },
    {
     "name": "stderr",
     "output_type": "stream",
     "text": [
      "100%|██████████| 100000/100000 [00:29<00:00, 3373.39it/s]\n",
      "100%|██████████| 100000/100000 [00:31<00:00, 3194.79it/s]\n",
      "100%|██████████| 100000/100000 [00:31<00:00, 3174.77it/s]\n",
      "100%|██████████| 100000/100000 [00:31<00:00, 3185.50it/s]\n",
      "100%|██████████| 100000/100000 [00:31<00:00, 3143.41it/s]\n",
      "100%|██████████| 100000/100000 [00:31<00:00, 3185.48it/s]\n",
      "100%|██████████| 100000/100000 [00:31<00:00, 3203.22it/s]\n",
      "100%|██████████| 100000/100000 [00:31<00:00, 3132.22it/s]\n",
      "100%|██████████| 100000/100000 [00:31<00:00, 3180.61it/s]\n",
      "100%|██████████| 100000/100000 [00:31<00:00, 3161.43it/s]\n"
     ]
    }
   ],
   "source": [
    "# Static mode - NT-bumped coordinates\n",
    "\n",
    "wealth_coordinates_NT = wealth_coordinates.copy()\n",
    "wealth_coordinates_NT[0] += h\n",
    "wealth_coordinates_NT[1] -= h/2\n",
    "wealth_coordinates_NT[2] -= h/2\n",
    "print(wealth_coordinates_NT)\n",
    "\n",
    "Static = main(\"static\", time, 0, agents, 0, wealth_coordinates_NT, tqdm_display = False, reset_wealth = True)\n",
    "for i in range(repetitions - 1):\n",
    "    Static = Static.append(main(\"static\", time, 0, agents, 0, wealth_coordinates_NT, tqdm_display = False, reset_wealth = True))\n",
    "Static.to_csv(\"neutral_static/static_NT_bump.csv\")"
   ]
  },
  {
   "cell_type": "code",
   "execution_count": 14,
   "metadata": {},
   "outputs": [
    {
     "name": "stdout",
     "output_type": "stream",
     "text": [
      "[0.3255208333333333, 0.3489583333333333, 0.3255208333333333]\n"
     ]
    },
    {
     "name": "stderr",
     "output_type": "stream",
     "text": [
      "100%|██████████| 100000/100000 [00:31<00:00, 3179.49it/s]\n",
      "100%|██████████| 100000/100000 [00:31<00:00, 3207.36it/s]\n",
      "100%|██████████| 100000/100000 [00:31<00:00, 3187.48it/s]\n",
      "100%|██████████| 100000/100000 [00:31<00:00, 3203.98it/s]\n",
      "100%|██████████| 100000/100000 [00:31<00:00, 3212.93it/s]\n",
      "100%|██████████| 100000/100000 [00:31<00:00, 3206.07it/s]\n",
      "100%|██████████| 100000/100000 [00:31<00:00, 3188.02it/s]\n",
      "100%|██████████| 100000/100000 [00:31<00:00, 3192.60it/s]\n",
      "100%|██████████| 100000/100000 [00:30<00:00, 3288.74it/s]\n",
      "100%|██████████| 100000/100000 [00:31<00:00, 3219.13it/s]\n"
     ]
    }
   ],
   "source": [
    "# Static mode - VI-bumped coordinates\n",
    "\n",
    "wealth_coordinates_VI = wealth_coordinates.copy()\n",
    "wealth_coordinates_VI[0] -= h/2\n",
    "wealth_coordinates_VI[1] += h\n",
    "wealth_coordinates_VI[2] -= h/2\n",
    "print(wealth_coordinates_VI)\n",
    "\n",
    "Static = main(\"static\", time, 0, agents, 0, wealth_coordinates_VI, tqdm_display = False, reset_wealth = True)\n",
    "for i in range(repetitions - 1):\n",
    "    Static = Static.append(main(\"static\", time, 0, agents, 0, wealth_coordinates_VI, tqdm_display = False, reset_wealth = True))\n",
    "Static.to_csv(\"neutral_static/static_VI_bump.csv\")"
   ]
  },
  {
   "cell_type": "code",
   "execution_count": 15,
   "metadata": {},
   "outputs": [
    {
     "name": "stdout",
     "output_type": "stream",
     "text": [
      "[0.3255208333333333, 0.3255208333333333, 0.3489583333333333]\n"
     ]
    },
    {
     "name": "stderr",
     "output_type": "stream",
     "text": [
      "100%|██████████| 100000/100000 [00:31<00:00, 3194.93it/s]\n",
      "100%|██████████| 100000/100000 [00:31<00:00, 3183.70it/s]\n",
      "100%|██████████| 100000/100000 [00:31<00:00, 3217.83it/s]\n",
      "100%|██████████| 100000/100000 [00:30<00:00, 3236.00it/s]\n",
      "100%|██████████| 100000/100000 [00:31<00:00, 3177.01it/s]\n",
      "100%|██████████| 100000/100000 [00:30<00:00, 3236.32it/s]\n",
      "100%|██████████| 100000/100000 [00:32<00:00, 3100.26it/s]\n",
      "100%|██████████| 100000/100000 [00:32<00:00, 3083.01it/s]\n",
      "100%|██████████| 100000/100000 [00:31<00:00, 3162.31it/s]\n",
      "100%|██████████| 100000/100000 [00:32<00:00, 3124.89it/s]\n"
     ]
    }
   ],
   "source": [
    "# Static mode - TF-bumped coordinates\n",
    "\n",
    "wealth_coordinates_TF = wealth_coordinates.copy()\n",
    "wealth_coordinates_TF[0] -= h/2\n",
    "wealth_coordinates_TF[1] -= h/2\n",
    "wealth_coordinates_TF[2] += h\n",
    "print(wealth_coordinates_TF)\n",
    "\n",
    "Static = main(\"static\", time, 0, agents, 0, wealth_coordinates_TF, tqdm_display = False, reset_wealth = True)\n",
    "for i in range(repetitions - 1):\n",
    "    Static = Static.append(main(\"static\", time, 0, agents, 0, wealth_coordinates_TF, tqdm_display = False, reset_wealth = True))\n",
    "Static.to_csv(\"neutral_static/static_TF_bump.csv\")"
   ]
  }
 ],
 "metadata": {
  "interpreter": {
   "hash": "aee8b7b246df8f9039afb4144a1f6fd8d2ca17a180786b69acc140d282b71a49"
  },
  "kernelspec": {
   "display_name": "Python 3.9.6 64-bit",
   "language": "python",
   "name": "python3"
  },
  "language_info": {
   "codemirror_mode": {
    "name": "ipython",
    "version": 3
   },
   "file_extension": ".py",
   "mimetype": "text/x-python",
   "name": "python",
   "nbconvert_exporter": "python",
   "pygments_lexer": "ipython3",
   "version": "3.9.6"
  },
  "orig_nbformat": 4
 },
 "nbformat": 4,
 "nbformat_minor": 2
}
