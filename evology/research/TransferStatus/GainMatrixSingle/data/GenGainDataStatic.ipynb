{
 "cells": [
  {
   "cell_type": "code",
   "execution_count": 1,
   "metadata": {},
   "outputs": [],
   "source": [
    "#!/usr/bin/env python3\n",
    "import sys\n",
    "sys.path.insert(0, '/Users/aymericvie/Documents/GitHub/evology/evology/code/')\n",
    "from main import *\n",
    "from parameters import *\n",
    "\n",
    "time = 1000 #20_000\n",
    "repetitions = 10\n",
    "agents = 3\n",
    "wealth_coordinates = [1/3, 1/3, 1/3]\n",
    "bump_size = 2 / 256\n",
    "h = bump_size"
   ]
  },
  {
   "cell_type": "code",
   "execution_count": 4,
   "metadata": {},
   "outputs": [
    {
     "name": "stdout",
     "output_type": "stream",
     "text": [
      "[0.3333333333333333, 0.3333333333333333, 0.3333333333333333]\n"
     ]
    },
    {
     "name": "stderr",
     "output_type": "stream",
     "text": [
      "100%|██████████| 1000/1000 [00:00<00:00, 3061.48it/s]\n",
      "100%|██████████| 1000/1000 [00:00<00:00, 3171.43it/s]\n",
      "100%|██████████| 1000/1000 [00:00<00:00, 3195.22it/s]\n",
      "100%|██████████| 1000/1000 [00:00<00:00, 3024.83it/s]\n",
      "100%|██████████| 1000/1000 [00:00<00:00, 3152.55it/s]\n",
      "100%|██████████| 1000/1000 [00:00<00:00, 3124.10it/s]\n",
      "100%|██████████| 1000/1000 [00:00<00:00, 3137.44it/s]\n",
      "100%|██████████| 1000/1000 [00:00<00:00, 3049.46it/s]\n",
      "100%|██████████| 1000/1000 [00:00<00:00, 3135.94it/s]\n",
      "100%|██████████| 1000/1000 [00:00<00:00, 2918.39it/s]\n"
     ]
    }
   ],
   "source": [
    "# Static mode - Standard coordinates\n",
    "print(wealth_coordinates)\n",
    "Static = main(\"static\", time, 0, agents, 0, wealth_coordinates, tqdm_display = False, reset_wealth = True)\n",
    "for i in range(repetitions - 1):\n",
    "    Static = Static.append(main(\"static\", time, 0, agents, 0, wealth_coordinates, tqdm_display = False, reset_wealth = True))\n",
    "\n",
    "Static.to_csv(\"neutral_static/static_standard.csv\")"
   ]
  },
  {
   "cell_type": "code",
   "execution_count": 6,
   "metadata": {},
   "outputs": [
    {
     "name": "stdout",
     "output_type": "stream",
     "text": [
      "[0.3411458333333333, 0.3294270833333333, 0.3294270833333333]\n"
     ]
    },
    {
     "name": "stderr",
     "output_type": "stream",
     "text": [
      "100%|██████████| 1000/1000 [00:00<00:00, 2980.77it/s]\n",
      "100%|██████████| 1000/1000 [00:00<00:00, 2987.62it/s]\n",
      "100%|██████████| 1000/1000 [00:00<00:00, 2998.05it/s]\n",
      "100%|██████████| 1000/1000 [00:00<00:00, 3210.52it/s]\n",
      "100%|██████████| 1000/1000 [00:00<00:00, 3229.69it/s]\n",
      "100%|██████████| 1000/1000 [00:00<00:00, 3225.20it/s]\n",
      "100%|██████████| 1000/1000 [00:00<00:00, 3217.99it/s]\n",
      "100%|██████████| 1000/1000 [00:00<00:00, 3177.64it/s]\n",
      "100%|██████████| 1000/1000 [00:00<00:00, 3115.55it/s]\n",
      "100%|██████████| 1000/1000 [00:00<00:00, 2989.09it/s]\n"
     ]
    }
   ],
   "source": [
    "# Static mode - NT-bumped coordinates\n",
    "\n",
    "wealth_coordinates_NT = wealth_coordinates.copy()\n",
    "wealth_coordinates_NT[0] += h\n",
    "wealth_coordinates_NT[1] -= h/2\n",
    "wealth_coordinates_NT[2] -= h/2\n",
    "print(wealth_coordinates_NT)\n",
    "\n",
    "Static = main(\"static\", time, 0, agents, 0, wealth_coordinates_NT, tqdm_display = False, reset_wealth = True)\n",
    "for i in range(repetitions - 1):\n",
    "    Static = Static.append(main(\"static\", time, 0, agents, 0, wealth_coordinates_NT, tqdm_display = False, reset_wealth = True))\n",
    "Static.to_csv(\"neutral_static/static_NT_bump.csv\")"
   ]
  },
  {
   "cell_type": "code",
   "execution_count": 7,
   "metadata": {},
   "outputs": [
    {
     "name": "stdout",
     "output_type": "stream",
     "text": [
      "[0.3294270833333333, 0.3411458333333333, 0.3294270833333333]\n"
     ]
    },
    {
     "name": "stderr",
     "output_type": "stream",
     "text": [
      "100%|██████████| 1000/1000 [00:00<00:00, 2902.90it/s]\n",
      "100%|██████████| 1000/1000 [00:00<00:00, 3054.46it/s]\n",
      "100%|██████████| 1000/1000 [00:00<00:00, 2884.72it/s]\n",
      "100%|██████████| 1000/1000 [00:00<00:00, 3201.70it/s]\n",
      "100%|██████████| 1000/1000 [00:00<00:00, 3210.28it/s]\n",
      "100%|██████████| 1000/1000 [00:00<00:00, 3221.95it/s]\n",
      "100%|██████████| 1000/1000 [00:00<00:00, 3058.97it/s]\n",
      "100%|██████████| 1000/1000 [00:00<00:00, 3168.09it/s]\n",
      "100%|██████████| 1000/1000 [00:00<00:00, 3210.77it/s]\n",
      "100%|██████████| 1000/1000 [00:00<00:00, 3147.52it/s]\n"
     ]
    }
   ],
   "source": [
    "# Static mode - VI-bumped coordinates\n",
    "\n",
    "wealth_coordinates_VI = wealth_coordinates.copy()\n",
    "wealth_coordinates_VI[0] -= h/2\n",
    "wealth_coordinates_VI[1] += h\n",
    "wealth_coordinates_VI[2] -= h/2\n",
    "print(wealth_coordinates_VI)\n",
    "\n",
    "Static = main(\"static\", time, 0, agents, 0, wealth_coordinates_VI, tqdm_display = False, reset_wealth = True)\n",
    "for i in range(repetitions - 1):\n",
    "    Static = Static.append(main(\"static\", time, 0, agents, 0, wealth_coordinates_VI, tqdm_display = False, reset_wealth = True))\n",
    "Static.to_csv(\"neutral_static/static_VI_bump.csv\")"
   ]
  },
  {
   "cell_type": "code",
   "execution_count": 8,
   "metadata": {},
   "outputs": [
    {
     "name": "stdout",
     "output_type": "stream",
     "text": [
      "[0.3294270833333333, 0.3294270833333333, 0.3411458333333333]\n"
     ]
    },
    {
     "name": "stderr",
     "output_type": "stream",
     "text": [
      "100%|██████████| 1000/1000 [00:00<00:00, 3062.06it/s]\n",
      "100%|██████████| 1000/1000 [00:00<00:00, 3185.99it/s]\n",
      "100%|██████████| 1000/1000 [00:00<00:00, 3057.69it/s]\n",
      "100%|██████████| 1000/1000 [00:00<00:00, 3202.12it/s]\n",
      "100%|██████████| 1000/1000 [00:00<00:00, 3196.70it/s]\n",
      "100%|██████████| 1000/1000 [00:00<00:00, 3037.32it/s]\n",
      "100%|██████████| 1000/1000 [00:00<00:00, 3197.66it/s]\n",
      "100%|██████████| 1000/1000 [00:00<00:00, 3110.37it/s]\n",
      "100%|██████████| 1000/1000 [00:00<00:00, 3159.58it/s]\n",
      "100%|██████████| 1000/1000 [00:00<00:00, 3221.58it/s]\n"
     ]
    }
   ],
   "source": [
    "# Static mode - TF-bumped coordinates\n",
    "\n",
    "wealth_coordinates_TF = wealth_coordinates.copy()\n",
    "wealth_coordinates_TF[0] -= h/2\n",
    "wealth_coordinates_TF[1] -= h/2\n",
    "wealth_coordinates_TF[2] += h\n",
    "print(wealth_coordinates_TF)\n",
    "\n",
    "Static = main(\"static\", time, 0, agents, 0, wealth_coordinates_TF, tqdm_display = False, reset_wealth = True)\n",
    "for i in range(repetitions - 1):\n",
    "    Static = Static.append(main(\"static\", time, 0, agents, 0, wealth_coordinates_TF, tqdm_display = False, reset_wealth = True))\n",
    "Static.to_csv(\"neutral_static/static_TF_bump.csv\")"
   ]
  }
 ],
 "metadata": {
  "interpreter": {
   "hash": "aee8b7b246df8f9039afb4144a1f6fd8d2ca17a180786b69acc140d282b71a49"
  },
  "kernelspec": {
   "display_name": "Python 3.9.6 64-bit",
   "language": "python",
   "name": "python3"
  },
  "language_info": {
   "codemirror_mode": {
    "name": "ipython",
    "version": 3
   },
   "file_extension": ".py",
   "mimetype": "text/x-python",
   "name": "python",
   "nbconvert_exporter": "python",
   "pygments_lexer": "ipython3",
   "version": "3.9.6"
  },
  "orig_nbformat": 4
 },
 "nbformat": 4,
 "nbformat_minor": 2
}
