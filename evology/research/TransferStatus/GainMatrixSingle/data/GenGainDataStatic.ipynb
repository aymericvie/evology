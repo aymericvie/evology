{
 "cells": [
  {
   "cell_type": "code",
   "execution_count": 6,
   "metadata": {},
   "outputs": [],
   "source": [
    "#!/usr/bin/env python3\n",
    "import sys\n",
    "sys.path.insert(0, '/Users/aymericvie/Documents/GitHub/evology/evology/code/')\n",
    "from main import *\n",
    "from parameters import *\n",
    "\n",
    "time = 50_000\n",
    "repetitions = 16\n",
    "agents = 3\n",
    "wealth_coordinates = [1/3, 1/3, 1/3]\n",
    "wealth_coordinates = [0.43, 0.34, 0.23]\n",
    "N = 256\n",
    "# N = 128\n",
    "bump_size = 2 / N\n",
    "h = bump_size"
   ]
  },
  {
   "cell_type": "code",
   "execution_count": 7,
   "metadata": {},
   "outputs": [
    {
     "name": "stdout",
     "output_type": "stream",
     "text": [
      "[0.43, 0.34, 0.23]\n"
     ]
    },
    {
     "name": "stderr",
     "output_type": "stream",
     "text": [
      "100%|██████████| 50000/50000 [00:15<00:00, 3131.91it/s]\n",
      "100%|██████████| 50000/50000 [00:16<00:00, 3120.69it/s]\n",
      "100%|██████████| 50000/50000 [00:15<00:00, 3125.52it/s]\n",
      "100%|██████████| 50000/50000 [00:15<00:00, 3164.87it/s]\n",
      "100%|██████████| 50000/50000 [00:15<00:00, 3157.57it/s]\n",
      "100%|██████████| 50000/50000 [00:15<00:00, 3137.79it/s]\n",
      "100%|██████████| 50000/50000 [00:15<00:00, 3129.64it/s]\n",
      "100%|██████████| 50000/50000 [00:15<00:00, 3134.25it/s]\n",
      "100%|██████████| 50000/50000 [00:15<00:00, 3159.82it/s]\n",
      "100%|██████████| 50000/50000 [00:16<00:00, 3115.40it/s]\n",
      "100%|██████████| 50000/50000 [00:15<00:00, 3155.57it/s]\n",
      "100%|██████████| 50000/50000 [00:16<00:00, 3103.30it/s]\n",
      "100%|██████████| 50000/50000 [00:15<00:00, 3156.67it/s]\n",
      "100%|██████████| 50000/50000 [00:16<00:00, 3114.80it/s]\n",
      "100%|██████████| 50000/50000 [00:15<00:00, 3137.86it/s]\n",
      "100%|██████████| 50000/50000 [00:15<00:00, 3157.49it/s]\n"
     ]
    }
   ],
   "source": [
    "# Static mode - Standard coordinates\n",
    "print(wealth_coordinates)\n",
    "Static = main(\"static\", time, 0, agents, 0, wealth_coordinates, tqdm_display = False, reset_wealth = True)\n",
    "for i in range(repetitions - 1):\n",
    "    Static = Static.append(main(\"static\", time, 0, agents, 0, wealth_coordinates, tqdm_display = False, reset_wealth = True))\n",
    "\n",
    "Static.to_csv(\"neutral_static/static_standard.csv\")"
   ]
  },
  {
   "cell_type": "code",
   "execution_count": 8,
   "metadata": {},
   "outputs": [
    {
     "name": "stdout",
     "output_type": "stream",
     "text": [
      "[0.4378125, 0.33609375, 0.22609375]\n"
     ]
    },
    {
     "name": "stderr",
     "output_type": "stream",
     "text": [
      "100%|██████████| 50000/50000 [00:15<00:00, 3155.14it/s]\n",
      "100%|██████████| 50000/50000 [00:15<00:00, 3158.32it/s]\n",
      "100%|██████████| 50000/50000 [00:15<00:00, 3176.30it/s]\n",
      "100%|██████████| 50000/50000 [00:15<00:00, 3141.80it/s]\n",
      "100%|██████████| 50000/50000 [00:16<00:00, 3117.47it/s]\n",
      "100%|██████████| 50000/50000 [00:15<00:00, 3135.42it/s]\n",
      "100%|██████████| 50000/50000 [00:15<00:00, 3160.08it/s]\n",
      "100%|██████████| 50000/50000 [00:15<00:00, 3144.47it/s]\n",
      "100%|██████████| 50000/50000 [00:15<00:00, 3125.63it/s]\n",
      "100%|██████████| 50000/50000 [00:15<00:00, 3142.63it/s]\n",
      "100%|██████████| 50000/50000 [00:16<00:00, 3117.90it/s]\n",
      "100%|██████████| 50000/50000 [00:15<00:00, 3131.96it/s]\n",
      "100%|██████████| 50000/50000 [00:15<00:00, 3163.44it/s]\n",
      "100%|██████████| 50000/50000 [00:15<00:00, 3166.61it/s]\n",
      "100%|██████████| 50000/50000 [00:16<00:00, 3122.37it/s]\n",
      "100%|██████████| 50000/50000 [00:15<00:00, 3147.22it/s]\n"
     ]
    }
   ],
   "source": [
    "# Static mode - NT-bumped coordinates\n",
    "\n",
    "wealth_coordinates_NT = wealth_coordinates.copy()\n",
    "wealth_coordinates_NT[0] += h\n",
    "wealth_coordinates_NT[1] -= h/2\n",
    "wealth_coordinates_NT[2] -= h/2\n",
    "print(wealth_coordinates_NT)\n",
    "\n",
    "Static = main(\"static\", time, 0, agents, 0, wealth_coordinates_NT, tqdm_display = False, reset_wealth = True)\n",
    "for i in range(repetitions - 1):\n",
    "    Static = Static.append(main(\"static\", time, 0, agents, 0, wealth_coordinates_NT, tqdm_display = False, reset_wealth = True))\n",
    "Static.to_csv(\"neutral_static/static_NT_bump.csv\")"
   ]
  },
  {
   "cell_type": "code",
   "execution_count": 9,
   "metadata": {},
   "outputs": [
    {
     "name": "stdout",
     "output_type": "stream",
     "text": [
      "[0.42609375, 0.3478125, 0.22609375]\n"
     ]
    },
    {
     "name": "stderr",
     "output_type": "stream",
     "text": [
      "100%|██████████| 50000/50000 [00:15<00:00, 3202.56it/s]\n",
      "100%|██████████| 50000/50000 [00:15<00:00, 3178.26it/s]\n",
      "100%|██████████| 50000/50000 [00:15<00:00, 3200.48it/s]\n",
      "100%|██████████| 50000/50000 [00:15<00:00, 3182.34it/s]\n",
      "100%|██████████| 50000/50000 [00:15<00:00, 3189.21it/s]\n",
      "100%|██████████| 50000/50000 [00:15<00:00, 3196.68it/s]\n",
      "100%|██████████| 50000/50000 [00:15<00:00, 3231.55it/s]\n",
      "100%|██████████| 50000/50000 [00:15<00:00, 3197.97it/s]\n",
      "100%|██████████| 50000/50000 [00:15<00:00, 3215.58it/s]\n",
      "100%|██████████| 50000/50000 [00:15<00:00, 3202.30it/s]\n",
      "100%|██████████| 50000/50000 [00:15<00:00, 3195.93it/s]\n",
      "100%|██████████| 50000/50000 [00:15<00:00, 3172.20it/s]\n",
      "100%|██████████| 50000/50000 [00:15<00:00, 3223.22it/s]\n",
      "100%|██████████| 50000/50000 [00:15<00:00, 3206.48it/s]\n",
      "100%|██████████| 50000/50000 [00:15<00:00, 3185.22it/s]\n",
      "100%|██████████| 50000/50000 [00:15<00:00, 3180.42it/s]\n"
     ]
    }
   ],
   "source": [
    "# Static mode - VI-bumped coordinates\n",
    "\n",
    "wealth_coordinates_VI = wealth_coordinates.copy()\n",
    "wealth_coordinates_VI[0] -= h/2\n",
    "wealth_coordinates_VI[1] += h\n",
    "wealth_coordinates_VI[2] -= h/2\n",
    "print(wealth_coordinates_VI)\n",
    "\n",
    "Static = main(\"static\", time, 0, agents, 0, wealth_coordinates_VI, tqdm_display = False, reset_wealth = True)\n",
    "for i in range(repetitions - 1):\n",
    "    Static = Static.append(main(\"static\", time, 0, agents, 0, wealth_coordinates_VI, tqdm_display = False, reset_wealth = True))\n",
    "Static.to_csv(\"neutral_static/static_VI_bump.csv\")"
   ]
  },
  {
   "cell_type": "code",
   "execution_count": 10,
   "metadata": {},
   "outputs": [
    {
     "name": "stdout",
     "output_type": "stream",
     "text": [
      "[0.42609375, 0.33609375, 0.2378125]\n"
     ]
    },
    {
     "name": "stderr",
     "output_type": "stream",
     "text": [
      "100%|██████████| 50000/50000 [03:16<00:00, 255.05it/s] \n",
      "100%|██████████| 50000/50000 [00:15<00:00, 3155.32it/s]\n",
      "100%|██████████| 50000/50000 [00:15<00:00, 3179.91it/s]\n",
      "100%|██████████| 50000/50000 [00:15<00:00, 3149.94it/s]\n",
      "100%|██████████| 50000/50000 [00:15<00:00, 3132.32it/s]\n",
      "100%|██████████| 50000/50000 [00:15<00:00, 3158.32it/s]\n",
      "100%|██████████| 50000/50000 [00:15<00:00, 3168.09it/s]\n",
      "100%|██████████| 50000/50000 [00:15<00:00, 3141.14it/s]\n",
      "100%|██████████| 50000/50000 [00:16<00:00, 3124.46it/s]\n",
      "100%|██████████| 50000/50000 [00:15<00:00, 3134.28it/s]\n",
      "100%|██████████| 50000/50000 [00:16<00:00, 3110.66it/s]\n",
      "100%|██████████| 50000/50000 [00:16<00:00, 3114.36it/s]\n",
      "100%|██████████| 50000/50000 [00:15<00:00, 3125.71it/s]\n",
      "100%|██████████| 50000/50000 [00:15<00:00, 3151.59it/s]\n",
      "100%|██████████| 50000/50000 [00:15<00:00, 3156.20it/s]\n",
      "100%|██████████| 50000/50000 [00:16<00:00, 3110.79it/s]\n"
     ]
    }
   ],
   "source": [
    "# Static mode - TF-bumped coordinates\n",
    "\n",
    "wealth_coordinates_TF = wealth_coordinates.copy()\n",
    "wealth_coordinates_TF[0] -= h/2\n",
    "wealth_coordinates_TF[1] -= h/2\n",
    "wealth_coordinates_TF[2] += h\n",
    "print(wealth_coordinates_TF)\n",
    "\n",
    "Static = main(\"static\", time, 0, agents, 0, wealth_coordinates_TF, tqdm_display = False, reset_wealth = True)\n",
    "for i in range(repetitions - 1):\n",
    "    Static = Static.append(main(\"static\", time, 0, agents, 0, wealth_coordinates_TF, tqdm_display = False, reset_wealth = True))\n",
    "Static.to_csv(\"neutral_static/static_TF_bump.csv\")"
   ]
  }
 ],
 "metadata": {
  "interpreter": {
   "hash": "aee8b7b246df8f9039afb4144a1f6fd8d2ca17a180786b69acc140d282b71a49"
  },
  "kernelspec": {
   "display_name": "Python 3.9.6 64-bit",
   "language": "python",
   "name": "python3"
  },
  "language_info": {
   "codemirror_mode": {
    "name": "ipython",
    "version": 3
   },
   "file_extension": ".py",
   "mimetype": "text/x-python",
   "name": "python",
   "nbconvert_exporter": "python",
   "pygments_lexer": "ipython3",
   "version": "3.9.6"
  },
  "orig_nbformat": 4
 },
 "nbformat": 4,
 "nbformat_minor": 2
}
