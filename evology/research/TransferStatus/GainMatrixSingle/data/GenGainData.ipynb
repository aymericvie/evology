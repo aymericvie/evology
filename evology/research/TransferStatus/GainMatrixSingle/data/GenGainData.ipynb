{
 "cells": [
  {
   "cell_type": "code",
   "execution_count": 1,
   "metadata": {},
   "outputs": [],
   "source": [
    "#!/usr/bin/env python3\n",
    "import sys\n",
    "sys.path.insert(0, '/Users/aymericvie/Documents/GitHub/evology/evology/code/')\n",
    "from main import *\n",
    "from parameters import *\n",
    "\n",
    "time = 10_000\n",
    "repetitions = 5\n",
    "agents = 50\n",
    "wealth_coordinates = [0.43, 0.34, 0.23]\n",
    "# wealth_coordinates = [0.13, 0.80, 0.07]\n",
    "bump_size = 0.02\n",
    "h = bump_size"
   ]
  },
  {
   "cell_type": "code",
   "execution_count": 2,
   "metadata": {},
   "outputs": [
    {
     "name": "stdout",
     "output_type": "stream",
     "text": [
      "[0.43, 0.34, 0.23]\n"
     ]
    },
    {
     "name": "stderr",
     "output_type": "stream",
     "text": [
      "100%|██████████| 10000/10000 [00:21<00:00, 465.97it/s]\n",
      "100%|██████████| 10000/10000 [00:21<00:00, 471.37it/s]\n",
      "100%|██████████| 10000/10000 [00:20<00:00, 486.08it/s]\n",
      "  0%|          | 7/10000 [00:21<10:26:33,  3.76s/it]"
     ]
    }
   ],
   "source": [
    "# Static mode - Standard coordinates\n",
    "print(wealth_coordinates)\n",
    "Static = main(\"static\", time, 0, agents, 0, 0, wealth_coordinates, False)\n",
    "for i in range(repetitions - 1):\n",
    "    Static = Static.append(main(\"static\", time, 0, agents, 0, 0, wealth_coordinates, False))\n",
    "\n",
    "Static.to_csv(\"static_standard.csv\")"
   ]
  },
  {
   "cell_type": "code",
   "execution_count": null,
   "metadata": {},
   "outputs": [
    {
     "name": "stdout",
     "output_type": "stream",
     "text": [
      "[0.45, 0.33, 0.22]\n"
     ]
    },
    {
     "name": "stderr",
     "output_type": "stream",
     "text": [
      " 71%|███████▏  | 7143/10000 [00:14<00:06, 467.75it/s]"
     ]
    },
    {
     "name": "stdout",
     "output_type": "stream",
     "text": [
      "Replacing // Gen 7088 // Type: vi, C: 206983000, S+: -1936566, L: 0, M: 220691154, W: -13708154\n",
      "Replacing // Gen 7088 // Type: vi, C: 206983000, S+: -1936566, L: 0, M: 220691154, W: -13708154\n",
      "Replacing // Gen 7088 // Type: vi, C: 206983000, S+: -1936566, L: 0, M: 220691154, W: -13708154\n",
      "Replacing // Gen 7088 // Type: vi, C: 206983000, S+: -1936566, L: 0, M: 220691154, W: -13708154\n",
      "Replacing // Gen 7088 // Type: vi, C: 206983000, S+: -1936566, L: 0, M: 220691154, W: -13708154\n",
      "Replacing // Gen 7088 // Type: vi, C: 206983000, S+: -1936566, L: 0, M: 220691154, W: -13708154\n",
      "Replacing // Gen 7088 // Type: vi, C: 206983000, S+: -1936566, L: 0, M: 220691154, W: -13708154\n",
      "Replacing // Gen 7088 // Type: vi, C: 206983000, S+: -1936566, L: 0, M: 220691154, W: -13708154\n",
      "Replacing // Gen 7088 // Type: vi, C: 206983000, S+: -1936566, L: 0, M: 220691154, W: -13708154\n",
      "Replacing // Gen 7088 // Type: vi, C: 206983000, S+: -1936566, L: 0, M: 220691154, W: -13708154\n",
      "Replacing // Gen 7088 // Type: vi, C: 206983000, S+: -1936566, L: 0, M: 220691154, W: -13708154\n",
      "Replacing // Gen 7088 // Type: vi, C: 206983000, S+: -1936566, L: 0, M: 220691154, W: -13708154\n",
      "Replacing // Gen 7088 // Type: vi, C: 206983000, S+: -1936566, L: 0, M: 220691154, W: -13708154\n",
      "Replacing // Gen 7112 // Type: vi, C: 54844035, S+: -744508, L: 0, M: 87442565, W: -32598529\n",
      "Replacing // Gen 7112 // Type: vi, C: 54844035, S+: -744508, L: 0, M: 87442565, W: -32598529\n",
      "Replacing // Gen 7112 // Type: vi, C: 54844035, S+: -744508, L: 0, M: 87442565, W: -32598529\n",
      "Replacing // Gen 7112 // Type: vi, C: 54844035, S+: -744508, L: 0, M: 87442565, W: -32598529\n",
      "Replacing // Gen 7112 // Type: vi, C: 54844035, S+: -744508, L: 0, M: 87442565, W: -32598529\n",
      "Replacing // Gen 7113 // Type: vi, C: 50002087, S+: -494132, L: 0, M: 58342271, W: -8340183\n"
     ]
    },
    {
     "name": "stderr",
     "output_type": "stream",
     "text": [
      "100%|██████████| 10000/10000 [00:20<00:00, 479.85it/s]\n",
      " 54%|█████▎    | 5370/10000 [00:11<00:10, 462.13it/s]"
     ]
    },
    {
     "name": "stdout",
     "output_type": "stream",
     "text": [
      "Replacing // Gen 5287 // Type: vi, C: 152674585, S+: -1012673, L: 0, M: 168802486, W: -16127900\n",
      "Replacing // Gen 5287 // Type: vi, C: 152674585, S+: -1012673, L: 0, M: 168802486, W: -16127900\n",
      "Replacing // Gen 5287 // Type: vi, C: 152674585, S+: -1012673, L: 0, M: 168802486, W: -16127900\n",
      "Replacing // Gen 5287 // Type: vi, C: 152674585, S+: -1012673, L: 0, M: 168802486, W: -16127900\n",
      "Replacing // Gen 5287 // Type: vi, C: 152674585, S+: -1012673, L: 0, M: 168802486, W: -16127900\n",
      "Replacing // Gen 5287 // Type: vi, C: 152674585, S+: -1012673, L: 0, M: 168802486, W: -16127900\n",
      "Replacing // Gen 5287 // Type: vi, C: 152674585, S+: -1012673, L: 0, M: 168802486, W: -16127900\n",
      "Replacing // Gen 5287 // Type: vi, C: 152674585, S+: -1012673, L: 0, M: 168802486, W: -16127900\n",
      "Replacing // Gen 5287 // Type: vi, C: 152674585, S+: -1012673, L: 0, M: 168802486, W: -16127900\n",
      "Replacing // Gen 5287 // Type: vi, C: 152674585, S+: -1012673, L: 0, M: 168802486, W: -16127900\n",
      "Replacing // Gen 5287 // Type: vi, C: 152674585, S+: -1012673, L: 0, M: 168802486, W: -16127900\n",
      "Replacing // Gen 5287 // Type: vi, C: 152674585, S+: -1012673, L: 0, M: 168802486, W: -16127900\n",
      "Replacing // Gen 5287 // Type: vi, C: 152674585, S+: -1012673, L: 0, M: 168802486, W: -16127900\n",
      "Replacing // Gen 5287 // Type: vi, C: 152674585, S+: -1012673, L: 0, M: 168802486, W: -16127900\n",
      "Replacing // Gen 5287 // Type: vi, C: 152674585, S+: -1012673, L: 0, M: 168802486, W: -16127900\n",
      "Replacing // Gen 5287 // Type: vi, C: 152674585, S+: -1012673, L: 0, M: 168802486, W: -16127900\n",
      "Replacing // Gen 5288 // Type: vi, C: 50002632, S+: -1389739, L: 0, M: 200025217, W: -150022584\n",
      "Replacing // Gen 5288 // Type: vi, C: 50002632, S+: -1389739, L: 0, M: 200025217, W: -150022584\n",
      "Replacing // Gen 5288 // Type: vi, C: 50002632, S+: -1389739, L: 0, M: 200025217, W: -150022584\n",
      "Replacing // Gen 5288 // Type: vi, C: 50002632, S+: -1389739, L: 0, M: 200025217, W: -150022584\n",
      "Replacing // Gen 5288 // Type: vi, C: 50002632, S+: -1389739, L: 0, M: 200025217, W: -150022584\n",
      "Replacing // Gen 5288 // Type: vi, C: 50002632, S+: -1389739, L: 0, M: 200025217, W: -150022584\n",
      "Replacing // Gen 5288 // Type: vi, C: 50002632, S+: -1389739, L: 0, M: 200025217, W: -150022584\n",
      "Replacing // Gen 5288 // Type: vi, C: 50002632, S+: -1389739, L: 0, M: 200025217, W: -150022584\n",
      "Replacing // Gen 5293 // Type: vi, C: 9682, S+: 91436, L: 26290585, M: 0, W: -17428042\n",
      "Replacing // Gen 5293 // Type: vi, C: 9682, S+: 91436, L: 26290585, M: 0, W: -17428042\n",
      "Replacing // Gen 5293 // Type: vi, C: 9682, S+: 91436, L: 26290585, M: 0, W: -17428042\n",
      "Replacing // Gen 5293 // Type: vi, C: 9682, S+: 91436, L: 26290585, M: 0, W: -17428042\n"
     ]
    },
    {
     "name": "stderr",
     "output_type": "stream",
     "text": [
      " 55%|█████▌    | 5512/10000 [00:11<00:09, 464.60it/s]"
     ]
    },
    {
     "name": "stdout",
     "output_type": "stream",
     "text": [
      "Replacing // Gen 5444 // Type: vi, C: 383912168, S+: -3691384, L: 0, M: 473309336, W: -89397167\n",
      "Replacing // Gen 5444 // Type: vi, C: 383912168, S+: -3691384, L: 0, M: 473309336, W: -89397167\n"
     ]
    },
    {
     "name": "stderr",
     "output_type": "stream",
     "text": [
      "100%|██████████| 10000/10000 [00:21<00:00, 468.99it/s]\n",
      " 34%|███▍      | 3394/10000 [00:07<00:14, 449.37it/s]"
     ]
    },
    {
     "name": "stdout",
     "output_type": "stream",
     "text": [
      "Replacing // Gen 3327 // Type: vi, C: 120313369, S+: -1134874, L: 0, M: 122487057, W: -2173688\n",
      "Replacing // Gen 3327 // Type: vi, C: 120313369, S+: -1134874, L: 0, M: 122487057, W: -2173688\n",
      "Replacing // Gen 3327 // Type: vi, C: 120313369, S+: -1134874, L: 0, M: 122487057, W: -2173688\n",
      "Replacing // Gen 3327 // Type: vi, C: 120313369, S+: -1134874, L: 0, M: 122487057, W: -2173688\n",
      "Replacing // Gen 3327 // Type: vi, C: 120313369, S+: -1134874, L: 0, M: 122487057, W: -2173688\n",
      "Replacing // Gen 3327 // Type: vi, C: 120313369, S+: -1134874, L: 0, M: 122487057, W: -2173688\n",
      "Replacing // Gen 3327 // Type: vi, C: 120313369, S+: -1134874, L: 0, M: 122487057, W: -2173688\n",
      "Replacing // Gen 3327 // Type: vi, C: 120313369, S+: -1134874, L: 0, M: 122487057, W: -2173688\n",
      "Replacing // Gen 3327 // Type: vi, C: 120313369, S+: -1134874, L: 0, M: 122487057, W: -2173688\n",
      "Replacing // Gen 3327 // Type: vi, C: 120313369, S+: -1134874, L: 0, M: 122487057, W: -2173688\n",
      "Replacing // Gen 3327 // Type: vi, C: 120313369, S+: -1134874, L: 0, M: 122487057, W: -2173688\n",
      "Replacing // Gen 3327 // Type: vi, C: 120313369, S+: -1134874, L: 0, M: 122487057, W: -2173688\n",
      "Replacing // Gen 3327 // Type: vi, C: 120313369, S+: -1134874, L: 0, M: 122487057, W: -2173688\n",
      "Replacing // Gen 3327 // Type: vi, C: 120313369, S+: -1134874, L: 0, M: 122487057, W: -2173688\n",
      "Replacing // Gen 3328 // Type: vi, C: 50002854, S+: -2643343, L: 0, M: 243134774, W: -193131919\n",
      "Replacing // Gen 3328 // Type: vi, C: 50002854, S+: -2643343, L: 0, M: 243134774, W: -193131919\n",
      "Replacing // Gen 3328 // Type: vi, C: 50002854, S+: -2643343, L: 0, M: 243134774, W: -193131919\n",
      "Replacing // Gen 3328 // Type: vi, C: 50002854, S+: -2643343, L: 0, M: 243134774, W: -193131919\n",
      "Replacing // Gen 3328 // Type: vi, C: 50002854, S+: -2643343, L: 0, M: 243134774, W: -193131919\n"
     ]
    },
    {
     "name": "stderr",
     "output_type": "stream",
     "text": [
      "100%|██████████| 10000/10000 [00:21<00:00, 465.10it/s]\n",
      " 54%|█████▍    | 5414/10000 [00:11<00:09, 483.67it/s]\n"
     ]
    },
    {
     "ename": "KeyboardInterrupt",
     "evalue": "",
     "output_type": "error",
     "traceback": [
      "\u001b[0;31m---------------------------------------------------------------------------\u001b[0m",
      "\u001b[0;31mKeyboardInterrupt\u001b[0m                         Traceback (most recent call last)",
      "\u001b[0;32m/var/folders/vt/cnvcr__n5pn60jkl8nh7fzrw0000gn/T/ipykernel_69054/3641213467.py\u001b[0m in \u001b[0;36m<module>\u001b[0;34m\u001b[0m\n\u001b[1;32m      9\u001b[0m \u001b[0mStatic\u001b[0m \u001b[0;34m=\u001b[0m \u001b[0mmain\u001b[0m\u001b[0;34m(\u001b[0m\u001b[0;34m\"static\"\u001b[0m\u001b[0;34m,\u001b[0m \u001b[0mtime\u001b[0m\u001b[0;34m,\u001b[0m \u001b[0;36m0\u001b[0m\u001b[0;34m,\u001b[0m \u001b[0magents\u001b[0m\u001b[0;34m,\u001b[0m \u001b[0;36m0\u001b[0m\u001b[0;34m,\u001b[0m \u001b[0;36m0\u001b[0m\u001b[0;34m,\u001b[0m \u001b[0mwealth_coordinates_NT\u001b[0m\u001b[0;34m,\u001b[0m \u001b[0;32mFalse\u001b[0m\u001b[0;34m)\u001b[0m\u001b[0;34m\u001b[0m\u001b[0;34m\u001b[0m\u001b[0m\n\u001b[1;32m     10\u001b[0m \u001b[0;32mfor\u001b[0m \u001b[0mi\u001b[0m \u001b[0;32min\u001b[0m \u001b[0mrange\u001b[0m\u001b[0;34m(\u001b[0m\u001b[0mrepetitions\u001b[0m \u001b[0;34m-\u001b[0m \u001b[0;36m1\u001b[0m\u001b[0;34m)\u001b[0m\u001b[0;34m:\u001b[0m\u001b[0;34m\u001b[0m\u001b[0;34m\u001b[0m\u001b[0m\n\u001b[0;32m---> 11\u001b[0;31m     \u001b[0mStatic\u001b[0m \u001b[0;34m=\u001b[0m \u001b[0mStatic\u001b[0m\u001b[0;34m.\u001b[0m\u001b[0mappend\u001b[0m\u001b[0;34m(\u001b[0m\u001b[0mmain\u001b[0m\u001b[0;34m(\u001b[0m\u001b[0;34m\"static\"\u001b[0m\u001b[0;34m,\u001b[0m \u001b[0mtime\u001b[0m\u001b[0;34m,\u001b[0m \u001b[0;36m0\u001b[0m\u001b[0;34m,\u001b[0m \u001b[0magents\u001b[0m\u001b[0;34m,\u001b[0m \u001b[0;36m0\u001b[0m\u001b[0;34m,\u001b[0m \u001b[0;36m0\u001b[0m\u001b[0;34m,\u001b[0m \u001b[0mwealth_coordinates_NT\u001b[0m\u001b[0;34m,\u001b[0m \u001b[0;32mFalse\u001b[0m\u001b[0;34m)\u001b[0m\u001b[0;34m)\u001b[0m\u001b[0;34m\u001b[0m\u001b[0;34m\u001b[0m\u001b[0m\n\u001b[0m\u001b[1;32m     12\u001b[0m \u001b[0mStatic\u001b[0m\u001b[0;34m.\u001b[0m\u001b[0mto_csv\u001b[0m\u001b[0;34m(\u001b[0m\u001b[0;34m\"static_NT_bump.csv\"\u001b[0m\u001b[0;34m)\u001b[0m\u001b[0;34m\u001b[0m\u001b[0;34m\u001b[0m\u001b[0m\n",
      "\u001b[0;32m~/Documents/GitHub/evology/evology/code/main.py\u001b[0m in \u001b[0;36mmain\u001b[0;34m(mode, MAX_GENERATIONS, PROBA_SELECTION, POPULATION_SIZE, CROSSOVER_RATE, MUTATION_RATE, wealth_coordinates, tqdm_display)\u001b[0m\n\u001b[1;32m     33\u001b[0m         \u001b[0mpop\u001b[0m\u001b[0;34m,\u001b[0m \u001b[0mtimeC\u001b[0m \u001b[0;34m=\u001b[0m \u001b[0mga_evolution\u001b[0m\u001b[0;34m(\u001b[0m\u001b[0mpop\u001b[0m\u001b[0;34m,\u001b[0m \u001b[0mmode\u001b[0m\u001b[0;34m,\u001b[0m \u001b[0mgeneration\u001b[0m\u001b[0;34m,\u001b[0m \u001b[0mwealth_coordinates\u001b[0m\u001b[0;34m)\u001b[0m\u001b[0;34m\u001b[0m\u001b[0;34m\u001b[0m\u001b[0m\n\u001b[1;32m     34\u001b[0m         \u001b[0mpop\u001b[0m\u001b[0;34m,\u001b[0m \u001b[0mtimeD\u001b[0m  \u001b[0;34m=\u001b[0m \u001b[0mdecision_updates\u001b[0m\u001b[0;34m(\u001b[0m\u001b[0mpop\u001b[0m\u001b[0;34m,\u001b[0m \u001b[0mmode\u001b[0m\u001b[0;34m,\u001b[0m \u001b[0mprice_history\u001b[0m\u001b[0;34m,\u001b[0m \u001b[0mextended_dividend_history\u001b[0m\u001b[0;34m)\u001b[0m\u001b[0;34m\u001b[0m\u001b[0;34m\u001b[0m\u001b[0m\n\u001b[0;32m---> 35\u001b[0;31m         \u001b[0mpop\u001b[0m\u001b[0;34m,\u001b[0m \u001b[0mmismatch\u001b[0m\u001b[0;34m,\u001b[0m \u001b[0mcurrent_price\u001b[0m\u001b[0;34m,\u001b[0m \u001b[0mprice_history\u001b[0m\u001b[0;34m,\u001b[0m \u001b[0mToLiquidate\u001b[0m\u001b[0;34m,\u001b[0m \u001b[0mtimeE\u001b[0m \u001b[0;34m=\u001b[0m \u001b[0mmarketClearing\u001b[0m\u001b[0;34m(\u001b[0m\u001b[0mpop\u001b[0m\u001b[0;34m,\u001b[0m \u001b[0mcurrent_price\u001b[0m\u001b[0;34m,\u001b[0m \u001b[0mprice_history\u001b[0m\u001b[0;34m,\u001b[0m \u001b[0mspoils\u001b[0m\u001b[0;34m)\u001b[0m\u001b[0;34m\u001b[0m\u001b[0;34m\u001b[0m\u001b[0m\n\u001b[0m\u001b[1;32m     36\u001b[0m \u001b[0;34m\u001b[0m\u001b[0m\n\u001b[1;32m     37\u001b[0m         pop, volume, dividend, random_dividend, dividend_history, extended_dividend_history, spoils, timeF = marketActivity(pop, \n",
      "\u001b[0;32m~/Documents/GitHub/evology/evology/code/steps.py\u001b[0m in \u001b[0;36mmarketClearing\u001b[0;34m(pop, current_price, price_history, spoils)\u001b[0m\n\u001b[1;32m     36\u001b[0m     \u001b[0;31m# if current_price < 0:\u001b[0m\u001b[0;34m\u001b[0m\u001b[0;34m\u001b[0m\u001b[0;34m\u001b[0m\u001b[0m\n\u001b[1;32m     37\u001b[0m     \u001b[0;31m#     raise ValueError('Negative current price before esl solve. ' + str(bs.report_types(pop)))\u001b[0m\u001b[0;34m\u001b[0m\u001b[0;34m\u001b[0m\u001b[0;34m\u001b[0m\u001b[0m\n\u001b[0;32m---> 38\u001b[0;31m     \u001b[0mcurrent_price\u001b[0m \u001b[0;34m=\u001b[0m \u001b[0mfloat\u001b[0m\u001b[0;34m(\u001b[0m\u001b[0mesl_mc\u001b[0m\u001b[0;34m.\u001b[0m\u001b[0msolve\u001b[0m\u001b[0;34m(\u001b[0m\u001b[0med_functions\u001b[0m\u001b[0;34m,\u001b[0m \u001b[0mcurrent_price\u001b[0m\u001b[0;34m)\u001b[0m\u001b[0;34m[\u001b[0m\u001b[0;36m0\u001b[0m\u001b[0;34m]\u001b[0m\u001b[0;34m)\u001b[0m\u001b[0;34m\u001b[0m\u001b[0;34m\u001b[0m\u001b[0m\n\u001b[0m\u001b[1;32m     39\u001b[0m     \u001b[0mbs\u001b[0m\u001b[0;34m.\u001b[0m\u001b[0mcalculate_tsv\u001b[0m\u001b[0;34m(\u001b[0m\u001b[0mpop\u001b[0m\u001b[0;34m,\u001b[0m \u001b[0mcurrent_price\u001b[0m\u001b[0;34m,\u001b[0m \u001b[0mprice_history\u001b[0m\u001b[0;34m)\u001b[0m\u001b[0;34m\u001b[0m\u001b[0;34m\u001b[0m\u001b[0m\n\u001b[1;32m     40\u001b[0m     \u001b[0mprice_history\u001b[0m\u001b[0;34m.\u001b[0m\u001b[0mappend\u001b[0m\u001b[0;34m(\u001b[0m\u001b[0mcurrent_price\u001b[0m\u001b[0;34m)\u001b[0m\u001b[0;34m\u001b[0m\u001b[0;34m\u001b[0m\u001b[0m\n",
      "\u001b[0;32m~/Documents/GitHub/evology/evology/code/esl_market_clearing.py\u001b[0m in \u001b[0;36msolve\u001b[0;34m(my_excess_demand_functions, current_price)\u001b[0m\n\u001b[1;32m     38\u001b[0m \u001b[0;34m\u001b[0m\u001b[0m\n\u001b[1;32m     39\u001b[0m   \u001b[0mmodel\u001b[0m\u001b[0;34m.\u001b[0m\u001b[0mexcess_demand_functions\u001b[0m \u001b[0;34m=\u001b[0m \u001b[0mexcess_demand_functions\u001b[0m\u001b[0;34m\u001b[0m\u001b[0;34m\u001b[0m\u001b[0m\n\u001b[0;32m---> 40\u001b[0;31m   \u001b[0mmultipliers\u001b[0m \u001b[0;34m=\u001b[0m \u001b[0mmodel\u001b[0m\u001b[0;34m.\u001b[0m\u001b[0mcompute_clearing_quotes\u001b[0m\u001b[0;34m(\u001b[0m\u001b[0;34m)\u001b[0m\u001b[0;34m\u001b[0m\u001b[0;34m\u001b[0m\u001b[0m\n\u001b[0m\u001b[1;32m     41\u001b[0m   \u001b[0mprices\u001b[0m \u001b[0;34m=\u001b[0m \u001b[0;34m[\u001b[0m\u001b[0;34m]\u001b[0m\u001b[0;34m\u001b[0m\u001b[0;34m\u001b[0m\u001b[0m\n\u001b[1;32m     42\u001b[0m \u001b[0;34m\u001b[0m\u001b[0m\n",
      "\u001b[0;32m~/Documents/GitHub/evology/evology/code/esl_market_clearing.py\u001b[0m in \u001b[0;36mexcess_demand\u001b[0;34m(self, quotes)\u001b[0m\n\u001b[1;32m     30\u001b[0m           \u001b[0;34m:\u001b[0m\u001b[0;32mreturn\u001b[0m\u001b[0;34m:\u001b[0m\u001b[0;34m\u001b[0m\u001b[0;34m\u001b[0m\u001b[0m\n\u001b[1;32m     31\u001b[0m           \"\"\"\n\u001b[0;32m---> 32\u001b[0;31m           \u001b[0med\u001b[0m \u001b[0;34m=\u001b[0m \u001b[0;34m{\u001b[0m\u001b[0mk\u001b[0m\u001b[0;34m:\u001b[0m \u001b[0mself\u001b[0m\u001b[0;34m.\u001b[0m\u001b[0mfunction\u001b[0m\u001b[0;34m(\u001b[0m\u001b[0mk\u001b[0m\u001b[0;34m,\u001b[0m \u001b[0mfloat\u001b[0m\u001b[0;34m(\u001b[0m\u001b[0mv\u001b[0m\u001b[0;34m[\u001b[0m\u001b[0;36m0\u001b[0m\u001b[0;34m]\u001b[0m\u001b[0;34m)\u001b[0m \u001b[0;34m*\u001b[0m \u001b[0mv\u001b[0m\u001b[0;34m[\u001b[0m\u001b[0;36m1\u001b[0m\u001b[0;34m]\u001b[0m\u001b[0;34m)\u001b[0m \u001b[0;32mfor\u001b[0m \u001b[0mi\u001b[0m\u001b[0;34m,\u001b[0m  \u001b[0;34m(\u001b[0m\u001b[0mk\u001b[0m\u001b[0;34m,\u001b[0m \u001b[0mv\u001b[0m\u001b[0;34m)\u001b[0m \u001b[0;32min\u001b[0m \u001b[0menumerate\u001b[0m\u001b[0;34m(\u001b[0m\u001b[0mquotes\u001b[0m\u001b[0;34m.\u001b[0m\u001b[0mitems\u001b[0m\u001b[0;34m(\u001b[0m\u001b[0;34m)\u001b[0m\u001b[0;34m)\u001b[0m\u001b[0;34m}\u001b[0m\u001b[0;34m\u001b[0m\u001b[0;34m\u001b[0m\u001b[0m\n\u001b[0m\u001b[1;32m     33\u001b[0m           \u001b[0;32mreturn\u001b[0m \u001b[0med\u001b[0m\u001b[0;34m\u001b[0m\u001b[0;34m\u001b[0m\u001b[0m\n\u001b[1;32m     34\u001b[0m \u001b[0;34m\u001b[0m\u001b[0m\n",
      "\u001b[0;32m~/Documents/GitHub/evology/evology/code/esl_market_clearing.py\u001b[0m in \u001b[0;36m<dictcomp>\u001b[0;34m(.0)\u001b[0m\n\u001b[1;32m     30\u001b[0m           \u001b[0;34m:\u001b[0m\u001b[0;32mreturn\u001b[0m\u001b[0;34m:\u001b[0m\u001b[0;34m\u001b[0m\u001b[0;34m\u001b[0m\u001b[0m\n\u001b[1;32m     31\u001b[0m           \"\"\"\n\u001b[0;32m---> 32\u001b[0;31m           \u001b[0med\u001b[0m \u001b[0;34m=\u001b[0m \u001b[0;34m{\u001b[0m\u001b[0mk\u001b[0m\u001b[0;34m:\u001b[0m \u001b[0mself\u001b[0m\u001b[0;34m.\u001b[0m\u001b[0mfunction\u001b[0m\u001b[0;34m(\u001b[0m\u001b[0mk\u001b[0m\u001b[0;34m,\u001b[0m \u001b[0mfloat\u001b[0m\u001b[0;34m(\u001b[0m\u001b[0mv\u001b[0m\u001b[0;34m[\u001b[0m\u001b[0;36m0\u001b[0m\u001b[0;34m]\u001b[0m\u001b[0;34m)\u001b[0m \u001b[0;34m*\u001b[0m \u001b[0mv\u001b[0m\u001b[0;34m[\u001b[0m\u001b[0;36m1\u001b[0m\u001b[0;34m]\u001b[0m\u001b[0;34m)\u001b[0m \u001b[0;32mfor\u001b[0m \u001b[0mi\u001b[0m\u001b[0;34m,\u001b[0m  \u001b[0;34m(\u001b[0m\u001b[0mk\u001b[0m\u001b[0;34m,\u001b[0m \u001b[0mv\u001b[0m\u001b[0;34m)\u001b[0m \u001b[0;32min\u001b[0m \u001b[0menumerate\u001b[0m\u001b[0;34m(\u001b[0m\u001b[0mquotes\u001b[0m\u001b[0;34m.\u001b[0m\u001b[0mitems\u001b[0m\u001b[0;34m(\u001b[0m\u001b[0;34m)\u001b[0m\u001b[0;34m)\u001b[0m\u001b[0;34m}\u001b[0m\u001b[0;34m\u001b[0m\u001b[0;34m\u001b[0m\u001b[0m\n\u001b[0m\u001b[1;32m     33\u001b[0m           \u001b[0;32mreturn\u001b[0m \u001b[0med\u001b[0m\u001b[0;34m\u001b[0m\u001b[0;34m\u001b[0m\u001b[0m\n\u001b[1;32m     34\u001b[0m \u001b[0;34m\u001b[0m\u001b[0m\n",
      "\u001b[0;32m~/Documents/GitHub/evology/evology/code/balance_sheet.py\u001b[0m in \u001b[0;36mbig_edf\u001b[0;34m(asset_key, price)\u001b[0m\n\u001b[1;32m    400\u001b[0m             \u001b[0mresult\u001b[0m \u001b[0;34m=\u001b[0m \u001b[0;36m0\u001b[0m\u001b[0;34m\u001b[0m\u001b[0;34m\u001b[0m\u001b[0m\n\u001b[1;32m    401\u001b[0m             \u001b[0;32mfor\u001b[0m \u001b[0mind\u001b[0m \u001b[0;32min\u001b[0m \u001b[0mpop\u001b[0m\u001b[0;34m:\u001b[0m\u001b[0;34m\u001b[0m\u001b[0;34m\u001b[0m\u001b[0m\n\u001b[0;32m--> 402\u001b[0;31m                 \u001b[0mresult\u001b[0m \u001b[0;34m+=\u001b[0m \u001b[0mind\u001b[0m\u001b[0;34m.\u001b[0m\u001b[0medf\u001b[0m\u001b[0;34m(\u001b[0m\u001b[0mind\u001b[0m\u001b[0;34m,\u001b[0m \u001b[0mprice\u001b[0m\u001b[0;34m)\u001b[0m\u001b[0;34m\u001b[0m\u001b[0;34m\u001b[0m\u001b[0m\n\u001b[0m\u001b[1;32m    403\u001b[0m             \u001b[0;32mreturn\u001b[0m \u001b[0mresult\u001b[0m\u001b[0;34m\u001b[0m\u001b[0;34m\u001b[0m\u001b[0m\n\u001b[1;32m    404\u001b[0m \u001b[0;34m\u001b[0m\u001b[0m\n",
      "\u001b[0;32m~/Documents/GitHub/evology/evology/code/balance_sheet.py\u001b[0m in \u001b[0;36medf\u001b[0;34m(ind, p)\u001b[0m\n\u001b[1;32m    113\u001b[0m \u001b[0;34m\u001b[0m\u001b[0m\n\u001b[1;32m    114\u001b[0m \u001b[0;34m\u001b[0m\u001b[0m\n\u001b[0;32m--> 115\u001b[0;31m         \u001b[0;32melif\u001b[0m \u001b[0mind\u001b[0m\u001b[0;34m.\u001b[0m\u001b[0mtype\u001b[0m \u001b[0;34m==\u001b[0m \u001b[0;34m\"vi\"\u001b[0m\u001b[0;34m:\u001b[0m\u001b[0;34m\u001b[0m\u001b[0;34m\u001b[0m\u001b[0m\n\u001b[0m\u001b[1;32m    116\u001b[0m             \u001b[0;32mtry\u001b[0m\u001b[0;34m:\u001b[0m\u001b[0;34m\u001b[0m\u001b[0;34m\u001b[0m\u001b[0m\n\u001b[1;32m    117\u001b[0m                 \u001b[0;32mreturn\u001b[0m \u001b[0;34m(\u001b[0m\u001b[0mLAMBDA_VI\u001b[0m \u001b[0;34m*\u001b[0m \u001b[0mind\u001b[0m\u001b[0;34m.\u001b[0m\u001b[0mwealth\u001b[0m \u001b[0;34m/\u001b[0m \u001b[0mp\u001b[0m\u001b[0;34m)\u001b[0m \u001b[0;34m*\u001b[0m \u001b[0;34m(\u001b[0m\u001b[0mnp\u001b[0m\u001b[0;34m.\u001b[0m\u001b[0mtanh\u001b[0m\u001b[0;34m(\u001b[0m\u001b[0mSCALE_VI\u001b[0m \u001b[0;34m*\u001b[0m \u001b[0;34m(\u001b[0m\u001b[0mmath\u001b[0m\u001b[0;34m.\u001b[0m\u001b[0mlog2\u001b[0m\u001b[0;34m(\u001b[0m\u001b[0mind\u001b[0m\u001b[0;34m[\u001b[0m\u001b[0;36m0\u001b[0m\u001b[0;34m]\u001b[0m\u001b[0;34m)\u001b[0m \u001b[0;34m-\u001b[0m \u001b[0mmath\u001b[0m\u001b[0;34m.\u001b[0m\u001b[0mlog2\u001b[0m\u001b[0;34m(\u001b[0m\u001b[0mp\u001b[0m\u001b[0;34m)\u001b[0m\u001b[0;34m)\u001b[0m \u001b[0;34m+\u001b[0m \u001b[0;36m0.5\u001b[0m\u001b[0;34m)\u001b[0m\u001b[0;34m)\u001b[0m \u001b[0;34m-\u001b[0m \u001b[0mind\u001b[0m\u001b[0;34m.\u001b[0m\u001b[0masset\u001b[0m\u001b[0;34m\u001b[0m\u001b[0;34m\u001b[0m\u001b[0m\n",
      "\u001b[0;31mKeyboardInterrupt\u001b[0m: "
     ]
    }
   ],
   "source": [
    "# Static mode - NT-bumped coordinates\n",
    "\n",
    "wealth_coordinates_NT = wealth_coordinates.copy()\n",
    "wealth_coordinates_NT[0] += h\n",
    "wealth_coordinates_NT[1] -= h/2\n",
    "wealth_coordinates_NT[2] -= h/2\n",
    "print(wealth_coordinates_NT)\n",
    "\n",
    "Static = main(\"static\", time, 0, agents, 0, 0, wealth_coordinates_NT, False)\n",
    "for i in range(repetitions - 1):\n",
    "    Static = Static.append(main(\"static\", time, 0, agents, 0, 0, wealth_coordinates_NT, False))\n",
    "Static.to_csv(\"static_NT_bump.csv\")"
   ]
  },
  {
   "cell_type": "code",
   "execution_count": null,
   "metadata": {},
   "outputs": [
    {
     "name": "stdout",
     "output_type": "stream",
     "text": [
      "[0.42, 0.36000000000000004, 0.22]\n"
     ]
    },
    {
     "name": "stderr",
     "output_type": "stream",
     "text": [
      "  8%|▊         | 1899/25000 [00:02<00:10, 2277.85it/s]/Users/aymericvie/Documents/GitHub/evology/evology/code/balance_sheet.py:264: UserWarning: Negative price -51.51\n",
      "  warnings.warn('Negative price '+ str(price) )\n",
      " 10%|█         | 2531/25000 [00:03<00:08, 2511.75it/s]"
     ]
    },
    {
     "name": "stdout",
     "output_type": "stream",
     "text": [
      "Replacing // Gen 2082 // Type: vi, C: 150813152, S+: -1205050, L: 0, M: 187951671, W: -37138518\n",
      "Replacing // Gen 2101 // Type: nt, C: -5151, S+: -1241326, L: 131555484, M: -63940710, W: -67619925\n"
     ]
    },
    {
     "name": "stderr",
     "output_type": "stream",
     "text": [
      "100%|██████████| 25000/25000 [00:11<00:00, 2160.51it/s]\n",
      " 39%|███▉      | 9863/25000 [00:04<00:04, 3652.58it/s]/Users/aymericvie/Documents/GitHub/evology/evology/code/balance_sheet.py:264: UserWarning: Negative price -1.74\n",
      "  warnings.warn('Negative price '+ str(price) )\n",
      " 42%|████▏     | 10579/25000 [00:04<00:04, 3173.16it/s]"
     ]
    },
    {
     "name": "stdout",
     "output_type": "stream",
     "text": [
      "Replacing // Gen 10121 // Type: vi, C: 249848358, S+: -4264073, L: 0, M: 543839922, W: -293991564\n",
      "Replacing // Gen 10124 // Type: nt, C: -174, S+: -8112775, L: 23630373, M: -14116230, W: -9514317\n",
      "Replacing // Gen 10124 // Type: nt, C: -174, S+: -25694349, L: 220821851, M: -44708167, W: -176113857\n"
     ]
    },
    {
     "name": "stderr",
     "output_type": "stream",
     "text": [
      " 46%|████▌     | 11496/25000 [00:05<00:04, 2840.79it/s]"
     ]
    },
    {
     "name": "stdout",
     "output_type": "stream",
     "text": [
      "Replacing // Gen 11000 // Type: nt, C: -174, S+: -22332475, L: 38876547, M: -38858507, W: -18213\n"
     ]
    },
    {
     "name": "stderr",
     "output_type": "stream",
     "text": [
      " 49%|████▉     | 12357/25000 [00:05<00:04, 2843.72it/s]"
     ]
    },
    {
     "name": "stdout",
     "output_type": "stream",
     "text": [
      "Replacing // Gen 11713 // Type: vi, C: -174, S+: -37771224, L: 65750114, M: -65721930, W: -28358\n"
     ]
    },
    {
     "name": "stderr",
     "output_type": "stream",
     "text": [
      "100%|██████████| 25000/25000 [00:10<00:00, 2492.40it/s]\n",
      "  9%|▉         | 2307/25000 [00:07<00:08, 2577.24it/s]"
     ]
    },
    {
     "name": "stdout",
     "output_type": "stream",
     "text": [
      "Replacing // Gen 1703 // Type: vi, C: 122009050, S+: -2965680, L: 0, M: 259437748, W: -137428698\n",
      "Replacing // Gen 1722 // Type: vi, C: 42495937, S+: -1946905, L: 0, M: 169886979, W: -127391041\n",
      "Replacing // Gen 1746 // Type: vi, C: 77110551, S+: -2916396, L: 0, M: 264225499, W: -187114947\n",
      "Replacing // Gen 1749 // Type: tf, C: 93456933, S+: -3458881, L: 0, M: 95465134, W: -2008201\n",
      "Replacing // Gen 1750 // Type: nt, C: 1420, S+: 1291560, L: 21995875, M: 0, W: -3654292\n",
      "Replacing // Gen 1750 // Type: nt, C: 1420, S+: 3300903, L: 88081002, M: 0, W: -41206759\n",
      "Replacing // Gen 1815 // Type: vi, C: 56006484, S+: -781728, L: 0, M: 65032008, W: -9025523\n",
      "Replacing // Gen 1815 // Type: vi, C: 56006484, S+: -781728, L: 0, M: 65032008, W: -9025523\n"
     ]
    },
    {
     "name": "stderr",
     "output_type": "stream",
     "text": [
      "100%|██████████| 25000/25000 [00:13<00:00, 1820.69it/s]\n",
      " 31%|███       | 7715/25000 [00:09<00:05, 3102.92it/s]"
     ]
    },
    {
     "name": "stdout",
     "output_type": "stream",
     "text": [
      "Replacing // Gen 7226 // Type: vi, C: 437481361, S+: -1544434, L: 0, M: 623472708, W: -185991347\n",
      "Replacing // Gen 7230 // Type: nt, C: 7756, S+: 2921977, L: 294277315, M: 0, W: -67611752\n",
      "Replacing // Gen 7231 // Type: tf, C: 204647, S+: -125979, L: 173006480, M: 257813394, W: -430615228\n",
      "Replacing // Gen 7231 // Type: tf, C: 204647, S+: -27120, L: 38992358, M: 55500855, W: -94288567\n"
     ]
    },
    {
     "name": "stderr",
     "output_type": "stream",
     "text": [
      "100%|██████████| 25000/25000 [00:17<00:00, 1460.51it/s]\n",
      "  6%|▌         | 1542/25000 [00:02<00:12, 1930.33it/s]/Users/aymericvie/Documents/GitHub/evology/evology/code/balance_sheet.py:264: UserWarning: Negative price -8.59\n",
      "  warnings.warn('Negative price '+ str(price) )\n",
      " 10%|█         | 2534/25000 [00:02<00:08, 2497.01it/s]"
     ]
    },
    {
     "name": "stdout",
     "output_type": "stream",
     "text": [
      "Replacing // Gen 1869 // Type: vi, C: 145971788, S+: -2188275, L: 0, M: 206048001, W: -60076212\n",
      "Replacing // Gen 1884 // Type: vi, C: 52455168, S+: -2362243, L: 0, M: 209932588, W: -157477419\n",
      "Replacing // Gen 1887 // Type: nt, C: -859, S+: -9709466, L: 97197630, M: -83404314, W: -13794174\n"
     ]
    },
    {
     "name": "stderr",
     "output_type": "stream",
     "text": [
      " 31%|███       | 7754/25000 [00:04<00:06, 2747.42it/s]"
     ]
    },
    {
     "name": "stdout",
     "output_type": "stream",
     "text": [
      "Replacing // Gen 7233 // Type: nt, C: -859, S+: -5764608, L: 49518649, M: -49517986, W: -1522\n"
     ]
    },
    {
     "name": "stderr",
     "output_type": "stream",
     "text": [
      " 42%|████▏     | 10513/25000 [00:05<00:05, 2726.01it/s]"
     ]
    },
    {
     "name": "stdout",
     "output_type": "stream",
     "text": [
      "Replacing // Gen 10096 // Type: vi, C: -859, S+: -12465799, L: 107115645, M: -107081215, W: -35288\n"
     ]
    },
    {
     "name": "stderr",
     "output_type": "stream",
     "text": [
      " 61%|██████    | 15296/25000 [00:07<00:03, 2715.45it/s]"
     ]
    },
    {
     "name": "stdout",
     "output_type": "stream",
     "text": [
      "Replacing // Gen 14665 // Type: nt, C: -859, S+: -5734181, L: 49268979, M: -49256620, W: -13217\n"
     ]
    },
    {
     "name": "stderr",
     "output_type": "stream",
     "text": [
      " 77%|███████▋  | 19163/25000 [00:09<00:02, 2536.52it/s]"
     ]
    },
    {
     "name": "stdout",
     "output_type": "stream",
     "text": [
      "Replacing // Gen 18750 // Type: vi, C: -859, S+: -12465799, L: 107097871, M: -107081215, W: -17514\n"
     ]
    },
    {
     "name": "stderr",
     "output_type": "stream",
     "text": [
      " 93%|█████████▎| 23149/25000 [00:10<00:00, 2686.16it/s]"
     ]
    },
    {
     "name": "stdout",
     "output_type": "stream",
     "text": [
      "Replacing // Gen 22631 // Type: nt, C: -859, S+: -5753451, L: 49428733, M: -49422145, W: -7447\n"
     ]
    },
    {
     "name": "stderr",
     "output_type": "stream",
     "text": [
      "100%|██████████| 25000/25000 [00:11<00:00, 2221.79it/s]\n"
     ]
    },
    {
     "name": "stdout",
     "output_type": "stream",
     "text": [
      "Replacing // Gen 24954 // Type: vi, C: -859, S+: -12465799, L: 107096724, M: -107081215, W: -16367\n"
     ]
    },
    {
     "name": "stderr",
     "output_type": "stream",
     "text": [
      " 68%|██████▊   | 17100/25000 [00:12<00:02, 3744.28it/s]"
     ]
    },
    {
     "name": "stdout",
     "output_type": "stream",
     "text": [
      "Replacing // Gen 16535 // Type: vi, C: 276708912, S+: -1199270, L: 0, M: 290175396, W: -13466484\n"
     ]
    },
    {
     "name": "stderr",
     "output_type": "stream",
     "text": [
      "100%|██████████| 25000/25000 [00:14<00:00, 1738.88it/s]\n",
      " 20%|██        | 5013/25000 [00:05<00:05, 3705.84it/s]"
     ]
    },
    {
     "name": "stdout",
     "output_type": "stream",
     "text": [
      "Replacing // Gen 4349 // Type: vi, C: 151200461, S+: -3173597, L: 0, M: 159092441, W: -7891979\n"
     ]
    },
    {
     "name": "stderr",
     "output_type": "stream",
     "text": [
      "100%|██████████| 25000/25000 [00:10<00:00, 2306.72it/s]\n",
      " 11%|█         | 2721/25000 [00:08<00:07, 2922.55it/s]"
     ]
    },
    {
     "name": "stdout",
     "output_type": "stream",
     "text": [
      "Replacing // Gen 2098 // Type: vi, C: 111129448, S+: -2920568, L: 0, M: 338377108, W: -227247660\n",
      "Replacing // Gen 2099 // Type: tf, C: 78925790, S+: -1584557, L: 0, M: 95184363, W: -16258573\n",
      "Replacing // Gen 2100 // Type: nt, C: 2270, S+: 5790078, L: 189563703, M: 0, W: -58126651\n",
      "Replacing // Gen 2101 // Type: tf, C: 10131, S+: -3410, L: 121952135, M: 345564, W: -122287569\n",
      "Replacing // Gen 2429 // Type: vi, C: 93601379, S+: -1403122, L: 0, M: 119840664, W: -26239285\n",
      "Replacing // Gen 2439 // Type: vi, C: 49030394, S+: -768994, L: 0, M: 66948686, W: -17918292\n"
     ]
    },
    {
     "name": "stderr",
     "output_type": "stream",
     "text": [
      "100%|██████████| 25000/25000 [00:14<00:00, 1773.20it/s]\n",
      " 40%|███▉      | 9939/25000 [00:04<00:04, 3600.82it/s]"
     ]
    },
    {
     "name": "stdout",
     "output_type": "stream",
     "text": [
      "Replacing // Gen 9482 // Type: vi, C: 189533289, S+: -2279488, L: 0, M: 223868518, W: -34335228\n",
      "Replacing // Gen 9495 // Type: vi, C: 61800529, S+: -1521772, L: 0, M: 148783735, W: -86983205\n",
      "Replacing // Gen 9510 // Type: vi, C: 68524744, S+: -791276, L: 0, M: 81865441, W: -13340697\n",
      "Replacing // Gen 9511 // Type: vi, C: 50002130, S+: -728185, L: 0, M: 69549037, W: -19546906\n",
      "Replacing // Gen 9514 // Type: tf, C: 39990094, S+: -3191747, L: 0, M: 39992602, W: -2507\n",
      "Replacing // Gen 9514 // Type: nt, C: 1253, S+: 14749596, L: 199951739, M: 0, W: -15138037\n",
      "Replacing // Gen 9589 // Type: tf, C: 13194, S+: 175441, L: 402239518, M: 0, W: -379078622\n"
     ]
    },
    {
     "name": "stderr",
     "output_type": "stream",
     "text": [
      " 89%|████████▉ | 22299/25000 [00:08<00:00, 3745.85it/s]/Users/aymericvie/Documents/GitHub/evology/evology/code/balance_sheet.py:264: UserWarning: Negative price -14.7\n",
      "  warnings.warn('Negative price '+ str(price) )\n",
      " 92%|█████████▏| 23037/25000 [00:08<00:00, 3282.83it/s]"
     ]
    },
    {
     "name": "stdout",
     "output_type": "stream",
     "text": [
      "Replacing // Gen 22632 // Type: nt, C: -1470, S+: -481199, L: 157047688, M: -7073633, W: -149975524\n"
     ]
    },
    {
     "name": "stderr",
     "output_type": "stream",
     "text": [
      "100%|██████████| 25000/25000 [00:09<00:00, 2767.51it/s]\n",
      " 50%|████▉     | 12443/25000 [00:11<00:04, 2976.27it/s]"
     ]
    },
    {
     "name": "stdout",
     "output_type": "stream",
     "text": [
      "Replacing // Gen 12128 // Type: vi, C: 336369224, S+: -2179989, L: 0, M: 391831274, W: -55462049\n",
      "Replacing // Gen 12131 // Type: nt, C: 4411, S+: 3999376, L: 176713232, M: 0, W: -296340\n",
      "Replacing // Gen 12132 // Type: tf, C: 44979, S+: -391564, L: 306882260, M: 176121778, W: -482959060\n",
      "Replacing // Gen 12133 // Type: nt, C: 171467939, S+: -33060, L: 0, M: 315310382, W: -143842442\n",
      "Replacing // Gen 12133 // Type: tf, C: 953732, S+: 0, L: 961150263, M: 0, W: -960193289\n"
     ]
    },
    {
     "name": "stderr",
     "output_type": "stream",
     "text": [
      " 74%|███████▍  | 18527/25000 [00:13<00:02, 2231.02it/s]"
     ]
    },
    {
     "name": "stdout",
     "output_type": "stream",
     "text": [
      "Replacing // Gen 18229 // Type: tf, C: 2739, S+: 71908, L: 19759002, M: 0, W: -17786703\n",
      "Replacing // Gen 18229 // Type: tf, C: 2739, S+: 71907, L: 19758959, M: 0, W: -17786664\n",
      "Replacing // Gen 18229 // Type: tf, C: 2739, S+: 71911, L: 19758788, M: 0, W: -17786403\n",
      "Replacing // Gen 18241 // Type: nt, C: 1745, S+: 1416222, L: 29279156, M: 0, W: -4564327\n",
      "Replacing // Gen 18241 // Type: nt, C: 1745, S+: 1264675, L: 27080300, M: 0, W: -5009970\n",
      "Replacing // Gen 18242 // Type: vi, C: 50012341, S+: -1133968, L: 0, M: 399996071, W: -349983730\n",
      "Replacing // Gen 18242 // Type: tf, C: 35274, S+: -105224, L: 433620241, M: 37116741, W: -470701709\n",
      "Replacing // Gen 18243 // Type: vi, C: 50017625, S+: -47709, L: 0, M: 400000000, W: -349982374\n",
      "Replacing // Gen 18243 // Type: nt, C: 838415, S+: 0, L: 1089254639, M: 3949, W: -1088420174\n"
     ]
    },
    {
     "name": "stderr",
     "output_type": "stream",
     "text": [
      "100%|██████████| 25000/25000 [00:16<00:00, 1479.47it/s]\n"
     ]
    }
   ],
   "source": [
    "# Static mode - VI-bumped coordinates\n",
    "\n",
    "wealth_coordinates_VI = wealth_coordinates.copy()\n",
    "wealth_coordinates_VI[0] -= h/2\n",
    "wealth_coordinates_VI[1] += h\n",
    "wealth_coordinates_VI[2] -= h/2\n",
    "print(wealth_coordinates_VI)\n",
    "\n",
    "Static = main(\"static\", time, 0, agents, 0, 0, wealth_coordinates_VI, False)\n",
    "for i in range(repetitions - 1):\n",
    "    Static = Static.append(main(\"static\", time, 0, agents, 0, 0, wealth_coordinates_VI, False))\n",
    "Static.to_csv(\"static_VI_bump.csv\")"
   ]
  },
  {
   "cell_type": "code",
   "execution_count": null,
   "metadata": {},
   "outputs": [
    {
     "name": "stdout",
     "output_type": "stream",
     "text": [
      "[0.42, 0.33, 0.25]\n"
     ]
    },
    {
     "name": "stderr",
     "output_type": "stream",
     "text": [
      " 24%|██▍       | 5996/25000 [00:01<00:05, 3737.18it/s]/Users/aymericvie/Documents/GitHub/evology/evology/code/balance_sheet.py:264: UserWarning: Negative price -21.37\n",
      "  warnings.warn('Negative price '+ str(price) )\n",
      " 25%|██▌       | 6370/25000 [00:01<00:05, 3450.03it/s]"
     ]
    },
    {
     "name": "stdout",
     "output_type": "stream",
     "text": [
      "Replacing // Gen 6157 // Type: vi, C: 160667041, S+: -911335, L: 0, M: 161907798, W: -1240757\n",
      "Replacing // Gen 6164 // Type: vi, C: 49669046, S+: -414261, L: 0, M: 72172634, W: -22503588\n",
      "Replacing // Gen 6182 // Type: nt, C: -2137, S+: -796344, L: 21225247, M: -17017891, W: -4209493\n",
      "Replacing // Gen 6182 // Type: nt, C: -2137, S+: -3753688, L: 107447675, M: -80216331, W: -27233480\n"
     ]
    },
    {
     "name": "stderr",
     "output_type": "stream",
     "text": [
      " 44%|████▎     | 10931/25000 [00:03<00:05, 2623.48it/s]"
     ]
    },
    {
     "name": "stdout",
     "output_type": "stream",
     "text": [
      "Replacing // Gen 10539 // Type: vi, C: -2137, S+: -3137080, L: 68006302, M: -67039414, W: -969025\n"
     ]
    },
    {
     "name": "stderr",
     "output_type": "stream",
     "text": [
      " 92%|█████████▏| 23113/25000 [00:08<00:00, 2639.44it/s]"
     ]
    },
    {
     "name": "stdout",
     "output_type": "stream",
     "text": [
      "Replacing // Gen 22640 // Type: nt, C: -2137, S+: -2264615, L: 48395895, M: -48394833, W: -3199\n",
      "Replacing // Gen 22641 // Type: nt, C: -2137, S+: -1164610, L: 48810210, M: -24887724, W: -23924623\n"
     ]
    },
    {
     "name": "stderr",
     "output_type": "stream",
     "text": [
      "100%|██████████| 25000/25000 [00:08<00:00, 2827.18it/s]\n",
      " 34%|███▎      | 8421/25000 [00:02<00:04, 3779.71it/s]"
     ]
    },
    {
     "name": "stdout",
     "output_type": "stream",
     "text": [
      "Replacing // Gen 8000 // Type: vi, C: 107751104, S+: -1334556, L: 0, M: 110327815, W: -2576710\n"
     ]
    },
    {
     "name": "stderr",
     "output_type": "stream",
     "text": [
      "100%|██████████| 25000/25000 [00:06<00:00, 3778.18it/s]\n",
      " 18%|█▊        | 4513/25000 [00:01<00:05, 3730.05it/s]"
     ]
    },
    {
     "name": "stdout",
     "output_type": "stream",
     "text": [
      "Replacing // Gen 3845 // Type: vi, C: 187728733, S+: -1704682, L: 0, M: 194401981, W: -6673248\n"
     ]
    },
    {
     "name": "stderr",
     "output_type": "stream",
     "text": [
      "100%|██████████| 25000/25000 [00:06<00:00, 3804.64it/s]\n",
      " 36%|███▌      | 8983/25000 [00:02<00:04, 3713.62it/s]"
     ]
    },
    {
     "name": "stdout",
     "output_type": "stream",
     "text": [
      "Replacing // Gen 8495 // Type: vi, C: 291726151, S+: -3066074, L: 0, M: 774981024, W: -483254873\n",
      "Replacing // Gen 8498 // Type: vi, C: 16431, S+: 1670783, L: 319814423, M: 0, W: -45271475\n",
      "Replacing // Gen 8502 // Type: vi, C: 156021215, S+: -1053850, L: 0, M: 368288970, W: -212267754\n",
      "Replacing // Gen 8503 // Type: vi, C: 50005674, S+: -1330025, L: 0, M: 399127472, W: -349121798\n",
      "Replacing // Gen 8504 // Type: vi, C: 50002278, S+: -492252, L: 0, M: 120454151, W: -70451872\n",
      "Replacing // Gen 8505 // Type: tf, C: 110581111, S+: -862889, L: 0, M: 131323149, W: -20742038\n",
      "Replacing // Gen 8507 // Type: nt, C: 3686, S+: 3233435, L: 259022472, M: 0, W: -139802033\n"
     ]
    },
    {
     "name": "stderr",
     "output_type": "stream",
     "text": [
      " 74%|███████▍  | 18442/25000 [00:04<00:01, 3718.69it/s]"
     ]
    },
    {
     "name": "stdout",
     "output_type": "stream",
     "text": [
      "Replacing // Gen 17927 // Type: vi, C: 567296874, S+: -6349899, L: 0, M: 867904280, W: -300607406\n",
      "Replacing // Gen 17942 // Type: vi, C: 81701757, S+: -1487014, L: 0, M: 209683907, W: -127982149\n"
     ]
    },
    {
     "name": "stderr",
     "output_type": "stream",
     "text": [
      "100%|██████████| 25000/25000 [00:06<00:00, 3765.59it/s]\n",
      "100%|██████████| 25000/25000 [00:06<00:00, 3785.27it/s]\n",
      " 21%|██▏       | 5321/25000 [00:01<00:05, 3768.07it/s]/Users/aymericvie/Documents/GitHub/evology/evology/code/balance_sheet.py:264: UserWarning: Negative price -23.4\n",
      "  warnings.warn('Negative price '+ str(price) )\n",
      " 24%|██▍       | 6044/25000 [00:01<00:06, 3089.05it/s]"
     ]
    },
    {
     "name": "stdout",
     "output_type": "stream",
     "text": [
      "Replacing // Gen 5348 // Type: vi, C: 122187831, S+: -1712640, L: 0, M: 134151098, W: -11963266\n",
      "Replacing // Gen 5356 // Type: nt, C: -2340, S+: -510076, L: 38628355, M: -11935788, W: -26694906\n",
      "Replacing // Gen 5356 // Type: nt, C: -2340, S+: -893425, L: 81528686, M: -20906152, W: -60624873\n"
     ]
    },
    {
     "name": "stderr",
     "output_type": "stream",
     "text": [
      " 73%|███████▎  | 18265/25000 [00:06<00:02, 2734.49it/s]"
     ]
    },
    {
     "name": "stdout",
     "output_type": "stream",
     "text": [
      "Replacing // Gen 17582 // Type: nt, C: -2340, S+: -2134569, L: 49951740, M: -49948931, W: -5149\n"
     ]
    },
    {
     "name": "stderr",
     "output_type": "stream",
     "text": [
      "100%|██████████| 25000/25000 [00:08<00:00, 2877.61it/s]\n",
      " 20%|█▉        | 4976/25000 [00:01<00:06, 3170.46it/s]"
     ]
    },
    {
     "name": "stdout",
     "output_type": "stream",
     "text": [
      "Replacing // Gen 4533 // Type: vi, C: 137917251, S+: -4054560, L: 0, M: 365640235, W: -227722984\n",
      "Replacing // Gen 4535 // Type: tf, C: 25439226, S+: -2288668, L: 0, M: 53211536, W: -27772310\n",
      "Replacing // Gen 4538 // Type: nt, C: 717, S+: 342430, L: 114901645, M: 0, W: -112445704\n",
      "Replacing // Gen 4603 // Type: tf, C: 155726299502, S+: -605475, L: 0, M: 199357914855, W: -43631615352\n",
      "Replacing // Gen 4625 // Type: tf, C: 1793077, S+: 777323, L: 15621610323, M: 0, W: -1681815261\n",
      "Replacing // Gen 4625 // Type: nt, C: 1793077, S+: -3822, L: 69527157, M: 68540650, W: -136274731\n",
      "Replacing // Gen 4626 // Type: vi, C: 50017843, S+: -3657, L: 0, M: 399999889, W: -349982045\n",
      "Replacing // Gen 4639 // Type: tf, C: 170794, S+: 1560387, L: 3116331872, M: 0, W: -451112813\n",
      "Replacing // Gen 4640 // Type: vi, C: 50004690, S+: -42137, L: 0, M: 71967935, W: -21963245\n"
     ]
    },
    {
     "name": "stderr",
     "output_type": "stream",
     "text": [
      "100%|██████████| 25000/25000 [00:09<00:00, 2574.54it/s]\n",
      " 31%|███       | 7712/25000 [00:02<00:04, 3761.96it/s]"
     ]
    },
    {
     "name": "stdout",
     "output_type": "stream",
     "text": [
      "Replacing // Gen 7212 // Type: vi, C: 126277020, S+: -5928787, L: 0, M: 164049563, W: -37772542\n",
      "Replacing // Gen 7329 // Type: vi, C: 63196517, S+: -3070616, L: 0, M: 86345746, W: -23149228\n"
     ]
    },
    {
     "name": "stderr",
     "output_type": "stream",
     "text": [
      "100%|██████████| 25000/25000 [00:06<00:00, 3785.43it/s]\n",
      " 49%|████▉     | 12350/25000 [00:03<00:03, 3731.45it/s]"
     ]
    },
    {
     "name": "stdout",
     "output_type": "stream",
     "text": [
      "Replacing // Gen 11813 // Type: vi, C: 154680427, S+: -1575704, L: 0, M: 197514508, W: -42834081\n"
     ]
    },
    {
     "name": "stderr",
     "output_type": "stream",
     "text": [
      "100%|██████████| 25000/25000 [00:06<00:00, 3773.79it/s]\n",
      " 62%|██████▏   | 15469/25000 [00:04<00:03, 3176.70it/s]"
     ]
    },
    {
     "name": "stdout",
     "output_type": "stream",
     "text": [
      "Replacing // Gen 15079 // Type: vi, C: 369297059, S+: -1209817, L: 0, M: 389730460, W: -20433401\n",
      "Replacing // Gen 15080 // Type: vi, C: 50004025, S+: -1348431, L: 0, M: 359383902, W: -309379877\n",
      "Replacing // Gen 15083 // Type: nt, C: 5166, S+: 4951271, L: 314109574, M: 0, W: -58321732\n",
      "Replacing // Gen 15084 // Type: tf, C: 44352, S+: -270962, L: 578302385, M: 120177318, W: -698435352\n",
      "Replacing // Gen 15084 // Type: vi, C: 50009690, S+: -901875, L: 0, M: 399999989, W: -349990299\n"
     ]
    },
    {
     "name": "stderr",
     "output_type": "stream",
     "text": [
      "100%|██████████| 25000/25000 [00:08<00:00, 3058.86it/s]\n"
     ]
    }
   ],
   "source": [
    "# Static mode - TF-bumped coordinates\n",
    "\n",
    "wealth_coordinates_TF = wealth_coordinates.copy()\n",
    "wealth_coordinates_TF[0] -= h/2\n",
    "wealth_coordinates_TF[1] -= h/2\n",
    "wealth_coordinates_TF[2] += h\n",
    "print(wealth_coordinates_TF)\n",
    "\n",
    "Static = main(\"static\", time, 0, agents, 0, 0, wealth_coordinates_TF, False)\n",
    "for i in range(repetitions - 1):\n",
    "    Static = Static.append(main(\"static\", time, 0, agents, 0, 0, wealth_coordinates_TF, False))\n",
    "Static.to_csv(\"static_TF_bump.csv\")"
   ]
  }
 ],
 "metadata": {
  "interpreter": {
   "hash": "aee8b7b246df8f9039afb4144a1f6fd8d2ca17a180786b69acc140d282b71a49"
  },
  "kernelspec": {
   "display_name": "Python 3.9.6 64-bit",
   "language": "python",
   "name": "python3"
  },
  "language_info": {
   "codemirror_mode": {
    "name": "ipython",
    "version": 3
   },
   "file_extension": ".py",
   "mimetype": "text/x-python",
   "name": "python",
   "nbconvert_exporter": "python",
   "pygments_lexer": "ipython3",
   "version": "3.9.6"
  },
  "orig_nbformat": 4
 },
 "nbformat": 4,
 "nbformat_minor": 2
}
