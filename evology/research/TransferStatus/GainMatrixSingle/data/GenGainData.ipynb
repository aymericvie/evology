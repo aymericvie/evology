{
 "cells": [
  {
   "cell_type": "code",
   "execution_count": 7,
   "metadata": {},
   "outputs": [],
   "source": [
    "#!/usr/bin/env python3\n",
    "import sys\n",
    "sys.path.insert(0, '/Users/aymericvie/Documents/GitHub/evology/evology/code/')\n",
    "from main import *\n",
    "from parameters import *\n",
    "\n",
    "time = 25200\n",
    "repetitions = 10\n",
    "agents = 3\n",
    "wealth_coordinates = [0.43, 0.34, 0.23]\n",
    "# wealth_coordinates = [0.13, 0.80, 0.07]\n",
    "bump_size = 0.02\n",
    "h = bump_size"
   ]
  },
  {
   "cell_type": "code",
   "execution_count": 8,
   "metadata": {},
   "outputs": [
    {
     "name": "stderr",
     "output_type": "stream",
     "text": [
      "100%|██████████| 12500/12500 [00:11<00:00, 1118.96it/s]\n",
      "100%|██████████| 12500/12500 [00:11<00:00, 1109.65it/s]\n",
      "100%|██████████| 12500/12500 [00:11<00:00, 1107.59it/s]\n",
      "100%|██████████| 12500/12500 [00:11<00:00, 1108.01it/s]\n",
      "100%|██████████| 12500/12500 [00:11<00:00, 1107.68it/s]\n",
      "100%|██████████| 12500/12500 [00:11<00:00, 1104.62it/s]\n",
      "100%|██████████| 12500/12500 [00:11<00:00, 1103.37it/s]\n",
      "100%|██████████| 12500/12500 [00:11<00:00, 1101.56it/s]\n",
      "100%|██████████| 12500/12500 [00:11<00:00, 1100.68it/s]\n",
      "100%|██████████| 12500/12500 [00:11<00:00, 1102.37it/s]\n"
     ]
    }
   ],
   "source": [
    "# Static mode - Standard coordinates\n",
    "\n",
    "Static = main(\"static\", time, 0, agents, 0, 0, wealth_coordinates, False)\n",
    "for i in range(repetitions - 1):\n",
    "    Static = Static.append(main(\"static\", time, 0, agents, 0, 0, wealth_coordinates, False))\n",
    "Static.to_csv(\"static_standard.csv\")"
   ]
  },
  {
   "cell_type": "code",
   "execution_count": 9,
   "metadata": {},
   "outputs": [
    {
     "name": "stdout",
     "output_type": "stream",
     "text": [
      "[0.45, 0.33, 0.22]\n"
     ]
    },
    {
     "name": "stderr",
     "output_type": "stream",
     "text": [
      "100%|██████████| 12500/12500 [00:03<00:00, 3756.19it/s]\n",
      "100%|██████████| 12500/12500 [00:03<00:00, 3752.36it/s]\n",
      "100%|██████████| 12500/12500 [00:03<00:00, 3647.92it/s]\n",
      "100%|██████████| 12500/12500 [00:03<00:00, 3663.88it/s]\n",
      "100%|██████████| 12500/12500 [00:03<00:00, 3733.56it/s]\n",
      "100%|██████████| 12500/12500 [00:03<00:00, 3696.01it/s]\n",
      "100%|██████████| 12500/12500 [00:03<00:00, 3739.71it/s]\n",
      " 80%|████████  | 10060/12500 [00:02<00:00, 3687.21it/s]/Users/aymericvie/Documents/GitHub/evology/evology/code/balance_sheet.py:264: UserWarning: Negative price -49.7\n",
      "  warnings.warn('Negative price '+ str(price) )\n",
      " 83%|████████▎ | 10429/12500 [00:02<00:00, 3279.98it/s]"
     ]
    },
    {
     "name": "stdout",
     "output_type": "stream",
     "text": [
      "Replacing // Gen 10107 // Type: vi, C: -4970, S+: -1190619, L: 261695770, M: -59173781, W: -202526958\n"
     ]
    },
    {
     "name": "stderr",
     "output_type": "stream",
     "text": [
      "100%|██████████| 12500/12500 [00:03<00:00, 3408.34it/s]\n",
      "100%|██████████| 12500/12500 [00:03<00:00, 3802.46it/s]\n",
      "100%|██████████| 12500/12500 [00:03<00:00, 3791.15it/s]\n"
     ]
    }
   ],
   "source": [
    "# Static mode - NT-bumped coordinates\n",
    "\n",
    "wealth_coordinates_NT = wealth_coordinates.copy()\n",
    "wealth_coordinates_NT[0] += h\n",
    "wealth_coordinates_NT[1] -= h/2\n",
    "wealth_coordinates_NT[2] -= h/2\n",
    "print(wealth_coordinates_NT)\n",
    "\n",
    "Static = main(\"static\", time, 0, agents, 0, 0, wealth_coordinates_NT, False)\n",
    "for i in range(repetitions - 1):\n",
    "    Static = Static.append(main(\"static\", time, 0, agents, 0, 0, wealth_coordinates_NT, False))\n",
    "Static.to_csv(\"static_NT_bump.csv\")"
   ]
  },
  {
   "cell_type": "code",
   "execution_count": 10,
   "metadata": {},
   "outputs": [
    {
     "name": "stdout",
     "output_type": "stream",
     "text": [
      "[0.42, 0.36000000000000004, 0.22]\n"
     ]
    },
    {
     "name": "stderr",
     "output_type": "stream",
     "text": [
      "100%|██████████| 12500/12500 [00:11<00:00, 1103.92it/s]\n",
      "100%|██████████| 12500/12500 [00:11<00:00, 1109.98it/s]\n",
      "100%|██████████| 12500/12500 [00:11<00:00, 1087.92it/s]\n",
      "100%|██████████| 12500/12500 [00:11<00:00, 1063.67it/s]\n",
      "100%|██████████| 12500/12500 [00:11<00:00, 1106.43it/s]\n",
      "100%|██████████| 12500/12500 [00:11<00:00, 1115.15it/s]\n",
      "100%|██████████| 12500/12500 [00:11<00:00, 1115.78it/s]\n",
      "100%|██████████| 12500/12500 [00:11<00:00, 1114.74it/s]\n",
      "100%|██████████| 12500/12500 [00:11<00:00, 1108.02it/s]\n",
      "100%|██████████| 12500/12500 [00:11<00:00, 1110.85it/s]\n"
     ]
    }
   ],
   "source": [
    "# Static mode - VI-bumped coordinates\n",
    "\n",
    "wealth_coordinates_VI = wealth_coordinates.copy()\n",
    "wealth_coordinates_VI[0] -= h/2\n",
    "wealth_coordinates_VI[1] += h\n",
    "wealth_coordinates_VI[2] -= h/2\n",
    "print(wealth_coordinates_VI)\n",
    "\n",
    "Static = main(\"static\", time, 0, agents, 0, 0, wealth_coordinates_VI, False)\n",
    "for i in range(repetitions - 1):\n",
    "    Static = Static.append(main(\"static\", time, 0, agents, 0, 0, wealth_coordinates_VI, False))\n",
    "Static.to_csv(\"static_VI_bump.csv\")"
   ]
  },
  {
   "cell_type": "code",
   "execution_count": 11,
   "metadata": {},
   "outputs": [
    {
     "name": "stdout",
     "output_type": "stream",
     "text": [
      "[0.42, 0.33, 0.25]\n"
     ]
    },
    {
     "name": "stderr",
     "output_type": "stream",
     "text": [
      "100%|██████████| 12500/12500 [00:03<00:00, 3797.19it/s]\n",
      "100%|██████████| 12500/12500 [00:03<00:00, 3758.30it/s]\n",
      "100%|██████████| 12500/12500 [00:03<00:00, 3682.37it/s]\n",
      "100%|██████████| 12500/12500 [00:03<00:00, 3833.39it/s]\n",
      "100%|██████████| 12500/12500 [00:03<00:00, 3830.59it/s]\n",
      "100%|██████████| 12500/12500 [00:03<00:00, 3835.31it/s]\n",
      "100%|██████████| 12500/12500 [00:03<00:00, 3825.76it/s]\n",
      "100%|██████████| 12500/12500 [00:03<00:00, 3813.47it/s]\n",
      "100%|██████████| 12500/12500 [00:03<00:00, 3808.81it/s]\n",
      "100%|██████████| 12500/12500 [00:03<00:00, 3814.51it/s]\n"
     ]
    }
   ],
   "source": [
    "# Static mode - TF-bumped coordinates\n",
    "\n",
    "wealth_coordinates_TF = wealth_coordinates.copy()\n",
    "wealth_coordinates_TF[0] -= h/2\n",
    "wealth_coordinates_TF[1] -= h/2\n",
    "wealth_coordinates_TF[2] += h\n",
    "print(wealth_coordinates_TF)\n",
    "\n",
    "Static = main(\"static\", time, 0, agents, 0, 0, wealth_coordinates_TF, False)\n",
    "for i in range(repetitions - 1):\n",
    "    Static = Static.append(main(\"static\", time, 0, agents, 0, 0, wealth_coordinates_TF, False))\n",
    "Static.to_csv(\"static_TF_bump.csv\")"
   ]
  }
 ],
 "metadata": {
  "interpreter": {
   "hash": "aee8b7b246df8f9039afb4144a1f6fd8d2ca17a180786b69acc140d282b71a49"
  },
  "kernelspec": {
   "display_name": "Python 3.9.6 64-bit",
   "language": "python",
   "name": "python3"
  },
  "language_info": {
   "codemirror_mode": {
    "name": "ipython",
    "version": 3
   },
   "file_extension": ".py",
   "mimetype": "text/x-python",
   "name": "python",
   "nbconvert_exporter": "python",
   "pygments_lexer": "ipython3",
   "version": "3.9.6"
  },
  "orig_nbformat": 4
 },
 "nbformat": 4,
 "nbformat_minor": 2
}
