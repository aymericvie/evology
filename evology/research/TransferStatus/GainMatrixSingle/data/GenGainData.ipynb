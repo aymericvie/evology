{
 "cells": [
  {
   "cell_type": "code",
   "execution_count": 1,
   "metadata": {},
   "outputs": [],
   "source": [
    "#!/usr/bin/env python3\n",
    "import sys\n",
    "sys.path.insert(0, '/Users/aymericvie/Documents/GitHub/evology/evology/code/')\n",
    "from main import *\n",
    "from parameters import *\n",
    "\n",
    "time = 10_000\n",
    "repetitions = 5\n",
    "agents = 50\n",
    "wealth_coordinates = [0.43, 0.34, 0.23]\n",
    "# wealth_coordinates = [0.13, 0.80, 0.07]\n",
    "bump_size = 0.02\n",
    "h = bump_size"
   ]
  },
  {
   "cell_type": "code",
   "execution_count": 2,
   "metadata": {},
   "outputs": [
    {
     "name": "stdout",
     "output_type": "stream",
     "text": [
      "[0.43, 0.34, 0.23]\n"
     ]
    },
    {
     "name": "stderr",
     "output_type": "stream",
     "text": [
      "100%|██████████| 10000/10000 [00:21<00:00, 465.97it/s]\n",
      "100%|██████████| 10000/10000 [00:21<00:00, 471.37it/s]\n",
      "100%|██████████| 10000/10000 [00:20<00:00, 486.08it/s]\n",
      "100%|██████████| 10000/10000 [02:01<00:00, 82.44it/s]\n",
      "100%|██████████| 10000/10000 [00:21<00:00, 474.82it/s]\n"
     ]
    }
   ],
   "source": [
    "# Static mode - Standard coordinates\n",
    "print(wealth_coordinates)\n",
    "Static = main(\"static\", time, 0, agents, 0, 0, wealth_coordinates, False)\n",
    "for i in range(repetitions - 1):\n",
    "    Static = Static.append(main(\"static\", time, 0, agents, 0, 0, wealth_coordinates, False))\n",
    "\n",
    "Static.to_csv(\"static_standard.csv\")"
   ]
  },
  {
   "cell_type": "code",
   "execution_count": 3,
   "metadata": {},
   "outputs": [
    {
     "name": "stdout",
     "output_type": "stream",
     "text": [
      "[0.45, 0.33, 0.22]\n"
     ]
    },
    {
     "name": "stderr",
     "output_type": "stream",
     "text": [
      "100%|██████████| 10000/10000 [00:21<00:00, 471.13it/s]\n",
      "100%|██████████| 10000/10000 [00:21<00:00, 475.97it/s]\n",
      "100%|██████████| 10000/10000 [00:20<00:00, 476.55it/s]\n",
      "100%|██████████| 10000/10000 [00:21<00:00, 460.98it/s]\n",
      "100%|██████████| 10000/10000 [00:21<00:00, 474.04it/s]\n"
     ]
    }
   ],
   "source": [
    "# Static mode - NT-bumped coordinates\n",
    "\n",
    "wealth_coordinates_NT = wealth_coordinates.copy()\n",
    "wealth_coordinates_NT[0] += h\n",
    "wealth_coordinates_NT[1] -= h/2\n",
    "wealth_coordinates_NT[2] -= h/2\n",
    "print(wealth_coordinates_NT)\n",
    "\n",
    "Static = main(\"static\", time, 0, agents, 0, 0, wealth_coordinates_NT, False)\n",
    "for i in range(repetitions - 1):\n",
    "    Static = Static.append(main(\"static\", time, 0, agents, 0, 0, wealth_coordinates_NT, False))\n",
    "Static.to_csv(\"static_NT_bump.csv\")"
   ]
  },
  {
   "cell_type": "code",
   "execution_count": 4,
   "metadata": {},
   "outputs": [
    {
     "name": "stdout",
     "output_type": "stream",
     "text": [
      "[0.42, 0.36000000000000004, 0.22]\n"
     ]
    },
    {
     "name": "stderr",
     "output_type": "stream",
     "text": [
      "100%|██████████| 10000/10000 [02:01<00:00, 82.60it/s]\n",
      "100%|██████████| 10000/10000 [00:20<00:00, 482.15it/s]\n",
      "100%|██████████| 10000/10000 [00:21<00:00, 470.83it/s]\n",
      "100%|██████████| 10000/10000 [00:21<00:00, 471.57it/s]\n",
      "100%|██████████| 10000/10000 [00:21<00:00, 470.21it/s]\n"
     ]
    }
   ],
   "source": [
    "# Static mode - VI-bumped coordinates\n",
    "\n",
    "wealth_coordinates_VI = wealth_coordinates.copy()\n",
    "wealth_coordinates_VI[0] -= h/2\n",
    "wealth_coordinates_VI[1] += h\n",
    "wealth_coordinates_VI[2] -= h/2\n",
    "print(wealth_coordinates_VI)\n",
    "\n",
    "Static = main(\"static\", time, 0, agents, 0, 0, wealth_coordinates_VI, False)\n",
    "for i in range(repetitions - 1):\n",
    "    Static = Static.append(main(\"static\", time, 0, agents, 0, 0, wealth_coordinates_VI, False))\n",
    "Static.to_csv(\"static_VI_bump.csv\")"
   ]
  },
  {
   "cell_type": "code",
   "execution_count": 5,
   "metadata": {},
   "outputs": [
    {
     "name": "stdout",
     "output_type": "stream",
     "text": [
      "[0.42, 0.33, 0.25]\n"
     ]
    },
    {
     "name": "stderr",
     "output_type": "stream",
     "text": [
      "100%|██████████| 10000/10000 [00:21<00:00, 463.07it/s]\n",
      "100%|██████████| 10000/10000 [00:21<00:00, 471.48it/s]\n",
      "100%|██████████| 10000/10000 [00:21<00:00, 472.73it/s]\n",
      "100%|██████████| 10000/10000 [00:20<00:00, 478.36it/s]\n",
      "100%|██████████| 10000/10000 [00:20<00:00, 478.47it/s]\n"
     ]
    }
   ],
   "source": [
    "# Static mode - TF-bumped coordinates\n",
    "\n",
    "wealth_coordinates_TF = wealth_coordinates.copy()\n",
    "wealth_coordinates_TF[0] -= h/2\n",
    "wealth_coordinates_TF[1] -= h/2\n",
    "wealth_coordinates_TF[2] += h\n",
    "print(wealth_coordinates_TF)\n",
    "\n",
    "Static = main(\"static\", time, 0, agents, 0, 0, wealth_coordinates_TF, False)\n",
    "for i in range(repetitions - 1):\n",
    "    Static = Static.append(main(\"static\", time, 0, agents, 0, 0, wealth_coordinates_TF, False))\n",
    "Static.to_csv(\"static_TF_bump.csv\")"
   ]
  }
 ],
 "metadata": {
  "interpreter": {
   "hash": "aee8b7b246df8f9039afb4144a1f6fd8d2ca17a180786b69acc140d282b71a49"
  },
  "kernelspec": {
   "display_name": "Python 3.9.6 64-bit",
   "language": "python",
   "name": "python3"
  },
  "language_info": {
   "codemirror_mode": {
    "name": "ipython",
    "version": 3
   },
   "file_extension": ".py",
   "mimetype": "text/x-python",
   "name": "python",
   "nbconvert_exporter": "python",
   "pygments_lexer": "ipython3",
   "version": "3.9.6"
  },
  "orig_nbformat": 4
 },
 "nbformat": 4,
 "nbformat_minor": 2
}
