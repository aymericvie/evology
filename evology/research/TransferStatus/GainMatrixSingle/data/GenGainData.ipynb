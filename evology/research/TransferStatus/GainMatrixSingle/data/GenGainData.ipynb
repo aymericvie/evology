{
 "cells": [
  {
   "cell_type": "code",
   "execution_count": 6,
   "metadata": {},
   "outputs": [],
   "source": [
    "#!/usr/bin/env python3\n",
    "import sys\n",
    "sys.path.insert(0, '/Users/aymericvie/Documents/GitHub/evology/evology/code/')\n",
    "from main import *\n",
    "from parameters import *\n",
    "\n",
    "time = 10_000\n",
    "repetitions = 5\n",
    "agents = 100\n",
    "wealth_coordinates = [0.42, 0.33, 0.25]"
   ]
  },
  {
   "cell_type": "code",
   "execution_count": 7,
   "metadata": {},
   "outputs": [
    {
     "name": "stderr",
     "output_type": "stream",
     "text": [
      "100%|██████████| 10000/10000 [00:29<00:00, 341.72it/s]\n",
      "100%|██████████| 10000/10000 [00:28<00:00, 353.13it/s]\n",
      "100%|██████████| 10000/10000 [00:28<00:00, 350.08it/s]\n",
      "100%|██████████| 10000/10000 [00:28<00:00, 348.01it/s]\n",
      "100%|██████████| 10000/10000 [00:28<00:00, 350.87it/s]\n"
     ]
    }
   ],
   "source": [
    "# Static mode - Standard coordinates\n",
    "\n",
    "Static = main(\"static\", time, 0, 100, 0, 0, wealth_coordinates, False)\n",
    "for i in range(repetitions - 1):\n",
    "    Static = Static.append(main(\"static\", time, 0, agents, 0, 0, wealth_coordinates, False))\n",
    "Static.to_csv(\"static_standard.csv\")"
   ]
  },
  {
   "cell_type": "code",
   "execution_count": 9,
   "metadata": {},
   "outputs": [
    {
     "name": "stdout",
     "output_type": "stream",
     "text": [
      "[0.43, 0.325, 0.245]\n"
     ]
    },
    {
     "name": "stderr",
     "output_type": "stream",
     "text": [
      "100%|██████████| 10000/10000 [00:48<00:00, 207.68it/s]\n",
      "100%|██████████| 10000/10000 [00:28<00:00, 345.58it/s]\n",
      "100%|██████████| 10000/10000 [00:29<00:00, 336.49it/s]\n",
      "100%|██████████| 10000/10000 [00:29<00:00, 340.78it/s]\n",
      "100%|██████████| 10000/10000 [00:29<00:00, 341.32it/s]\n"
     ]
    }
   ],
   "source": [
    "# Static mode - NT-bumped coordinates\n",
    "h = 0.01\n",
    "\n",
    "wealth_coordinates_NT = [0.42+h, 0.33-(h/2), 0.25-(h/2)]\n",
    "print(wealth_coordinates_NT)\n",
    "\n",
    "Static = main(\"static\", time, 0, 100, 0, 0, wealth_coordinates_NT, False)\n",
    "for i in range(repetitions - 1):\n",
    "    Static = Static.append(main(\"static\", time, 0, agents, 0, 0, wealth_coordinates_NT, False))\n",
    "Static.to_csv(\"static_NT_bump.csv\")"
   ]
  },
  {
   "cell_type": "code",
   "execution_count": 10,
   "metadata": {},
   "outputs": [
    {
     "name": "stdout",
     "output_type": "stream",
     "text": [
      "[0.415, 0.34, 0.245]\n"
     ]
    },
    {
     "name": "stderr",
     "output_type": "stream",
     "text": [
      "100%|██████████| 10000/10000 [00:29<00:00, 344.39it/s]\n",
      "100%|██████████| 10000/10000 [00:29<00:00, 344.49it/s]\n",
      "100%|██████████| 10000/10000 [00:29<00:00, 342.59it/s]\n",
      "100%|██████████| 10000/10000 [00:28<00:00, 351.29it/s]\n",
      "100%|██████████| 10000/10000 [00:28<00:00, 346.14it/s]\n"
     ]
    }
   ],
   "source": [
    "# Static mode - VI-bumped coordinates\n",
    "h = 0.01\n",
    "\n",
    "wealth_coordinates_VI = [0.42-(h/2), 0.33+h, 0.25-(h/2)]\n",
    "print(wealth_coordinates_VI)\n",
    "\n",
    "Static = main(\"static\", time, 0, 100, 0, 0, wealth_coordinates_VI, False)\n",
    "for i in range(repetitions - 1):\n",
    "    Static = Static.append(main(\"static\", time, 0, agents, 0, 0, wealth_coordinates_VI, False))\n",
    "Static.to_csv(\"static_VI_bump.csv\")"
   ]
  },
  {
   "cell_type": "code",
   "execution_count": 11,
   "metadata": {},
   "outputs": [
    {
     "name": "stdout",
     "output_type": "stream",
     "text": [
      "[0.415, 0.325, 0.26]\n"
     ]
    },
    {
     "name": "stderr",
     "output_type": "stream",
     "text": [
      "100%|██████████| 10000/10000 [00:28<00:00, 351.42it/s]\n",
      "100%|██████████| 10000/10000 [00:29<00:00, 344.74it/s]\n",
      "100%|██████████| 10000/10000 [00:29<00:00, 339.63it/s]\n",
      "100%|██████████| 10000/10000 [00:28<00:00, 346.56it/s]\n",
      "100%|██████████| 10000/10000 [00:28<00:00, 348.86it/s]\n"
     ]
    }
   ],
   "source": [
    "# Static mode - VI-bumped coordinates\n",
    "h = 0.01\n",
    "\n",
    "wealth_coordinates_TF = [0.42-(h/2), 0.33-(h/2), 0.25+h]\n",
    "print(wealth_coordinates_TF)\n",
    "\n",
    "Static = main(\"static\", time, 0, 100, 0, 0, wealth_coordinates_TF, False)\n",
    "for i in range(repetitions - 1):\n",
    "    Static = Static.append(main(\"static\", time, 0, agents, 0, 0, wealth_coordinates_TF, False))\n",
    "Static.to_csv(\"static_TF_bump.csv\")"
   ]
  }
 ],
 "metadata": {
  "interpreter": {
   "hash": "aee8b7b246df8f9039afb4144a1f6fd8d2ca17a180786b69acc140d282b71a49"
  },
  "kernelspec": {
   "display_name": "Python 3.9.6 64-bit",
   "language": "python",
   "name": "python3"
  },
  "language_info": {
   "codemirror_mode": {
    "name": "ipython",
    "version": 3
   },
   "file_extension": ".py",
   "mimetype": "text/x-python",
   "name": "python",
   "nbconvert_exporter": "python",
   "pygments_lexer": "ipython3",
   "version": "3.9.6"
  },
  "orig_nbformat": 4
 },
 "nbformat": 4,
 "nbformat_minor": 2
}
