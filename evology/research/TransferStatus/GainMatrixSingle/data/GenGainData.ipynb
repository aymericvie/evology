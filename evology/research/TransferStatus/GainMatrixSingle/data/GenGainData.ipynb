{
 "cells": [
  {
   "cell_type": "code",
   "execution_count": 1,
   "metadata": {},
   "outputs": [],
   "source": [
    "#!/usr/bin/env python3\n",
    "import sys\n",
    "sys.path.insert(0, '/Users/aymericvie/Documents/GitHub/evology/evology/code/')\n",
    "from main import *\n",
    "from parameters import *\n",
    "\n",
    "time = 10000\n",
    "repetitions = 5\n",
    "agents = 50\n",
    "wealth_coordinates = [0.43, 0.34, 0.23]\n",
    "# wealth_coordinates = [0.13, 0.80, 0.07]\n",
    "bump_size = 0.02\n",
    "h = bump_size"
   ]
  },
  {
   "cell_type": "code",
   "execution_count": 2,
   "metadata": {},
   "outputs": [
    {
     "name": "stdout",
     "output_type": "stream",
     "text": [
      "[0.43, 0.34, 0.23]\n"
     ]
    },
    {
     "name": "stderr",
     "output_type": "stream",
     "text": [
      " 11%|█         | 2639/25000 [00:08<00:08, 2774.86it/s]"
     ]
    },
    {
     "name": "stdout",
     "output_type": "stream",
     "text": [
      "Replacing // Gen 2056 // Type: vi, C: 119023162, S+: -894269, L: 0, M: 166530789, W: -47507626\n",
      "Replacing // Gen 2057 // Type: vi, C: 50002860, S+: -1853320, L: 0, M: 243155714, W: -193152854\n",
      "Replacing // Gen 2075 // Type: vi, C: 91767321, S+: -725688, L: 0, M: 96132002, W: -4364681\n",
      "Replacing // Gen 2081 // Type: vi, C: 48355965, S+: -404460, L: 0, M: 54913624, W: -6557658\n"
     ]
    },
    {
     "name": "stderr",
     "output_type": "stream",
     "text": [
      "100%|██████████| 25000/25000 [00:15<00:00, 1636.08it/s]\n",
      " 20%|█▉        | 4932/25000 [00:05<00:05, 3542.42it/s]/Users/aymericvie/Documents/GitHub/evology/evology/code/balance_sheet.py:129: UserWarning: NT Error\n",
      "  warnings.warn('NT Error')\n",
      " 21%|██        | 5295/25000 [00:05<00:06, 3181.28it/s]"
     ]
    },
    {
     "name": "stdout",
     "output_type": "stream",
     "text": [
      "Replacing // Gen 4941 // Type: vi, C: 141594257, S+: -5020487, L: 0, M: 385924838, W: -244330580\n",
      "Replacing // Gen 4953 // Type: nt, C: 1330, S+: 1811767, L: 46004136, M: 0, W: -21906295\n",
      "Replacing // Gen 5048 // Type: tf, C: 32789, S+: 595492, L: 2206597904, M: 0, W: -2011308940\n",
      "Replacing // Gen 5049 // Type: nt, C: 371482, S+: -11188, L: 6332146, M: 41564585, W: -47525250\n"
     ]
    },
    {
     "name": "stderr",
     "output_type": "stream",
     "text": [
      "100%|██████████| 25000/25000 [00:13<00:00, 1875.65it/s]\n",
      " 88%|████████▊ | 22041/25000 [00:13<00:00, 3702.84it/s]"
     ]
    },
    {
     "name": "stdout",
     "output_type": "stream",
     "text": [
      "Replacing // Gen 21475 // Type: vi, C: 538788698, S+: -5387292, L: 0, M: 671256597, W: -132467899\n",
      "Replacing // Gen 21479 // Type: nt, C: 1604, S+: 1057509, L: 25516188, M: 0, W: -8552124\n",
      "Replacing // Gen 21479 // Type: nt, C: 1604, S+: 5881970, L: 214504647, M: 0, W: -120156231\n",
      "Replacing // Gen 21480 // Type: tf, C: 244822233, S+: -2603119, L: 0, M: 278715993, W: -33893760\n"
     ]
    },
    {
     "name": "stderr",
     "output_type": "stream",
     "text": [
      "100%|██████████| 25000/25000 [00:14<00:00, 1760.60it/s]\n",
      "100%|██████████| 25000/25000 [00:08<00:00, 3033.68it/s]\n",
      " 63%|██████▎   | 15649/25000 [00:11<00:02, 3759.25it/s]"
     ]
    },
    {
     "name": "stdout",
     "output_type": "stream",
     "text": [
      "Replacing // Gen 14935 // Type: vi, C: 337410662, S+: -1593070, L: 0, M: 371297001, W: -33886339\n"
     ]
    },
    {
     "name": "stderr",
     "output_type": "stream",
     "text": [
      "100%|██████████| 25000/25000 [00:14<00:00, 1746.52it/s]\n",
      " 54%|█████▍    | 13551/25000 [00:11<00:03, 3740.48it/s]"
     ]
    },
    {
     "name": "stdout",
     "output_type": "stream",
     "text": [
      "Replacing // Gen 12848 // Type: vi, C: 209392408, S+: -886803, L: 0, M: 278216884, W: -68824475\n"
     ]
    },
    {
     "name": "stderr",
     "output_type": "stream",
     "text": [
      " 63%|██████▎   | 15836/25000 [00:11<00:02, 3733.63it/s]/Users/aymericvie/Documents/GitHub/evology/evology/code/balance_sheet.py:264: UserWarning: Negative price -46.1\n",
      "  warnings.warn('Negative price '+ str(price) )\n",
      "/Users/aymericvie/Documents/GitHub/evology/evology/code/balance_sheet.py:270: RuntimeWarning: invalid value encountered in log2\n",
      "  ind.tsv = np.log2(ind[0] * abs(ind.process)) - np.log2(price)\n",
      "/Users/aymericvie/Documents/GitHub/evology/evology/code/balance_sheet.py:81: RuntimeWarning: invalid value encountered in log2\n",
      "  ind.tsv = np.log2(price_history[-1]) - np.log2(price_history[-ind[0]])\n",
      "/Users/aymericvie/Documents/GitHub/evology/evology/code/balance_sheet.py:119: UserWarning: VI Error\n",
      "  warnings.warn('VI Error')\n",
      "/Users/aymericvie/Documents/GitHub/evology/evology/code/balance_sheet.py:268: RuntimeWarning: invalid value encountered in log2\n",
      "  ind.tsv = np.log2(ind[0]) - np.log2(price)\n",
      " 65%|██████▍   | 16210/25000 [00:12<00:02, 3329.12it/s]"
     ]
    },
    {
     "name": "stdout",
     "output_type": "stream",
     "text": [
      "Replacing // Gen 15852 // Type: nt, C: -4610, S+: -5593500, L: 333920923, M: -257860383, W: -76065150\n"
     ]
    },
    {
     "name": "stderr",
     "output_type": "stream",
     "text": [
      " 85%|████████▍ | 21223/25000 [00:14<00:01, 2611.70it/s]"
     ]
    },
    {
     "name": "stdout",
     "output_type": "stream",
     "text": [
      "Replacing // Gen 20699 // Type: vi, C: -4610, S+: -2375613, L: 112887410, M: -109515798, W: -3376222\n"
     ]
    },
    {
     "name": "stderr",
     "output_type": "stream",
     "text": [
      "100%|██████████| 25000/25000 [00:15<00:00, 1617.86it/s]\n",
      " 13%|█▎        | 3279/25000 [00:02<00:06, 3258.52it/s]"
     ]
    },
    {
     "name": "stdout",
     "output_type": "stream",
     "text": [
      "Replacing // Gen 2891 // Type: vi, C: 142552302, S+: -1707320, L: 0, M: 298781028, W: -156228726\n",
      "Replacing // Gen 2893 // Type: tf, C: 109219542, S+: -1885142, L: 0, M: 119272989, W: -10053447\n",
      "Replacing // Gen 2897 // Type: nt, C: 1138, S+: 2182473, L: 39493360, M: 0, W: -14655669\n",
      "Replacing // Gen 2897 // Type: nt, C: 1138, S+: 6390365, L: 201667977, M: 0, W: -128944475\n",
      "Replacing // Gen 2898 // Type: tf, C: 2675, S+: -242059, L: 9825907, M: 6475078, W: -16298311\n",
      "Replacing // Gen 2898 // Type: tf, C: 49992177, S+: -1869158, L: 0, M: 49999999, W: -7822\n",
      "Replacing // Gen 2898 // Type: tf, C: 49992177, S+: -1869158, L: 0, M: 49999999, W: -7822\n",
      "Replacing // Gen 3208 // Type: vi, C: 11920, S+: 1082158, L: 132759181, M: 0, W: -3753933\n",
      "Replacing // Gen 3223 // Type: nt, C: 903, S+: 414502, L: 5782179, M: 0, W: -2034175\n",
      "Replacing // Gen 3223 // Type: nt, C: 903, S+: 467292, L: 6518377, M: 0, W: -2293150\n",
      "Replacing // Gen 3223 // Type: nt, C: 903, S+: 618205, L: 8606881, M: 0, W: -3017399\n"
     ]
    },
    {
     "name": "stderr",
     "output_type": "stream",
     "text": [
      " 46%|████▋     | 11600/25000 [00:04<00:03, 3772.83it/s]"
     ]
    },
    {
     "name": "stdout",
     "output_type": "stream",
     "text": [
      "Replacing // Gen 11149 // Type: vi, C: 88093178, S+: -545244, L: 0, M: 89823577, W: -1730398\n",
      "Replacing // Gen 11149 // Type: vi, C: 88093178, S+: -545244, L: 0, M: 89823577, W: -1730398\n"
     ]
    },
    {
     "name": "stderr",
     "output_type": "stream",
     "text": [
      "100%|██████████| 25000/25000 [00:07<00:00, 3135.93it/s]\n",
      " 37%|███▋      | 9130/25000 [00:06<00:04, 3466.46it/s]"
     ]
    },
    {
     "name": "stdout",
     "output_type": "stream",
     "text": [
      "Replacing // Gen 8339 // Type: vi, C: 170760009, S+: -2106686, L: 0, M: 272331375, W: -101571366\n",
      "Replacing // Gen 8347 // Type: tf, C: 110483187, S+: -4716247, L: 0, M: 117670371, W: -7187184\n"
     ]
    },
    {
     "name": "stderr",
     "output_type": "stream",
     "text": [
      " 48%|████▊     | 12063/25000 [00:07<00:03, 3591.93it/s]"
     ]
    },
    {
     "name": "stdout",
     "output_type": "stream",
     "text": [
      "Replacing // Gen 11512 // Type: vi, C: 796616009, S+: -5077761, L: 0, M: 895767924, W: -99151915\n",
      "Replacing // Gen 11513 // Type: vi, C: 50002209, S+: -589776, L: 0, M: 93332055, W: -43329845\n"
     ]
    },
    {
     "name": "stderr",
     "output_type": "stream",
     "text": [
      "100%|██████████| 25000/25000 [00:10<00:00, 2349.99it/s]\n",
      " 16%|█▌        | 3883/25000 [00:08<00:06, 3476.12it/s]/Users/aymericvie/Documents/GitHub/evology/evology/code/balance_sheet.py:264: UserWarning: Negative price -27.2\n",
      "  warnings.warn('Negative price '+ str(price) )\n",
      " 18%|█▊        | 4617/25000 [00:08<00:06, 3161.72it/s]"
     ]
    },
    {
     "name": "stdout",
     "output_type": "stream",
     "text": [
      "Replacing // Gen 4128 // Type: vi, C: 190901368, S+: -1923012, L: 0, M: 328719749, W: -137818381\n",
      "Replacing // Gen 4142 // Type: vi, C: 67255460, S+: -987360, L: 0, M: 160643472, W: -93388011\n",
      "Replacing // Gen 4166 // Type: nt, C: -2720, S+: -838800, L: 378243636, M: -22815378, W: -355430978\n",
      "Replacing // Gen 4167 // Type: nt, C: -2720, S+: -211497, L: 13339197, M: -5752735, W: -7589182\n"
     ]
    },
    {
     "name": "stderr",
     "output_type": "stream",
     "text": [
      "100%|██████████| 25000/25000 [00:16<00:00, 1515.88it/s]\n",
      " 12%|█▏        | 3002/25000 [00:04<00:07, 3083.03it/s]"
     ]
    },
    {
     "name": "stdout",
     "output_type": "stream",
     "text": [
      "Replacing // Gen 2464 // Type: vi, C: 176958930, S+: -1732381, L: 0, M: 192484884, W: -15525954\n",
      "Replacing // Gen 2476 // Type: vi, C: 60653130, S+: -950345, L: 0, M: 114431074, W: -53777944\n"
     ]
    },
    {
     "name": "stderr",
     "output_type": "stream",
     "text": [
      "100%|██████████| 25000/25000 [00:10<00:00, 2434.25it/s]\n"
     ]
    }
   ],
   "source": [
    "# Static mode - Standard coordinates\n",
    "print(wealth_coordinates)\n",
    "Static = main(\"static\", time, 0, agents, 0, 0, wealth_coordinates, False)\n",
    "for i in range(repetitions - 1):\n",
    "    Static = Static.append(main(\"static\", time, 0, agents, 0, 0, wealth_coordinates, False))\n",
    "\n",
    "Static.to_csv(\"static_standard.csv\")"
   ]
  },
  {
   "cell_type": "code",
   "execution_count": 3,
   "metadata": {},
   "outputs": [
    {
     "name": "stdout",
     "output_type": "stream",
     "text": [
      "[0.45, 0.33, 0.22]\n"
     ]
    },
    {
     "name": "stderr",
     "output_type": "stream",
     "text": [
      "  2%|▏         | 376/25000 [00:00<00:06, 3752.64it/s]"
     ]
    },
    {
     "name": "stdout",
     "output_type": "stream",
     "text": [
      "Replacing // Gen 479 // Type: vi, C: 93184204, S+: -1061009, L: 0, M: 156541276, W: -63357072\n",
      "Replacing // Gen 481 // Type: tf, C: 73523735, S+: -1209122, L: 0, M: 76331910, W: -2808175\n",
      "Replacing // Gen 612 // Type: vi, C: 243747218, S+: -1760964, L: 0, M: 302533683, W: -58786465\n",
      "Replacing // Gen 613 // Type: vi, C: 50003223, S+: -2418045, L: 0, M: 300635584, W: -250632361\n",
      "Replacing // Gen 615 // Type: tf, C: 37801269, S+: -850784, L: 0, M: 41764989, W: -3963719\n",
      "Replacing // Gen 680 // Type: vi, C: 459480695, S+: -5859237, L: 0, M: 720803420, W: -261322724\n",
      "Replacing // Gen 691 // Type: nt, C: 442, S+: 717730, L: 6922644, M: 0, W: -3749832\n",
      "Replacing // Gen 691 // Type: nt, C: 442, S+: 8569563, L: 82652745, M: 0, W: -44774832\n",
      "Replacing // Gen 692 // Type: tf, C: 24920330, S+: -2927999, L: 0, M: 53845917, W: -28925587\n",
      "Replacing // Gen 692 // Type: tf, C: 49991733, S+: -2718627, L: 0, M: 49995554, W: -3821\n"
     ]
    },
    {
     "name": "stderr",
     "output_type": "stream",
     "text": [
      "100%|██████████| 25000/25000 [00:06<00:00, 3739.25it/s]\n",
      "  8%|▊         | 1898/25000 [00:00<00:06, 3682.55it/s]"
     ]
    },
    {
     "name": "stdout",
     "output_type": "stream",
     "text": [
      "Replacing // Gen 1456 // Type: vi, C: 158201099, S+: -2288296, L: 0, M: 278302598, W: -120101499\n",
      "Replacing // Gen 1571 // Type: nt, C: 518, S+: 2829593, L: 15630673, M: 0, W: -972863\n",
      "Replacing // Gen 1572 // Type: tf, C: 10942, S+: -954766, L: 222011031, M: 104470573, W: -326470662\n"
     ]
    },
    {
     "name": "stderr",
     "output_type": "stream",
     "text": [
      " 26%|██▋       | 6577/25000 [00:01<00:04, 3749.82it/s]"
     ]
    },
    {
     "name": "stdout",
     "output_type": "stream",
     "text": [
      "Replacing // Gen 5994 // Type: vi, C: 97948348, S+: -928694, L: 0, M: 106632669, W: -8684320\n",
      "Replacing // Gen 6003 // Type: vi, C: 48790295, S+: -524992, L: 0, M: 62432058, W: -13641763\n",
      "Replacing // Gen 6008 // Type: vi, C: 158906541, S+: -1482594, L: 0, M: 181098942, W: -22192401\n"
     ]
    },
    {
     "name": "stderr",
     "output_type": "stream",
     "text": [
      "100%|██████████| 25000/25000 [00:06<00:00, 3742.04it/s]\n",
      " 16%|█▌        | 3886/25000 [00:01<00:05, 3752.31it/s]"
     ]
    },
    {
     "name": "stdout",
     "output_type": "stream",
     "text": [
      "Replacing // Gen 3209 // Type: vi, C: 145473165, S+: -3548377, L: 0, M: 325421735, W: -179948570\n",
      "Replacing // Gen 3233 // Type: vi, C: 132559408, S+: -1762793, L: 0, M: 166213804, W: -33654395\n"
     ]
    },
    {
     "name": "stderr",
     "output_type": "stream",
     "text": [
      " 47%|████▋     | 11770/25000 [00:03<00:04, 3125.89it/s]"
     ]
    },
    {
     "name": "stdout",
     "output_type": "stream",
     "text": [
      "Replacing // Gen 11315 // Type: nt, C: 231019162, S+: -3090216, L: 0, M: 317797894, W: -86778732\n",
      "Replacing // Gen 11316 // Type: vi, C: 50005950, S+: -3493033, L: 0, M: 399428391, W: -349422441\n",
      "Replacing // Gen 11317 // Type: vi, C: 50003083, S+: -3155664, L: 0, M: 301302835, W: -251299751\n",
      "Replacing // Gen 11321 // Type: nt, C: 1598, S+: 1369155, L: 22412865, M: 0, W: -532157\n",
      "Replacing // Gen 11321 // Type: nt, C: 1598, S+: 12961685, L: 237082758, M: 0, W: -29953419\n",
      "Replacing // Gen 11322 // Type: tf, C: 15288, S+: -648344, L: 347295826, M: 99118915, W: -446399454\n",
      "Replacing // Gen 11322 // Type: vi, C: 50008943, S+: -2616430, L: 0, M: 399999829, W: -349990886\n",
      "Replacing // Gen 11323 // Type: vi, C: 50017468, S+: -113527, L: 0, M: 399999980, W: -349982511\n",
      "Replacing // Gen 11323 // Type: vi, C: 50017468, S+: -113527, L: 0, M: 399999980, W: -349982511\n",
      "Replacing // Gen 11323 // Type: tf, C: 352338, S+: 0, L: 1052687427, M: 0, W: -1052332308\n"
     ]
    },
    {
     "name": "stderr",
     "output_type": "stream",
     "text": [
      "100%|██████████| 25000/25000 [00:08<00:00, 2901.35it/s]\n",
      " 48%|████▊     | 11884/25000 [00:03<00:03, 3755.06it/s]"
     ]
    },
    {
     "name": "stdout",
     "output_type": "stream",
     "text": [
      "Replacing // Gen 11437 // Type: vi, C: 236002631, S+: -3665364, L: 0, M: 245396144, W: -9393512\n",
      "Replacing // Gen 11454 // Type: nt, C: 990, S+: 812734, L: 49585755, M: 0, W: -41538696\n",
      "Replacing // Gen 11455 // Type: tf, C: 5557, S+: -624814, L: 59002655, M: 34720950, W: -93718049\n",
      "Replacing // Gen 11460 // Type: vi, C: 49642316, S+: -953499, L: 0, M: 59746259, W: -10103942\n"
     ]
    },
    {
     "name": "stderr",
     "output_type": "stream",
     "text": [
      " 74%|███████▍  | 18615/25000 [00:05<00:02, 3153.44it/s]"
     ]
    },
    {
     "name": "stdout",
     "output_type": "stream",
     "text": [
      "Replacing // Gen 18130 // Type: nt, C: 26587962, S+: -153064, L: 0, M: 65762686, W: -39174723\n",
      "Replacing // Gen 18130 // Type: vi, C: 42964, S+: -158201, L: 517853123, M: 67969781, W: -585779941\n",
      "Replacing // Gen 18131 // Type: vi, C: 50016555, S+: -397697, L: 0, M: 400000000, W: -349983444\n",
      "Replacing // Gen 18162 // Type: tf, C: 405424640, S+: -36235, L: 0, M: 502478604, W: -97053963\n",
      "Replacing // Gen 18206 // Type: nt, C: 411649, S+: -29, L: 86319959, M: 121802, W: -86030113\n",
      "Replacing // Gen 18206 // Type: nt, C: 411649, S+: -141, L: 62110872, M: 583785, W: -62283009\n",
      "Replacing // Gen 18277 // Type: nt, C: 477230, S+: -557, L: 28363979, M: 2660335, W: -30547084\n",
      "Replacing // Gen 18353 // Type: nt, C: 491813, S+: -165, L: 28197791, M: 811623, W: -28517601\n",
      "Replacing // Gen 18429 // Type: nt, C: 506135, S+: -108, L: 27857035, M: 547036, W: -27897936\n",
      "Replacing // Gen 18505 // Type: nt, C: 519525, S+: -119, L: 24581315, M: 618481, W: -24680272\n",
      "Replacing // Gen 18577 // Type: nt, C: 86213987, S+: -46893, L: 0, M: 86536911, W: -322923\n",
      "Replacing // Gen 18578 // Type: vi, C: 50011119, S+: -46571, L: 0, M: 233477105, W: -183465985\n",
      "Replacing // Gen 18579 // Type: vi, C: 50009314, S+: -22169, L: 0, M: 186287294, W: -136277980\n",
      "Replacing // Gen 18580 // Type: vi, C: 50005482, S+: -7249, L: 0, M: 88678929, W: -38673446\n",
      "Replacing // Gen 18582 // Type: vi, C: 43988789, S+: -8430, L: 0, M: 168051511, W: -124062722\n",
      "Replacing // Gen 18584 // Type: vi, C: 45256797, S+: -4618, L: 0, M: 130247522, W: -84990725\n",
      "Replacing // Gen 18586 // Type: vi, C: 48138112, S+: -6805, L: 0, M: 252240193, W: -204102081\n",
      "Replacing // Gen 18675 // Type: tf, C: 2260956253, S+: -2548120, L: 0, M: 4667239227, W: -2406282974"
     ]
    },
    {
     "name": "stderr",
     "output_type": "stream",
     "text": [
      " 77%|███████▋  | 19240/25000 [00:05<00:02, 2815.98it/s]"
     ]
    },
    {
     "name": "stdout",
     "output_type": "stream",
     "text": [
      "\n",
      "Replacing // Gen 18746 // Type: nt, C: 1388725, S+: -606, L: 4151181, M: 8422055, W: -11184512\n",
      "Replacing // Gen 18793 // Type: nt, C: 1387957, S+: -49, L: 44917343, M: 689584, W: -44218970\n",
      "Replacing // Gen 18795 // Type: vi, C: 49950574, S+: -12463, L: 0, M: 398426061, W: -348475487\n",
      "Replacing // Gen 18836 // Type: nt, C: 1425613, S+: -627, L: 20640230, M: 8949230, W: -28163847\n",
      "Replacing // Gen 18882 // Type: nt, C: 1439169, S+: -92, L: 32144166, M: 1329705, W: -32034703\n",
      "Replacing // Gen 18923 // Type: nt, C: 57155003, S+: -11519, L: 0, M: 57314434, W: -159430\n",
      "Replacing // Gen 18924 // Type: vi, C: 50012733, S+: -18969, L: 0, M: 272209909, W: -222197175\n",
      "Replacing // Gen 18960 // Type: nt, C: 1641832, S+: -115, L: 24012747, M: 1890932, W: -24261848\n",
      "Replacing // Gen 19001 // Type: tf, C: 5625983693, S+: -1734058, L: 0, M: 11043020154, W: -5417036461\n",
      "Replacing // Gen 19011 // Type: nt, C: 5691133, S+: -912, L: 0, M: 5746400, W: -55267\n",
      "Replacing // Gen 19011 // Type: nt, C: 46586359, S+: -7400, L: 0, M: 46593383, W: -7023\n",
      "Replacing // Gen 19012 // Type: vi, C: 50017753, S+: -38899, L: 0, M: 400000000, W: -349982246\n",
      "Replacing // Gen 19013 // Type: vi, C: 50017785, S+: -26902, L: 0, M: 399997744, W: -349979959\n",
      "Replacing // Gen 19039 // Type: tf, C: 4233516, S+: 582, L: 131176353, M: 0, W: -102278901\n",
      "Replacing // Gen 19039 // Type: nt, C: 4233516, S+: -110, L: 36890729, M: 4686218, W: -37343432\n",
      "Replacing // Gen 19061 // Type: nt, C: 4352721, S+: -2, L: 40772574, M: 88846, W: -36508700\n",
      "Replacing // Gen 19061 // Type: nt, C: 4352721, S+: -2, L: 40772574, M: 88846, W: -36508700\n",
      "Replacing // Gen 19081 // Type: nt, C: 4271178, S+: 0, L: 53930943, M: 26402, W: -49686167\n",
      "Replacing // Gen 19081 // Type: nt, C: 4271178, S+: 0, L: 53930943, M: 26402, W: -49686167\n",
      "Replacing // Gen 19100 // Type: nt, C: 84307714, S+: -5388, L: 0, M: 84308170, W: -455\n",
      "Replacing // Gen 19100 // Type: nt, C: 84307714, S+: -5388, L: 0, M: 84308170, W: -455\n",
      "Replacing // Gen 19102 // Type: vi, C: 24158327, S+: -773, L: 0, M: 55170850, W: -31012523\n",
      "Replacing // Gen 19121 // Type: nt, C: 4307923, S+: -4, L: 78003245, M: 206485, W: -73901807\n",
      "Replacing // Gen 19121 // Type: nt, C: 4307923, S+: -13, L: 60384093, M: 601514, W: -56677684\n",
      "Replacing // Gen 19140 // Type: nt, C: 82907691, S+: -5261, L: 0, M: 83020004, W: -112313\n",
      "Replacing // Gen 19141 // Type: tf, C: 4541451, S+: 169, L: 62127140, M: 0, W: -49900473\n",
      "Replacing // Gen 19142 // Type: vi, C: 28060963, S+: -1461, L: 0, M: 105968305, W: -77907342\n",
      "Replacing // Gen 19144 // Type: vi, C: 47938916, S+: -2513, L: 0, M: 331679719, W: -283740803\n",
      "Replacing // Gen 19163 // Type: nt, C: 4389299, S+: 0, L: 64123394, M: 21957, W: -59756053\n",
      "Replacing // Gen 19163 // Type: nt, C: 4389299, S+: -15, L: 61793762, M: 671310, W: -58075774\n",
      "Replacing // Gen 19165 // Type: vi, C: 49997478, S+: -3887, L: 0, M: 399509939, W: -349512461\n",
      "Replacing // Gen 19165 // Type: vi, C: 49997478, S+: -3887, L: 0, M: 399509939, W: -349512461\n",
      "Replacing // Gen 19185 // Type: tf, C: 4611021, S+: -21, L: 4875525, M: 1007932, W: -1272436\n",
      "Replacing // Gen 19205 // Type: nt, C: 4524814, S+: -1, L: 50562871, M: 46678, W: -46084735\n",
      "Replacing // Gen 19225 // Type: tf, C: 4466225, S+: -13, L: 63920798, M: 601446, W: -60056020\n",
      "Replacing // Gen 19227 // Type: vi, C: 50000651, S+: -3800, L: 0, M: 399584959, W: -349584307\n",
      "Replacing // Gen 19247 // Type: nt, C: 4662084, S+: -78, L: 31205492, M: 3656615, W: -30200023\n",
      "Replacing // Gen 19267 // Type: nt, C: 4578563, S+: -1, L: 51513268, M: 65310, W: -47000016\n"
     ]
    },
    {
     "name": "stderr",
     "output_type": "stream",
     "text": [
      " 79%|███████▉  | 19803/25000 [00:05<00:01, 2746.61it/s]"
     ]
    },
    {
     "name": "stdout",
     "output_type": "stream",
     "text": [
      "Replacing // Gen 19287 // Type: nt, C: 4525679, S+: 0, L: 59151720, M: 11561, W: -54637602\n",
      "Replacing // Gen 19289 // Type: vi, C: 50019470, S+: -3755, L: 0, M: 400007698, W: -349988228\n",
      "Replacing // Gen 19299 // Type: tf, C: 3406630, S+: -71, L: 5276507, M: 2443985, W: -4313863\n",
      "Replacing // Gen 19309 // Type: nt, C: 4725177, S+: 0, L: 37906813, M: 21556, W: -33203193\n",
      "Replacing // Gen 19311 // Type: vi, C: 50019199, S+: -3668, L: 0, M: 399994715, W: -349975516\n",
      "Replacing // Gen 19331 // Type: nt, C: 4760453, S+: -79, L: 28956147, M: 3795418, W: -27991113\n",
      "Replacing // Gen 19341 // Type: tf, C: 3699628, S+: -365, L: 2919209, M: 13538362, W: -12757944\n",
      "Replacing // Gen 19343 // Type: vi, C: 50026843, S+: -13271, L: 0, M: 399705557, W: -349678713\n",
      "Replacing // Gen 19351 // Type: nt, C: 4694945, S+: -1, L: 48963974, M: 90065, W: -44359095\n",
      "Replacing // Gen 19371 // Type: nt, C: 4634351, S+: 0, L: 57526771, M: 21870, W: -52914290\n",
      "Replacing // Gen 19390 // Type: tf, C: 58177780, S+: -3783, L: 0, M: 64333816, W: -6156036\n",
      "Replacing // Gen 19413 // Type: tf, C: 4827159, S+: -108, L: 6453179, M: 5221908, W: -6847928\n",
      "Replacing // Gen 19433 // Type: nt, C: 4739901, S+: -1, L: 51447533, M: 61639, W: -46769271\n",
      "Replacing // Gen 19453 // Type: tf, C: 4688684, S+: -9, L: 27060322, M: 463103, W: -22834741\n",
      "Replacing // Gen 19472 // Type: nt, C: 84615067, S+: -4912, L: 0, M: 84628168, W: -13101\n",
      "Replacing // Gen 19492 // Type: tf, C: 1568887, S+: -3096, L: 9304811, M: 48573604, W: -56309529\n",
      "Replacing // Gen 19515 // Type: nt, C: 4919381, S+: -18, L: 36139835, M: 915892, W: -32136346\n",
      "Replacing // Gen 19535 // Type: tf, C: 4829953, S+: -218, L: 29044479, M: 10572863, W: -34787390\n",
      "Replacing // Gen 19537 // Type: vi, C: 49710921, S+: -3485, L: 0, M: 393011281, W: -343300359\n",
      "Replacing // Gen 19539 // Type: vi, C: 47729635, S+: -1667, L: 0, M: 288485814, W: -240756179\n",
      "Replacing // Gen 19541 // Type: vi, C: 50619699, S+: -1996, L: 0, M: 346673733, W: -296054033\n",
      "Replacing // Gen 19543 // Type: vi, C: 50251354, S+: -4221, L: 0, M: 395984539, W: -345733184\n",
      "Replacing // Gen 19556 // Type: nt, C: 83724311, S+: -4701, L: 0, M: 83724711, W: -400\n",
      "Replacing // Gen 19558 // Type: vi, C: 38933382, S+: -3100, L: 0, M: 249561226, W: -210627844\n",
      "Replacing // Gen 19577 // Type: tf, C: 4868877, S+: -44, L: 47191727, M: 2172079, W: -44494930\n",
      "Replacing // Gen 19589 // Type: tf, C: 3282301, S+: -61, L: 4346560, M: 2015415, W: -3079674\n",
      "Replacing // Gen 19597 // Type: tf, C: 4813531, S+: 0, L: 62880434, M: 13810, W: -58080714\n",
      "Replacing // Gen 19616 // Type: nt, C: 85685957, S+: -4876, L: 0, M: 85705093, W: -19136\n",
      "Replacing // Gen 19618 // Type: vi, C: 38398670, S+: -3005, L: 0, M: 243968129, W: -205569459\n",
      "Replacing // Gen 19637 // Type: nt, C: 4908540, S+: -7, L: 75273181, M: 349390, W: -70714032\n",
      "Replacing // Gen 19656 // Type: nt, C: 84500335, S+: -4678, L: 0, M: 84506456, W: -6120\n",
      "Replacing // Gen 19676 // Type: nt, C: 104082569, S+: -6569, L: 0, M: 107100683, W: -3018113\n",
      "Replacing // Gen 19699 // Type: nt, C: 5141231, S+: -34, L: 33137971, M: 1796071, W: -29792811\n",
      "Replacing // Gen 19719 // Type: nt, C: 5048458, S+: -1, L: 51513334, M: 61239, W: -46526115\n",
      "Replacing // Gen 19739 // Type: nt, C: 4989208, S+: 0, L: 59087534, M: 13731, W: -54112058\n",
      "Replacing // Gen 19749 // Type: tf, C: 4257893, S+: -436, L: 1889741, M: 18597588, W: -16229437\n",
      "Replacing // Gen 19759 // Type: nt, C: 4950602, S+: 0, L: 65313912, M: 2605, W: -60365915\n",
      "Replacing // Gen 19769 // Type: tf, C: 4345628, S+: -461, L: 1463482, M: 20056664, W: -17174519\n",
      "Replacing // Gen 19778 // Type: tf, C: 80003055, S+: -4496, L: 0, M: 80847154, W: -844099\n"
     ]
    },
    {
     "name": "stderr",
     "output_type": "stream",
     "text": [
      "100%|██████████| 25000/25000 [00:07<00:00, 3469.89it/s]\n",
      " 37%|███▋      | 9137/25000 [00:02<00:04, 3679.54it/s]"
     ]
    },
    {
     "name": "stdout",
     "output_type": "stream",
     "text": [
      "Replacing // Gen 8521 // Type: vi, C: 232668212, S+: -1132842, L: 0, M: 275325972, W: -42657760\n"
     ]
    },
    {
     "name": "stderr",
     "output_type": "stream",
     "text": [
      "100%|██████████| 25000/25000 [00:06<00:00, 3743.89it/s]\n",
      " 19%|█▊        | 4637/25000 [00:01<00:05, 3694.89it/s]"
     ]
    },
    {
     "name": "stdout",
     "output_type": "stream",
     "text": [
      "Replacing // Gen 4144 // Type: vi, C: 229385488, S+: -1839082, L: 0, M: 347439379, W: -118053890\n"
     ]
    },
    {
     "name": "stderr",
     "output_type": "stream",
     "text": [
      "100%|██████████| 25000/25000 [00:06<00:00, 3760.37it/s]\n",
      " 33%|███▎      | 8128/25000 [00:02<00:05, 3177.01it/s]"
     ]
    },
    {
     "name": "stdout",
     "output_type": "stream",
     "text": [
      "Replacing // Gen 7702 // Type: vi, C: 214648390, S+: -1150990, L: 0, M: 217525683, W: -2877292\n",
      "Replacing // Gen 7703 // Type: vi, C: 50002966, S+: -1764326, L: 0, M: 260238120, W: -210235154\n",
      "Replacing // Gen 7706 // Type: nt, C: 2728, S+: 4278820, L: 166773316, M: 0, W: -50044365\n",
      "Replacing // Gen 7707 // Type: tf, C: 106026, S+: -114366, L: 1278340829, M: 121258419, W: -1399493222\n"
     ]
    },
    {
     "name": "stderr",
     "output_type": "stream",
     "text": [
      "100%|██████████| 25000/25000 [00:08<00:00, 3037.29it/s]\n",
      " 60%|██████    | 15046/25000 [00:03<00:02, 3749.25it/s]/Users/aymericvie/Documents/GitHub/evology/evology/code/balance_sheet.py:264: UserWarning: Negative price -39.07\n",
      "  warnings.warn('Negative price '+ str(price) )\n",
      " 63%|██████▎   | 15779/25000 [00:04<00:02, 3277.92it/s]"
     ]
    },
    {
     "name": "stdout",
     "output_type": "stream",
     "text": [
      "Replacing // Gen 15265 // Type: vi, C: 293291248, S+: -3540040, L: 0, M: 642446481, W: -349155233\n",
      "Replacing // Gen 15276 // Type: vi, C: 9835, S+: 1106069, L: 145472131, M: 0, W: -36680363\n",
      "Replacing // Gen 15282 // Type: nt, C: -3907, S+: -640223, L: 33842019, M: -25013521, W: -8832405\n",
      "Replacing // Gen 15282 // Type: nt, C: -3907, S+: -1473431, L: 308691915, M: -57566979, W: -251128843\n"
     ]
    },
    {
     "name": "stderr",
     "output_type": "stream",
     "text": [
      " 98%|█████████▊| 24409/25000 [00:07<00:00, 2737.64it/s]"
     ]
    },
    {
     "name": "stdout",
     "output_type": "stream",
     "text": [
      "Replacing // Gen 24050 // Type: vi, C: -3907, S+: -1424699, L: 55667551, M: -55663014, W: -8444\n",
      "Replacing // Gen 24050 // Type: vi, C: -3907, S+: -1424699, L: 55667551, M: -55663014, W: -8444\n"
     ]
    },
    {
     "name": "stderr",
     "output_type": "stream",
     "text": [
      "100%|██████████| 25000/25000 [00:07<00:00, 3336.23it/s]\n",
      "100%|██████████| 25000/25000 [00:06<00:00, 3823.56it/s]\n",
      " 45%|████▍     | 11133/25000 [00:02<00:03, 3780.95it/s]"
     ]
    },
    {
     "name": "stdout",
     "output_type": "stream",
     "text": [
      "Replacing // Gen 10474 // Type: vi, C: 280453884, S+: -3624887, L: 0, M: 363104933, W: -82651048\n",
      "Replacing // Gen 10491 // Type: vi, C: 90009681, S+: -972401, L: 0, M: 95188348, W: -5178667\n",
      "Replacing // Gen 10492 // Type: vi, C: 50002119, S+: -660584, L: 0, M: 61110632, W: -11108512\n",
      "Replacing // Gen 10505 // Type: vi, C: 59407679, S+: -809186, L: 0, M: 76969826, W: -17562146\n"
     ]
    },
    {
     "name": "stderr",
     "output_type": "stream",
     "text": [
      "100%|██████████| 25000/25000 [00:06<00:00, 3753.56it/s]\n"
     ]
    }
   ],
   "source": [
    "# Static mode - NT-bumped coordinates\n",
    "\n",
    "wealth_coordinates_NT = wealth_coordinates.copy()\n",
    "wealth_coordinates_NT[0] += h\n",
    "wealth_coordinates_NT[1] -= h/2\n",
    "wealth_coordinates_NT[2] -= h/2\n",
    "print(wealth_coordinates_NT)\n",
    "\n",
    "Static = main(\"static\", time, 0, agents, 0, 0, wealth_coordinates_NT, False)\n",
    "for i in range(repetitions - 1):\n",
    "    Static = Static.append(main(\"static\", time, 0, agents, 0, 0, wealth_coordinates_NT, False))\n",
    "Static.to_csv(\"static_NT_bump.csv\")"
   ]
  },
  {
   "cell_type": "code",
   "execution_count": 4,
   "metadata": {},
   "outputs": [
    {
     "name": "stdout",
     "output_type": "stream",
     "text": [
      "[0.42, 0.36000000000000004, 0.22]\n"
     ]
    },
    {
     "name": "stderr",
     "output_type": "stream",
     "text": [
      "  8%|▊         | 1899/25000 [00:02<00:10, 2277.85it/s]/Users/aymericvie/Documents/GitHub/evology/evology/code/balance_sheet.py:264: UserWarning: Negative price -51.51\n",
      "  warnings.warn('Negative price '+ str(price) )\n",
      " 10%|█         | 2531/25000 [00:03<00:08, 2511.75it/s]"
     ]
    },
    {
     "name": "stdout",
     "output_type": "stream",
     "text": [
      "Replacing // Gen 2082 // Type: vi, C: 150813152, S+: -1205050, L: 0, M: 187951671, W: -37138518\n",
      "Replacing // Gen 2101 // Type: nt, C: -5151, S+: -1241326, L: 131555484, M: -63940710, W: -67619925\n"
     ]
    },
    {
     "name": "stderr",
     "output_type": "stream",
     "text": [
      "100%|██████████| 25000/25000 [00:11<00:00, 2160.51it/s]\n",
      " 39%|███▉      | 9863/25000 [00:04<00:04, 3652.58it/s]/Users/aymericvie/Documents/GitHub/evology/evology/code/balance_sheet.py:264: UserWarning: Negative price -1.74\n",
      "  warnings.warn('Negative price '+ str(price) )\n",
      " 42%|████▏     | 10579/25000 [00:04<00:04, 3173.16it/s]"
     ]
    },
    {
     "name": "stdout",
     "output_type": "stream",
     "text": [
      "Replacing // Gen 10121 // Type: vi, C: 249848358, S+: -4264073, L: 0, M: 543839922, W: -293991564\n",
      "Replacing // Gen 10124 // Type: nt, C: -174, S+: -8112775, L: 23630373, M: -14116230, W: -9514317\n",
      "Replacing // Gen 10124 // Type: nt, C: -174, S+: -25694349, L: 220821851, M: -44708167, W: -176113857\n"
     ]
    },
    {
     "name": "stderr",
     "output_type": "stream",
     "text": [
      " 46%|████▌     | 11496/25000 [00:05<00:04, 2840.79it/s]"
     ]
    },
    {
     "name": "stdout",
     "output_type": "stream",
     "text": [
      "Replacing // Gen 11000 // Type: nt, C: -174, S+: -22332475, L: 38876547, M: -38858507, W: -18213\n"
     ]
    },
    {
     "name": "stderr",
     "output_type": "stream",
     "text": [
      " 49%|████▉     | 12357/25000 [00:05<00:04, 2843.72it/s]"
     ]
    },
    {
     "name": "stdout",
     "output_type": "stream",
     "text": [
      "Replacing // Gen 11713 // Type: vi, C: -174, S+: -37771224, L: 65750114, M: -65721930, W: -28358\n"
     ]
    },
    {
     "name": "stderr",
     "output_type": "stream",
     "text": [
      "100%|██████████| 25000/25000 [00:10<00:00, 2492.40it/s]\n",
      "  9%|▉         | 2307/25000 [00:07<00:08, 2577.24it/s]"
     ]
    },
    {
     "name": "stdout",
     "output_type": "stream",
     "text": [
      "Replacing // Gen 1703 // Type: vi, C: 122009050, S+: -2965680, L: 0, M: 259437748, W: -137428698\n",
      "Replacing // Gen 1722 // Type: vi, C: 42495937, S+: -1946905, L: 0, M: 169886979, W: -127391041\n",
      "Replacing // Gen 1746 // Type: vi, C: 77110551, S+: -2916396, L: 0, M: 264225499, W: -187114947\n",
      "Replacing // Gen 1749 // Type: tf, C: 93456933, S+: -3458881, L: 0, M: 95465134, W: -2008201\n",
      "Replacing // Gen 1750 // Type: nt, C: 1420, S+: 1291560, L: 21995875, M: 0, W: -3654292\n",
      "Replacing // Gen 1750 // Type: nt, C: 1420, S+: 3300903, L: 88081002, M: 0, W: -41206759\n",
      "Replacing // Gen 1815 // Type: vi, C: 56006484, S+: -781728, L: 0, M: 65032008, W: -9025523\n",
      "Replacing // Gen 1815 // Type: vi, C: 56006484, S+: -781728, L: 0, M: 65032008, W: -9025523\n"
     ]
    },
    {
     "name": "stderr",
     "output_type": "stream",
     "text": [
      "100%|██████████| 25000/25000 [00:13<00:00, 1820.69it/s]\n",
      " 31%|███       | 7715/25000 [00:09<00:05, 3102.92it/s]"
     ]
    },
    {
     "name": "stdout",
     "output_type": "stream",
     "text": [
      "Replacing // Gen 7226 // Type: vi, C: 437481361, S+: -1544434, L: 0, M: 623472708, W: -185991347\n",
      "Replacing // Gen 7230 // Type: nt, C: 7756, S+: 2921977, L: 294277315, M: 0, W: -67611752\n",
      "Replacing // Gen 7231 // Type: tf, C: 204647, S+: -125979, L: 173006480, M: 257813394, W: -430615228\n",
      "Replacing // Gen 7231 // Type: tf, C: 204647, S+: -27120, L: 38992358, M: 55500855, W: -94288567\n"
     ]
    },
    {
     "name": "stderr",
     "output_type": "stream",
     "text": [
      "100%|██████████| 25000/25000 [00:17<00:00, 1460.51it/s]\n",
      "  6%|▌         | 1542/25000 [00:02<00:12, 1930.33it/s]/Users/aymericvie/Documents/GitHub/evology/evology/code/balance_sheet.py:264: UserWarning: Negative price -8.59\n",
      "  warnings.warn('Negative price '+ str(price) )\n",
      " 10%|█         | 2534/25000 [00:02<00:08, 2497.01it/s]"
     ]
    },
    {
     "name": "stdout",
     "output_type": "stream",
     "text": [
      "Replacing // Gen 1869 // Type: vi, C: 145971788, S+: -2188275, L: 0, M: 206048001, W: -60076212\n",
      "Replacing // Gen 1884 // Type: vi, C: 52455168, S+: -2362243, L: 0, M: 209932588, W: -157477419\n",
      "Replacing // Gen 1887 // Type: nt, C: -859, S+: -9709466, L: 97197630, M: -83404314, W: -13794174\n"
     ]
    },
    {
     "name": "stderr",
     "output_type": "stream",
     "text": [
      " 31%|███       | 7754/25000 [00:04<00:06, 2747.42it/s]"
     ]
    },
    {
     "name": "stdout",
     "output_type": "stream",
     "text": [
      "Replacing // Gen 7233 // Type: nt, C: -859, S+: -5764608, L: 49518649, M: -49517986, W: -1522\n"
     ]
    },
    {
     "name": "stderr",
     "output_type": "stream",
     "text": [
      " 42%|████▏     | 10513/25000 [00:05<00:05, 2726.01it/s]"
     ]
    },
    {
     "name": "stdout",
     "output_type": "stream",
     "text": [
      "Replacing // Gen 10096 // Type: vi, C: -859, S+: -12465799, L: 107115645, M: -107081215, W: -35288\n"
     ]
    },
    {
     "name": "stderr",
     "output_type": "stream",
     "text": [
      " 61%|██████    | 15296/25000 [00:07<00:03, 2715.45it/s]"
     ]
    },
    {
     "name": "stdout",
     "output_type": "stream",
     "text": [
      "Replacing // Gen 14665 // Type: nt, C: -859, S+: -5734181, L: 49268979, M: -49256620, W: -13217\n"
     ]
    },
    {
     "name": "stderr",
     "output_type": "stream",
     "text": [
      " 77%|███████▋  | 19163/25000 [00:09<00:02, 2536.52it/s]"
     ]
    },
    {
     "name": "stdout",
     "output_type": "stream",
     "text": [
      "Replacing // Gen 18750 // Type: vi, C: -859, S+: -12465799, L: 107097871, M: -107081215, W: -17514\n"
     ]
    },
    {
     "name": "stderr",
     "output_type": "stream",
     "text": [
      " 93%|█████████▎| 23149/25000 [00:10<00:00, 2686.16it/s]"
     ]
    },
    {
     "name": "stdout",
     "output_type": "stream",
     "text": [
      "Replacing // Gen 22631 // Type: nt, C: -859, S+: -5753451, L: 49428733, M: -49422145, W: -7447\n"
     ]
    },
    {
     "name": "stderr",
     "output_type": "stream",
     "text": [
      "100%|██████████| 25000/25000 [00:11<00:00, 2221.79it/s]\n"
     ]
    },
    {
     "name": "stdout",
     "output_type": "stream",
     "text": [
      "Replacing // Gen 24954 // Type: vi, C: -859, S+: -12465799, L: 107096724, M: -107081215, W: -16367\n"
     ]
    },
    {
     "name": "stderr",
     "output_type": "stream",
     "text": [
      " 68%|██████▊   | 17100/25000 [00:12<00:02, 3744.28it/s]"
     ]
    },
    {
     "name": "stdout",
     "output_type": "stream",
     "text": [
      "Replacing // Gen 16535 // Type: vi, C: 276708912, S+: -1199270, L: 0, M: 290175396, W: -13466484\n"
     ]
    },
    {
     "name": "stderr",
     "output_type": "stream",
     "text": [
      "100%|██████████| 25000/25000 [00:14<00:00, 1738.88it/s]\n",
      " 20%|██        | 5013/25000 [00:05<00:05, 3705.84it/s]"
     ]
    },
    {
     "name": "stdout",
     "output_type": "stream",
     "text": [
      "Replacing // Gen 4349 // Type: vi, C: 151200461, S+: -3173597, L: 0, M: 159092441, W: -7891979\n"
     ]
    },
    {
     "name": "stderr",
     "output_type": "stream",
     "text": [
      "100%|██████████| 25000/25000 [00:10<00:00, 2306.72it/s]\n",
      " 11%|█         | 2721/25000 [00:08<00:07, 2922.55it/s]"
     ]
    },
    {
     "name": "stdout",
     "output_type": "stream",
     "text": [
      "Replacing // Gen 2098 // Type: vi, C: 111129448, S+: -2920568, L: 0, M: 338377108, W: -227247660\n",
      "Replacing // Gen 2099 // Type: tf, C: 78925790, S+: -1584557, L: 0, M: 95184363, W: -16258573\n",
      "Replacing // Gen 2100 // Type: nt, C: 2270, S+: 5790078, L: 189563703, M: 0, W: -58126651\n",
      "Replacing // Gen 2101 // Type: tf, C: 10131, S+: -3410, L: 121952135, M: 345564, W: -122287569\n",
      "Replacing // Gen 2429 // Type: vi, C: 93601379, S+: -1403122, L: 0, M: 119840664, W: -26239285\n",
      "Replacing // Gen 2439 // Type: vi, C: 49030394, S+: -768994, L: 0, M: 66948686, W: -17918292\n"
     ]
    },
    {
     "name": "stderr",
     "output_type": "stream",
     "text": [
      "100%|██████████| 25000/25000 [00:14<00:00, 1773.20it/s]\n",
      " 40%|███▉      | 9939/25000 [00:04<00:04, 3600.82it/s]"
     ]
    },
    {
     "name": "stdout",
     "output_type": "stream",
     "text": [
      "Replacing // Gen 9482 // Type: vi, C: 189533289, S+: -2279488, L: 0, M: 223868518, W: -34335228\n",
      "Replacing // Gen 9495 // Type: vi, C: 61800529, S+: -1521772, L: 0, M: 148783735, W: -86983205\n",
      "Replacing // Gen 9510 // Type: vi, C: 68524744, S+: -791276, L: 0, M: 81865441, W: -13340697\n",
      "Replacing // Gen 9511 // Type: vi, C: 50002130, S+: -728185, L: 0, M: 69549037, W: -19546906\n",
      "Replacing // Gen 9514 // Type: tf, C: 39990094, S+: -3191747, L: 0, M: 39992602, W: -2507\n",
      "Replacing // Gen 9514 // Type: nt, C: 1253, S+: 14749596, L: 199951739, M: 0, W: -15138037\n",
      "Replacing // Gen 9589 // Type: tf, C: 13194, S+: 175441, L: 402239518, M: 0, W: -379078622\n"
     ]
    },
    {
     "name": "stderr",
     "output_type": "stream",
     "text": [
      " 89%|████████▉ | 22299/25000 [00:08<00:00, 3745.85it/s]/Users/aymericvie/Documents/GitHub/evology/evology/code/balance_sheet.py:264: UserWarning: Negative price -14.7\n",
      "  warnings.warn('Negative price '+ str(price) )\n",
      " 92%|█████████▏| 23037/25000 [00:08<00:00, 3282.83it/s]"
     ]
    },
    {
     "name": "stdout",
     "output_type": "stream",
     "text": [
      "Replacing // Gen 22632 // Type: nt, C: -1470, S+: -481199, L: 157047688, M: -7073633, W: -149975524\n"
     ]
    },
    {
     "name": "stderr",
     "output_type": "stream",
     "text": [
      "100%|██████████| 25000/25000 [00:09<00:00, 2767.51it/s]\n",
      " 50%|████▉     | 12443/25000 [00:11<00:04, 2976.27it/s]"
     ]
    },
    {
     "name": "stdout",
     "output_type": "stream",
     "text": [
      "Replacing // Gen 12128 // Type: vi, C: 336369224, S+: -2179989, L: 0, M: 391831274, W: -55462049\n",
      "Replacing // Gen 12131 // Type: nt, C: 4411, S+: 3999376, L: 176713232, M: 0, W: -296340\n",
      "Replacing // Gen 12132 // Type: tf, C: 44979, S+: -391564, L: 306882260, M: 176121778, W: -482959060\n",
      "Replacing // Gen 12133 // Type: nt, C: 171467939, S+: -33060, L: 0, M: 315310382, W: -143842442\n",
      "Replacing // Gen 12133 // Type: tf, C: 953732, S+: 0, L: 961150263, M: 0, W: -960193289\n"
     ]
    },
    {
     "name": "stderr",
     "output_type": "stream",
     "text": [
      " 74%|███████▍  | 18527/25000 [00:13<00:02, 2231.02it/s]"
     ]
    },
    {
     "name": "stdout",
     "output_type": "stream",
     "text": [
      "Replacing // Gen 18229 // Type: tf, C: 2739, S+: 71908, L: 19759002, M: 0, W: -17786703\n",
      "Replacing // Gen 18229 // Type: tf, C: 2739, S+: 71907, L: 19758959, M: 0, W: -17786664\n",
      "Replacing // Gen 18229 // Type: tf, C: 2739, S+: 71911, L: 19758788, M: 0, W: -17786403\n",
      "Replacing // Gen 18241 // Type: nt, C: 1745, S+: 1416222, L: 29279156, M: 0, W: -4564327\n",
      "Replacing // Gen 18241 // Type: nt, C: 1745, S+: 1264675, L: 27080300, M: 0, W: -5009970\n",
      "Replacing // Gen 18242 // Type: vi, C: 50012341, S+: -1133968, L: 0, M: 399996071, W: -349983730\n",
      "Replacing // Gen 18242 // Type: tf, C: 35274, S+: -105224, L: 433620241, M: 37116741, W: -470701709\n",
      "Replacing // Gen 18243 // Type: vi, C: 50017625, S+: -47709, L: 0, M: 400000000, W: -349982374\n",
      "Replacing // Gen 18243 // Type: nt, C: 838415, S+: 0, L: 1089254639, M: 3949, W: -1088420174\n"
     ]
    },
    {
     "name": "stderr",
     "output_type": "stream",
     "text": [
      "100%|██████████| 25000/25000 [00:16<00:00, 1479.47it/s]\n"
     ]
    }
   ],
   "source": [
    "# Static mode - VI-bumped coordinates\n",
    "\n",
    "wealth_coordinates_VI = wealth_coordinates.copy()\n",
    "wealth_coordinates_VI[0] -= h/2\n",
    "wealth_coordinates_VI[1] += h\n",
    "wealth_coordinates_VI[2] -= h/2\n",
    "print(wealth_coordinates_VI)\n",
    "\n",
    "Static = main(\"static\", time, 0, agents, 0, 0, wealth_coordinates_VI, False)\n",
    "for i in range(repetitions - 1):\n",
    "    Static = Static.append(main(\"static\", time, 0, agents, 0, 0, wealth_coordinates_VI, False))\n",
    "Static.to_csv(\"static_VI_bump.csv\")"
   ]
  },
  {
   "cell_type": "code",
   "execution_count": 5,
   "metadata": {},
   "outputs": [
    {
     "name": "stdout",
     "output_type": "stream",
     "text": [
      "[0.42, 0.33, 0.25]\n"
     ]
    },
    {
     "name": "stderr",
     "output_type": "stream",
     "text": [
      " 24%|██▍       | 5996/25000 [00:01<00:05, 3737.18it/s]/Users/aymericvie/Documents/GitHub/evology/evology/code/balance_sheet.py:264: UserWarning: Negative price -21.37\n",
      "  warnings.warn('Negative price '+ str(price) )\n",
      " 25%|██▌       | 6370/25000 [00:01<00:05, 3450.03it/s]"
     ]
    },
    {
     "name": "stdout",
     "output_type": "stream",
     "text": [
      "Replacing // Gen 6157 // Type: vi, C: 160667041, S+: -911335, L: 0, M: 161907798, W: -1240757\n",
      "Replacing // Gen 6164 // Type: vi, C: 49669046, S+: -414261, L: 0, M: 72172634, W: -22503588\n",
      "Replacing // Gen 6182 // Type: nt, C: -2137, S+: -796344, L: 21225247, M: -17017891, W: -4209493\n",
      "Replacing // Gen 6182 // Type: nt, C: -2137, S+: -3753688, L: 107447675, M: -80216331, W: -27233480\n"
     ]
    },
    {
     "name": "stderr",
     "output_type": "stream",
     "text": [
      " 44%|████▎     | 10931/25000 [00:03<00:05, 2623.48it/s]"
     ]
    },
    {
     "name": "stdout",
     "output_type": "stream",
     "text": [
      "Replacing // Gen 10539 // Type: vi, C: -2137, S+: -3137080, L: 68006302, M: -67039414, W: -969025\n"
     ]
    },
    {
     "name": "stderr",
     "output_type": "stream",
     "text": [
      " 92%|█████████▏| 23113/25000 [00:08<00:00, 2639.44it/s]"
     ]
    },
    {
     "name": "stdout",
     "output_type": "stream",
     "text": [
      "Replacing // Gen 22640 // Type: nt, C: -2137, S+: -2264615, L: 48395895, M: -48394833, W: -3199\n",
      "Replacing // Gen 22641 // Type: nt, C: -2137, S+: -1164610, L: 48810210, M: -24887724, W: -23924623\n"
     ]
    },
    {
     "name": "stderr",
     "output_type": "stream",
     "text": [
      "100%|██████████| 25000/25000 [00:08<00:00, 2827.18it/s]\n",
      " 34%|███▎      | 8421/25000 [00:02<00:04, 3779.71it/s]"
     ]
    },
    {
     "name": "stdout",
     "output_type": "stream",
     "text": [
      "Replacing // Gen 8000 // Type: vi, C: 107751104, S+: -1334556, L: 0, M: 110327815, W: -2576710\n"
     ]
    },
    {
     "name": "stderr",
     "output_type": "stream",
     "text": [
      "100%|██████████| 25000/25000 [00:06<00:00, 3778.18it/s]\n",
      " 18%|█▊        | 4513/25000 [00:01<00:05, 3730.05it/s]"
     ]
    },
    {
     "name": "stdout",
     "output_type": "stream",
     "text": [
      "Replacing // Gen 3845 // Type: vi, C: 187728733, S+: -1704682, L: 0, M: 194401981, W: -6673248\n"
     ]
    },
    {
     "name": "stderr",
     "output_type": "stream",
     "text": [
      "100%|██████████| 25000/25000 [00:06<00:00, 3804.64it/s]\n",
      " 36%|███▌      | 8983/25000 [00:02<00:04, 3713.62it/s]"
     ]
    },
    {
     "name": "stdout",
     "output_type": "stream",
     "text": [
      "Replacing // Gen 8495 // Type: vi, C: 291726151, S+: -3066074, L: 0, M: 774981024, W: -483254873\n",
      "Replacing // Gen 8498 // Type: vi, C: 16431, S+: 1670783, L: 319814423, M: 0, W: -45271475\n",
      "Replacing // Gen 8502 // Type: vi, C: 156021215, S+: -1053850, L: 0, M: 368288970, W: -212267754\n",
      "Replacing // Gen 8503 // Type: vi, C: 50005674, S+: -1330025, L: 0, M: 399127472, W: -349121798\n",
      "Replacing // Gen 8504 // Type: vi, C: 50002278, S+: -492252, L: 0, M: 120454151, W: -70451872\n",
      "Replacing // Gen 8505 // Type: tf, C: 110581111, S+: -862889, L: 0, M: 131323149, W: -20742038\n",
      "Replacing // Gen 8507 // Type: nt, C: 3686, S+: 3233435, L: 259022472, M: 0, W: -139802033\n"
     ]
    },
    {
     "name": "stderr",
     "output_type": "stream",
     "text": [
      " 74%|███████▍  | 18442/25000 [00:04<00:01, 3718.69it/s]"
     ]
    },
    {
     "name": "stdout",
     "output_type": "stream",
     "text": [
      "Replacing // Gen 17927 // Type: vi, C: 567296874, S+: -6349899, L: 0, M: 867904280, W: -300607406\n",
      "Replacing // Gen 17942 // Type: vi, C: 81701757, S+: -1487014, L: 0, M: 209683907, W: -127982149\n"
     ]
    },
    {
     "name": "stderr",
     "output_type": "stream",
     "text": [
      "100%|██████████| 25000/25000 [00:06<00:00, 3765.59it/s]\n",
      "100%|██████████| 25000/25000 [00:06<00:00, 3785.27it/s]\n",
      " 21%|██▏       | 5321/25000 [00:01<00:05, 3768.07it/s]/Users/aymericvie/Documents/GitHub/evology/evology/code/balance_sheet.py:264: UserWarning: Negative price -23.4\n",
      "  warnings.warn('Negative price '+ str(price) )\n",
      " 24%|██▍       | 6044/25000 [00:01<00:06, 3089.05it/s]"
     ]
    },
    {
     "name": "stdout",
     "output_type": "stream",
     "text": [
      "Replacing // Gen 5348 // Type: vi, C: 122187831, S+: -1712640, L: 0, M: 134151098, W: -11963266\n",
      "Replacing // Gen 5356 // Type: nt, C: -2340, S+: -510076, L: 38628355, M: -11935788, W: -26694906\n",
      "Replacing // Gen 5356 // Type: nt, C: -2340, S+: -893425, L: 81528686, M: -20906152, W: -60624873\n"
     ]
    },
    {
     "name": "stderr",
     "output_type": "stream",
     "text": [
      " 73%|███████▎  | 18265/25000 [00:06<00:02, 2734.49it/s]"
     ]
    },
    {
     "name": "stdout",
     "output_type": "stream",
     "text": [
      "Replacing // Gen 17582 // Type: nt, C: -2340, S+: -2134569, L: 49951740, M: -49948931, W: -5149\n"
     ]
    },
    {
     "name": "stderr",
     "output_type": "stream",
     "text": [
      "100%|██████████| 25000/25000 [00:08<00:00, 2877.61it/s]\n",
      " 20%|█▉        | 4976/25000 [00:01<00:06, 3170.46it/s]"
     ]
    },
    {
     "name": "stdout",
     "output_type": "stream",
     "text": [
      "Replacing // Gen 4533 // Type: vi, C: 137917251, S+: -4054560, L: 0, M: 365640235, W: -227722984\n",
      "Replacing // Gen 4535 // Type: tf, C: 25439226, S+: -2288668, L: 0, M: 53211536, W: -27772310\n",
      "Replacing // Gen 4538 // Type: nt, C: 717, S+: 342430, L: 114901645, M: 0, W: -112445704\n",
      "Replacing // Gen 4603 // Type: tf, C: 155726299502, S+: -605475, L: 0, M: 199357914855, W: -43631615352\n",
      "Replacing // Gen 4625 // Type: tf, C: 1793077, S+: 777323, L: 15621610323, M: 0, W: -1681815261\n",
      "Replacing // Gen 4625 // Type: nt, C: 1793077, S+: -3822, L: 69527157, M: 68540650, W: -136274731\n",
      "Replacing // Gen 4626 // Type: vi, C: 50017843, S+: -3657, L: 0, M: 399999889, W: -349982045\n",
      "Replacing // Gen 4639 // Type: tf, C: 170794, S+: 1560387, L: 3116331872, M: 0, W: -451112813\n",
      "Replacing // Gen 4640 // Type: vi, C: 50004690, S+: -42137, L: 0, M: 71967935, W: -21963245\n"
     ]
    },
    {
     "name": "stderr",
     "output_type": "stream",
     "text": [
      "100%|██████████| 25000/25000 [00:09<00:00, 2574.54it/s]\n",
      " 31%|███       | 7712/25000 [00:02<00:04, 3761.96it/s]"
     ]
    },
    {
     "name": "stdout",
     "output_type": "stream",
     "text": [
      "Replacing // Gen 7212 // Type: vi, C: 126277020, S+: -5928787, L: 0, M: 164049563, W: -37772542\n",
      "Replacing // Gen 7329 // Type: vi, C: 63196517, S+: -3070616, L: 0, M: 86345746, W: -23149228\n"
     ]
    },
    {
     "name": "stderr",
     "output_type": "stream",
     "text": [
      "100%|██████████| 25000/25000 [00:06<00:00, 3785.43it/s]\n",
      " 49%|████▉     | 12350/25000 [00:03<00:03, 3731.45it/s]"
     ]
    },
    {
     "name": "stdout",
     "output_type": "stream",
     "text": [
      "Replacing // Gen 11813 // Type: vi, C: 154680427, S+: -1575704, L: 0, M: 197514508, W: -42834081\n"
     ]
    },
    {
     "name": "stderr",
     "output_type": "stream",
     "text": [
      "100%|██████████| 25000/25000 [00:06<00:00, 3773.79it/s]\n",
      " 62%|██████▏   | 15469/25000 [00:04<00:03, 3176.70it/s]"
     ]
    },
    {
     "name": "stdout",
     "output_type": "stream",
     "text": [
      "Replacing // Gen 15079 // Type: vi, C: 369297059, S+: -1209817, L: 0, M: 389730460, W: -20433401\n",
      "Replacing // Gen 15080 // Type: vi, C: 50004025, S+: -1348431, L: 0, M: 359383902, W: -309379877\n",
      "Replacing // Gen 15083 // Type: nt, C: 5166, S+: 4951271, L: 314109574, M: 0, W: -58321732\n",
      "Replacing // Gen 15084 // Type: tf, C: 44352, S+: -270962, L: 578302385, M: 120177318, W: -698435352\n",
      "Replacing // Gen 15084 // Type: vi, C: 50009690, S+: -901875, L: 0, M: 399999989, W: -349990299\n"
     ]
    },
    {
     "name": "stderr",
     "output_type": "stream",
     "text": [
      "100%|██████████| 25000/25000 [00:08<00:00, 3058.86it/s]\n"
     ]
    }
   ],
   "source": [
    "# Static mode - TF-bumped coordinates\n",
    "\n",
    "wealth_coordinates_TF = wealth_coordinates.copy()\n",
    "wealth_coordinates_TF[0] -= h/2\n",
    "wealth_coordinates_TF[1] -= h/2\n",
    "wealth_coordinates_TF[2] += h\n",
    "print(wealth_coordinates_TF)\n",
    "\n",
    "Static = main(\"static\", time, 0, agents, 0, 0, wealth_coordinates_TF, False)\n",
    "for i in range(repetitions - 1):\n",
    "    Static = Static.append(main(\"static\", time, 0, agents, 0, 0, wealth_coordinates_TF, False))\n",
    "Static.to_csv(\"static_TF_bump.csv\")"
   ]
  }
 ],
 "metadata": {
  "interpreter": {
   "hash": "aee8b7b246df8f9039afb4144a1f6fd8d2ca17a180786b69acc140d282b71a49"
  },
  "kernelspec": {
   "display_name": "Python 3.9.6 64-bit",
   "language": "python",
   "name": "python3"
  },
  "language_info": {
   "codemirror_mode": {
    "name": "ipython",
    "version": 3
   },
   "file_extension": ".py",
   "mimetype": "text/x-python",
   "name": "python",
   "nbconvert_exporter": "python",
   "pygments_lexer": "ipython3",
   "version": "3.9.6"
  },
  "orig_nbformat": 4
 },
 "nbformat": 4,
 "nbformat_minor": 2
}
