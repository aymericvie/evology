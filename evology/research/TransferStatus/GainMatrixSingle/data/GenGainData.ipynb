{
 "cells": [
  {
   "cell_type": "code",
   "execution_count": 11,
   "metadata": {},
   "outputs": [],
   "source": [
    "#!/usr/bin/env python3\n",
    "import sys\n",
    "sys.path.insert(0, '/Users/aymericvie/Documents/GitHub/evology/evology/code/')\n",
    "from main import *\n",
    "from parameters import *\n",
    "\n",
    "time = 50_000\n",
    "repetitions = 10\n",
    "agents = 3\n",
    "wealth_coordinates = [0.43, 0.34, 0.23]\n",
    "# wealth_coordinates = [0.13, 0.80, 0.07]\n",
    "bump_size = 2 / 256\n",
    "h = bump_size"
   ]
  },
  {
   "cell_type": "code",
   "execution_count": 16,
   "metadata": {},
   "outputs": [
    {
     "name": "stdout",
     "output_type": "stream",
     "text": [
      "[0.43, 0.34, 0.23]\n"
     ]
    },
    {
     "name": "stderr",
     "output_type": "stream",
     "text": [
      "100%|██████████| 50000/50000 [00:21<00:00, 2373.23it/s]\n",
      " 22%|██▏       | 10752/50000 [00:10<00:10, 3769.58it/s]/Users/aymericvie/Documents/GitHub/evology/evology/code/balance_sheet.py:264: UserWarning: Negative price -48.03\n",
      "  warnings.warn('Negative price '+ str(price) )\n",
      " 23%|██▎       | 11483/50000 [00:10<00:11, 3211.31it/s]"
     ]
    },
    {
     "name": "stdout",
     "output_type": "stream",
     "text": [
      "Replacing // Gen 10926 // Type: vi, C: -4803, S+: -129497, L: 62623368, M: -6219775, W: -56408395\n",
      "Replacing // Gen 10926 // Type: nt, C: -4803, S+: -1184670, L: 403265880, M: -56899743, W: -346370939\n"
     ]
    },
    {
     "name": "stderr",
     "output_type": "stream",
     "text": [
      " 28%|██▊       | 14097/50000 [00:11<00:13, 2691.18it/s]"
     ]
    },
    {
     "name": "stdout",
     "output_type": "stream",
     "text": [
      "Replacing // Gen 13719 // Type: vi, C: -4803, S+: -1036387, L: 49818088, M: -49777692, W: -45198\n"
     ]
    },
    {
     "name": "stderr",
     "output_type": "stream",
     "text": [
      " 31%|███       | 15458/50000 [00:12<00:12, 2715.04it/s]"
     ]
    },
    {
     "name": "stdout",
     "output_type": "stream",
     "text": [
      "Replacing // Gen 15012 // Type: nt, C: -4803, S+: -1028808, L: 49481900, M: -49413671, W: -73031\n"
     ]
    },
    {
     "name": "stderr",
     "output_type": "stream",
     "text": [
      "100%|██████████| 50000/50000 [00:24<00:00, 2019.80it/s]\n",
      "100%|██████████| 50000/50000 [00:20<00:00, 2398.14it/s]\n",
      "100%|██████████| 50000/50000 [00:21<00:00, 2377.60it/s]\n",
      "100%|██████████| 50000/50000 [00:20<00:00, 2384.30it/s]\n",
      "100%|██████████| 50000/50000 [00:21<00:00, 2374.99it/s]\n",
      "100%|██████████| 50000/50000 [00:20<00:00, 2388.14it/s]\n",
      " 32%|███▏      | 15833/50000 [00:11<00:09, 3756.04it/s]/Users/aymericvie/Documents/GitHub/evology/evology/code/balance_sheet.py:264: UserWarning: Negative price -74.48\n",
      "  warnings.warn('Negative price '+ str(price) )\n",
      " 33%|███▎      | 16557/50000 [00:12<00:10, 3162.58it/s]"
     ]
    },
    {
     "name": "stdout",
     "output_type": "stream",
     "text": [
      "Replacing // Gen 15913 // Type: vi, C: -7448, S+: -172393, L: 161370525, M: -12839867, W: -148538105\n",
      "Replacing // Gen 15913 // Type: nt, C: -7448, S+: -1084957, L: 481132463, M: -80807602, W: -400332308\n"
     ]
    },
    {
     "name": "stderr",
     "output_type": "stream",
     "text": [
      " 71%|███████   | 35309/50000 [00:19<00:05, 2646.54it/s]"
     ]
    },
    {
     "name": "stdout",
     "output_type": "stream",
     "text": [
      "Replacing // Gen 34560 // Type: nt, C: -7448, S+: -628675, L: 46820945, M: -46823735, W: -4658\n",
      "Replacing // Gen 34560 // Type: vi, C: -7448, S+: -628675, L: 46820945, M: -46823735, W: -4658\n"
     ]
    },
    {
     "name": "stderr",
     "output_type": "stream",
     "text": [
      " 82%|████████▏ | 41132/50000 [00:21<00:03, 2564.13it/s]"
     ]
    },
    {
     "name": "stdout",
     "output_type": "stream",
     "text": [
      "Replacing // Gen 40730 // Type: nt, C: -7448, S+: -628675, L: 46826715, M: -46823735, W: -10428\n",
      "Replacing // Gen 40730 // Type: nt, C: -7448, S+: -628675, L: 46826715, M: -46823735, W: -10428\n"
     ]
    },
    {
     "name": "stderr",
     "output_type": "stream",
     "text": [
      " 95%|█████████▍| 47306/50000 [00:23<00:00, 2744.16it/s]"
     ]
    },
    {
     "name": "stdout",
     "output_type": "stream",
     "text": [
      "Replacing // Gen 46518 // Type: nt, C: -7448, S+: -628675, L: 46820091, M: -46823735, W: -3804\n",
      "Replacing // Gen 46518 // Type: vi, C: -7448, S+: -628675, L: 46820091, M: -46823735, W: -3804\n"
     ]
    },
    {
     "name": "stderr",
     "output_type": "stream",
     "text": [
      "100%|██████████| 50000/50000 [00:24<00:00, 2020.40it/s]\n",
      "100%|██████████| 50000/50000 [00:20<00:00, 2400.97it/s]\n",
      "100%|██████████| 50000/50000 [00:20<00:00, 2407.38it/s]\n"
     ]
    }
   ],
   "source": [
    "# Static mode - Standard coordinates\n",
    "print(wealth_coordinates)\n",
    "Static = main(\"static\", time, 0, agents, 0, 0, wealth_coordinates, False)\n",
    "for i in range(repetitions - 1):\n",
    "    Static = Static.append(main(\"static\", time, 0, agents, 0, 0, wealth_coordinates, False))\n",
    "\n",
    "Static.to_csv(\"static_standard.csv\")"
   ]
  },
  {
   "cell_type": "code",
   "execution_count": 13,
   "metadata": {},
   "outputs": [
    {
     "name": "stdout",
     "output_type": "stream",
     "text": [
      "[0.4378125, 0.33609375, 0.22609375]\n"
     ]
    },
    {
     "name": "stderr",
     "output_type": "stream",
     "text": [
      "100%|██████████| 50000/50000 [00:13<00:00, 3771.26it/s]\n",
      "100%|██████████| 50000/50000 [00:13<00:00, 3810.49it/s]\n",
      "100%|██████████| 50000/50000 [00:13<00:00, 3842.49it/s]\n",
      "100%|██████████| 50000/50000 [00:13<00:00, 3649.27it/s]\n",
      "100%|██████████| 50000/50000 [00:13<00:00, 3758.07it/s]\n",
      "100%|██████████| 50000/50000 [00:13<00:00, 3824.21it/s]\n",
      "100%|██████████| 50000/50000 [00:13<00:00, 3785.82it/s]\n",
      "100%|██████████| 50000/50000 [00:13<00:00, 3744.30it/s]\n",
      "100%|██████████| 50000/50000 [00:13<00:00, 3747.46it/s]\n",
      "100%|██████████| 50000/50000 [00:13<00:00, 3792.06it/s]\n"
     ]
    }
   ],
   "source": [
    "# Static mode - NT-bumped coordinates\n",
    "\n",
    "wealth_coordinates_NT = wealth_coordinates.copy()\n",
    "wealth_coordinates_NT[0] += h\n",
    "wealth_coordinates_NT[1] -= h/2\n",
    "wealth_coordinates_NT[2] -= h/2\n",
    "print(wealth_coordinates_NT)\n",
    "\n",
    "Static = main(\"static\", time, 0, agents, 0, 0, wealth_coordinates_NT, False)\n",
    "for i in range(repetitions - 1):\n",
    "    Static = Static.append(main(\"static\", time, 0, agents, 0, 0, wealth_coordinates_NT, False))\n",
    "Static.to_csv(\"static_NT_bump.csv\")"
   ]
  },
  {
   "cell_type": "code",
   "execution_count": 14,
   "metadata": {},
   "outputs": [
    {
     "name": "stdout",
     "output_type": "stream",
     "text": [
      "[0.42609375, 0.3478125, 0.22609375]\n"
     ]
    },
    {
     "name": "stderr",
     "output_type": "stream",
     "text": [
      "100%|██████████| 50000/50000 [00:21<00:00, 2316.54it/s]\n",
      "100%|██████████| 50000/50000 [00:21<00:00, 2366.33it/s]\n",
      "100%|██████████| 50000/50000 [00:21<00:00, 2343.59it/s]\n",
      " 11%|█▏        | 5729/50000 [00:09<00:12, 3564.52it/s]/Users/aymericvie/Documents/GitHub/evology/evology/code/balance_sheet.py:264: UserWarning: Negative price -39.82\n",
      "  warnings.warn('Negative price '+ str(price) )\n",
      " 13%|█▎        | 6437/50000 [00:10<00:13, 3139.12it/s]"
     ]
    },
    {
     "name": "stdout",
     "output_type": "stream",
     "text": [
      "Replacing // Gen 5982 // Type: vi, C: -3982, S+: -585753, L: 211650579, M: -23324710, W: -188329851\n"
     ]
    },
    {
     "name": "stderr",
     "output_type": "stream",
     "text": [
      " 67%|██████▋   | 33428/50000 [00:20<00:06, 2662.31it/s]"
     ]
    },
    {
     "name": "stdout",
     "output_type": "stream",
     "text": [
      "Replacing // Gen 33065 // Type: nt, C: -3982, S+: -363836, L: 14486868, M: -14487979, W: -2871\n",
      "Replacing // Gen 33066 // Type: vi, C: -3982, S+: -952017, L: 37906415, M: -37909337, W: -1060\n"
     ]
    },
    {
     "name": "stderr",
     "output_type": "stream",
     "text": [
      " 80%|████████  | 40047/50000 [00:22<00:03, 2629.81it/s]"
     ]
    },
    {
     "name": "stdout",
     "output_type": "stream",
     "text": [
      "Replacing // Gen 39687 // Type: nt, C: -3982, S+: -1252037, L: 49861749, M: -49856117, W: -9614\n"
     ]
    },
    {
     "name": "stderr",
     "output_type": "stream",
     "text": [
      " 94%|█████████▍| 46931/50000 [00:25<00:01, 2626.28it/s]"
     ]
    },
    {
     "name": "stdout",
     "output_type": "stream",
     "text": [
      "Replacing // Gen 46375 // Type: nt, C: -3982, S+: -1250956, L: 49812593, M: -49813102, W: -3473\n"
     ]
    },
    {
     "name": "stderr",
     "output_type": "stream",
     "text": [
      "100%|██████████| 50000/50000 [00:26<00:00, 1877.00it/s]\n",
      "100%|██████████| 50000/50000 [00:21<00:00, 2376.90it/s]\n",
      "100%|██████████| 50000/50000 [00:21<00:00, 2380.67it/s]\n",
      " 27%|██▋       | 13532/50000 [00:11<00:09, 3834.89it/s]/Users/aymericvie/Documents/GitHub/evology/evology/code/balance_sheet.py:264: UserWarning: Negative price -15.84\n",
      "  warnings.warn('Negative price '+ str(price) )\n",
      " 42%|████▏     | 21219/50000 [00:14<00:10, 2673.92it/s]"
     ]
    },
    {
     "name": "stdout",
     "output_type": "stream",
     "text": [
      "Replacing // Gen 20804 // Type: vi, C: -1584, S+: -3409101, L: 54009283, M: -54000162, W: -10704\n",
      "Replacing // Gen 20806 // Type: nt, C: -1584, S+: -6536931, L: 103560347, M: -103544998, W: -16932\n"
     ]
    },
    {
     "name": "stderr",
     "output_type": "stream",
     "text": [
      " 51%|█████▏    | 25747/50000 [00:15<00:09, 2691.27it/s]"
     ]
    },
    {
     "name": "stdout",
     "output_type": "stream",
     "text": [
      "Replacing // Gen 25350 // Type: nt, C: -1584, S+: -3134034, L: 49665328, M: -49643103, W: -23808\n"
     ]
    },
    {
     "name": "stderr",
     "output_type": "stream",
     "text": [
      "100%|██████████| 50000/50000 [00:24<00:00, 2032.55it/s]\n",
      "100%|██████████| 50000/50000 [00:20<00:00, 2401.97it/s]\n",
      "100%|██████████| 50000/50000 [00:20<00:00, 2386.50it/s]\n",
      "100%|██████████| 50000/50000 [00:21<00:00, 2366.70it/s]\n"
     ]
    }
   ],
   "source": [
    "# Static mode - VI-bumped coordinates\n",
    "\n",
    "wealth_coordinates_VI = wealth_coordinates.copy()\n",
    "wealth_coordinates_VI[0] -= h/2\n",
    "wealth_coordinates_VI[1] += h\n",
    "wealth_coordinates_VI[2] -= h/2\n",
    "print(wealth_coordinates_VI)\n",
    "\n",
    "Static = main(\"static\", time, 0, agents, 0, 0, wealth_coordinates_VI, False)\n",
    "for i in range(repetitions - 1):\n",
    "    Static = Static.append(main(\"static\", time, 0, agents, 0, 0, wealth_coordinates_VI, False))\n",
    "Static.to_csv(\"static_VI_bump.csv\")"
   ]
  },
  {
   "cell_type": "code",
   "execution_count": 15,
   "metadata": {},
   "outputs": [
    {
     "name": "stdout",
     "output_type": "stream",
     "text": [
      "[0.42609375, 0.33609375, 0.2378125]\n"
     ]
    },
    {
     "name": "stderr",
     "output_type": "stream",
     "text": [
      "100%|██████████| 50000/50000 [00:13<00:00, 3768.96it/s]\n",
      "100%|██████████| 50000/50000 [00:13<00:00, 3729.37it/s]\n",
      "100%|██████████| 50000/50000 [00:13<00:00, 3698.66it/s]\n",
      "100%|██████████| 50000/50000 [00:13<00:00, 3624.40it/s]\n",
      "100%|██████████| 50000/50000 [00:13<00:00, 3809.86it/s]\n",
      "100%|██████████| 50000/50000 [00:13<00:00, 3820.11it/s]\n",
      "100%|██████████| 50000/50000 [00:13<00:00, 3744.85it/s]\n",
      "100%|██████████| 50000/50000 [00:13<00:00, 3818.76it/s]\n",
      "100%|██████████| 50000/50000 [00:13<00:00, 3705.63it/s]\n",
      "100%|██████████| 50000/50000 [00:13<00:00, 3772.21it/s]\n"
     ]
    }
   ],
   "source": [
    "# Static mode - TF-bumped coordinates\n",
    "\n",
    "wealth_coordinates_TF = wealth_coordinates.copy()\n",
    "wealth_coordinates_TF[0] -= h/2\n",
    "wealth_coordinates_TF[1] -= h/2\n",
    "wealth_coordinates_TF[2] += h\n",
    "print(wealth_coordinates_TF)\n",
    "\n",
    "Static = main(\"static\", time, 0, agents, 0, 0, wealth_coordinates_TF, False)\n",
    "for i in range(repetitions - 1):\n",
    "    Static = Static.append(main(\"static\", time, 0, agents, 0, 0, wealth_coordinates_TF, False))\n",
    "Static.to_csv(\"static_TF_bump.csv\")"
   ]
  }
 ],
 "metadata": {
  "interpreter": {
   "hash": "aee8b7b246df8f9039afb4144a1f6fd8d2ca17a180786b69acc140d282b71a49"
  },
  "kernelspec": {
   "display_name": "Python 3.9.6 64-bit",
   "language": "python",
   "name": "python3"
  },
  "language_info": {
   "codemirror_mode": {
    "name": "ipython",
    "version": 3
   },
   "file_extension": ".py",
   "mimetype": "text/x-python",
   "name": "python",
   "nbconvert_exporter": "python",
   "pygments_lexer": "ipython3",
   "version": "3.9.6"
  },
  "orig_nbformat": 4
 },
 "nbformat": 4,
 "nbformat_minor": 2
}
