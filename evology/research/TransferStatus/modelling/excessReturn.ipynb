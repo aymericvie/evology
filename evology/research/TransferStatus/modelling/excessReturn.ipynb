{
 "cells": [
  {
   "cell_type": "code",
   "execution_count": 13,
   "metadata": {},
   "outputs": [
    {
     "name": "stdout",
     "output_type": "stream",
     "text": [
      "[0.01, 0.98, 0.01]\n"
     ]
    },
    {
     "name": "stderr",
     "output_type": "stream",
     "text": [
      "100%|██████████| 20000/20000 [00:07<00:00, 2609.06it/s]\n"
     ]
    },
    {
     "name": "stdout",
     "output_type": "stream",
     "text": [
      "0       -0.001723\n",
      "1       -0.149672\n",
      "2        0.005849\n",
      "3       -0.002348\n",
      "4       -0.207441\n",
      "           ...   \n",
      "19974    0.002100\n",
      "19975    0.009454\n",
      "19976   -0.002132\n",
      "19977   -0.154946\n",
      "19978   -0.003287\n",
      "Name: TF_DayReturns, Length: 19979, dtype: float64\n",
      "[0.01, 0.88, 0.11]\n"
     ]
    },
    {
     "name": "stderr",
     "output_type": "stream",
     "text": [
      "100%|██████████| 20000/20000 [00:07<00:00, 2702.30it/s]\n"
     ]
    },
    {
     "name": "stdout",
     "output_type": "stream",
     "text": [
      "0        0.001045\n",
      "1        0.001445\n",
      "2       -0.002270\n",
      "3       -0.236355\n",
      "4       -0.326300\n",
      "           ...   \n",
      "19974   -0.419931\n",
      "19975   -0.033743\n",
      "19976    0.000843\n",
      "19977    0.001134\n",
      "19978   -0.000106\n",
      "Name: TF_DayReturns, Length: 19979, dtype: float64\n",
      "[0.01, 0.78, 0.21000000000000002]\n"
     ]
    },
    {
     "name": "stderr",
     "output_type": "stream",
     "text": [
      "100%|██████████| 20000/20000 [00:07<00:00, 2593.71it/s]\n"
     ]
    },
    {
     "name": "stdout",
     "output_type": "stream",
     "text": [
      "0       -0.090011\n",
      "1       -0.867536\n",
      "2       -0.159248\n",
      "3        0.004478\n",
      "4       -0.001896\n",
      "           ...   \n",
      "19974    0.003504\n",
      "19975   -0.000048\n",
      "19976   -0.011907\n",
      "19977   -0.454093\n",
      "19978    0.005229\n",
      "Name: TF_DayReturns, Length: 19979, dtype: float64\n",
      "[0.01, 0.68, 0.31000000000000005]\n"
     ]
    },
    {
     "name": "stderr",
     "output_type": "stream",
     "text": [
      "100%|██████████| 20000/20000 [00:07<00:00, 2562.22it/s]\n"
     ]
    },
    {
     "name": "stdout",
     "output_type": "stream",
     "text": [
      "0        0.002190\n",
      "1        0.002478\n",
      "2        0.000770\n",
      "3       -0.005621\n",
      "4       -0.630736\n",
      "           ...   \n",
      "19974   -0.085654\n",
      "19975   -0.142701\n",
      "19976   -0.037080\n",
      "19977   -0.537024\n",
      "19978   -0.556213\n",
      "Name: TF_DayReturns, Length: 19979, dtype: float64\n",
      "[0.01, 0.5800000000000001, 0.41000000000000003]\n"
     ]
    },
    {
     "name": "stderr",
     "output_type": "stream",
     "text": [
      "100%|██████████| 20000/20000 [00:07<00:00, 2707.83it/s]\n"
     ]
    },
    {
     "name": "stdout",
     "output_type": "stream",
     "text": [
      "0       -0.184580\n",
      "1        0.000646\n",
      "2        0.000090\n",
      "3       -0.004925\n",
      "4       -0.558826\n",
      "           ...   \n",
      "19974   -1.118336\n",
      "19975   -1.310878\n",
      "19976    0.017157\n",
      "19977    0.014028\n",
      "19978   -0.005799\n",
      "Name: TF_DayReturns, Length: 19979, dtype: float64\n",
      "[0.01, 0.4800000000000001, 0.51]\n"
     ]
    },
    {
     "name": "stderr",
     "output_type": "stream",
     "text": [
      "100%|██████████| 20000/20000 [00:07<00:00, 2725.91it/s]\n"
     ]
    },
    {
     "name": "stdout",
     "output_type": "stream",
     "text": [
      "0        0.010551\n",
      "1       -0.001079\n",
      "2       -0.114500\n",
      "3       -1.368186\n",
      "4       -0.415957\n",
      "           ...   \n",
      "19974    0.007059\n",
      "19975   -0.002334\n",
      "19976   -0.312758\n",
      "19977   -1.694933\n",
      "19978   -1.633763\n",
      "Name: TF_DayReturns, Length: 19979, dtype: float64\n",
      "[0.01, 0.3800000000000001, 0.61]\n"
     ]
    },
    {
     "name": "stderr",
     "output_type": "stream",
     "text": [
      "  0%|          | 0/20000 [00:00<?, ?it/s]/Users/aymericvie/Documents/GitHub/evology/evology/code/balance_sheet.py:723: RuntimeWarning: invalid value encountered in log\n",
      "  ind.DailyReturn = np.log(ind.wealth / ind.prev_wealth)\n",
      "/Users/aymericvie/Documents/GitHub/evology/evology/code/data.py:131: RuntimeWarning: Mean of empty slice\n",
      "  results[current, 56] = np.nanmean(DailyTFReturns)\n",
      "100%|██████████| 20000/20000 [00:07<00:00, 2627.58it/s]\n"
     ]
    },
    {
     "name": "stdout",
     "output_type": "stream",
     "text": [
      "0        0.021673\n",
      "1        0.010144\n",
      "2       -0.004581\n",
      "3       -0.535243\n",
      "4       -5.429795\n",
      "           ...   \n",
      "19974    0.044030\n",
      "19975    0.028861\n",
      "19976   -0.006151\n",
      "19977   -0.490660\n",
      "19978         NaN\n",
      "Name: TF_DayReturns, Length: 19979, dtype: float64\n",
      "[0.01, 0.28000000000000014, 0.71]\n"
     ]
    },
    {
     "name": "stderr",
     "output_type": "stream",
     "text": [
      " 21%|██        | 4167/20000 [00:01<00:05, 2770.62it/s]/Users/aymericvie/Documents/GitHub/evology/evology/code/data.py:130: RuntimeWarning: Mean of empty slice\n",
      "  results[current, 55] = np.nanmean(DailyVIReturns)\n",
      "100%|██████████| 20000/20000 [00:07<00:00, 2755.35it/s]\n"
     ]
    },
    {
     "name": "stdout",
     "output_type": "stream",
     "text": [
      "0             NaN\n",
      "1       -7.110778\n",
      "2       -0.023122\n",
      "3        0.037317\n",
      "4       -0.001802\n",
      "           ...   \n",
      "19974   -0.118458\n",
      "19975    0.031130\n",
      "19976   -0.001539\n",
      "19977   -0.234193\n",
      "19978         NaN\n",
      "Name: TF_DayReturns, Length: 19979, dtype: float64\n",
      "[0.01, 0.18000000000000013, 0.8099999999999999]\n"
     ]
    },
    {
     "name": "stderr",
     "output_type": "stream",
     "text": [
      "100%|██████████| 20000/20000 [00:08<00:00, 2457.40it/s]\n"
     ]
    },
    {
     "name": "stdout",
     "output_type": "stream",
     "text": [
      "0       -1.444119\n",
      "1        0.121412\n",
      "2        0.006960\n",
      "3       -0.026133\n",
      "4             NaN\n",
      "           ...   \n",
      "19974         NaN\n",
      "19975         NaN\n",
      "19976         NaN\n",
      "19977         NaN\n",
      "19978         NaN\n",
      "Name: TF_DayReturns, Length: 19979, dtype: float64\n",
      "[0.01, 0.08000000000000013, 0.9099999999999999]\n"
     ]
    },
    {
     "name": "stderr",
     "output_type": "stream",
     "text": [
      "  0%|          | 0/20000 [00:00<?, ?it/s]/Users/aymericvie/Documents/GitHub/evology/evology/code/balance_sheet.py:153: RuntimeWarning: invalid value encountered in log2\n",
      "  return (LeverageNT * ind.wealth / p) * np.tanh(SCALE_NT * (math.log2(ind[0] * ind.process) - np.log2(p))) - ind.asset\n",
      "/Users/aymericvie/Documents/GitHub/evology/evology/code/balance_sheet.py:136: RuntimeWarning: invalid value encountered in log2\n",
      "  return (LeverageVI * ind.wealth / p) * np.tanh(SCALE_VI * (math.log2(ind[0]) - np.log2(p))) - ind.asset\n",
      "100%|██████████| 20000/20000 [00:09<00:00, 2086.67it/s]"
     ]
    },
    {
     "name": "stdout",
     "output_type": "stream",
     "text": [
      "0             NaN\n",
      "1       -1.000974\n",
      "2        0.438721\n",
      "3        0.251909\n",
      "4        0.030146\n",
      "           ...   \n",
      "19974    0.000032\n",
      "19975    0.000032\n",
      "19976    0.000032\n",
      "19977    0.000032\n",
      "19978    0.000032\n",
      "Name: TF_DayReturns, Length: 19979, dtype: float64\n"
     ]
    },
    {
     "name": "stderr",
     "output_type": "stream",
     "text": [
      "\n"
     ]
    }
   ],
   "source": [
    "#!/usr/bin/env python3\n",
    "import sys\n",
    "sys.path.insert(0, '/Users/aymericvie/Documents/GitHub/evology/evology/code/')\n",
    "from main import *\n",
    "from parameters import *\n",
    "import matplotlib\n",
    "import matplotlib.pyplot as plt\n",
    "\n",
    "increment = 0.075\n",
    "time = 50000\n",
    "agents = 3\n",
    "\n",
    "wealth_coordinates = [0.01, 0.98, 0.01]\n",
    "\n",
    "exrNT, exrVI, exrTF, exrAVG = [], [], [], []\n",
    "stratf, stratv, stratn = [], [], []\n",
    "\n",
    "while wealth_coordinates[2] <= (1-wealth_coordinates[0]- 0.01):\n",
    "    print(wealth_coordinates)\n",
    "    df = main(\"static\", time, 0, agents, 0, wealth_coordinates, tqdm_display = False, reset_wealth = True)\n",
    "    \n",
    "\n",
    "    # print(df['TF_DayReturns'])\n",
    "\n",
    "    exrNT.append(np.nanmean(df['NT_DayReturns'] / np.nanstd(df['NT_DayReturns'])))\n",
    "    exrVI.append(np.nanmean(df['VI_DayReturns'] / np.nanstd(df['VI_DayReturns'])))\n",
    "    exrTF.append(np.nanmean(df['TF_DayReturns'] / np.nanstd(df['TF_DayReturns'])))\n",
    "    exrAVG.append(np.nanmean(df['AvgDayReturn'] / np.nanstd(df['AvgDayReturn'])))\n",
    "\n",
    "    stratn.append(wealth_coordinates[0])\n",
    "    stratv.append(wealth_coordinates[1])\n",
    "    stratf.append(wealth_coordinates[2])\n",
    "\n",
    "    wealth_coordinates[1] -= increment\n",
    "    wealth_coordinates[2] += increment\n",
    "\n",
    "\n",
    "\n"
   ]
  },
  {
   "cell_type": "code",
   "execution_count": 14,
   "metadata": {},
   "outputs": [
    {
     "name": "stdout",
     "output_type": "stream",
     "text": [
      "[0.01, 0.11, 0.21000000000000002, 0.31000000000000005, 0.41000000000000003, 0.51, 0.61, 0.71, 0.8099999999999999, 0.9099999999999999]\n",
      "[-0.6348865434358254, -0.6447816856935922, -0.6380507300363792, -0.6384069802174005, -0.6368480650207401, -0.6765535587893566, -0.6308874968580366, -0.469093392445744, -0.3934286123473023, -0.1857073662954712]\n"
     ]
    },
    {
     "data": {
      "image/png": "[encoded data removed]",
      "text/plain": [
       "<Figure size 432x288 with 1 Axes>"
      ]
     },
     "metadata": {
      "needs_background": "light"
     },
     "output_type": "display_data"
    },
    {
     "data": {
      "image/png": "[encoded data removed]",
      "text/plain": [
       "<Figure size 432x288 with 1 Axes>"
      ]
     },
     "metadata": {
      "needs_background": "light"
     },
     "output_type": "display_data"
    }
   ],
   "source": [
    "print(stratf)\n",
    "print(exrTF)\n",
    "\n",
    "plt.plot(stratf, exrTF)\n",
    "plt.show()\n",
    "\n",
    "exrTF_net = np.subtract(exrTF, exrAVG)\n",
    "plt.plot(stratf, exrTF_net)\n",
    "plt.show()\n",
    "\n"
   ]
  }
 ],
 "metadata": {
  "interpreter": {
   "hash": "aee8b7b246df8f9039afb4144a1f6fd8d2ca17a180786b69acc140d282b71a49"
  },
  "kernelspec": {
   "display_name": "Python 3.9.6 64-bit",
   "language": "python",
   "name": "python3"
  },
  "language_info": {
   "codemirror_mode": {
    "name": "ipython",
    "version": 3
   },
   "file_extension": ".py",
   "mimetype": "text/x-python",
   "name": "python",
   "nbconvert_exporter": "python",
   "pygments_lexer": "ipython3",
   "version": "3.9.6"
  },
  "orig_nbformat": 4
 },
 "nbformat": 4,
 "nbformat_minor": 2
}
