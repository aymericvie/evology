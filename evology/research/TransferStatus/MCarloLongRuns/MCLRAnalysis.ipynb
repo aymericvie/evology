{
 "cells": [
  {
   "cell_type": "code",
   "execution_count": 16,
   "metadata": {},
   "outputs": [],
   "source": [
    "import sys\n",
    "import pandas as pd\n",
    "sys.path.insert(0, '/Users/aymericvie/Documents/GitHub/evology/evology/code/')\n",
    "import ternary\n",
    "import numpy as np"
   ]
  },
  {
   "cell_type": "code",
   "execution_count": 18,
   "metadata": {},
   "outputs": [],
   "source": [
    "\n",
    "MCNT = pd.read_csv(\"/Users/aymericvie/Documents/GitHub/evology/evology/data/MC_NT.csv\")\n",
    "MCVI = pd.read_csv(\"/Users/aymericvie/Documents/GitHub/evology/evology/data/MC_VI.csv\")\n",
    "MCTF = pd.read_csv(\"/Users/aymericvie/Documents/GitHub/evology/evology/data/MC_TF.csv\")"
   ]
  },
  {
   "cell_type": "markdown",
   "metadata": {},
   "source": [
    "We want to visualise a scatterplot of the wealth coordinates of the system after T days, from the same initial condition."
   ]
  },
  {
   "cell_type": "code",
   "execution_count": 20,
   "metadata": {},
   "outputs": [
    {
     "name": "stdout",
     "output_type": "stream",
     "text": [
      "[44.16158571440223, 33.80801187770546, 22.03040240789231]\n",
      "[9.215100143597741, 6.305655797533484, 7.431056674481003]\n"
     ]
    }
   ],
   "source": [
    "FinalCoordNT, FinalCoordVI, FinalCoordTF = [],[],[]\n",
    "\n",
    "for i in range(len(MCNT.columns) - 1):\n",
    "    value = MCNT['Rep%s' % i].iloc[-1]\n",
    "    FinalCoordNT.append(value)\n",
    "# print(FinalCoordNT)\n",
    "\n",
    "for i in range(len(MCVI.columns) - 1):\n",
    "    value = MCVI['Rep%s' % i].iloc[-1]\n",
    "    FinalCoordVI.append(value)\n",
    "# print(FinalCoordVI)\n",
    "\n",
    "for i in range(len(MCTF.columns) - 1):\n",
    "    value = MCTF['Rep%s' % i].iloc[-1]\n",
    "    FinalCoordTF.append(value)\n",
    "# print(FinalCoordTF)\n",
    "\n",
    "print([np.mean(FinalCoordNT),np.mean(FinalCoordVI),np.mean(FinalCoordTF)])\n",
    "print([np.std(FinalCoordNT),np.std(FinalCoordVI),np.std(FinalCoordTF)])"
   ]
  }
 ],
 "metadata": {
  "interpreter": {
   "hash": "aee8b7b246df8f9039afb4144a1f6fd8d2ca17a180786b69acc140d282b71a49"
  },
  "kernelspec": {
   "display_name": "Python 3.9.6 64-bit",
   "language": "python",
   "name": "python3"
  },
  "language_info": {
   "codemirror_mode": {
    "name": "ipython",
    "version": 3
   },
   "file_extension": ".py",
   "mimetype": "text/x-python",
   "name": "python",
   "nbconvert_exporter": "python",
   "pygments_lexer": "ipython3",
   "version": "3.9.6"
  },
  "orig_nbformat": 4
 },
 "nbformat": 4,
 "nbformat_minor": 2
}
