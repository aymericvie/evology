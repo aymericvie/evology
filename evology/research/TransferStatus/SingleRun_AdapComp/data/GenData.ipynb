{
 "cells": [
  {
   "cell_type": "code",
   "execution_count": 4,
   "metadata": {},
   "outputs": [
    {
     "name": "stderr",
     "output_type": "stream",
     "text": [
      " 97%|█████████▋| 14596/15000 [00:41<00:01, 349.89it/s]"
     ]
    },
    {
     "name": "stdout",
     "output_type": "stream",
     "text": [
      "Replacing // Gen 14548 // Type: nt, C: 168449509, S+: -646665, L: 0, M: 168850937, W: -401427\n"
     ]
    },
    {
     "name": "stderr",
     "output_type": "stream",
     "text": [
      "100%|██████████| 15000/15000 [00:42<00:00, 349.77it/s]\n",
      "100%|██████████| 15000/15000 [00:42<00:00, 351.45it/s]\n",
      " 64%|██████▍   | 9576/15000 [00:27<00:16, 337.41it/s]/Users/aymericvie/Documents/GitHub/evology/evology/code/balance_sheet.py:121: UserWarning: NT Error\n",
      "  warnings.warn('NT Error')\n",
      "/Users/aymericvie/Documents/GitHub/evology/evology/code/balance_sheet.py:111: UserWarning: VI Error\n",
      "  warnings.warn('VI Error')\n",
      " 64%|██████▍   | 9642/15000 [00:27<00:17, 297.98it/s]"
     ]
    },
    {
     "name": "stdout",
     "output_type": "stream",
     "text": [
      "Replacing // Gen 9613 // Type: nt, C: 23874, S+: -1664, L: 1246224, M: 397407, W: -1619758\n",
      "Replacing // Gen 9613 // Type: nt, C: 23874, S+: -12461, L: 2059433, M: 2975043, W: -5010603\n",
      "Replacing // Gen 9613 // Type: vi, C: 23874, S+: -1809, L: 1320902, M: 431971, W: -1728999\n",
      "Replacing // Gen 9613 // Type: nt, C: 23874, S+: -632, L: 1078314, M: 150975, W: -1205415\n",
      "Replacing // Gen 9613 // Type: nt, C: 23874, S+: -2000, L: 1456442, M: 477681, W: -1910249\n",
      "Replacing // Gen 9613 // Type: nt, C: 23874, S+: -1384, L: 1290626, M: 330604, W: -1597357\n",
      "Replacing // Gen 9613 // Type: nt, C: 23874, S+: -4180, L: 2103200, M: 998052, W: -3077379\n",
      "Replacing // Gen 9613 // Type: nt, C: 23874, S+: -1148, L: 1398016, M: 274297, W: -1648439\n",
      "Replacing // Gen 9613 // Type: nt, C: 23874, S+: -1364, L: 1235517, M: 325721, W: -1537364\n",
      "Replacing // Gen 9613 // Type: vi, C: 23874, S+: -1306, L: 960211, M: 311844, W: -1248181\n",
      "Replacing // Gen 9613 // Type: nt, C: 23874, S+: -12777, L: 736180, M: 3050485, W: -3762792\n",
      "Replacing // Gen 9613 // Type: nt, C: 23874, S+: -3116, L: 951838, M: 744018, W: -1671983\n",
      "Replacing // Gen 9613 // Type: nt, C: 23874, S+: -4604, L: 1651802, M: 1099357, W: -2727285\n",
      "Replacing // Gen 9613 // Type: vi, C: 23874, S+: -2033, L: 1481832, M: 485541, W: -1943499\n",
      "Replacing // Gen 9613 // Type: vi, C: 23874, S+: -1303, L: 958051, M: 311124, W: -1245302\n",
      "Replacing // Gen 9613 // Type: vi, C: 23874, S+: -1729, L: 1263482, M: 412825, W: -1652433\n",
      "Replacing // Gen 9613 // Type: vi, C: 23874, S+: -1651, L: 1207696, M: 394268, W: -1578091\n",
      "Replacing // Gen 9613 // Type: vi, C: 23874, S+: -3206, L: 2322736, M: 765579, W: -3064442\n",
      "Replacing // Gen 9613 // Type: vi, C: 23874, S+: -1959, L: 1428404, M: 467748, W: -1872278\n",
      "Replacing // Gen 9613 // Type: vi, C: 23874, S+: -1650, L: 1207072, M: 394039, W: -1577238\n",
      "Replacing // Gen 9613 // Type: nt, C: 23874, S+: -9292, L: 2217359, M: 2218608, W: -4412094\n",
      "Replacing // Gen 9613 // Type: vi, C: 23874, S+: -2373, L: 1724957, M: 566540, W: -2267624\n",
      "Replacing // Gen 9613 // Type: nt, C: 23874, S+: -2407, L: 1243691, M: 574878, W: -1794695\n",
      "Replacing // Gen 9613 // Type: nt, C: 23874, S+: -937, L: 1067516, M: 223932, W: -1267574\n",
      "Replacing // Gen 9613 // Type: nt, C: 23874, S+: -4759, L: 193185, M: 1136345, W: -1305656\n",
      "Replacing // Gen 9613 // Type: nt, C: 32542375, S+: -161451, L: 0, M: 38544878, W: -6002502\n",
      "Replacing // Gen 9613 // Type: nt, C: 23874, S+: -775, L: 960369, M: 185257, W: -1121752\n",
      "Replacing // Gen 9613 // Type: nt, C: 23874, S+: -1434, L: 913813, M: 342534, W: -1232474\n",
      "Replacing // Gen 9613 // Type: nt, C: 23874, S+: -3135, L: 1227840, M: 748669, W: -1952635\n",
      "Replacing // Gen 9613 // Type: vi, C: 23874, S+: -1686, L: 1232914, M: 402667, W: -1611707\n",
      "Replacing // Gen 9613 // Type: vi, C: 23874, S+: -1848, L: 1348637, M: 441208, W: -1765971\n",
      "Replacing // Gen 9613 // Type: vi, C: 23874, S+: -1691, L: 1236339, M: 403807, W: -1616272\n",
      "Replacing // Gen 9613 // Type: nt, C: 23874, S+: -6983, L: 1914005, M: 1667316, W: -3557448\n",
      "Replacing // Gen 9613 // Type: nt, C: 23874, S+: -19723, L: 1721381, M: 4708670, W: -6406177\n",
      "Replacing // Gen 9613 // Type: nt, C: 23874, S+: -4232, L: 2101697, M: 1010583, W: -3088406\n",
      "Replacing // Gen 9613 // Type: nt, C: 23874, S+: -3708, L: 1696496, M: 885459, W: -2558082\n",
      "Replacing // Gen 9613 // Type: nt, C: 23874, S+: -1664, L: 1404302, M: 397409, W: -1777838\n",
      "Replacing // Gen 9613 // Type: vi, C: 23874, S+: -1662, L: 1215507, M: 396869, W: -1588503\n",
      "Replacing // Gen 9613 // Type: nt, C: 23874, S+: -8982, L: 2162216, M: 2144575, W: -4282917\n",
      "Replacing // Gen 9613 // Type: vi, C: 23874, S+: -1898, L: 1384563, M: 453148, W: -1813838\n",
      "Replacing // Gen 9613 // Type: vi, C: 23874, S+: -1611, L: 1178709, M: 384614, W: -1539449\n",
      "Replacing // Gen 9613 // Type: nt, C: 23874, S+: -2992, L: 1330497, M: 714462, W: -2021085\n",
      "Replacing // Gen 9613 // Type: nt, C: 23874, S+: -22275, L: 847266, M: 5317981, W: -6141374\n",
      "Replacing // Gen 9613 // Type: vi, C: 23874, S+: -1444, L: 1059318, M: 344833, W: -1380278\n",
      "Replacing // Gen 9621 // Type: vi, C: 276260360, S+: -2420328, L: 0, M: 294432945, W: -18172585\n",
      "Replacing // Gen 9645 // Type: vi, C: 24391, S+: -105664, L: 299564172, M: 25772631, W: -325312412\n",
      "Replacing // Gen 9645 // Type: nt, C: 24391, S+: -46073, L: 139449079, M: 11237788, W: -150662477\n",
      "Replacing // Gen 9645 // Type: tf, C: 24391, S+: 95819, L: 322935294, M: 0, W: -299539649\n",
      "Replacing // Gen 9645 // Type: nt, C: 24391, S+: -12885, L: 43253759, M: 3142870, W: -46372238\n",
      "Replacing // Gen 9645 // Type: nt, C: 24391, S+: -106023, L: 352091131, M: 25860203, W: -377926943\n",
      "Replacing // Gen 9645 // Type: nt, C: 24391, S+: -91411, L: 302391641, M: 22296087, W: -324663338\n",
      "Replacing // Gen 9645 // Type: nt, C: 24391, S+: -106198, L: 365122243, M: 25902944, W: -391000797\n",
      "Replacing // Gen 9645 // Type: nt, C: 24391, S+: -96798, L: 389924267, M: 23610174, W: -413510050\n",
      "Replacing // Gen 9645 // Type: vi, C: 24391, S+: -105664, L: 299564172, M: 25772631, W: -325312412\n",
      "Replacing // Gen 9645 // Type: vi, C: 24391, S+: -32878, L: 93232657, M: 8019452, W: -101227719\n",
      "Replacing // Gen 9645 // Type: nt, C: 24391, S+: -105776, L: 309648389, M: 25799828, W: -335423826\n",
      "Replacing // Gen 9645 // Type: vi, C: 24391, S+: -105664, L: 299564172, M: 25772631, W: -325312412\n",
      "Replacing // Gen 9645 // Type: nt, C: 24391, S+: -88642, L: 296672964, M: 21620813, W: -318269386\n",
      "Replacing // Gen 9645 // Type: vi, C: 24391, S+: -105664, L: 299564172, M: 25772631, W: -325312412\n",
      "Replacing // Gen 9645 // Type: vi, C: 24391, S+: -105664, L: 299564172, M: 25772631, W: -325312412\n",
      "Replacing // Gen 9645 // Type: nt, C: 24391, S+: -94946, L: 277418215, M: 23158496, W: -300552320\n",
      "Replacing // Gen 9645 // Type: vi, C: 24391, S+: -105664, L: 299564172, M: 25772631, W: -325312412\n",
      "Replacing // Gen 9645 // Type: vi, C: 24391, S+: -105664, L: 299564172, M: 25772631, W: -325312412\n",
      "Replacing // Gen 9645 // Type: nt, C: 24391, S+: -99695, L: 347150588, M: 24316665, W: -371442863\n",
      "Replacing // Gen 9645 // Type: vi, C: 24391, S+: -105664, L: 299564172, M: 25772631, W: -325312412\n",
      "Replacing // Gen 9645 // Type: nt, C: 24391, S+: -107025, L: 253856441, M: 26104588, W: -279936639\n",
      "Replacing // Gen 9645 // Type: nt, C: 24391, S+: -95000, L: 330694028, M: 23171460, W: -353841098\n",
      "Replacing // Gen 9645 // Type: vi, C: 24391, S+: -105664, L: 299564172, M: 25772631, W: -325312412\n",
      "Replacing // Gen 9645 // Type: vi, C: 24391, S+: -105664, L: 299564172, M: 25772631, W: -325312412\n",
      "Replacing // Gen 9645 // Type: vi, C: 24391, S+: -215237, L: 357279233, M: 52498668, W: -409753511\n",
      "Replacing // Gen 9645 // Type: vi, C: 24391, S+: -36053, L: 102230336, M: 8793808, W: -110999754\n",
      "Replacing // Gen 9645 // Type: nt, C: 24391, S+: -82946, L: 382801124, M: 20231388, W: -403008121\n",
      "Replacing // Gen 9652 // Type: vi, C: 612406575, S+: -1803420, L: 0, M: 628618351, W: -16211776\n"
     ]
    },
    {
     "name": "stderr",
     "output_type": "stream",
     "text": [
      " 65%|██████▍   | 9702/15000 [00:27<00:19, 270.11it/s]"
     ]
    },
    {
     "name": "stdout",
     "output_type": "stream",
     "text": [
      "Replacing // Gen 9669 // Type: vi, C: 47373, S+: -2982, L: 91415731, M: 1412703, W: -92781061\n",
      "Replacing // Gen 9669 // Type: tf, C: 47373, S+: 2313, L: 92511858, M: 0, W: -91368354\n",
      "Replacing // Gen 9669 // Type: nt, C: 47373, S+: -3552, L: 90418408, M: 1682723, W: -92053758\n",
      "Replacing // Gen 9669 // Type: vi, C: 47373, S+: -2982, L: 91415731, M: 1412703, W: -92781061\n",
      "Replacing // Gen 9669 // Type: nt, C: 47373, S+: -2974, L: 91461789, M: 1409105, W: -92823521\n",
      "Replacing // Gen 9669 // Type: nt, C: 47373, S+: -4054, L: 89877184, M: 1920730, W: -91750542\n",
      "Replacing // Gen 9669 // Type: vi, C: 47373, S+: -3974, L: 83607997, M: 1882739, W: -85443364\n",
      "Replacing // Gen 9669 // Type: nt, C: 47373, S+: -2763, L: 92014121, M: 1308937, W: -93275685\n",
      "Replacing // Gen 9669 // Type: vi, C: 47373, S+: -2982, L: 91415731, M: 1412703, W: -92781061\n",
      "Replacing // Gen 9669 // Type: vi, C: 47373, S+: -42588, L: 702883814, M: 20175318, W: -723011759\n",
      "Replacing // Gen 9669 // Type: nt, C: 47373, S+: -27391, L: 672165234, M: 12976150, W: -685094012\n",
      "Replacing // Gen 9669 // Type: vi, C: 47373, S+: -2982, L: 91415731, M: 1412703, W: -92781061\n",
      "Replacing // Gen 9669 // Type: nt, C: 47373, S+: -2605, L: 92087263, M: 1234116, W: -93274007\n",
      "Replacing // Gen 9669 // Type: vi, C: 47373, S+: -2982, L: 91415731, M: 1412703, W: -92781061\n",
      "Replacing // Gen 9669 // Type: vi, C: 47373, S+: -2982, L: 91415731, M: 1412703, W: -92781061\n",
      "Replacing // Gen 9669 // Type: vi, C: 47373, S+: -2982, L: 91415731, M: 1412703, W: -92781061\n",
      "Replacing // Gen 9669 // Type: vi, C: 47373, S+: -2982, L: 91415731, M: 1412703, W: -92781061\n",
      "Replacing // Gen 9669 // Type: nt, C: 47373, S+: -3432, L: 90529555, M: 1625960, W: -92108143\n",
      "Replacing // Gen 9681 // Type: vi, C: 82340, S+: -229, L: 45174239, M: 188918, W: -45280817\n",
      "Replacing // Gen 9681 // Type: nt, C: 82340, S+: -222, L: 45182268, M: 183076, W: -45283005\n",
      "Replacing // Gen 9681 // Type: nt, C: 82340, S+: -233, L: 45169301, M: 192351, W: -45279313\n",
      "Replacing // Gen 9681 // Type: nt, C: 82340, S+: -217, L: 45188989, M: 178759, W: -45285408\n",
      "Replacing // Gen 9681 // Type: vi, C: 82340, S+: -229, L: 45174239, M: 188918, W: -45280817\n",
      "Replacing // Gen 9681 // Type: vi, C: 82340, S+: -229, L: 45174239, M: 188918, W: -45280817\n",
      "Replacing // Gen 9681 // Type: vi, C: 82340, S+: -229, L: 45174239, M: 188918, W: -45280817\n",
      "Replacing // Gen 9681 // Type: vi, C: 82340, S+: -229, L: 45174239, M: 188918, W: -45280817\n",
      "Replacing // Gen 9681 // Type: vi, C: 82340, S+: -229, L: 45174239, M: 188918, W: -45280817\n",
      "Replacing // Gen 9681 // Type: nt, C: 82340, S+: -211, L: 45196030, M: 174426, W: -45288116\n",
      "Replacing // Gen 9681 // Type: nt, C: 82340, S+: -226, L: 45176572, M: 186472, W: -45280704\n",
      "Replacing // Gen 9681 // Type: vi, C: 82340, S+: -229, L: 45174239, M: 188918, W: -45280817\n",
      "Replacing // Gen 9688 // Type: nt, C: 88999326, S+: -488061, L: 0, M: 129521680, W: -40522353\n",
      "Replacing // Gen 9691 // Type: nt, C: 85263, S+: -282, L: 12036321, M: 241108, W: -12192166\n",
      "Replacing // Gen 9691 // Type: nt, C: 85263, S+: -75, L: 5170188, M: 64633, W: -5149559\n",
      "Replacing // Gen 9691 // Type: vi, C: 85263, S+: -271, L: 12047018, M: 231485, W: -12193240\n",
      "Replacing // Gen 9691 // Type: nt, C: 85263, S+: -258, L: 12059196, M: 220712, W: -12194646\n",
      "Replacing // Gen 9691 // Type: vi, C: 85263, S+: -271, L: 12047018, M: 231485, W: -12193240\n",
      "Replacing // Gen 9691 // Type: nt, C: 85263, S+: -265, L: 12052368, M: 226571, W: -12193677\n",
      "Replacing // Gen 9691 // Type: vi, C: 85263, S+: -271, L: 12047018, M: 231485, W: -12193240\n",
      "Replacing // Gen 9691 // Type: nt, C: 85263, S+: -271, L: 12046778, M: 231587, W: -12193102\n",
      "Replacing // Gen 9721 // Type: nt, C: 97163, S+: -424, L: 68955167, M: 412545, W: -69270550\n",
      "Replacing // Gen 9721 // Type: vi, C: 97163, S+: -188, L: 32284884, M: 182726, W: -32370448\n",
      "Replacing // Gen 9721 // Type: vi, C: 97163, S+: -376, L: 69034096, M: 366006, W: -69302939\n",
      "Replacing // Gen 9721 // Type: vi, C: 97163, S+: -376, L: 69034096, M: 366006, W: -69302939\n",
      "Replacing // Gen 9721 // Type: vi, C: 97163, S+: -376, L: 69034096, M: 366006, W: -69302939\n",
      "Replacing // Gen 9721 // Type: nt, C: 97163, S+: -383, L: 68975935, M: 372814, W: -69251587\n",
      "Replacing // Gen 9721 // Type: nt, C: 97163, S+: -358, L: 69120907, M: 348057, W: -69371801\n"
     ]
    },
    {
     "name": "stderr",
     "output_type": "stream",
     "text": [
      " 65%|██████▌   | 9758/15000 [00:28<00:19, 265.76it/s]"
     ]
    },
    {
     "name": "stdout",
     "output_type": "stream",
     "text": [
      "Replacing // Gen 9724 // Type: vi, C: 3096208007, S+: -2164751, L: -22413793, M: 3539217895, W: -420596095\n",
      "Replacing // Gen 9729 // Type: vi, C: 993027950, S+: -4260153, L: 0, M: 1183385313, W: -190357363\n",
      "Replacing // Gen 9742 // Type: vi, C: 74747, S+: -390, L: 55478171, M: 291811, W: -55695236\n",
      "Replacing // Gen 9742 // Type: nt, C: 74747, S+: -50, L: 11596335, M: 37813, W: -11559401\n",
      "Replacing // Gen 9742 // Type: vi, C: 74747, S+: -44, L: 11599866, M: 33276, W: -11558396\n",
      "Replacing // Gen 9742 // Type: vi, C: 74747, S+: -44, L: 11599866, M: 33276, W: -11558396\n",
      "Replacing // Gen 9742 // Type: vi, C: 74747, S+: -44, L: 11599866, M: 33276, W: -11558396\n",
      "Replacing // Gen 9759 // Type: vi, C: 110026211, S+: -253280, L: 0, M: 114343562, W: -4317350\n",
      "Replacing // Gen 9763 // Type: nt, C: 1018621836, S+: -4069012, L: 0, M: 1027954652, W: -9332815\n",
      "Replacing // Gen 9763 // Type: vi, C: 123197571, S+: -488915, L: 0, M: 123514807, W: -317235\n",
      "Replacing // Gen 9763 // Type: vi, C: 123197571, S+: -488915, L: 0, M: 123514807, W: -317235\n",
      "Replacing // Gen 9763 // Type: nt, C: 121865410, S+: -483945, L: 0, M: 122259257, W: -393847\n",
      "Replacing // Gen 9763 // Type: nt, C: 242257874, S+: -986258, L: 0, M: 249158608, W: -6900733\n",
      "Replacing // Gen 9763 // Type: nt, C: 79445007, S+: -315231, L: 0, M: 79636820, W: -191813\n",
      "Replacing // Gen 9763 // Type: nt, C: 122576483, S+: -486517, L: 0, M: 122908845, W: -332361\n",
      "Replacing // Gen 9764 // Type: vi, C: 63567, S+: -204386, L: 194930742, M: 129924261, W: -324791436\n",
      "Replacing // Gen 9764 // Type: vi, C: 63567, S+: -23484, L: 22454308, M: 14928632, W: -37319372\n",
      "Replacing // Gen 9767 // Type: nt, C: 81497856, S+: -80161, L: 0, M: 89020480, W: -7522624\n"
     ]
    },
    {
     "name": "stderr",
     "output_type": "stream",
     "text": [
      " 65%|██████▌   | 9812/15000 [00:28<00:20, 255.96it/s]"
     ]
    },
    {
     "name": "stdout",
     "output_type": "stream",
     "text": [
      "Replacing // Gen 9783 // Type: vi, C: 868597574, S+: -5504158, L: 0, M: 1192751218, W: -324153644\n",
      "Replacing // Gen 9789 // Type: vi, C: 2077324131, S+: -2347562, L: -22413793, M: 2189829927, W: -90092003\n",
      "Replacing // Gen 9794 // Type: nt, C: 894805099, S+: -3446630, L: -22413793, M: 1012654497, W: -95435605\n",
      "Replacing // Gen 9798 // Type: nt, C: 36883, S+: -41573, L: 249291786, M: 15333607, W: -264588511\n",
      "Replacing // Gen 9798 // Type: nt, C: 36883, S+: -21117, L: 185311306, M: 7788871, W: -193063294\n",
      "Replacing // Gen 9798 // Type: nt, C: 36883, S+: -22503, L: 184609086, M: 8300098, W: -192872302\n",
      "Replacing // Gen 9798 // Type: nt, C: 36883, S+: -29128, L: 258136642, M: 10743412, W: -268843172\n",
      "Replacing // Gen 9798 // Type: nt, C: 36883, S+: -17958, L: 188143645, M: 6623537, W: -194730299\n",
      "Replacing // Gen 9798 // Type: vi, C: 36883, S+: -8802, L: 61538077, M: 3246489, W: -64747684\n",
      "Replacing // Gen 9798 // Type: nt, C: 36883, S+: -22703, L: 184652816, M: 8373738, W: -192989672\n",
      "Replacing // Gen 9798 // Type: nt, C: 36883, S+: -7242, L: 66103426, M: 2671127, W: -68737671\n",
      "Replacing // Gen 9821 // Type: nt, C: 41202, S+: -11121, L: 133198713, M: 4582275, W: -137739787\n",
      "Replacing // Gen 9821 // Type: nt, C: 41202, S+: -9057, L: 137321038, M: 3731875, W: -141011711\n",
      "Replacing // Gen 9821 // Type: nt, C: 41202, S+: -12876, L: 130394354, M: 5305517, W: -135658669\n",
      "Replacing // Gen 9821 // Type: nt, C: 41202, S+: -10324, L: 133678318, M: 4253762, W: -137890879\n",
      "Replacing // Gen 9821 // Type: vi, C: 41202, S+: -199410, L: 1605600874, M: 82160942, W: -1687720614\n",
      "Replacing // Gen 9821 // Type: vi, C: 41202, S+: -90790, L: 1137898631, M: 37407339, W: -1175264769\n",
      "Replacing // Gen 9821 // Type: nt, C: 41202, S+: -12378, L: 132147038, M: 5100085, W: -137205922\n",
      "Replacing // Gen 9833 // Type: nt, C: 61313, S+: -1014, L: 20803466, M: 622243, W: -21364397\n",
      "Replacing // Gen 9833 // Type: vi, C: 61313, S+: -952, L: 20849666, M: 583861, W: -21372215\n",
      "Replacing // Gen 9833 // Type: nt, C: 61313, S+: -223168, L: 37282960, M: 136831361, W: -174053008\n",
      "Replacing // Gen 9833 // Type: vi, C: 61313, S+: -947, L: 20855077, M: 581065, W: -21374830\n",
      "Replacing // Gen 9833 // Type: vi, C: 61313, S+: -43169, L: 9096993, M: 26468534, W: -35504215\n",
      "Replacing // Gen 9833 // Type: vi, C: 61313, S+: -26484, L: 4790031, M: 16238525, W: -20967243\n",
      "Replacing // Gen 9833 // Type: nt, C: 61313, S+: -959, L: 20844582, M: 588202, W: -21371471\n"
     ]
    },
    {
     "name": "stderr",
     "output_type": "stream",
     "text": [
      " 66%|██████▌   | 9890/15000 [00:28<00:20, 254.09it/s]"
     ]
    },
    {
     "name": "stdout",
     "output_type": "stream",
     "text": [
      "Replacing // Gen 9855 // Type: vi, C: 69942, S+: -2587, L: 125330234, M: 1809608, W: -127069901\n",
      "Replacing // Gen 9855 // Type: vi, C: 69942, S+: -2587, L: 125330234, M: 1809608, W: -127069901\n",
      "Replacing // Gen 9855 // Type: vi, C: 69942, S+: -2587, L: 125330234, M: 1809608, W: -127069901\n",
      "Replacing // Gen 9855 // Type: vi, C: 69942, S+: -3250, L: 22096743, M: 2273755, W: -24300556\n",
      "Replacing // Gen 9855 // Type: vi, C: 69942, S+: -2587, L: 125330234, M: 1809608, W: -127069901\n",
      "Replacing // Gen 9855 // Type: vi, C: 69942, S+: -62022, L: 1955052421, M: 43379835, W: -1998362314\n",
      "Replacing // Gen 9855 // Type: vi, C: 69942, S+: -22040, L: 987461614, M: 15415400, W: -1002807073\n",
      "Replacing // Gen 9855 // Type: nt, C: 69942, S+: -3130, L: 122810816, M: 2189610, W: -124930484\n",
      "Replacing // Gen 9859 // Type: vi, C: 2497361012, S+: -3235180, L: 0, M: 3499656114, W: -1002295101\n",
      "Replacing // Gen 9867 // Type: nt, C: 77429, S+: -480, L: 23963639, M: 371778, W: -24257989\n",
      "Replacing // Gen 9867 // Type: nt, C: 77429, S+: -604, L: 23841384, M: 467943, W: -24231899\n",
      "Replacing // Gen 9867 // Type: vi, C: 77429, S+: -376, L: 17175077, M: 291747, W: -17389396\n",
      "Replacing // Gen 9867 // Type: nt, C: 77429, S+: -608, L: 23838630, M: 471180, W: -24232381\n",
      "Replacing // Gen 9867 // Type: nt, C: 77429, S+: -559, L: 23884254, M: 433511, W: -24240337\n",
      "Replacing // Gen 9867 // Type: nt, C: 77429, S+: -489, L: 23953663, M: 378951, W: -24255185\n",
      "Replacing // Gen 9879 // Type: vi, C: 2070418515, S+: -2975783, L: 0, M: 2518643903, W: -448225388\n",
      "Replacing // Gen 9887 // Type: nt, C: 56465, S+: -4874, L: 46118884, M: 2752375, W: -48814795\n",
      "Replacing // Gen 9887 // Type: vi, C: 56465, S+: -3645, L: 33209701, M: 2058568, W: -35211805\n",
      "Replacing // Gen 9887 // Type: nt, C: 56465, S+: -4708, L: 46264823, M: 2658550, W: -48866909\n",
      "Replacing // Gen 9887 // Type: nt, C: 56465, S+: -655507, L: 1001526930, M: 370132448, W: -1371602914\n",
      "Replacing // Gen 9887 // Type: vi, C: 56465, S+: -4484, L: 46497117, M: 2532022, W: -48972675\n",
      "Replacing // Gen 9887 // Type: nt, C: 56465, S+: -4239, L: 46733124, M: 2393993, W: -49070653\n",
      "Replacing // Gen 9887 // Type: nt, C: 56465, S+: -4422, L: 46526883, M: 2496919, W: -48967338\n",
      "Replacing // Gen 9887 // Type: vi, C: 56465, S+: -4484, L: 46497117, M: 2532022, W: -48972675\n",
      "Replacing // Gen 9903 // Type: nt, C: 1671547166, S+: -5554052, L: 0, M: 2703546171, W: -1031999005\n",
      "Replacing // Gen 9905 // Type: vi, C: 154169867, S+: -595907, L: 0, M: 190297191, W: -36127324\n"
     ]
    },
    {
     "name": "stderr",
     "output_type": "stream",
     "text": [
      " 66%|██████▋   | 9967/15000 [00:28<00:20, 248.22it/s]"
     ]
    },
    {
     "name": "stdout",
     "output_type": "stream",
     "text": [
      "Replacing // Gen 9921 // Type: nt, C: 251231331, S+: -2815430, L: 0, M: 331291683, W: -80060352\n",
      "Replacing // Gen 9921 // Type: vi, C: 170701127, S+: -2357278, L: 0, M: 277381018, W: -106679891\n",
      "Replacing // Gen 9921 // Type: nt, C: 1862299515, S+: -26127957, L: 0, M: 3074476786, W: -1212177270\n",
      "Replacing // Gen 9921 // Type: nt, C: 1515292424, S+: -31609555, L: 0, M: 3719496357, W: -2204203932\n",
      "Replacing // Gen 9921 // Type: nt, C: 105051568, S+: -1773261, L: 0, M: 208659708, W: -103608139\n",
      "Replacing // Gen 9921 // Type: vi, C: 170701127, S+: -2357278, L: 0, M: 277381018, W: -106679891\n",
      "Replacing // Gen 9921 // Type: nt, C: 30126143, S+: -623526, L: 0, M: 73370315, W: -43244171\n",
      "Replacing // Gen 9921 // Type: nt, C: 95556920, S+: -1949921, L: 0, M: 229447294, W: -133890374\n",
      "Replacing // Gen 9921 // Type: vi, C: 145340843, S+: -2007063, L: 0, M: 236171161, W: -90830317\n",
      "Replacing // Gen 9921 // Type: vi, C: 170701127, S+: -2357278, L: 0, M: 277381018, W: -106679891\n",
      "Replacing // Gen 9921 // Type: nt, C: 162385589, S+: -2311347, L: 0, M: 271976261, W: -109590672\n",
      "Replacing // Gen 9927 // Type: vi, C: 169558185, S+: -954522, L: 0, M: 217745580, W: -48187394\n",
      "Replacing // Gen 9933 // Type: vi, C: 20996, S+: -54129, L: 23887649, M: 11365090, W: -35231743\n",
      "Replacing // Gen 9933 // Type: nt, C: 20996, S+: -49094, L: 25377187, M: 10307896, W: -35664088\n",
      "Replacing // Gen 9933 // Type: vi, C: 20996, S+: -54129, L: 23887649, M: 11365090, W: -35231743\n",
      "Replacing // Gen 9933 // Type: nt, C: 20996, S+: -62657, L: 21334863, M: 13155498, W: -34469365\n",
      "Replacing // Gen 9933 // Type: nt, C: 20996, S+: -6365, L: 2927636, M: 1336596, W: -4243237\n",
      "Replacing // Gen 9933 // Type: vi, C: 20996, S+: -54129, L: 23887649, M: 11365090, W: -35231743\n",
      "Replacing // Gen 9933 // Type: nt, C: 20996, S+: -60826, L: 21916884, M: 12771073, W: -34666961\n",
      "Replacing // Gen 9955 // Type: nt, C: 1711246203, S+: -13473095, L: 0, M: 2673870556, W: -962624352\n",
      "Replacing // Gen 9961 // Type: vi, C: 15025586, S+: -223209, L: 0, M: 41148726, W: -26123140\n",
      "Replacing // Gen 9961 // Type: vi, C: 47804012, S+: -710143, L: 0, M: 130914976, W: -83110964\n",
      "Replacing // Gen 9961 // Type: nt, C: 18435, S+: -193460, L: 1484393, M: 35664377, W: -37130335\n",
      "Replacing // Gen 9961 // Type: vi, C: 15025586, S+: -223209, L: 0, M: 41148726, W: -26123140\n",
      "Replacing // Gen 9961 // Type: nt, C: 19691693, S+: -273518, L: 0, M: 50423129, W: -30731435\n",
      "Replacing // Gen 9961 // Type: vi, C: 15025586, S+: -223209, L: 0, M: 41148726, W: -26123140\n",
      "Replacing // Gen 9961 // Type: nt, C: 20482556, S+: -223711, L: 0, M: 41241141, W: -20758585\n"
     ]
    },
    {
     "name": "stderr",
     "output_type": "stream",
     "text": [
      " 67%|██████▋   | 10046/15000 [00:29<00:19, 251.87it/s]"
     ]
    },
    {
     "name": "stdout",
     "output_type": "stream",
     "text": [
      "Replacing // Gen 10017 // Type: nt, C: 1418615851, S+: -11046400, L: 0, M: 1836022245, W: -417406393\n",
      "Replacing // Gen 10028 // Type: vi, C: 193638754, S+: -956334, L: 0, M: 199347915, W: -5709161\n",
      "Replacing // Gen 10044 // Type: vi, C: 42415478, S+: -349561, L: 0, M: 47771120, W: -5355641\n",
      "Replacing // Gen 10048 // Type: vi, C: 137330, S+: -2266, L: 0, M: 370891, W: -233561\n",
      "Replacing // Gen 10048 // Type: vi, C: 137330, S+: -2266, L: 0, M: 370891, W: -233561\n",
      "Replacing // Gen 10048 // Type: vi, C: 4231271, S+: -69820, L: 0, M: 11427484, W: -7196213\n",
      "Replacing // Gen 10048 // Type: vi, C: 5653182, S+: -93283, L: 0, M: 15267671, W: -9614489\n",
      "Replacing // Gen 10048 // Type: nt, C: 160545273, S+: -3224350, L: 0, M: 527729494, W: -367184221\n",
      "Replacing // Gen 10048 // Type: nt, C: 16366, S+: -439403, L: 131176987, M: 71917163, W: -203077784\n",
      "Replacing // Gen 10048 // Type: vi, C: 137330, S+: -2266, L: 0, M: 370891, W: -233561\n",
      "Replacing // Gen 10048 // Type: nt, C: 53129, S+: -938, L: 0, M: 153641, W: -100512\n",
      "Replacing // Gen 10048 // Type: vi, C: 2555016, S+: -42160, L: 0, M: 6900388, W: -4345372\n",
      "Replacing // Gen 10048 // Type: nt, C: 285343, S+: -6288, L: 0, M: 1029182, W: -743839\n",
      "Replacing // Gen 10054 // Type: vi, C: 60598271, S+: -537317, L: 0, M: 62366436, W: -1768164\n",
      "Replacing // Gen 10062 // Type: nt, C: 47089766, S+: -329039, L: 0, M: 61908696, W: -14818929\n",
      "Replacing // Gen 10068 // Type: vi, C: 24083016, S+: -420797, L: 0, M: 73100861, W: -49017845\n",
      "Replacing // Gen 10068 // Type: vi, C: 24083016, S+: -420797, L: 0, M: 73100861, W: -49017845\n",
      "Replacing // Gen 10068 // Type: vi, C: 24083016, S+: -420797, L: 0, M: 73100861, W: -49017845\n",
      "Replacing // Gen 10068 // Type: nt, C: 7409500, S+: -91642, L: 0, M: 15920216, W: -8510716\n",
      "Replacing // Gen 10068 // Type: vi, C: 20585460, S+: -359685, L: 0, M: 62484485, W: -41899025\n",
      "Replacing // Gen 10068 // Type: nt, C: 41370925, S+: -459685, L: 0, M: 79856598, W: -38485673\n",
      "Replacing // Gen 10068 // Type: vi, C: 24083016, S+: -420797, L: 0, M: 73100861, W: -49017845\n",
      "Replacing // Gen 10068 // Type: vi, C: 24083016, S+: -420797, L: 0, M: 73100861, W: -49017845\n",
      "Replacing // Gen 10068 // Type: nt, C: 39278160, S+: -464818, L: 0, M: 80748213, W: -41470053\n"
     ]
    },
    {
     "name": "stderr",
     "output_type": "stream",
     "text": [
      " 67%|██████▋   | 10124/15000 [00:29<00:19, 252.65it/s]"
     ]
    },
    {
     "name": "stdout",
     "output_type": "stream",
     "text": [
      "Replacing // Gen 10079 // Type: nt, C: 139516814, S+: -1090454, L: 0, M: 183196403, W: -43679588\n",
      "Replacing // Gen 10079 // Type: nt, C: 150031353, S+: -1145239, L: 0, M: 192400319, W: -42368966\n",
      "Replacing // Gen 10079 // Type: nt, C: 136343610, S+: -1077275, L: 0, M: 180982214, W: -44638603\n",
      "Replacing // Gen 10079 // Type: vi, C: 133877171, S+: -1070239, L: 0, M: 179800167, W: -45922996\n",
      "Replacing // Gen 10079 // Type: nt, C: 137124151, S+: -1085969, L: 0, M: 182442937, W: -45318786\n",
      "Replacing // Gen 10079 // Type: vi, C: 133877171, S+: -1070239, L: 0, M: 179800167, W: -45922996\n",
      "Replacing // Gen 10079 // Type: vi, C: 35840498, S+: -286515, L: 0, M: 48134625, W: -12294127\n",
      "Replacing // Gen 10118 // Type: vi, C: 131148219, S+: -499779, L: 0, M: 137284454, W: -6136235\n",
      "Replacing // Gen 10128 // Type: vi, C: 56770059, S+: -214613, L: 0, M: 59791365, W: -3021306\n"
     ]
    },
    {
     "name": "stderr",
     "output_type": "stream",
     "text": [
      " 68%|██████▊   | 10176/15000 [00:29<00:19, 250.15it/s]"
     ]
    },
    {
     "name": "stdout",
     "output_type": "stream",
     "text": [
      "Replacing // Gen 10141 // Type: vi, C: 52724897, S+: -445195, L: 0, M: 56691252, W: -3966355\n",
      "Replacing // Gen 10150 // Type: nt, C: 69828653, S+: -677127, L: 0, M: 93992124, W: -24163471\n",
      "Replacing // Gen 10150 // Type: nt, C: 42440022, S+: -412338, L: 0, M: 57236692, W: -14796669\n",
      "Replacing // Gen 10163 // Type: nt, C: 37684855, S+: -460010, L: 0, M: 54092611, W: -16407755\n",
      "Replacing // Gen 10177 // Type: vi, C: 42519122, S+: -362752, L: 0, M: 45666885, W: -3147763\n",
      "Replacing // Gen 10181 // Type: nt, C: 219107883, S+: -1423496, L: 0, M: 221581499, W: -2473615\n",
      "Replacing // Gen 10184 // Type: vi, C: 151792172, S+: -562558, L: 0, M: 161443123, W: -9650950\n",
      "Replacing // Gen 10187 // Type: vi, C: 162444446, S+: -1498554, L: 0, M: 171764335, W: -9319889\n",
      "Replacing // Gen 10187 // Type: vi, C: 87216331, S+: -804573, L: 0, M: 92220175, W: -5003843\n"
     ]
    },
    {
     "name": "stderr",
     "output_type": "stream",
     "text": [
      " 68%|██████▊   | 10227/15000 [00:30<00:19, 248.77it/s]"
     ]
    },
    {
     "name": "stdout",
     "output_type": "stream",
     "text": [
      "Replacing // Gen 10201 // Type: vi, C: 17030, S+: -3209, L: 561868, M: 546514, W: -1091353\n",
      "Replacing // Gen 10201 // Type: vi, C: 17030, S+: -16459, L: 2794739, M: 2803063, W: -5580772\n",
      "Replacing // Gen 10201 // Type: nt, C: 17030, S+: -1158, L: 261265, M: 197226, W: -441461\n",
      "Replacing // Gen 10201 // Type: vi, C: 17030, S+: -8655, L: 1483162, M: 1473969, W: -2940101\n",
      "Replacing // Gen 10201 // Type: nt, C: 17030, S+: -10476, L: 782380, M: 1784131, W: -2549482\n",
      "Replacing // Gen 10201 // Type: vi, C: 17030, S+: -648, L: 127139, M: 110447, W: -220556\n",
      "Replacing // Gen 10201 // Type: nt, C: 17030, S+: -689, L: 111573, M: 117361, W: -211905\n",
      "Replacing // Gen 10201 // Type: vi, C: 17030, S+: -66071, L: 11258342, M: 11252044, W: -22493356\n",
      "Replacing // Gen 10201 // Type: vi, C: 17030, S+: -410229, L: 69709089, M: 69862082, W: -139554141\n",
      "Replacing // Gen 10201 // Type: nt, C: 17030, S+: -166953, L: 2844883, M: 28432176, W: -31260030\n",
      "Replacing // Gen 10201 // Type: nt, C: 17030, S+: -90808, L: 16368165, M: 15464627, W: -31815763\n",
      "Replacing // Gen 10201 // Type: nt, C: 17030, S+: -1577, L: 193366, M: 268644, W: -444981\n",
      "Replacing // Gen 10201 // Type: nt, C: 17030, S+: -806, L: 243789, M: 137301, W: -364060\n",
      "Replacing // Gen 10201 // Type: nt, C: 17030, S+: -2378, L: 659360, M: 405130, W: -1047460\n",
      "Replacing // Gen 10201 // Type: vi, C: 17030, S+: -3462, L: 604850, M: 589616, W: -1177436\n",
      "Replacing // Gen 10201 // Type: nt, C: 17030, S+: -53314, L: 12368305, M: 9079462, W: -21430738\n",
      "Replacing // Gen 10229 // Type: vi, C: 18755, S+: -138206, L: 35185109, M: 25920706, W: -61087061\n",
      "Replacing // Gen 10229 // Type: vi, C: 18755, S+: -63585, L: 16168397, M: 11925496, W: -28075139\n",
      "Replacing // Gen 10229 // Type: nt, C: 18755, S+: -17360, L: 3804359, M: 3255990, W: -7041594\n",
      "Replacing // Gen 10229 // Type: vi, C: 18755, S+: -18752, L: 4790400, M: 3516990, W: -8288636\n",
      "Replacing // Gen 10229 // Type: vi, C: 18755, S+: -15437, L: 3949978, M: 2895359, W: -6826582\n",
      "Replacing // Gen 10229 // Type: vi, C: 18755, S+: -19327, L: 4963415, M: 3624917, W: -8569578\n",
      "Replacing // Gen 10229 // Type: nt, C: 18755, S+: -192075, L: 46905312, M: 36023820, W: -82910377\n",
      "Replacing // Gen 10229 // Type: nt, C: 18755, S+: -19288, L: 3588939, M: 3617642, W: -7187826\n",
      "Replacing // Gen 10229 // Type: nt, C: 18755, S+: -16830, L: 4084174, M: 3156601, W: -7222021\n",
      "Replacing // Gen 10229 // Type: nt, C: 18755, S+: -17199, L: 3322594, M: 3225754, W: -6529594\n",
      "Replacing // Gen 10233 // Type: nt, C: 32439964, S+: -371008, L: 0, M: 52197181, W: -19757217\n"
     ]
    },
    {
     "name": "stderr",
     "output_type": "stream",
     "text": [
      " 69%|██████▊   | 10302/15000 [00:30<00:19, 243.37it/s]"
     ]
    },
    {
     "name": "stdout",
     "output_type": "stream",
     "text": [
      "Replacing // Gen 10255 // Type: vi, C: 83021907, S+: -570423, L: 0, M: 114250084, W: -31228176\n",
      "Replacing // Gen 10261 // Type: nt, C: 19271, S+: -131789, L: 6214150, M: 25397083, W: -31591962\n",
      "Replacing // Gen 10261 // Type: vi, C: 19271, S+: -105899, L: 34603096, M: 20407943, W: -54991769\n",
      "Replacing // Gen 10261 // Type: nt, C: 19271, S+: -86442, L: 27444168, M: 16658271, W: -44083168\n",
      "Replacing // Gen 10261 // Type: vi, C: 19271, S+: -105899, L: 34603096, M: 20407943, W: -54991769\n",
      "Replacing // Gen 10261 // Type: vi, C: 19271, S+: -105899, L: 34603096, M: 20407943, W: -54991769\n",
      "Replacing // Gen 10261 // Type: vi, C: 19271, S+: -105899, L: 34603096, M: 20407943, W: -54991769\n",
      "Replacing // Gen 10261 // Type: nt, C: 19271, S+: -93815, L: 38750202, M: 18079120, W: -56810051\n",
      "Replacing // Gen 10261 // Type: vi, C: 19271, S+: -105899, L: 34603096, M: 20407943, W: -54991769\n",
      "Replacing // Gen 10261 // Type: nt, C: 19271, S+: -224850, L: 87236305, M: 43330899, W: -130547933\n",
      "Replacing // Gen 10261 // Type: nt, C: 19271, S+: -60573, L: 33934859, M: 11673071, W: -45588659\n",
      "Replacing // Gen 10261 // Type: vi, C: 19271, S+: -60809, L: 20106479, M: 11718554, W: -31805763\n",
      "Replacing // Gen 10261 // Type: vi, C: 19271, S+: -105899, L: 34603096, M: 20407943, W: -54991769\n",
      "Replacing // Gen 10261 // Type: vi, C: 19271, S+: -23697, L: 7774863, M: 4566749, W: -12322342\n",
      "Replacing // Gen 10261 // Type: vi, C: 19271, S+: -105899, L: 34603096, M: 20407943, W: -54991769\n",
      "Replacing // Gen 10274 // Type: nt, C: 36548375, S+: -383020, L: 0, M: 37172172, W: -623796\n",
      "Replacing // Gen 10274 // Type: nt, C: 30208078, S+: -331989, L: 0, M: 32219547, W: -2011469\n",
      "Replacing // Gen 10274 // Type: nt, C: 32356224, S+: -349643, L: 0, M: 33932864, W: -1576640\n",
      "Replacing // Gen 10275 // Type: vi, C: 20873, S+: -21, L: 5812779, M: 4402, W: -5796309\n",
      "Replacing // Gen 10275 // Type: vi, C: 20873, S+: -21, L: 5812779, M: 4402, W: -5796309\n",
      "Replacing // Gen 10275 // Type: vi, C: 20873, S+: -21, L: 5812779, M: 4402, W: -5796309\n",
      "Replacing // Gen 10275 // Type: vi, C: 20873, S+: -1020, L: 2251030, M: 213085, W: -2443242\n",
      "Replacing // Gen 10275 // Type: nt, C: 20873, S+: -1639, L: 5767092, M: 342222, W: -6088442\n",
      "Replacing // Gen 10275 // Type: nt, C: 20873, S+: -6418, L: 5113176, M: 1339754, W: -6432058\n",
      "Replacing // Gen 10275 // Type: vi, C: 20873, S+: -21, L: 5812779, M: 4402, W: -5796309\n",
      "Replacing // Gen 10275 // Type: vi, C: 20873, S+: -1741, L: 496031007, M: 363595, W: -496373730\n",
      "Replacing // Gen 10279 // Type: nt, C: 2324804835, S+: -27230403, L: 0, M: 3938877841, W: -1614073005\n",
      "Replacing // Gen 10285 // Type: vi, C: 82274521, S+: -881477, L: 0, M: 116073003, W: -33798481\n",
      "Replacing // Gen 10285 // Type: nt, C: 90735867, S+: -926193, L: 0, M: 121961158, W: -31225291\n",
      "Replacing // Gen 10285 // Type: nt, C: 86716197, S+: -912149, L: 0, M: 120111792, W: -33395594\n",
      "Replacing // Gen 10285 // Type: vi, C: 82274521, S+: -881477, L: 0, M: 116073003, W: -33798481\n",
      "Replacing // Gen 10285 // Type: vi, C: 55272281, S+: -592179, L: 0, M: 77978206, W: -22705925\n",
      "Replacing // Gen 10285 // Type: nt, C: 54116455, S+: -563509, L: 0, M: 74202967, W: -20086512\n",
      "Replacing // Gen 10285 // Type: vi, C: 65893371, S+: -705972, L: 0, M: 92962455, W: -27069083\n",
      "Replacing // Gen 10285 // Type: nt, C: 50939035, S+: -570243, L: 0, M: 75089725, W: -24150689\n",
      "Replacing // Gen 10285 // Type: nt, C: 104638053, S+: -1007032, L: 0, M: 132606096, W: -27968043\n",
      "Replacing // Gen 10285 // Type: vi, C: 55272281, S+: -592179, L: 0, M: 77978206, W: -22705925\n",
      "Replacing // Gen 10285 // Type: vi, C: 82274521, S+: -881477, L: 0, M: 116073003, W: -33798481\n",
      "Replacing // Gen 10285 // Type: vi, C: 82274521, S+: -881477, L: 0, M: 116073003, W: -33798481\n",
      "Replacing // Gen 10307 // Type: nt, C: 200185150, S+: -2293657, L: 0, M: 280445550, W: -80260400\n",
      "Replacing // Gen 10313 // Type: nt, C: 13946208, S+: -121071, L: 0, M: 15284046, W: -1337837"
     ]
    },
    {
     "name": "stderr",
     "output_type": "stream",
     "text": [
      " 69%|██████▉   | 10356/15000 [00:30<00:18, 254.91it/s]"
     ]
    },
    {
     "name": "stdout",
     "output_type": "stream",
     "text": [
      "\n",
      "Replacing // Gen 10333 // Type: nt, C: 7260365, S+: -61600, L: 0, M: 8433095, W: -1172729\n",
      "Replacing // Gen 10333 // Type: vi, C: 6017326, S+: -55687, L: 0, M: 7623583, W: -1606257\n",
      "Replacing // Gen 10333 // Type: vi, C: 3866072, S+: -35778, L: 0, M: 4898076, W: -1032004\n",
      "Replacing // Gen 10333 // Type: vi, C: 6680300, S+: -61822, L: 0, M: 8463531, W: -1783230\n",
      "Replacing // Gen 10333 // Type: nt, C: 379696323, S+: -3257972, L: 0, M: 446016460, W: -66320137\n",
      "Replacing // Gen 10333 // Type: nt, C: 52897055, S+: -473136, L: 0, M: 64772325, W: -11875269\n",
      "Replacing // Gen 10333 // Type: vi, C: 6680300, S+: -61822, L: 0, M: 8463531, W: -1783230\n",
      "Replacing // Gen 10353 // Type: vi, C: 88735515, S+: -786227, L: 0, M: 100644920, W: -11909404\n",
      "Replacing // Gen 10353 // Type: vi, C: 152869274, S+: -1354464, L: 0, M: 173384991, W: -20515716\n",
      "Replacing // Gen 10353 // Type: nt, C: 72669337, S+: -627465, L: 0, M: 80321871, W: -7652534\n",
      "Replacing // Gen 10353 // Type: vi, C: 71634314, S+: -634700, L: 0, M: 81247961, W: -9613646\n",
      "Replacing // Gen 10353 // Type: vi, C: 152869274, S+: -1354464, L: 0, M: 173384991, W: -20515716\n",
      "Replacing // Gen 10353 // Type: nt, C: 90216022, S+: -806503, L: 0, M: 103240510, W: -13024487\n",
      "Replacing // Gen 10353 // Type: vi, C: 166006784, S+: -1470863, L: 0, M: 188285208, W: -22278423\n",
      "Replacing // Gen 10365 // Type: vi, C: 30575027, S+: -403952, L: 0, M: 34945914, W: -4370886\n",
      "Replacing // Gen 10377 // Type: vi, C: 183240524, S+: -1988811, L: 0, M: 201009147, W: -17768623\n",
      "Replacing // Gen 10377 // Type: nt, C: 47754957, S+: -516423, L: 0, M: 52194955, W: -4439998\n"
     ]
    },
    {
     "name": "stderr",
     "output_type": "stream",
     "text": [
      " 70%|██████▉   | 10435/15000 [00:30<00:17, 254.97it/s]"
     ]
    },
    {
     "name": "stdout",
     "output_type": "stream",
     "text": [
      "Replacing // Gen 10395 // Type: nt, C: 8737383, S+: -88421, L: 0, M: 8912871, W: -175487\n",
      "Replacing // Gen 10395 // Type: nt, C: 10360471, S+: -103491, L: 0, M: 10431986, W: -71515\n",
      "Replacing // Gen 10395 // Type: nt, C: 275736636, S+: -2753636, L: 0, M: 277566557, W: -1829920\n",
      "Replacing // Gen 10395 // Type: nt, C: 15291713, S+: -152038, L: 0, M: 15325514, W: -33801\n",
      "Replacing // Gen 10398 // Type: nt, C: 2802983637, S+: -19014504, L: 0, M: 3209838446, W: -406854808\n",
      "Replacing // Gen 10398 // Type: vi, C: 139629145, S+: -937227, L: 0, M: 158213368, W: -18584222\n"
     ]
    },
    {
     "name": "stderr",
     "output_type": "stream",
     "text": [
      "/Users/aymericvie/Documents/GitHub/evology/evology/code/balance_sheet.py:256: UserWarning: Negative price -0.32\n",
      "  warnings.warn('Negative price '+ str(price) )\n",
      "/Users/aymericvie/Documents/GitHub/evology/evology/code/balance_sheet.py:262: RuntimeWarning: invalid value encountered in log2\n",
      "  ind.tsv = np.log2(ind[0] * abs(ind.process)) - np.log2(price)\n",
      "/Users/aymericvie/Documents/GitHub/evology/evology/code/balance_sheet.py:260: RuntimeWarning: invalid value encountered in log2\n",
      "  ind.tsv = np.log2(ind[0]) - np.log2(price)\n",
      "/Users/aymericvie/Documents/GitHub/evology/evology/code/balance_sheet.py:57: RuntimeWarning: invalid value encountered in log2\n",
      "  tf_basic = np.log2(price_history[-1]) - np.log2(price_history[-2])\n",
      " 70%|███████   | 10561/15000 [00:31<00:18, 233.97it/s]"
     ]
    },
    {
     "name": "stdout",
     "output_type": "stream",
     "text": [
      "Replacing // Gen 10514 // Type: nt, C: -32, S+: -19451648, L: 29786352, M: -6224527, W: -23561856\n"
     ]
    },
    {
     "name": "stderr",
     "output_type": "stream",
     "text": [
      " 75%|███████▌  | 11322/15000 [00:34<00:16, 222.99it/s]"
     ]
    },
    {
     "name": "stdout",
     "output_type": "stream",
     "text": [
      "Replacing // Gen 11298 // Type: tf, C: -32, S+: -37700161, L: 12074564, M: -12064051, W: -10544\n"
     ]
    },
    {
     "name": "stderr",
     "output_type": "stream",
     "text": [
      " 77%|███████▋  | 11552/15000 [00:35<00:15, 226.57it/s]"
     ]
    },
    {
     "name": "stdout",
     "output_type": "stream",
     "text": [
      "Replacing // Gen 11507 // Type: tf, C: -32, S+: -46466321, L: 14880408, M: -14869222, W: -11217\n",
      "Replacing // Gen 11511 // Type: tf, C: -32, S+: -16601385, L: 5319220, M: -5312443, W: -6809\n"
     ]
    },
    {
     "name": "stderr",
     "output_type": "stream",
     "text": [
      " 77%|███████▋  | 11621/15000 [00:36<00:15, 224.50it/s]"
     ]
    },
    {
     "name": "stdout",
     "output_type": "stream",
     "text": [
      "Replacing // Gen 11582 // Type: nt, C: -32, S+: -378926, L: 4326214, M: -121256, W: -4204990\n",
      "Replacing // Gen 11620 // Type: vi, C: -32, S+: -42981, L: 16991, M: -13754, W: -3269\n"
     ]
    },
    {
     "name": "stderr",
     "output_type": "stream",
     "text": [
      " 78%|███████▊  | 11690/15000 [00:36<00:14, 221.32it/s]"
     ]
    },
    {
     "name": "stdout",
     "output_type": "stream",
     "text": [
      "Replacing // Gen 11658 // Type: tf, C: -32, S+: -19497420, L: 6250590, M: -6239174, W: -11447\n",
      "Replacing // Gen 11670 // Type: vi, C: -32, S+: -6223273, L: 2742479, M: -1991447, W: -751064\n",
      "Replacing // Gen 11673 // Type: tf, C: -32, S+: -64738388, L: 20743841, M: -20716284, W: -27588\n",
      "Replacing // Gen 11677 // Type: nt, C: -32, S+: -61998, L: 83266, M: -19839, W: -63458\n",
      "Replacing // Gen 11692 // Type: vi, C: -32, S+: -5021601, L: 6010528, M: -1606912, W: -4403647\n"
     ]
    },
    {
     "name": "stderr",
     "output_type": "stream",
     "text": [
      " 79%|███████▉  | 11874/15000 [00:37<00:14, 221.86it/s]"
     ]
    },
    {
     "name": "stdout",
     "output_type": "stream",
     "text": [
      "Replacing // Gen 11837 // Type: nt, C: -32, S+: -6414774, L: 5938114, M: -2052727, W: -3885418\n"
     ]
    },
    {
     "name": "stderr",
     "output_type": "stream",
     "text": [
      " 81%|████████  | 12173/15000 [00:38<00:12, 224.41it/s]"
     ]
    },
    {
     "name": "stdout",
     "output_type": "stream",
     "text": [
      "Replacing // Gen 12138 // Type: tf, C: -32, S+: -1627017, L: 522131, M: -520645, W: -1517\n"
     ]
    },
    {
     "name": "stderr",
     "output_type": "stream",
     "text": [
      " 82%|████████▏ | 12265/15000 [00:38<00:12, 225.03it/s]"
     ]
    },
    {
     "name": "stdout",
     "output_type": "stream",
     "text": [
      "Replacing // Gen 12219 // Type: vi, C: -32, S+: -1208563, L: 424399, M: -386740, W: -37690\n",
      "Replacing // Gen 12270 // Type: tf, C: -32, S+: -1890735, L: 606702, M: -605035, W: -1698\n"
     ]
    },
    {
     "name": "stderr",
     "output_type": "stream",
     "text": [
      " 82%|████████▏ | 12334/15000 [00:39<00:11, 224.99it/s]"
     ]
    },
    {
     "name": "stdout",
     "output_type": "stream",
     "text": [
      "Replacing // Gen 12304 // Type: nt, C: -32, S+: -70673, L: 23135, M: -22615, W: -552\n",
      "Replacing // Gen 12346 // Type: tf, C: -32, S+: -1499133, L: 480842, M: -479722, W: -1151\n"
     ]
    },
    {
     "name": "stderr",
     "output_type": "stream",
     "text": [
      " 83%|████████▎ | 12449/15000 [00:39<00:11, 224.61it/s]"
     ]
    },
    {
     "name": "stdout",
     "output_type": "stream",
     "text": [
      "Replacing // Gen 12421 // Type: nt, C: -32, S+: -40932, L: 18324, M: -13098, W: -5257\n"
     ]
    },
    {
     "name": "stderr",
     "output_type": "stream",
     "text": [
      " 83%|████████▎ | 12518/15000 [00:40<00:11, 225.41it/s]"
     ]
    },
    {
     "name": "stdout",
     "output_type": "stream",
     "text": [
      "Replacing // Gen 12475 // Type: tf, C: -32, S+: -702321, L: 225082, M: -224743, W: -371\n"
     ]
    },
    {
     "name": "stderr",
     "output_type": "stream",
     "text": [
      " 84%|████████▍ | 12633/15000 [00:40<00:10, 224.05it/s]"
     ]
    },
    {
     "name": "stdout",
     "output_type": "stream",
     "text": [
      "Replacing // Gen 12588 // Type: tf, C: -32, S+: -212568, L: 67996, M: -68021, W: -6\n",
      "Replacing // Gen 12638 // Type: tf, C: -32, S+: -7374953, L: 2368490, M: -2359985, W: -8537\n"
     ]
    },
    {
     "name": "stderr",
     "output_type": "stream",
     "text": [
      " 85%|████████▍ | 12702/15000 [00:40<00:10, 223.33it/s]"
     ]
    },
    {
     "name": "stdout",
     "output_type": "stream",
     "text": [
      "Replacing // Gen 12659 // Type: tf, C: -32, S+: -82663, L: 26493, M: -26452, W: -73\n"
     ]
    },
    {
     "name": "stderr",
     "output_type": "stream",
     "text": [
      " 88%|████████▊ | 13233/15000 [00:43<00:07, 226.09it/s]"
     ]
    },
    {
     "name": "stdout",
     "output_type": "stream",
     "text": [
      "Replacing // Gen 13209 // Type: tf, C: -32, S+: -5294492, L: 1698189, M: -1694237, W: -3983\n"
     ]
    },
    {
     "name": "stderr",
     "output_type": "stream",
     "text": [
      " 96%|█████████▌| 14409/15000 [00:48<00:02, 220.88it/s]"
     ]
    },
    {
     "name": "stdout",
     "output_type": "stream",
     "text": [
      "Replacing // Gen 14376 // Type: tf, C: -32, S+: -2889683, L: 927196, M: -924698, W: -2529\n"
     ]
    },
    {
     "name": "stderr",
     "output_type": "stream",
     "text": [
      "100%|█████████▉| 14982/15000 [00:51<00:00, 216.57it/s]"
     ]
    },
    {
     "name": "stdout",
     "output_type": "stream",
     "text": [
      "Replacing // Gen 14939 // Type: tf, C: -32, S+: -21607856, L: 6930707, M: -6914513, W: -16225\n"
     ]
    },
    {
     "name": "stderr",
     "output_type": "stream",
     "text": [
      "100%|██████████| 15000/15000 [00:51<00:00, 292.68it/s]\n",
      "100%|██████████| 15000/15000 [00:42<00:00, 350.29it/s]\n"
     ]
    }
   ],
   "source": [
    "#!/usr/bin/env python3\n",
    "import sys\n",
    "sys.path.insert(0, '/Users/aymericvie/Documents/GitHub/evology/evology/code/')\n",
    "from main import *\n",
    "time = 15_000\n",
    "from parameters import *\n",
    "# wealth_coordinates = [0.42, 0.33, 0.25]\n",
    "wealth_coordinates = [1/3, 1/3, 1/3]\n",
    "\n",
    "# def main(mode, MAX_GENERATIONS, PROBA_SELECTION, POPULATION_SIZE, CROSSOVER_RATE, MUTATION_RATE, wealth_coordinates, tqdm_display):\n",
    "\n",
    "RdSearch = main(\"between\", time, 0, 100, 0, MUTATION_RATE, wealth_coordinates, False)\n",
    "RdSearch.to_csv(\"rdsearch.csv\")\n",
    "\n",
    "ProfAdapt = main(\"between\", time, PROBA_SELECTION, 100, 0, 0, wealth_coordinates, False)\n",
    "ProfAdapt.to_csv(\"profadapt.csv\")\n",
    "\n",
    "\n",
    "\n",
    "Static = main(\"static\", time, 0, 100, 0, 0, wealth_coordinates, False)\n",
    "Static.to_csv(\"static.csv\")\n"
   ]
  },
  {
   "cell_type": "code",
   "execution_count": 5,
   "metadata": {},
   "outputs": [
    {
     "name": "stderr",
     "output_type": "stream",
     "text": [
      "100%|██████████| 15000/15000 [00:42<00:00, 352.72it/s]\n"
     ]
    }
   ],
   "source": [
    "Combined = main(\"between\", time, PROBA_SELECTION, 100, 0, MUTATION_RATE, wealth_coordinates, False)\n",
    "Combined.to_csv(\"combined.csv\")"
   ]
  }
 ],
 "metadata": {
  "interpreter": {
   "hash": "aee8b7b246df8f9039afb4144a1f6fd8d2ca17a180786b69acc140d282b71a49"
  },
  "kernelspec": {
   "display_name": "Python 3.9.6 64-bit",
   "name": "python3"
  },
  "language_info": {
   "codemirror_mode": {
    "name": "ipython",
    "version": 3
   },
   "file_extension": ".py",
   "mimetype": "text/x-python",
   "name": "python",
   "nbconvert_exporter": "python",
   "pygments_lexer": "ipython3",
   "version": "3.9.6"
  },
  "orig_nbformat": 4
 },
 "nbformat": 4,
 "nbformat_minor": 2
}
