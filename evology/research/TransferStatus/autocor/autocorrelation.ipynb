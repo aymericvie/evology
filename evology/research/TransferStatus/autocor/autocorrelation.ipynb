{
 "cells": [
  {
   "cell_type": "code",
   "execution_count": 4,
   "metadata": {},
   "outputs": [
    {
     "name": "stdout",
     "output_type": "stream",
     "text": [
      "[0, 1, 0]\n"
     ]
    },
    {
     "name": "stderr",
     "output_type": "stream",
     "text": [
      "100%|██████████| 50000/50000 [00:16<00:00, 2988.25it/s]\n"
     ]
    },
    {
     "name": "stdout",
     "output_type": "stream",
     "text": [
      "-0.003647607597353785\n",
      "[0, 0.95, 0.05]\n"
     ]
    },
    {
     "name": "stderr",
     "output_type": "stream",
     "text": [
      "100%|██████████| 50000/50000 [00:17<00:00, 2938.79it/s]\n"
     ]
    },
    {
     "name": "stdout",
     "output_type": "stream",
     "text": [
      "-0.0015558963186645756\n",
      "[0, 0.8999999999999999, 0.1]\n"
     ]
    },
    {
     "name": "stderr",
     "output_type": "stream",
     "text": [
      "100%|██████████| 50000/50000 [00:16<00:00, 2954.26it/s]\n"
     ]
    },
    {
     "name": "stdout",
     "output_type": "stream",
     "text": [
      "-0.0002973127373481165\n",
      "[0, 0.8499999999999999, 0.15000000000000002]\n"
     ]
    },
    {
     "name": "stderr",
     "output_type": "stream",
     "text": [
      "100%|██████████| 50000/50000 [00:17<00:00, 2937.31it/s]\n"
     ]
    },
    {
     "name": "stdout",
     "output_type": "stream",
     "text": [
      "-0.0009876588958000524\n",
      "[0, 0.7999999999999998, 0.2]\n"
     ]
    },
    {
     "name": "stderr",
     "output_type": "stream",
     "text": [
      "100%|██████████| 50000/50000 [00:16<00:00, 2944.22it/s]\n"
     ]
    },
    {
     "name": "stdout",
     "output_type": "stream",
     "text": [
      "0.0024028202957308386\n",
      "[0, 0.7499999999999998, 0.25]\n"
     ]
    },
    {
     "name": "stderr",
     "output_type": "stream",
     "text": [
      "100%|██████████| 50000/50000 [00:16<00:00, 2952.61it/s]\n"
     ]
    },
    {
     "name": "stdout",
     "output_type": "stream",
     "text": [
      "-0.003454671203620615\n",
      "[0, 0.6999999999999997, 0.3]\n"
     ]
    },
    {
     "name": "stderr",
     "output_type": "stream",
     "text": [
      "100%|██████████| 50000/50000 [00:16<00:00, 2951.23it/s]\n"
     ]
    },
    {
     "name": "stdout",
     "output_type": "stream",
     "text": [
      "-0.011380601248201836\n",
      "[0, 0.6499999999999997, 0.35]\n"
     ]
    },
    {
     "name": "stderr",
     "output_type": "stream",
     "text": [
      "100%|██████████| 50000/50000 [00:16<00:00, 2945.75it/s]\n"
     ]
    },
    {
     "name": "stdout",
     "output_type": "stream",
     "text": [
      "-0.006237894238137326\n",
      "[0, 0.5999999999999996, 0.39999999999999997]\n"
     ]
    },
    {
     "name": "stderr",
     "output_type": "stream",
     "text": [
      "100%|██████████| 50000/50000 [00:17<00:00, 2892.86it/s]\n"
     ]
    },
    {
     "name": "stdout",
     "output_type": "stream",
     "text": [
      "0.00950031870872917\n",
      "[0, 0.5499999999999996, 0.44999999999999996]\n"
     ]
    },
    {
     "name": "stderr",
     "output_type": "stream",
     "text": [
      "100%|██████████| 50000/50000 [00:17<00:00, 2930.43it/s]\n"
     ]
    },
    {
     "name": "stdout",
     "output_type": "stream",
     "text": [
      "0.0016831667464041278\n",
      "[0, 0.4999999999999996, 0.49999999999999994]\n"
     ]
    },
    {
     "name": "stderr",
     "output_type": "stream",
     "text": [
      "100%|██████████| 50000/50000 [00:17<00:00, 2919.58it/s]\n"
     ]
    },
    {
     "name": "stdout",
     "output_type": "stream",
     "text": [
      "0.0030120140434262165\n",
      "[0, 0.4499999999999996, 0.5499999999999999]\n"
     ]
    },
    {
     "name": "stderr",
     "output_type": "stream",
     "text": [
      "100%|██████████| 50000/50000 [00:16<00:00, 2958.40it/s]\n"
     ]
    },
    {
     "name": "stdout",
     "output_type": "stream",
     "text": [
      "0.0051505348121676986\n",
      "[0, 0.39999999999999963, 0.6]\n"
     ]
    },
    {
     "name": "stderr",
     "output_type": "stream",
     "text": [
      "100%|██████████| 50000/50000 [00:17<00:00, 2940.27it/s]\n"
     ]
    },
    {
     "name": "stdout",
     "output_type": "stream",
     "text": [
      "-0.0011055023681058465\n",
      "[0, 0.34999999999999964, 0.65]\n"
     ]
    },
    {
     "name": "stderr",
     "output_type": "stream",
     "text": [
      "100%|██████████| 50000/50000 [00:17<00:00, 2934.98it/s]\n"
     ]
    },
    {
     "name": "stdout",
     "output_type": "stream",
     "text": [
      "0.008920484277613688\n",
      "[0, 0.29999999999999966, 0.7000000000000001]\n"
     ]
    },
    {
     "name": "stderr",
     "output_type": "stream",
     "text": [
      "100%|██████████| 50000/50000 [00:17<00:00, 2932.29it/s]\n"
     ]
    },
    {
     "name": "stdout",
     "output_type": "stream",
     "text": [
      "0.008235330449905293\n",
      "[0, 0.24999999999999967, 0.7500000000000001]\n"
     ]
    },
    {
     "name": "stderr",
     "output_type": "stream",
     "text": [
      "  0%|          | 0/50000 [00:00<?, ?it/s]/Users/aymericvie/Documents/GitHub/evology/evology/code/balance_sheet.py:153: RuntimeWarning: invalid value encountered in log2\n",
      "  return (LeverageNT * ind.wealth / p) * np.tanh(SCALE_NT * (math.log2(ind[0] * ind.process) - np.log2(p))) - ind.asset\n",
      "/Users/aymericvie/Documents/GitHub/evology/evology/code/balance_sheet.py:136: RuntimeWarning: invalid value encountered in log2\n",
      "  return (LeverageVI * ind.wealth / p) * np.tanh(SCALE_VI * (math.log2(ind[0]) - np.log2(p))) - ind.asset\n",
      "100%|██████████| 50000/50000 [00:16<00:00, 2946.18it/s]\n"
     ]
    },
    {
     "name": "stdout",
     "output_type": "stream",
     "text": [
      "0.016490478329946445\n",
      "[0, 0.19999999999999968, 0.8000000000000002]\n"
     ]
    },
    {
     "name": "stderr",
     "output_type": "stream",
     "text": [
      "100%|██████████| 50000/50000 [00:17<00:00, 2920.94it/s]\n"
     ]
    },
    {
     "name": "stdout",
     "output_type": "stream",
     "text": [
      "0.02078389753749069\n",
      "[0, 0.1499999999999997, 0.8500000000000002]\n"
     ]
    },
    {
     "name": "stderr",
     "output_type": "stream",
     "text": [
      "100%|██████████| 50000/50000 [00:17<00:00, 2906.51it/s]\n"
     ]
    },
    {
     "name": "stdout",
     "output_type": "stream",
     "text": [
      "0.008983480848856086\n",
      "[0, 0.09999999999999969, 0.9000000000000002]\n"
     ]
    },
    {
     "name": "stderr",
     "output_type": "stream",
     "text": [
      "100%|██████████| 50000/50000 [00:17<00:00, 2932.04it/s]\n"
     ]
    },
    {
     "name": "stdout",
     "output_type": "stream",
     "text": [
      "0.009898533176955035\n",
      "[0, 0.049999999999999684, 0.9500000000000003]\n"
     ]
    },
    {
     "name": "stderr",
     "output_type": "stream",
     "text": [
      "100%|██████████| 50000/50000 [00:17<00:00, 2842.50it/s]"
     ]
    },
    {
     "name": "stdout",
     "output_type": "stream",
     "text": [
      "0.07401086100755186\n"
     ]
    },
    {
     "name": "stderr",
     "output_type": "stream",
     "text": [
      "\n"
     ]
    }
   ],
   "source": [
    "#!/usr/bin/env python3\n",
    "import sys\n",
    "sys.path.insert(0, '/Users/aymericvie/Documents/GitHub/evology/evology/code/')\n",
    "from main import *\n",
    "from parameters import *\n",
    "import matplotlib\n",
    "import matplotlib.pyplot as plt\n",
    "\n",
    "increment = 0.05\n",
    "time = 50000\n",
    "agents = 3\n",
    "\n",
    "wealth_coordinates = [0, 1, 0]\n",
    "\n",
    "atclog = []\n",
    "strat = []\n",
    "stratf = []\n",
    "atc = []\n",
    "\n",
    "while wealth_coordinates[2] <= (1-wealth_coordinates[0]- 0.01):\n",
    "    print(wealth_coordinates)\n",
    "    df = main(\"static\", time, 0, agents, 0, wealth_coordinates, tqdm_display = False, reset_wealth = True)\n",
    "    df['PReturns'] = np.log1p(df['Price'].pct_change())\n",
    "\n",
    "\n",
    "    atclog.append(df['PReturns'].autocorr(lag=1))\n",
    "    print(df['PReturns'].autocorr(lag=1))\n",
    "    atc.append((df['Price'].pct_change()).autocorr(lag=1))\n",
    "    strat.append(wealth_coordinates[1])\n",
    "    stratf.append(wealth_coordinates[2])\n",
    "\n",
    "\n",
    "    wealth_coordinates[1] -= increment\n",
    "    wealth_coordinates[2] += increment\n",
    "\n",
    "\n",
    "\n"
   ]
  },
  {
   "cell_type": "code",
   "execution_count": 5,
   "metadata": {},
   "outputs": [
    {
     "name": "stdout",
     "output_type": "stream",
     "text": [
      "0        104.15\n",
      "1        104.90\n",
      "2        105.32\n",
      "3        105.48\n",
      "4        105.74\n",
      "          ...  \n",
      "49974    579.51\n",
      "49975    579.31\n",
      "49976    580.93\n",
      "49977    587.00\n",
      "49978    589.30\n",
      "Name: Price, Length: 49979, dtype: float64\n",
      "0             NaN\n",
      "1        0.007201\n",
      "2        0.004004\n",
      "3        0.001519\n",
      "4        0.002465\n",
      "           ...   \n",
      "49974   -0.008045\n",
      "49975   -0.000345\n",
      "49976    0.002796\n",
      "49977    0.010449\n",
      "49978    0.003918\n",
      "Name: PriceReturns, Length: 49979, dtype: float64\n"
     ]
    }
   ],
   "source": [
    "print(df['Price'])\n",
    "df['PriceReturns'] = df['Price'].pct_change()\n",
    "print(df['PriceReturns'])"
   ]
  },
  {
   "cell_type": "code",
   "execution_count": 6,
   "metadata": {},
   "outputs": [
    {
     "name": "stdout",
     "output_type": "stream",
     "text": [
      "[-0.003647607597353785, -0.0015558963186645756, -0.0002973127373481165, -0.0009876588958000524, 0.0024028202957308386, -0.003454671203620615, -0.011380601248201836, -0.006237894238137326, 0.00950031870872917, 0.0016831667464041278, 0.0030120140434262165, 0.0051505348121676986, -0.0011055023681058465, 0.008920484277613688, 0.008235330449905293, 0.016490478329946445, 0.02078389753749069, 0.008983480848856086, 0.009898533176955035, 0.07401086100755186] [-0.0036787073578000307, -0.0015334870118148265, -0.00029795979597550007, -0.0009371474129146155, 0.0023949823509836717, -0.0034556601241990093, -0.011374299010539806, -0.006206244088931395, 0.009488347853427254, 0.001697114850434483, 0.0029967758614732943, 0.0050917788707418015, -0.0011761613106628175, 0.00890727381349164, 0.008288949984210469, 0.016434736467790655, 0.020802591449564478, 0.009014360688674871, 0.00994173457331267, 0.07402343813343376]\n"
     ]
    },
    {
     "data": {
      "image/png": "[encoded data removed]",
      "text/plain": [
       "<Figure size 432x288 with 1 Axes>"
      ]
     },
     "metadata": {
      "needs_background": "light"
     },
     "output_type": "display_data"
    },
    {
     "name": "stdout",
     "output_type": "stream",
     "text": [
      "Y: one time step autocorrelation of log price returns\n",
      "X: Share of TFs\n"
     ]
    },
    {
     "data": {
      "image/png": "[encoded data removed]",
      "text/plain": [
       "<Figure size 432x288 with 1 Axes>"
      ]
     },
     "metadata": {
      "needs_background": "light"
     },
     "output_type": "display_data"
    },
    {
     "name": "stdout",
     "output_type": "stream",
     "text": [
      "Y: one time step autocorrelation of price returns\n",
      "X: Share of TFs\n"
     ]
    }
   ],
   "source": [
    "print(atclog, atc)\n",
    "\n",
    "\n",
    "plt.plot(stratf, atclog)\n",
    "plt.show()\n",
    "print('Y: one time step autocorrelation of log price returns')\n",
    "print('X: Share of TFs')\n",
    "\n",
    "plt.plot(stratf, atc)\n",
    "plt.show()\n",
    "print('Y: one time step autocorrelation of price returns')\n",
    "print('X: Share of TFs')\n"
   ]
  }
 ],
 "metadata": {
  "interpreter": {
   "hash": "aee8b7b246df8f9039afb4144a1f6fd8d2ca17a180786b69acc140d282b71a49"
  },
  "kernelspec": {
   "display_name": "Python 3.9.6 64-bit",
   "language": "python",
   "name": "python3"
  },
  "language_info": {
   "codemirror_mode": {
    "name": "ipython",
    "version": 3
   },
   "file_extension": ".py",
   "mimetype": "text/x-python",
   "name": "python",
   "nbconvert_exporter": "python",
   "pygments_lexer": "ipython3",
   "version": "3.9.6"
  },
  "orig_nbformat": 4
 },
 "nbformat": 4,
 "nbformat_minor": 2
}
