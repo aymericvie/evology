{
 "cells": [
  {
   "cell_type": "code",
   "execution_count": 1,
   "metadata": {},
   "outputs": [
    {
     "name": "stdout",
     "output_type": "stream",
     "text": [
      "[0, 1, 0]\n"
     ]
    },
    {
     "name": "stderr",
     "output_type": "stream",
     "text": [
      "  0%|          | 0/25000 [00:00<?, ?it/s]/Users/aymericvie/Documents/GitHub/evology/evology/code/data.py:129: RuntimeWarning: Mean of empty slice\n",
      "  results[current, 54] = np.nanmean(DailyNTReturns)\n",
      "/Users/aymericvie/Documents/GitHub/evology/evology/code/data.py:131: RuntimeWarning: Mean of empty slice\n",
      "  results[current, 56] = np.nanmean(DailyTFReturns)\n",
      "100%|██████████| 25000/25000 [00:08<00:00, 2973.62it/s]\n"
     ]
    },
    {
     "name": "stdout",
     "output_type": "stream",
     "text": [
      "-0.004865610897895082\n",
      "[0, 0.9, 0.1]\n"
     ]
    },
    {
     "name": "stderr",
     "output_type": "stream",
     "text": [
      "100%|██████████| 25000/25000 [00:08<00:00, 2961.71it/s]\n"
     ]
    },
    {
     "name": "stdout",
     "output_type": "stream",
     "text": [
      "-0.009917120720892212\n",
      "[0, 0.8, 0.2]\n"
     ]
    },
    {
     "name": "stderr",
     "output_type": "stream",
     "text": [
      "100%|██████████| 25000/25000 [00:08<00:00, 2973.59it/s]\n"
     ]
    },
    {
     "name": "stdout",
     "output_type": "stream",
     "text": [
      "0.01200021791902384\n",
      "[0, 0.7000000000000001, 0.30000000000000004]\n"
     ]
    },
    {
     "name": "stderr",
     "output_type": "stream",
     "text": [
      "100%|██████████| 25000/25000 [00:08<00:00, 2956.56it/s]\n"
     ]
    },
    {
     "name": "stdout",
     "output_type": "stream",
     "text": [
      "-0.0008662702852324513\n",
      "[0, 0.6000000000000001, 0.4]\n"
     ]
    },
    {
     "name": "stderr",
     "output_type": "stream",
     "text": [
      "100%|██████████| 25000/25000 [00:08<00:00, 2954.36it/s]\n"
     ]
    },
    {
     "name": "stdout",
     "output_type": "stream",
     "text": [
      "0.0022911671648108167\n",
      "[0, 0.5000000000000001, 0.5]\n"
     ]
    },
    {
     "name": "stderr",
     "output_type": "stream",
     "text": [
      "100%|██████████| 25000/25000 [00:08<00:00, 2939.43it/s]\n"
     ]
    },
    {
     "name": "stdout",
     "output_type": "stream",
     "text": [
      "0.00637174647010805\n",
      "[0, 0.40000000000000013, 0.6]\n"
     ]
    },
    {
     "name": "stderr",
     "output_type": "stream",
     "text": [
      "100%|██████████| 25000/25000 [00:08<00:00, 2970.36it/s]\n"
     ]
    },
    {
     "name": "stdout",
     "output_type": "stream",
     "text": [
      "-0.008261149846709259\n",
      "[0, 0.30000000000000016, 0.7]\n"
     ]
    },
    {
     "name": "stderr",
     "output_type": "stream",
     "text": [
      "100%|██████████| 25000/25000 [00:08<00:00, 2923.47it/s]\n"
     ]
    },
    {
     "name": "stdout",
     "output_type": "stream",
     "text": [
      "0.002732668312991967\n",
      "[0, 0.20000000000000015, 0.7999999999999999]\n"
     ]
    },
    {
     "name": "stderr",
     "output_type": "stream",
     "text": [
      "100%|██████████| 25000/25000 [00:08<00:00, 2896.65it/s]\n"
     ]
    },
    {
     "name": "stdout",
     "output_type": "stream",
     "text": [
      "0.01185286821813109\n",
      "[0, 0.10000000000000014, 0.8999999999999999]\n"
     ]
    },
    {
     "name": "stderr",
     "output_type": "stream",
     "text": [
      "100%|██████████| 25000/25000 [00:08<00:00, 2866.73it/s]"
     ]
    },
    {
     "name": "stdout",
     "output_type": "stream",
     "text": [
      "0.011398261998593237\n"
     ]
    },
    {
     "name": "stderr",
     "output_type": "stream",
     "text": [
      "\n"
     ]
    }
   ],
   "source": [
    "#!/usr/bin/env python3\n",
    "import sys\n",
    "sys.path.insert(0, '/Users/aymericvie/Documents/GitHub/evology/evology/code/')\n",
    "from main import *\n",
    "from parameters import *\n",
    "import matplotlib\n",
    "import matplotlib.pyplot as plt\n",
    "\n",
    "increment = 0.05\n",
    "time = 50000\n",
    "agents = 3\n",
    "\n",
    "wealth_coordinates = [0, 1, 0]\n",
    "\n",
    "atclog = []\n",
    "strat = []\n",
    "stratf = []\n",
    "atc = []\n",
    "\n",
    "while wealth_coordinates[2] <= (1-wealth_coordinates[0]- 0.01):\n",
    "    print(wealth_coordinates)\n",
    "    df = main(\"static\", time, 0, agents, 0, wealth_coordinates, tqdm_display = False, reset_wealth = True)\n",
    "    df['PReturns'] = np.log1p(df['Price'].pct_change())\n",
    "\n",
    "\n",
    "    atclog.append(df['PReturns'].autocorr(lag=1))\n",
    "    print(df['PReturns'].autocorr(lag=1))\n",
    "    atc.append((df['Price'].pct_change()).autocorr(lag=1))\n",
    "    strat.append(wealth_coordinates[1])\n",
    "    stratf.append(wealth_coordinates[2])\n",
    "\n",
    "\n",
    "    wealth_coordinates[1] -= increment\n",
    "    wealth_coordinates[2] += increment\n",
    "\n",
    "\n",
    "\n"
   ]
  },
  {
   "cell_type": "code",
   "execution_count": 2,
   "metadata": {},
   "outputs": [
    {
     "name": "stdout",
     "output_type": "stream",
     "text": [
      "0         95.12\n",
      "1         95.80\n",
      "2         96.96\n",
      "3         97.36\n",
      "4         97.79\n",
      "          ...  \n",
      "24974    913.51\n",
      "24975    912.29\n",
      "24976    908.64\n",
      "24977    900.97\n",
      "24978    895.72\n",
      "Name: Price, Length: 24979, dtype: float64\n",
      "0             NaN\n",
      "1        0.007149\n",
      "2        0.012109\n",
      "3        0.004125\n",
      "4        0.004417\n",
      "           ...   \n",
      "24974   -0.004934\n",
      "24975   -0.001336\n",
      "24976   -0.004001\n",
      "24977   -0.008441\n",
      "24978   -0.005827\n",
      "Name: PriceReturns, Length: 24979, dtype: float64\n"
     ]
    }
   ],
   "source": [
    "print(df['Price'])\n",
    "df['PriceReturns'] = df['Price'].pct_change()\n",
    "print(df['PriceReturns'])"
   ]
  },
  {
   "cell_type": "code",
   "execution_count": 3,
   "metadata": {},
   "outputs": [
    {
     "name": "stdout",
     "output_type": "stream",
     "text": [
      "[-0.004865610897895082, -0.009917120720892212, 0.01200021791902384, -0.0008662702852324513, 0.0022911671648108167, 0.00637174647010805, -0.008261149846709259, 0.002732668312991967, 0.01185286821813109, 0.011398261998593237] [-0.004935231566102021, -0.009891719045774346, 0.012059585056453069, -0.000855921615783468, 0.0023440440726080264, 0.006395811151753461, -0.00827080952479926, 0.0027288565197336996, 0.011789018332001838, 0.011398260291152531]\n"
     ]
    },
    {
     "data": {
      "image/png": "[encoded data removed]",
      "text/plain": [
       "<Figure size 432x288 with 1 Axes>"
      ]
     },
     "metadata": {
      "needs_background": "light"
     },
     "output_type": "display_data"
    },
    {
     "name": "stdout",
     "output_type": "stream",
     "text": [
      "Y: one time step autocorrelation of log price returns\n",
      "X: Share of TFs\n"
     ]
    },
    {
     "data": {
      "image/png": "[encoded data removed]",
      "text/plain": [
       "<Figure size 432x288 with 1 Axes>"
      ]
     },
     "metadata": {
      "needs_background": "light"
     },
     "output_type": "display_data"
    },
    {
     "name": "stdout",
     "output_type": "stream",
     "text": [
      "Y: one time step autocorrelation of price returns\n",
      "X: Share of TFs\n"
     ]
    }
   ],
   "source": [
    "print(atclog, atc)\n",
    "\n",
    "\n",
    "plt.plot(stratf, atclog)\n",
    "plt.show()\n",
    "print('Y: one time step autocorrelation of log price returns')\n",
    "print('X: Share of TFs')\n",
    "\n",
    "plt.plot(stratf, atc)\n",
    "plt.show()\n",
    "print('Y: one time step autocorrelation of price returns')\n",
    "print('X: Share of TFs')\n"
   ]
  }
 ],
 "metadata": {
  "interpreter": {
   "hash": "aee8b7b246df8f9039afb4144a1f6fd8d2ca17a180786b69acc140d282b71a49"
  },
  "kernelspec": {
   "display_name": "Python 3.9.6 64-bit",
   "language": "python",
   "name": "python3"
  },
  "language_info": {
   "codemirror_mode": {
    "name": "ipython",
    "version": 3
   },
   "file_extension": ".py",
   "mimetype": "text/x-python",
   "name": "python",
   "nbconvert_exporter": "python",
   "pygments_lexer": "ipython3",
   "version": "3.9.6"
  },
  "orig_nbformat": 4
 },
 "nbformat": 4,
 "nbformat_minor": 2
}
