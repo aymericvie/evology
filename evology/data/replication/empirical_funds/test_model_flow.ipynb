{
 "cells": [
  {
   "cell_type": "code",
   "execution_count": 13,
   "metadata": {},
   "outputs": [
    {
     "name": "stdout",
     "output_type": "stream",
     "text": [
      "['/Users/aymericvie/Documents/GitHub/evology/evology/data/replication/empirical_funds', '/Users/aymericvie/.vscode/extensions/ms-toolsai.jupyter-2021.11.1001550889/pythonFiles', '/Users/aymericvie/.vscode/extensions/ms-toolsai.jupyter-2021.11.1001550889/pythonFiles/lib/python', '/Library/Frameworks/Python.framework/Versions/3.9/lib/python39.zip', '/Library/Frameworks/Python.framework/Versions/3.9/lib/python3.9', '/Library/Frameworks/Python.framework/Versions/3.9/lib/python3.9/lib-dynload', '', '/Library/Frameworks/Python.framework/Versions/3.9/lib/python3.9/site-packages', '/Library/Frameworks/Python.framework/Versions/3.9/lib/python3.9/site-packages/IPython/extensions', '/Users/aymericvie/.ipython', 'evology/code', 'evology/code', 'evology/code', '/Users/aymericvie/Documents/GitHub/evology/evology/code', '/Users/aymericvie/Documents/GitHub/evology/evology/code', '/Users/aymericvie/Documents/GitHub/evology/evology/code', '/Users/aymericvie/Documents/GitHub/evology/evology/code']\n"
     ]
    },
    {
     "name": "stderr",
     "output_type": "stream",
     "text": [
      "100%|██████████| 10000/10000 [00:09<00:00, 1009.06it/s]\n",
      "100%|██████████| 10000/10000 [00:10<00:00, 963.34it/s]\n",
      "100%|██████████| 10000/10000 [00:12<00:00, 817.73it/s]\n",
      "100%|██████████| 10000/10000 [00:10<00:00, 998.08it/s]\n",
      "100%|██████████| 10000/10000 [00:08<00:00, 1220.92it/s]\n",
      "100%|██████████| 10000/10000 [00:08<00:00, 1214.20it/s]\n",
      "100%|██████████| 10000/10000 [00:09<00:00, 1098.15it/s]\n",
      "100%|██████████| 10000/10000 [00:09<00:00, 1064.89it/s]\n",
      "100%|██████████| 10000/10000 [00:08<00:00, 1121.07it/s]\n",
      "100%|██████████| 10000/10000 [00:07<00:00, 1386.05it/s]\n",
      "100%|██████████| 10000/10000 [00:10<00:00, 935.36it/s]\n",
      "100%|██████████| 10000/10000 [00:12<00:00, 821.23it/s]\n",
      "100%|██████████| 10000/10000 [00:07<00:00, 1251.33it/s]\n",
      "100%|██████████| 10000/10000 [00:07<00:00, 1380.47it/s]\n",
      "100%|██████████| 10000/10000 [00:11<00:00, 837.74it/s]\n",
      "100%|██████████| 10000/10000 [00:08<00:00, 1157.29it/s]\n",
      "100%|██████████| 10000/10000 [00:08<00:00, 1154.27it/s]\n",
      "100%|██████████| 10000/10000 [00:08<00:00, 1196.76it/s]\n",
      "100%|██████████| 10000/10000 [00:08<00:00, 1137.51it/s]\n",
      "100%|██████████| 10000/10000 [00:09<00:00, 1029.86it/s]\n",
      "100%|██████████| 10000/10000 [00:11<00:00, 856.94it/s]\n",
      "100%|██████████| 10000/10000 [00:13<00:00, 768.24it/s]\n",
      "100%|██████████| 10000/10000 [00:08<00:00, 1196.72it/s]\n",
      "100%|██████████| 10000/10000 [00:12<00:00, 807.49it/s]\n",
      "100%|██████████| 10000/10000 [00:10<00:00, 915.42it/s]\n",
      "100%|██████████| 10000/10000 [00:10<00:00, 978.40it/s]\n",
      "100%|██████████| 10000/10000 [00:07<00:00, 1286.40it/s]\n",
      "100%|██████████| 10000/10000 [00:08<00:00, 1157.00it/s]\n",
      "100%|██████████| 10000/10000 [00:09<00:00, 1057.96it/s]\n",
      "100%|██████████| 10000/10000 [00:08<00:00, 1188.17it/s]\n",
      "100%|██████████| 10000/10000 [00:09<00:00, 1036.55it/s]\n",
      "100%|██████████| 10000/10000 [00:09<00:00, 1008.06it/s]\n",
      "100%|██████████| 10000/10000 [00:09<00:00, 1074.35it/s]\n",
      "100%|██████████| 10000/10000 [00:10<00:00, 936.08it/s]\n",
      "100%|██████████| 10000/10000 [00:09<00:00, 1001.44it/s]\n",
      "100%|██████████| 10000/10000 [00:10<00:00, 919.86it/s]\n",
      "100%|██████████| 10000/10000 [00:07<00:00, 1388.64it/s]\n",
      "100%|██████████| 10000/10000 [00:08<00:00, 1121.01it/s]\n",
      "100%|██████████| 10000/10000 [00:08<00:00, 1152.41it/s]\n",
      "100%|██████████| 10000/10000 [00:07<00:00, 1387.43it/s]\n",
      "100%|██████████| 10000/10000 [00:09<00:00, 1045.65it/s]\n",
      "100%|██████████| 10000/10000 [00:10<00:00, 939.90it/s]\n",
      "100%|██████████| 10000/10000 [00:12<00:00, 810.93it/s]\n",
      "100%|██████████| 10000/10000 [00:09<00:00, 1106.02it/s]\n",
      "100%|██████████| 10000/10000 [00:13<00:00, 720.37it/s]\n",
      "100%|██████████| 10000/10000 [00:07<00:00, 1385.96it/s]\n",
      "100%|██████████| 10000/10000 [00:08<00:00, 1243.81it/s]\n",
      "100%|██████████| 10000/10000 [00:13<00:00, 722.53it/s]\n",
      "100%|██████████| 10000/10000 [00:08<00:00, 1192.23it/s]\n",
      "100%|██████████| 10000/10000 [00:07<00:00, 1298.74it/s]\n"
     ]
    },
    {
     "name": "stdout",
     "output_type": "stream",
     "text": [
      "9.519025605434445\n"
     ]
    },
    {
     "data": {
      "text/plain": [
       "(array([6., 0., 8., 5., 2., 3., 4., 0., 2., 0., 2., 1., 0., 3., 1., 2., 2.,\n",
       "        0., 0., 1., 3., 0., 0., 0., 0., 1., 1., 2., 0., 1., 0., 0., 0., 0.,\n",
       "        0., 0., 0., 0., 0., 0., 0., 0., 0., 0., 0., 0., 0., 0., 0.]),\n",
       " array([ 0,  1,  2,  3,  4,  5,  6,  7,  8,  9, 10, 11, 12, 13, 14, 15, 16,\n",
       "        17, 18, 19, 20, 21, 22, 23, 24, 25, 26, 27, 28, 29, 30, 31, 32, 33,\n",
       "        34, 35, 36, 37, 38, 39, 40, 41, 42, 43, 44, 45, 46, 47, 48, 49]),\n",
       " <BarContainer object of 49 artists>)"
      ]
     },
     "execution_count": 13,
     "metadata": {},
     "output_type": "execute_result"
    },
    {
     "data": {
      "image/png": "[encoded data removed]",
      "text/plain": [
       "<Figure size 432x288 with 1 Axes>"
      ]
     },
     "metadata": {
      "needs_background": "light"
     },
     "output_type": "display_data"
    }
   ],
   "source": [
    "import sys\n",
    "path = '/Users/aymericvie/Documents/GitHub/evology/evology/code'\n",
    "sys.path.append(path)\n",
    "print(sys.path)\n",
    "from main import main as evology\n",
    "import numpy as np\n",
    "from scipy import stats\n",
    "np.random.seed(8)\n",
    "\n",
    "reps = 50\n",
    "TIME = 10000\n",
    "POPULATION_SIZE = 100\n",
    "ReinvestmentRate = 0\n",
    "SELECTION, MUTATION = 0,0\n",
    "\n",
    "\n",
    "varlist = []\n",
    "for i in range(reps):\n",
    "    wealth_coordinates = np.random.dirichlet(np.ones(3), size=1)[0].tolist()\n",
    "    df, pop = evology(\n",
    "            \"static\",\n",
    "            \"scholl\",\n",
    "            \"esl.true\",\n",
    "            TIME,\n",
    "            SELECTION,\n",
    "            POPULATION_SIZE,\n",
    "            MUTATION,\n",
    "            wealth_coordinates,\n",
    "            False,\n",
    "            False,\n",
    "            ReinvestmentRate\n",
    "        )\n",
    "    varlist.append(stats.trim_mean(df['WealthAmp'], 0.1))\n",
    "\n",
    "print(np.mean(varlist))\n",
    "plt.hist(varlist, bins=range(0,50))\n"
   ]
  },
  {
   "cell_type": "code",
   "execution_count": 14,
   "metadata": {},
   "outputs": [
    {
     "name": "stdout",
     "output_type": "stream",
     "text": [
      "9.519025605434445\n"
     ]
    },
    {
     "data": {
      "text/plain": [
       "(array([6., 0., 8., 5., 2., 3., 4., 0., 2., 0., 2., 1., 0., 3., 1., 2., 2.,\n",
       "        0., 0., 1., 3., 0., 0., 0., 0., 1., 1., 2., 0., 1., 0., 0., 0., 0.,\n",
       "        0., 0., 0., 0., 0., 0., 0., 0., 0., 0., 0., 0., 0., 0., 0.]),\n",
       " array([ 0,  1,  2,  3,  4,  5,  6,  7,  8,  9, 10, 11, 12, 13, 14, 15, 16,\n",
       "        17, 18, 19, 20, 21, 22, 23, 24, 25, 26, 27, 28, 29, 30, 31, 32, 33,\n",
       "        34, 35, 36, 37, 38, 39, 40, 41, 42, 43, 44, 45, 46, 47, 48, 49]),\n",
       " <BarContainer object of 49 artists>)"
      ]
     },
     "execution_count": 14,
     "metadata": {},
     "output_type": "execute_result"
    },
    {
     "data": {
      "image/png": "[encoded data removed]",
      "text/plain": [
       "<Figure size 432x288 with 1 Axes>"
      ]
     },
     "metadata": {
      "needs_background": "light"
     },
     "output_type": "display_data"
    }
   ],
   "source": [
    "print(np.mean(varlist))\n",
    "import matplotlib.pyplot as plt\n",
    "plt.hist(varlist, bins=range(0,50))"
   ]
  }
 ],
 "metadata": {
  "interpreter": {
   "hash": "aee8b7b246df8f9039afb4144a1f6fd8d2ca17a180786b69acc140d282b71a49"
  },
  "kernelspec": {
   "display_name": "Python 3.9.6 64-bit",
   "language": "python",
   "name": "python3"
  },
  "language_info": {
   "codemirror_mode": {
    "name": "ipython",
    "version": 3
   },
   "file_extension": ".py",
   "mimetype": "text/x-python",
   "name": "python",
   "nbconvert_exporter": "python",
   "pygments_lexer": "ipython3",
   "version": "3.9.6"
  },
  "orig_nbformat": 4
 },
 "nbformat": 4,
 "nbformat_minor": 2
}
