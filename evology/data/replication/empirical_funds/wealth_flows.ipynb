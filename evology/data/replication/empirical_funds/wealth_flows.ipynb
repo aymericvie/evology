{
 "cells": [
  {
   "cell_type": "code",
   "execution_count": 5,
   "metadata": {},
   "outputs": [],
   "source": [
    "import pandas as pd\n",
    "path = '/Users/aymericvie/Documents/GitHub/evology/evology/data/replication/empirical_funds/flow_data.csv'\n",
    "df = pd.read_csv(path)\n"
   ]
  },
  {
   "cell_type": "code",
   "execution_count": 8,
   "metadata": {},
   "outputs": [
    {
     "name": "stdout",
     "output_type": "stream",
     "text": [
      "Index(['Unnamed: 0', 'cik', 'series_id', 'form', 'report_date', 'as_of_date',\n",
      "       'total_assets', 'total_liabilities', 'net_assets',\n",
      "       'month_1_flow_redemption', 'month_1_flow_reinvestment',\n",
      "       'month_1_flow_sales', 'month_2_flow_redemption',\n",
      "       'month_2_flow_reinvestment', 'month_2_flow_sales',\n",
      "       'month_3_flow_redemption', 'month_3_flow_reinvestment',\n",
      "       'month_3_flow_sales'],\n",
      "      dtype='object')\n"
     ]
    }
   ],
   "source": [
    "print(df.columns)"
   ]
  },
  {
   "cell_type": "code",
   "execution_count": 12,
   "metadata": {},
   "outputs": [
    {
     "name": "stdout",
     "output_type": "stream",
     "text": [
      "4.466510031767579\n",
      "4.4869492062410625\n",
      "5.072889576359245\n",
      "Average 4.6754496047892955\n"
     ]
    }
   ],
   "source": [
    "sum_net_assets = df['net_assets'].sum()\n",
    "sum_changes_month1 = df['month_1_flow_redemption'].sum() + df['month_1_flow_sales'].sum() + df['month_1_flow_reinvestment'].sum()\n",
    "\n",
    "variation_month_1 = 100 * abs(sum_changes_month1 / sum_net_assets)\n",
    "print(variation_month_1)\n",
    "\n",
    "sum_changes_month2 = df['month_2_flow_redemption'].sum() + df['month_2_flow_sales'].sum() + df['month_2_flow_reinvestment'].sum()\n",
    "\n",
    "variation_month_2 = 100 * abs(sum_changes_month2 / sum_net_assets)\n",
    "print(variation_month_2)\n",
    "\n",
    "sum_changes_month3 = df['month_3_flow_redemption'].sum() + df['month_3_flow_sales'].sum() + df['month_3_flow_reinvestment'].sum()\n",
    "\n",
    "variation_month_3 = 100 * abs(sum_changes_month3 / sum_net_assets)\n",
    "print(variation_month_3)\n",
    "\n",
    "print('Average ' + str(variation_month_1 / 3 + variation_month_2 / 3 + variation_month_3 / 3))"
   ]
  }
 ],
 "metadata": {
  "interpreter": {
   "hash": "aee8b7b246df8f9039afb4144a1f6fd8d2ca17a180786b69acc140d282b71a49"
  },
  "kernelspec": {
   "display_name": "Python 3.9.6 64-bit",
   "language": "python",
   "name": "python3"
  },
  "language_info": {
   "codemirror_mode": {
    "name": "ipython",
    "version": 3
   },
   "file_extension": ".py",
   "mimetype": "text/x-python",
   "name": "python",
   "nbconvert_exporter": "python",
   "pygments_lexer": "ipython3",
   "version": "3.9.6"
  },
  "orig_nbformat": 4
 },
 "nbformat": 4,
 "nbformat_minor": 2
}
