{
 "cells": [
  {
   "cell_type": "code",
   "execution_count": 2,
   "metadata": {},
   "outputs": [],
   "source": [
    "import pandas as pd\n",
    "import matplotlib.pyplot as plt\n",
    "import numpy as np\n",
    "path = '/Users/aymericvie/Documents/GitHub/evology/evology/data/replication/empirical_funds/flow_data.csv'\n",
    "df = pd.read_csv(path)\n"
   ]
  },
  {
   "cell_type": "code",
   "execution_count": 3,
   "metadata": {},
   "outputs": [
    {
     "name": "stdout",
     "output_type": "stream",
     "text": [
      "Index(['Unnamed: 0', 'cik', 'series_id', 'form', 'report_date', 'as_of_date',\n",
      "       'total_assets', 'total_liabilities', 'net_assets',\n",
      "       'month_1_flow_redemption', 'month_1_flow_reinvestment',\n",
      "       'month_1_flow_sales', 'month_2_flow_redemption',\n",
      "       'month_2_flow_reinvestment', 'month_2_flow_sales',\n",
      "       'month_3_flow_redemption', 'month_3_flow_reinvestment',\n",
      "       'month_3_flow_sales'],\n",
      "      dtype='object')\n"
     ]
    }
   ],
   "source": [
    "print(df.columns)"
   ]
  },
  {
   "cell_type": "code",
   "execution_count": 4,
   "metadata": {},
   "outputs": [
    {
     "name": "stdout",
     "output_type": "stream",
     "text": [
      "0         6313623.67\n",
      "1         5909266.25\n",
      "2         6394381.93\n",
      "3         3827827.37\n",
      "4         4148325.14\n",
      "             ...    \n",
      "106688    9661252.58\n",
      "106689    5667280.52\n",
      "106690    2519334.99\n",
      "106691    3714530.98\n",
      "106692    5667280.52\n",
      "Name: month_1_flow_redemption, Length: 106693, dtype: float64\n",
      "34220122.92760041\n"
     ]
    },
    {
     "data": {
      "image/png": "[encoded data removed]",
      "text/plain": [
       "<Figure size 432x288 with 1 Axes>"
      ]
     },
     "metadata": {
      "needs_background": "light"
     },
     "output_type": "display_data"
    }
   ],
   "source": [
    "print(df['month_1_flow_redemption'])\n",
    "df.hist('month_1_flow_redemption')\n",
    "print(df['month_1_flow_redemption'].mean())"
   ]
  },
  {
   "cell_type": "code",
   "execution_count": 5,
   "metadata": {},
   "outputs": [
    {
     "name": "stdout",
     "output_type": "stream",
     "text": [
      "4.466510031767579\n",
      "4.4869492062410625\n",
      "5.072889576359245\n",
      "Average 4.6754496047892955\n",
      "8.276962830849376\n"
     ]
    }
   ],
   "source": [
    "sum_net_assets = df['net_assets'].sum()\n",
    "sum_changes_month1 = df['month_1_flow_redemption'].sum() + df['month_1_flow_sales'].sum() + df['month_1_flow_reinvestment'].sum()\n",
    "\n",
    "variation_month_1 = 100 * abs(sum_changes_month1 / sum_net_assets)\n",
    "print(variation_month_1)\n",
    "\n",
    "sum_changes_month2 = df['month_2_flow_redemption'].sum() + df['month_2_flow_sales'].sum() + df['month_2_flow_reinvestment'].sum()\n",
    "\n",
    "variation_month_2 = 100 * abs(sum_changes_month2 / sum_net_assets)\n",
    "print(variation_month_2)\n",
    "\n",
    "sum_changes_month3 = df['month_3_flow_redemption'].sum() + df['month_3_flow_sales'].sum() + df['month_3_flow_reinvestment'].sum()\n",
    "\n",
    "variation_month_3 = 100 * abs(sum_changes_month3 / sum_net_assets)\n",
    "print(variation_month_3)\n",
    "\n",
    "print('Average ' + str(variation_month_1 / 3 + variation_month_2 / 3 + variation_month_3 / 3))\n",
    "\n",
    "sum_redemptions = abs(df['month_3_flow_redemption']).sum() + abs(df['month_2_flow_redemption']).sum() + abs(df['month_1_flow_redemption']).sum()\n",
    "percentage_redemptions = 100 * sum_redemptions / sum_net_assets\n",
    "print(percentage_redemptions)"
   ]
  },
  {
   "cell_type": "code",
   "execution_count": 6,
   "metadata": {},
   "outputs": [
    {
     "name": "stdout",
     "output_type": "stream",
     "text": [
      "inf\n",
      "8.555388946193244\n"
     ]
    },
    {
     "data": {
      "image/png": "[encoded data removed]",
      "text/plain": [
       "<Figure size 432x288 with 1 Axes>"
      ]
     },
     "metadata": {
      "needs_background": "light"
     },
     "output_type": "display_data"
    }
   ],
   "source": [
    "''' Distribution '''\n",
    "import numpy as np\n",
    "\n",
    "df['Flow1'] = abs((df['month_1_flow_redemption'] + df['month_1_flow_sales'] + df['month_1_flow_reinvestment']) / df['net_assets'])\n",
    "df['Flow2'] = abs((df['month_2_flow_redemption'] + df['month_2_flow_sales'] + df['month_2_flow_reinvestment']) / df['net_assets'])\n",
    "df['Flow3'] = abs((df['month_3_flow_redemption'] + df['month_3_flow_sales'] + df['month_3_flow_reinvestment']) / df['net_assets'])\n",
    "\n",
    "df['FlowAvg'] = 100 * (df['Flow1'] / 3 + df['Flow2'] / 3 + df['Flow3'] / 3)\n",
    "# df.replace([np.inf, -np.inf], np.nan,inplace=True)\n",
    "print(df['FlowAvg'].mean())\n",
    "# df['FlowAvg'] = df['FlowAvg'].apply(lambda x: [y if y <= 100 else 100 for y in x])\n",
    "df['FlowAvg'].values[df['FlowAvg'] > 1000] = 1000\n",
    "print(df['FlowAvg'].mean())\n",
    "\n",
    "df.hist(column='FlowAvg', bins = range(0,50))\n",
    "plt.title('Average absolute percentage of monthly fund wealth variation (%)')\n",
    "plt.xlabel('Variation (%) due to redemptions, sales, reinvestment')\n",
    "plt.ylabel('Count')\n",
    "num = round(df['FlowAvg'].mean(),2)\n",
    "plt.vlines(num, colors='r', ymin = 0, ymax = 17500, linestyles='dotted', label= 'Mean percentage change = %.2f ' % num)\n",
    "plt.legend()\n",
    "plt.show()\n"
   ]
  },
  {
   "cell_type": "code",
   "execution_count": 7,
   "metadata": {},
   "outputs": [
    {
     "name": "stdout",
     "output_type": "stream",
     "text": [
      "inf\n",
      "0.03024934419544174\n",
      "0.04284103656910898\n",
      "106693\n"
     ]
    }
   ],
   "source": [
    "# WEALTH FLOWS (percent variation in NAV averaged across entities)\n",
    "\n",
    "\n",
    "\n",
    "# what we can't do: pct_change over nav column.\n",
    "# Because it would consider variations between funds that are not the same.\n",
    "# Because also we have negative and 0.0 values. \n",
    "wrong_pct = df['net_assets'].pct_change().mean()\n",
    "print(wrong_pct)\n",
    "\n",
    "# Example for the first fund series_id:\n",
    "df2 = df[df['series_id'] == 'S000000008']\n",
    "tiny_pct = df2['net_assets'].pct_change().mean()\n",
    "print(tiny_pct)\n",
    "df2 = df[df['series_id'] == 'S000000040']\n",
    "tiny_pct = df2['net_assets'].pct_change().mean()\n",
    "print(tiny_pct)\n",
    "\n",
    "# So, what we want is the average pct_change, iterating over different values of series_id.\n",
    "# That would mean, construct a list (of pct changes) and get its mean.\n",
    "# We iterate over all the rows of the dataset. If this new row has the same series id, append the pct change. Otherwise, don't.\n",
    "\n",
    "pct_changes = []\n",
    "print(len(df))\n",
    "\n",
    "for i in range(len(df)):\n",
    "    if i >= 1:\n",
    "        if df['series_id'].iloc[i] == df['series_id'].iloc[i-1]:\n",
    "            value =  abs((df['net_assets'].iloc[i] / df['net_assets'].iloc[i-1]) - 1)\n",
    "            pct_changes.append(value)\n",
    "        else:\n",
    "            pass\n",
    "\n"
   ]
  },
  {
   "cell_type": "code",
   "execution_count": 19,
   "metadata": {},
   "outputs": [
    {
     "name": "stdout",
     "output_type": "stream",
     "text": [
      "nan\n",
      "0.12137535907230126\n",
      "9.000000034725177\n"
     ]
    },
    {
     "data": {
      "image/png": "[encoded data removed]",
      "text/plain": [
       "<Figure size 432x288 with 1 Axes>"
      ]
     },
     "metadata": {
      "needs_background": "light"
     },
     "output_type": "display_data"
    },
    {
     "data": {
      "image/png": "[encoded data removed]",
      "text/plain": [
       "<Figure size 432x288 with 1 Axes>"
      ]
     },
     "metadata": {
      "needs_background": "light"
     },
     "output_type": "display_data"
    },
    {
     "data": {
      "image/png": "[encoded data removed]",
      "text/plain": [
       "<Figure size 432x288 with 1 Axes>"
      ]
     },
     "metadata": {
      "needs_background": "light"
     },
     "output_type": "display_data"
    }
   ],
   "source": [
    "print(np.mean(pct_changes))\n",
    "for i in range(len(pct_changes)):\n",
    "    if pct_changes[i] > 10:\n",
    "        pct_changes[i] = np.nan\n",
    "print(np.nanmean(pct_changes))\n",
    "print(max(pct_changes))\n",
    "bins = range(0,100)\n",
    "bins = [item / 100 for item in bins]\n",
    "plt.hist(pct_changes, bins = bins)\n",
    "plt.show()\n",
    "plt.hist(pct_changes, bins = range(0,100))\n",
    "plt.show()\n",
    "plt.hist(pct_changes, bins = range(0,10))\n",
    "plt.show()\n"
   ]
  }
 ],
 "metadata": {
  "interpreter": {
   "hash": "aee8b7b246df8f9039afb4144a1f6fd8d2ca17a180786b69acc140d282b71a49"
  },
  "kernelspec": {
   "display_name": "Python 3.9.6 64-bit",
   "language": "python",
   "name": "python3"
  },
  "language_info": {
   "codemirror_mode": {
    "name": "ipython",
    "version": 3
   },
   "file_extension": ".py",
   "mimetype": "text/x-python",
   "name": "python",
   "nbconvert_exporter": "python",
   "pygments_lexer": "ipython3",
   "version": "3.9.6"
  },
  "orig_nbformat": 4
 },
 "nbformat": 4,
 "nbformat_minor": 2
}
