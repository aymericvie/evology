{
 "cells": [
  {
   "cell_type": "code",
   "execution_count": 80,
   "metadata": {},
   "outputs": [],
   "source": [
    "import pandas as pd\n",
    "import matplotlib.pyplot as plt\n",
    "path = '/Users/aymericvie/Documents/GitHub/evology/evology/data/replication/empirical_funds/flow_data.csv'\n",
    "df = pd.read_csv(path)\n"
   ]
  },
  {
   "cell_type": "code",
   "execution_count": 81,
   "metadata": {},
   "outputs": [
    {
     "name": "stdout",
     "output_type": "stream",
     "text": [
      "Index(['Unnamed: 0', 'cik', 'series_id', 'form', 'report_date', 'as_of_date',\n",
      "       'total_assets', 'total_liabilities', 'net_assets',\n",
      "       'month_1_flow_redemption', 'month_1_flow_reinvestment',\n",
      "       'month_1_flow_sales', 'month_2_flow_redemption',\n",
      "       'month_2_flow_reinvestment', 'month_2_flow_sales',\n",
      "       'month_3_flow_redemption', 'month_3_flow_reinvestment',\n",
      "       'month_3_flow_sales'],\n",
      "      dtype='object')\n"
     ]
    }
   ],
   "source": [
    "print(df.columns)"
   ]
  },
  {
   "cell_type": "code",
   "execution_count": 82,
   "metadata": {},
   "outputs": [
    {
     "name": "stdout",
     "output_type": "stream",
     "text": [
      "4.466510031767579\n",
      "4.4869492062410625\n",
      "5.072889576359245\n",
      "Average 4.6754496047892955\n"
     ]
    }
   ],
   "source": [
    "sum_net_assets = df['net_assets'].sum()\n",
    "sum_changes_month1 = df['month_1_flow_redemption'].sum() + df['month_1_flow_sales'].sum() + df['month_1_flow_reinvestment'].sum()\n",
    "\n",
    "variation_month_1 = 100 * abs(sum_changes_month1 / sum_net_assets)\n",
    "print(variation_month_1)\n",
    "\n",
    "sum_changes_month2 = df['month_2_flow_redemption'].sum() + df['month_2_flow_sales'].sum() + df['month_2_flow_reinvestment'].sum()\n",
    "\n",
    "variation_month_2 = 100 * abs(sum_changes_month2 / sum_net_assets)\n",
    "print(variation_month_2)\n",
    "\n",
    "sum_changes_month3 = df['month_3_flow_redemption'].sum() + df['month_3_flow_sales'].sum() + df['month_3_flow_reinvestment'].sum()\n",
    "\n",
    "variation_month_3 = 100 * abs(sum_changes_month3 / sum_net_assets)\n",
    "print(variation_month_3)\n",
    "\n",
    "print('Average ' + str(variation_month_1 / 3 + variation_month_2 / 3 + variation_month_3 / 3))"
   ]
  },
  {
   "cell_type": "code",
   "execution_count": 83,
   "metadata": {},
   "outputs": [
    {
     "name": "stdout",
     "output_type": "stream",
     "text": [
      "37.01415322557278\n",
      "6.021584872591117\n"
     ]
    },
    {
     "data": {
      "image/png": "[encoded data removed]",
      "text/plain": [
       "<Figure size 432x288 with 1 Axes>"
      ]
     },
     "metadata": {
      "needs_background": "light"
     },
     "output_type": "display_data"
    }
   ],
   "source": [
    "''' Distribution '''\n",
    "import numpy as np\n",
    "\n",
    "df['Flow1'] = abs((df['month_1_flow_redemption'] + df['month_1_flow_sales'] + df['month_1_flow_reinvestment']) / df['net_assets'])\n",
    "df['Flow2'] = abs((df['month_2_flow_redemption'] + df['month_2_flow_sales'] + df['month_2_flow_reinvestment']) / df['net_assets'])\n",
    "df['Flow3'] = abs((df['month_3_flow_redemption'] + df['month_3_flow_sales'] + df['month_3_flow_reinvestment']) / df['net_assets'])\n",
    "\n",
    "df['FlowAvg'] = 100 * (df['Flow1'] / 3 + df['Flow2'] / 3 + df['Flow3'] / 3)\n",
    "df.replace([np.inf, -np.inf], np.nan,inplace=True)\n",
    "print(df['FlowAvg'].mean())\n",
    "# df['FlowAvg'] = df['FlowAvg'].apply(lambda x: [y if y <= 100 else 100 for y in x])\n",
    "df['FlowAvg'].values[df['FlowAvg'] > 50] = 50\n",
    "print(df['FlowAvg'].mean())\n",
    "\n",
    "df.hist(column='FlowAvg', bins = range(0,50))\n",
    "plt.title('Average absolute percentage of monthly fund wealth variation (%)')\n",
    "plt.xlabel('Variation (%) due to redemptions, sales, reinvestment')\n",
    "plt.ylabel('Count')\n",
    "num = round(df['FlowAvg'].mean(),2)\n",
    "plt.vlines(num, colors='r', ymin = 0, ymax = 17500, linestyles='dotted', label= 'Mean percentage change = %.2f ' % num)\n",
    "plt.legend()\n",
    "plt.show()\n"
   ]
  }
 ],
 "metadata": {
  "interpreter": {
   "hash": "aee8b7b246df8f9039afb4144a1f6fd8d2ca17a180786b69acc140d282b71a49"
  },
  "kernelspec": {
   "display_name": "Python 3.9.6 64-bit",
   "language": "python",
   "name": "python3"
  },
  "language_info": {
   "codemirror_mode": {
    "name": "ipython",
    "version": 3
   },
   "file_extension": ".py",
   "mimetype": "text/x-python",
   "name": "python",
   "nbconvert_exporter": "python",
   "pygments_lexer": "ipython3",
   "version": "3.9.6"
  },
  "orig_nbformat": 4
 },
 "nbformat": 4,
 "nbformat_minor": 2
}
