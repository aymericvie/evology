{
 "cells": [
  {
   "cell_type": "code",
   "execution_count": 9,
   "metadata": {},
   "outputs": [],
   "source": [
    "import sys\n",
    "import pandas as pd\n",
    "sys.path.insert(0, '/Users/aymericvie/Documents/GitHub/evology/evology/code/')\n",
    "from experiments import MC_LongRunsWS"
   ]
  },
  {
   "cell_type": "code",
   "execution_count": 11,
   "metadata": {},
   "outputs": [
    {
     "name": "stderr",
     "output_type": "stream",
     "text": [
      "100%|██████████| 5/5 [02:41<00:00, 32.37s/it]\n"
     ]
    }
   ],
   "source": [
    "PathsNT, PathsVI, PathsTF = MC_LongRunsWS(Reps = 5, InitialCondition = [1/3, 1/3, 1/3], \n",
    "    Time = 252 * 50, PopSize = 50, ProbaSelection = 0, ProbaMutation=0)\n",
    "\n",
    "DfNT = pd.DataFrame(PathsNT)\n",
    "DfNT.to_csv(\"pathsNT.csv\")\n",
    "\n",
    "DfVI = pd.DataFrame(PathsVI)\n",
    "DfVI.to_csv(\"pathsVI.csv\")\n",
    "\n",
    "DfTF = pd.DataFrame(PathsTF)\n",
    "DfTF.to_csv(\"pathsTF.csv\")"
   ]
  }
 ],
 "metadata": {
  "interpreter": {
   "hash": "aee8b7b246df8f9039afb4144a1f6fd8d2ca17a180786b69acc140d282b71a49"
  },
  "kernelspec": {
   "display_name": "Python 3.9.6 64-bit",
   "language": "python",
   "name": "python3"
  },
  "language_info": {
   "codemirror_mode": {
    "name": "ipython",
    "version": 3
   },
   "file_extension": ".py",
   "mimetype": "text/x-python",
   "name": "python",
   "nbconvert_exporter": "python",
   "pygments_lexer": "ipython3",
   "version": "3.9.6"
  },
  "orig_nbformat": 4
 },
 "nbformat": 4,
 "nbformat_minor": 2
}
