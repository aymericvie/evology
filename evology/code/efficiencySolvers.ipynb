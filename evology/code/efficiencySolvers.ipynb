{
 "cells": [
  {
   "cell_type": "code",
   "execution_count": 5,
   "metadata": {},
   "outputs": [],
   "source": [
    "import sys\n",
    "import pandas as pd\n",
    "sys.path.insert(0, '/Users/aymericvie/Documents/GitHub/evology/evology/code/')\n",
    "from main import *\n",
    "reps = 10\n",
    "time = 10000"
   ]
  },
  {
   "cell_type": "code",
   "execution_count": 6,
   "metadata": {},
   "outputs": [
    {
     "name": "stderr",
     "output_type": "stream",
     "text": [
      "  0%|          | 0/10 [00:00<?, ?it/s]\n",
      " 12%|█▏        | 1228/10000 [00:04<00:32, 272.97it/s]"
     ]
    }
   ],
   "source": [
    "esl_times = []\n",
    "for i in tqdm(range(reps)):\n",
    "    df,pop = main(\"static\", 'scholl', 'esl', False, time, 0, 100, 0, [1/3, 1/3, 1/3], False, False)\n",
    "    esl_times.append(df['TimeE'].mean())\n",
    "\n",
    "newton_times = []\n",
    "for i in tqdm(range(reps)):\n",
    "    df,pop = main(\"static\", 'scholl', 'newton', False, time, 0, 100, 0, [1/3, 1/3, 1/3], False, False)\n",
    "    newton_times.append(df['TimeE'].mean())\n",
    "\n",
    "print('ESL: ' + str(np.mean(esl_times)))\n",
    "print('Newton: ' + str(np.mean(newton_times)))\n"
   ]
  }
 ],
 "metadata": {
  "interpreter": {
   "hash": "aee8b7b246df8f9039afb4144a1f6fd8d2ca17a180786b69acc140d282b71a49"
  },
  "kernelspec": {
   "display_name": "Python 3.9.6 64-bit",
   "language": "python",
   "name": "python3"
  },
  "language_info": {
   "codemirror_mode": {
    "name": "ipython",
    "version": 3
   },
   "file_extension": ".py",
   "mimetype": "text/x-python",
   "name": "python",
   "nbconvert_exporter": "python",
   "pygments_lexer": "ipython3",
   "version": "3.9.6"
  },
  "orig_nbformat": 4
 },
 "nbformat": 4,
 "nbformat_minor": 2
}
