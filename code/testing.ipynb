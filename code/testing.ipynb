{
 "cells": [
  {
   "cell_type": "markdown",
   "source": [
    "# Here we test whether main works at all\r\n"
   ],
   "metadata": {}
  },
  {
   "cell_type": "code",
   "execution_count": 4,
   "source": [
    "import main\r\n",
    "main.main(\"between\", 3, 0, 3, 0, 0)"
   ],
   "outputs": [
    {
     "output_type": "stream",
     "name": "stderr",
     "text": [
      "  0%|          | 0/3 [00:00<?, ?it/s]\n"
     ]
    },
    {
     "output_type": "error",
     "ename": "UnboundLocalError",
     "evalue": "local variable 'dividend_history' referenced before assignment",
     "traceback": [
      "\u001b[1;31m---------------------------------------------------------------------------\u001b[0m",
      "\u001b[1;31mUnboundLocalError\u001b[0m                         Traceback (most recent call last)",
      "\u001b[1;32m~\\AppData\\Local\\Temp/ipykernel_8840/2005334837.py\u001b[0m in \u001b[0;36m<module>\u001b[1;34m\u001b[0m\n\u001b[0;32m      1\u001b[0m \u001b[1;32mimport\u001b[0m \u001b[0mmain\u001b[0m\u001b[1;33m\u001b[0m\u001b[1;33m\u001b[0m\u001b[0m\n\u001b[1;32m----> 2\u001b[1;33m \u001b[0mmain\u001b[0m\u001b[1;33m.\u001b[0m\u001b[0mmain\u001b[0m\u001b[1;33m(\u001b[0m\u001b[1;34m\"between\"\u001b[0m\u001b[1;33m,\u001b[0m \u001b[1;36m3\u001b[0m\u001b[1;33m,\u001b[0m \u001b[1;36m0\u001b[0m\u001b[1;33m,\u001b[0m \u001b[1;36m3\u001b[0m\u001b[1;33m,\u001b[0m \u001b[1;36m0\u001b[0m\u001b[1;33m,\u001b[0m \u001b[1;36m0\u001b[0m\u001b[1;33m)\u001b[0m\u001b[1;33m\u001b[0m\u001b[1;33m\u001b[0m\u001b[0m\n\u001b[0m",
      "\u001b[1;32mc:\\Users\\aymer\\OneDrive\\Research\\2021_MarketEcology\\EvoMarketEcology\\code\\main.py\u001b[0m in \u001b[0;36mmain\u001b[1;34m(mode, MAX_GENERATIONS, PROBA_SELECTION, POPULATION_SIZE, CROSSOVER_RATE, MUTATION_RATE)\u001b[0m\n\u001b[0;32m     50\u001b[0m         (dividend_history, random_dividend_history, meanFitnessValues, replacements, \n\u001b[0;32m     51\u001b[0m         \u001b[0mpositive_positions\u001b[0m\u001b[1;33m,\u001b[0m \u001b[0mnegative_positions\u001b[0m\u001b[1;33m,\u001b[0m \u001b[0mfval_nt_history\u001b[0m\u001b[1;33m,\u001b[0m \u001b[0mmismatch_history\u001b[0m\u001b[1;33m,\u001b[0m\u001b[1;33m\u001b[0m\u001b[1;33m\u001b[0m\u001b[0m\n\u001b[1;32m---> 52\u001b[1;33m         \u001b[0mmean_wealth_history\u001b[0m\u001b[1;33m,\u001b[0m \u001b[0mnum_tf_history\u001b[0m\u001b[1;33m,\u001b[0m \u001b[0mnum_vi_history\u001b[0m\u001b[1;33m,\u001b[0m \u001b[0mnum_nt_history\u001b[0m\u001b[1;33m,\u001b[0m\u001b[1;33m\u001b[0m\u001b[1;33m\u001b[0m\u001b[0m\n\u001b[0m\u001b[0;32m     53\u001b[0m         \u001b[0mwealth_share_tf_history\u001b[0m\u001b[1;33m\u001b[0m\u001b[1;33m\u001b[0m\u001b[0m\n\u001b[0;32m     54\u001b[0m         \u001b[1;33m)\u001b[0m \u001b[1;33m=\u001b[0m \u001b[0mstore_results\u001b[0m\u001b[1;33m(\u001b[0m\u001b[1;33m\u001b[0m\u001b[1;33m\u001b[0m\u001b[0m\n",
      "\u001b[1;31mUnboundLocalError\u001b[0m: local variable 'dividend_history' referenced before assignment"
     ]
    }
   ],
   "metadata": {}
  },
  {
   "cell_type": "markdown",
   "source": [
    "# Here we test whether the trading signal and excess demand functions/values work well\r\n"
   ],
   "metadata": {}
  },
  {
   "cell_type": "code",
   "execution_count": 5,
   "source": [
    "import sampling\r\n",
    "import balance_sheet as bs\r\n",
    "pop = sampling.create_pop(\"between\", 3)\r\n",
    "print(pop)\r\n",
    "price_history = [100, 100]\r\n",
    "bs.determine_edf(pop, price_history)\r\n",
    "# Under simulations for market clearing in Colab, we obtain that the clearing price is 5312.95\r\n",
    "\"\"\" def func1(asset_key, price): #value investor\r\n",
    "  return ((50_000_000 + 500_000 * price) / price) * (np.tanh(np.log2(10_000) - np.log2(price)) + 0.5) - 500_000\r\n",
    "\r\n",
    "def func2(asset_key, price): #noise trader\r\n",
    "  return ((50_000_000 + 500_000 * price) / price) * (np.tanh(np.log2(10_000) - np.log2(price)) + 0.5) - 500_000\r\n",
    "\r\n",
    "def func3(asset_key, price): #trend follower\r\n",
    "  return ((50_000_000 + 500_000 * price) / price) * (np.tanh(0) + 0.5) - 500_000\r\n",
    "\"\"\"\r\n",
    "current_price = 5312.95\r\n",
    "bs.calculate_edv(pop, current_price)\r\n",
    "\r\n",
    "true_value_tf = -245_294\r\n",
    "true_value_vi = 122_647\r\n",
    "true_value_nt = 122_647\r\n",
    "\r\n",
    "for ind in pop:\r\n",
    "    print(ind.type)\r\n",
    "    print(ind.edv)\r\n",
    "\r\n",
    "# Result: TF and VI are exact. NT is only marginally wrong (due to ind.process being 1 in the Colab reference)\r\n",
    "# Hence: the EDV functions well.\r\n",
    "\r\n",
    "print(bs.calculate_total_edv(pop))\r\n",
    "# THe deviation is understandable with regards to the NT randomness factor."
   ],
   "outputs": [
    {
     "output_type": "stream",
     "name": "stdout",
     "text": [
      "[[2], [10000.0], [10000.0]]\n",
      "tf\n",
      "-245294.5162292135\n",
      "vi\n",
      "122647.59557767748\n",
      "nt\n",
      "122231.08345509402\n",
      "-415.83719644200755\n"
     ]
    }
   ],
   "metadata": {}
  },
  {
   "cell_type": "code",
   "execution_count": null,
   "source": [],
   "outputs": [],
   "metadata": {}
  },
  {
   "cell_type": "markdown",
   "source": [
    "# Testing whether wealth earnings profit can be imported\r\n"
   ],
   "metadata": {}
  },
  {
   "cell_type": "code",
   "execution_count": 5,
   "source": [
    "import balance_sheet as bs\r\n",
    "import sampling\r\n",
    "pop = sampling.create_pop(\"between\", 3)\r\n",
    "bs.wealth_earnings_profit(pop, 1, 10)"
   ],
   "outputs": [
    {
     "output_type": "execute_result",
     "data": {
      "text/plain": [
       "([[2], [10000.0], [10000.0]], 1.0000582506152018, 0.004964592465173012)"
      ]
     },
     "metadata": {},
     "execution_count": 5
    }
   ],
   "metadata": {}
  }
 ],
 "metadata": {
  "orig_nbformat": 4,
  "language_info": {
   "name": "python",
   "version": "3.9.6",
   "mimetype": "text/x-python",
   "codemirror_mode": {
    "name": "ipython",
    "version": 3
   },
   "pygments_lexer": "ipython3",
   "nbconvert_exporter": "python",
   "file_extension": ".py"
  },
  "kernelspec": {
   "name": "python3",
   "display_name": "Python 3.9.6 64-bit"
  },
  "interpreter": {
   "hash": "04d1ac1ce665b910e7ce9779815cb12d32b65fb6afac4574d56f0a49ce737342"
  }
 },
 "nbformat": 4,
 "nbformat_minor": 2
}