{
 "cells": [
  {
   "cell_type": "markdown",
   "source": [
    "# Here we test whether main works at all\r\n"
   ],
   "metadata": {}
  },
  {
   "cell_type": "code",
   "execution_count": 1,
   "source": [
    "import main\r\n",
    "main.main(\"between\", 3, 0, 3, 0, 0)"
   ],
   "outputs": [
    {
     "output_type": "stream",
     "name": "stderr",
     "text": [
      "100%|██████████| 3/3 [00:00<00:00, 42.25it/s]\n"
     ]
    },
    {
     "output_type": "execute_result",
     "data": {
      "text/html": [
       "<div>\n",
       "<style scoped>\n",
       "    .dataframe tbody tr th:only-of-type {\n",
       "        vertical-align: middle;\n",
       "    }\n",
       "\n",
       "    .dataframe tbody tr th {\n",
       "        vertical-align: top;\n",
       "    }\n",
       "\n",
       "    .dataframe thead th {\n",
       "        text-align: right;\n",
       "    }\n",
       "</style>\n",
       "<table border=\"1\" class=\"dataframe\">\n",
       "  <thead>\n",
       "    <tr style=\"text-align: right;\">\n",
       "      <th></th>\n",
       "      <th>Gen</th>\n",
       "      <th>Price</th>\n",
       "      <th>Mismatch</th>\n",
       "      <th>Val_NT</th>\n",
       "      <th>Num_TF</th>\n",
       "      <th>Num_VI</th>\n",
       "      <th>Num_NT</th>\n",
       "      <th>Mean_TF</th>\n",
       "      <th>Mean_VI</th>\n",
       "      <th>Mean_NT</th>\n",
       "      <th>Div</th>\n",
       "      <th>RDiv</th>\n",
       "      <th>WShare_TF</th>\n",
       "      <th>WShare_VI</th>\n",
       "      <th>WShare_NT</th>\n",
       "      <th>Pos+</th>\n",
       "      <th>Pos-</th>\n",
       "      <th>Rep</th>\n",
       "    </tr>\n",
       "  </thead>\n",
       "  <tbody>\n",
       "    <tr>\n",
       "      <th>0</th>\n",
       "      <td>0.0</td>\n",
       "      <td>993.049924</td>\n",
       "      <td>-1.148043e+06</td>\n",
       "      <td>10298.0</td>\n",
       "      <td>1.0</td>\n",
       "      <td>1.0</td>\n",
       "      <td>1.0</td>\n",
       "      <td>2.0</td>\n",
       "      <td>10000.0</td>\n",
       "      <td>10000.0</td>\n",
       "      <td>0.000039</td>\n",
       "      <td>-1.650184</td>\n",
       "      <td>33.333333</td>\n",
       "      <td>33.333333</td>\n",
       "      <td>33.333333</td>\n",
       "      <td>1500000.0</td>\n",
       "      <td>1.148043e+06</td>\n",
       "      <td>0.0</td>\n",
       "    </tr>\n",
       "    <tr>\n",
       "      <th>1</th>\n",
       "      <td>1.0</td>\n",
       "      <td>9876.624593</td>\n",
       "      <td>-3.613875e+05</td>\n",
       "      <td>10795.0</td>\n",
       "      <td>1.0</td>\n",
       "      <td>1.0</td>\n",
       "      <td>1.0</td>\n",
       "      <td>2.0</td>\n",
       "      <td>10000.0</td>\n",
       "      <td>10000.0</td>\n",
       "      <td>0.000039</td>\n",
       "      <td>-1.768310</td>\n",
       "      <td>33.333333</td>\n",
       "      <td>33.333333</td>\n",
       "      <td>33.333333</td>\n",
       "      <td>1500000.0</td>\n",
       "      <td>1.509430e+06</td>\n",
       "      <td>0.0</td>\n",
       "    </tr>\n",
       "    <tr>\n",
       "      <th>2</th>\n",
       "      <td>2.0</td>\n",
       "      <td>37640.044741</td>\n",
       "      <td>-1.226571e+05</td>\n",
       "      <td>12986.0</td>\n",
       "      <td>1.0</td>\n",
       "      <td>1.0</td>\n",
       "      <td>1.0</td>\n",
       "      <td>2.0</td>\n",
       "      <td>10000.0</td>\n",
       "      <td>10000.0</td>\n",
       "      <td>0.000039</td>\n",
       "      <td>1.254435</td>\n",
       "      <td>32.051481</td>\n",
       "      <td>33.974060</td>\n",
       "      <td>33.974459</td>\n",
       "      <td>1500000.0</td>\n",
       "      <td>1.509430e+06</td>\n",
       "      <td>0.0</td>\n",
       "    </tr>\n",
       "  </tbody>\n",
       "</table>\n",
       "</div>"
      ],
      "text/plain": [
       "   Gen         Price      Mismatch   Val_NT  Num_TF  Num_VI  Num_NT  Mean_TF  \\\n",
       "0  0.0    993.049924 -1.148043e+06  10298.0     1.0     1.0     1.0      2.0   \n",
       "1  1.0   9876.624593 -3.613875e+05  10795.0     1.0     1.0     1.0      2.0   \n",
       "2  2.0  37640.044741 -1.226571e+05  12986.0     1.0     1.0     1.0      2.0   \n",
       "\n",
       "   Mean_VI  Mean_NT       Div      RDiv  WShare_TF  WShare_VI  WShare_NT  \\\n",
       "0  10000.0  10000.0  0.000039 -1.650184  33.333333  33.333333  33.333333   \n",
       "1  10000.0  10000.0  0.000039 -1.768310  33.333333  33.333333  33.333333   \n",
       "2  10000.0  10000.0  0.000039  1.254435  32.051481  33.974060  33.974459   \n",
       "\n",
       "        Pos+          Pos-  Rep  \n",
       "0  1500000.0  1.148043e+06  0.0  \n",
       "1  1500000.0  1.509430e+06  0.0  \n",
       "2  1500000.0  1.509430e+06  0.0  "
      ]
     },
     "metadata": {},
     "execution_count": 1
    }
   ],
   "metadata": {}
  },
  {
   "cell_type": "markdown",
   "source": [
    "# Here we test whether the trading signal and excess demand functions/values work well\r\n"
   ],
   "metadata": {}
  },
  {
   "cell_type": "code",
   "execution_count": 2,
   "source": [
    "import sampling\r\n",
    "import balance_sheet as bs\r\n",
    "pop = sampling.create_pop(\"between\", 3)\r\n",
    "print(pop)\r\n",
    "price_history = [100, 100]\r\n",
    "current_price = 100\r\n",
    "bs.calculate_wealth(pop, current_price)\r\n",
    "bs.determine_edf(pop, price_history)\r\n",
    "# Under simulations for market clearing in Colab, we obtain that the clearing price is 5312.95\r\n",
    "\"\"\" def func1(asset_key, price): #value investor\r\n",
    "  return ((50_000_000 + 500_000 * float(initial_price)) / price) * (np.tanh(np.log2(10000) - np.log2(price)) + 0.5) - 500_000\r\n",
    "\r\n",
    "def func2(asset_key, price): #noise trader\r\n",
    "  return ((50_000_000 + 500_000 * float(initial_price)) / price) * (np.tanh(np.log2(10000) - np.log2(price)) + 0.5) - 500_000\r\n",
    "\r\n",
    "def func3(asset_key, price): #trend follower\r\n",
    "  return ((50_000_000 + 500_000 * float(initial_price)) / price) * (np.tanh(0) + 0.5) - 500_000\r\n",
    "\r\n",
    "\"\"\"\r\n",
    "current_price = 233\r\n",
    "bs.calculate_edv(pop, current_price)\r\n",
    "\r\n",
    "true_value_tf = -285711\r\n",
    "true_value_vi = 142849\r\n",
    "true_value_nt = 142849\r\n",
    "\r\n",
    "for ind in pop:\r\n",
    "    print(ind.type)\r\n",
    "    print(ind.edv)\r\n",
    "\r\n",
    "# Result: TF and VI are exact. NT is only marginally wrong (due to ind.process being 1 in the Colab reference)\r\n",
    "# Hence: the EDV functions well.\r\n",
    "\r\n",
    "print(bs.calculate_total_edv(pop))\r\n",
    "# THe deviation is understandable with regards to the NT randomness factor."
   ],
   "outputs": [
    {
     "output_type": "stream",
     "name": "stdout",
     "text": [
      "[[2], [10000.0], [10000.0]]\n",
      "tf\n",
      "-285407.7253218884\n",
      "vi\n",
      "143760.11887624383\n",
      "nt\n",
      "143753.2902227376\n",
      "2105.683777093014\n"
     ]
    }
   ],
   "metadata": {}
  },
  {
   "cell_type": "markdown",
   "source": [
    "# Testing whether wealth earnings profit can be imported\r\n"
   ],
   "metadata": {}
  },
  {
   "cell_type": "code",
   "execution_count": 2,
   "source": [
    "import balance_sheet as bs\r\n",
    "import sampling\r\n",
    "pop = sampling.create_pop(\"between\", 3)\r\n",
    "bs.wealth_earnings_profit(pop, 1, 10)"
   ],
   "outputs": [
    {
     "output_type": "execute_result",
     "data": {
      "text/plain": [
       "([[2], [10000.0], [10000.0]], 0.9977060218238474, -0.6173766483997932)"
      ]
     },
     "metadata": {},
     "execution_count": 2
    }
   ],
   "metadata": {}
  },
  {
   "cell_type": "markdown",
   "source": [
    "# Here we test whether market aggregate_edf works as expected"
   ],
   "metadata": {}
  },
  {
   "cell_type": "code",
   "execution_count": 5,
   "source": [
    "import sampling as sampling\r\n",
    "import numpy as np\r\n",
    "import balance_sheet as bs\r\n",
    "pop = sampling.create_pop(\"between\", 3)\r\n",
    "price_history = []\r\n",
    "current_price = 100\r\n",
    "bs.calculate_wealth(pop, current_price)\r\n",
    "bs.determine_edf(pop, price_history)\r\n",
    "\r\n",
    "# Define aggregate demand function\r\n",
    "def squared_agg_ed(p): \r\n",
    "    result = 0\r\n",
    "    for ind in pop:\r\n",
    "        result += ind.edf(p)\r\n",
    "    return result\r\n",
    "\r\n",
    "for ind in pop:\r\n",
    "    if ind.type == \"nt\":\r\n",
    "        process = ind.process\r\n",
    "        print(\"Process identified \" + str(process))\r\n",
    "\r\n",
    "def func1(price): #value investor\r\n",
    "  return ((50_000_000 + 500_000 * float(current_price)) / price) * (np.tanh(np.log2(10000) - np.log2(price)) + 0.5) - 500_000\r\n",
    "\r\n",
    "def func2(price): #noise trader\r\n",
    "  return ((50_000_000 + 500_000 * float(current_price)) / price) * (np.tanh(np.log2(10000 * process) - np.log2(price)) + 0.5) - 500_000\r\n",
    "\r\n",
    "def func3(price): #trend follower\r\n",
    "  return ((50_000_000 + 500_000 * float(current_price)) / price) * (np.tanh(0) + 0.5) - 500_000\r\n",
    "\r\n",
    "print(\"Real result (1): \" + str(func1(1) + func2(1) + func3(1)))\r\n",
    "print(\"Function result (1): \" + str(squared_agg_ed(1)) )\r\n",
    "\r\n",
    "print(\"Real result (10): \" + str(func1(10) + func2(10) + func3(10)))\r\n",
    "print(\"Function result (10): \" + str(squared_agg_ed(10)) )\r\n",
    "\r\n",
    "# They are the same. squared_agg_ed in leap_mc works well.\r\n"
   ],
   "outputs": [
    {
     "output_type": "stream",
     "name": "stdout",
     "text": [
      "Process identified 0.9873329030372872\n",
      "Real result (1): 348499999.998829\n",
      "Function result (1): 348499999.998829\n",
      "Real result (10): 33499999.91006049\n",
      "Function result (10): 33499999.91006049\n"
     ]
    }
   ],
   "metadata": {}
  }
 ],
 "metadata": {
  "orig_nbformat": 4,
  "language_info": {
   "name": "python",
   "version": "3.9.6",
   "mimetype": "text/x-python",
   "codemirror_mode": {
    "name": "ipython",
    "version": 3
   },
   "pygments_lexer": "ipython3",
   "nbconvert_exporter": "python",
   "file_extension": ".py"
  },
  "kernelspec": {
   "name": "python3",
   "display_name": "Python 3.9.6 64-bit"
  },
  "interpreter": {
   "hash": "04d1ac1ce665b910e7ce9779815cb12d32b65fb6afac4574d56f0a49ce737342"
  }
 },
 "nbformat": 4,
 "nbformat_minor": 2
}