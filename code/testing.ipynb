{
 "cells": [
  {
   "cell_type": "code",
   "execution_count": 1,
   "source": [
    "\r\n",
    "import esl\r\n",
    "from esl.economics.markets.walras import excess_demand_model, differentiable_order_message\r\n",
    "from esl.law import property\r\n",
    "from esl.simulation import identity\r\n",
    "from esl.economics.markets import quote\r\n",
    "from esl.economics import price\r\n",
    "from esl.economics import currencies\r\n",
    "import numpy as np\r\n",
    "\r\n",
    "i  = identity([0, 1])\r\n",
    "p  = property(i)\r\n",
    " \r\n",
    "def solve(my_excess_demand_functions: list):\r\n",
    "\r\n",
    "  i  = identity([0, 1])\r\n",
    "  p  = property(i)\r\n",
    "  initial_price = price(10000, currencies.USD)\r\n",
    "  initial_quote = quote(initial_price)\r\n",
    "  model = excess_demand_model({p: initial_quote}) # for one asset\r\n",
    "\r\n",
    "  market_agent = esl.simulation.identity([0])\r\n",
    "  excess_demand_functions = []\r\n",
    "\r\n",
    "  class OrderWrapper(differentiable_order_message):\r\n",
    "      def __init__(self, function, sender, recipient, sent, received):\r\n",
    "          super().__init__(sender, recipient, sent, received)\r\n",
    "          # TODO (Maarten): this should be exposed through base class\r\n",
    "          self.sender = sender\r\n",
    "          self.function = function\r\n",
    "\r\n",
    "      def excess_demand(self, quotes) -> dict:\r\n",
    "          \"\"\"\r\n",
    "          :param quotes: A dict with property_identifier keys and pairs (quote, variable)\r\n",
    "          :return:\r\n",
    "          \"\"\"\r\n",
    "          ed = {k: self.function(k, float(v[0]) * v[1]) for i,  (k, v) in enumerate(quotes.items())}\r\n",
    "          return ed\r\n",
    "\r\n",
    "  for i, edf in enumerate(my_excess_demand_functions):\r\n",
    "    order = OrderWrapper(edf, esl.simulation.identity([i+1]), market_agent, 0, 0)\r\n",
    "    excess_demand_functions.append(order) \r\n",
    "\r\n",
    "  model.excess_demand_functions = excess_demand_functions\r\n",
    "  multipliers = model.compute_clearing_quotes() \r\n",
    "  prices = []\r\n",
    "\r\n",
    "  for k, v in multipliers.items():\r\n",
    "    prices.append(price(round(float(initial_price) * v * currencies.USD.denominator), currencies.USD))\r\n",
    "    \r\n",
    "  del model\r\n",
    "  return prices\r\n",
    "\r\n",
    "\r\n",
    "\r\n",
    "def func1(asset_key, price): #value investor\r\n",
    "  return ((50_000_000 + 500_000 * price) / price) * (np.tanh(np.log2(10_000) - np.log2(price)) + 0.5) - 500_000\r\n",
    "\r\n",
    "def func2(asset_key, price): #noise trader\r\n",
    "  return ((50_000_000 + 500_000 * price) / price) * (np.tanh(np.log2(10_000) - np.log2(price)) + 0.5) - 500_000\r\n",
    "\r\n",
    "def func3(asset_key, price): #trend follower\r\n",
    "  return ((50_000_000 + 500_000 * price) / price) * (np.tanh(0) + 0.5) - 500_000\r\n",
    "\r\n",
    "\r\n",
    "functions = [func1, func2, func3]\r\n",
    "new_price = solve(functions)\r\n",
    "print(new_price)\r\n",
    "print(float(new_price[0]))\r\n",
    "print(func1(i, float(new_price[0])))\r\n",
    "print(func2(i, float(new_price[0])))\r\n",
    "print(func3(i, float(new_price[0])))"
   ],
   "outputs": [
    {
     "output_type": "error",
     "ename": "TypeError",
     "evalue": "No registered converter was able to produce a C++ rvalue of type class boost::python::override from this Python object of type dict",
     "traceback": [
      "\u001b[1;31m---------------------------------------------------------------------------\u001b[0m",
      "\u001b[1;31mTypeError\u001b[0m                                 Traceback (most recent call last)",
      "\u001b[1;32m~\\AppData\\Local\\Temp/ipykernel_11532/3139253032.py\u001b[0m in \u001b[0;36m<module>\u001b[1;34m\u001b[0m\n\u001b[0;32m     64\u001b[0m \u001b[1;33m\u001b[0m\u001b[0m\n\u001b[0;32m     65\u001b[0m \u001b[0mfunctions\u001b[0m \u001b[1;33m=\u001b[0m \u001b[1;33m[\u001b[0m\u001b[0mfunc1\u001b[0m\u001b[1;33m,\u001b[0m \u001b[0mfunc2\u001b[0m\u001b[1;33m,\u001b[0m \u001b[0mfunc3\u001b[0m\u001b[1;33m]\u001b[0m\u001b[1;33m\u001b[0m\u001b[1;33m\u001b[0m\u001b[0m\n\u001b[1;32m---> 66\u001b[1;33m \u001b[0mnew_price\u001b[0m \u001b[1;33m=\u001b[0m \u001b[0msolve\u001b[0m\u001b[1;33m(\u001b[0m\u001b[0mfunctions\u001b[0m\u001b[1;33m)\u001b[0m\u001b[1;33m\u001b[0m\u001b[1;33m\u001b[0m\u001b[0m\n\u001b[0m\u001b[0;32m     67\u001b[0m \u001b[0mprint\u001b[0m\u001b[1;33m(\u001b[0m\u001b[0mnew_price\u001b[0m\u001b[1;33m)\u001b[0m\u001b[1;33m\u001b[0m\u001b[1;33m\u001b[0m\u001b[0m\n\u001b[0;32m     68\u001b[0m \u001b[0mprint\u001b[0m\u001b[1;33m(\u001b[0m\u001b[0mfloat\u001b[0m\u001b[1;33m(\u001b[0m\u001b[0mnew_price\u001b[0m\u001b[1;33m[\u001b[0m\u001b[1;36m0\u001b[0m\u001b[1;33m]\u001b[0m\u001b[1;33m)\u001b[0m\u001b[1;33m)\u001b[0m\u001b[1;33m\u001b[0m\u001b[1;33m\u001b[0m\u001b[0m\n",
      "\u001b[1;32m~\\AppData\\Local\\Temp/ipykernel_11532/3139253032.py\u001b[0m in \u001b[0;36msolve\u001b[1;34m(my_excess_demand_functions)\u001b[0m\n\u001b[0;32m     42\u001b[0m \u001b[1;33m\u001b[0m\u001b[0m\n\u001b[0;32m     43\u001b[0m   \u001b[0mmodel\u001b[0m\u001b[1;33m.\u001b[0m\u001b[0mexcess_demand_functions\u001b[0m \u001b[1;33m=\u001b[0m \u001b[0mexcess_demand_functions\u001b[0m\u001b[1;33m\u001b[0m\u001b[1;33m\u001b[0m\u001b[0m\n\u001b[1;32m---> 44\u001b[1;33m   \u001b[0mmultipliers\u001b[0m \u001b[1;33m=\u001b[0m \u001b[0mmodel\u001b[0m\u001b[1;33m.\u001b[0m\u001b[0mcompute_clearing_quotes\u001b[0m\u001b[1;33m(\u001b[0m\u001b[1;33m)\u001b[0m\u001b[1;33m\u001b[0m\u001b[1;33m\u001b[0m\u001b[0m\n\u001b[0m\u001b[0;32m     45\u001b[0m   \u001b[0mprices\u001b[0m \u001b[1;33m=\u001b[0m \u001b[1;33m[\u001b[0m\u001b[1;33m]\u001b[0m\u001b[1;33m\u001b[0m\u001b[1;33m\u001b[0m\u001b[0m\n\u001b[0;32m     46\u001b[0m \u001b[1;33m\u001b[0m\u001b[0m\n",
      "\u001b[1;31mTypeError\u001b[0m: No registered converter was able to produce a C++ rvalue of type class boost::python::override from this Python object of type dict"
     ]
    }
   ],
   "metadata": {}
  }
 ],
 "metadata": {
  "orig_nbformat": 4,
  "language_info": {
   "name": "python",
   "version": "3.9.6",
   "mimetype": "text/x-python",
   "codemirror_mode": {
    "name": "ipython",
    "version": 3
   },
   "pygments_lexer": "ipython3",
   "nbconvert_exporter": "python",
   "file_extension": ".py"
  },
  "kernelspec": {
   "name": "python3",
   "display_name": "Python 3.9.6 64-bit"
  },
  "interpreter": {
   "hash": "04d1ac1ce665b910e7ce9779815cb12d32b65fb6afac4574d56f0a49ce737342"
  }
 },
 "nbformat": 4,
 "nbformat_minor": 2
}