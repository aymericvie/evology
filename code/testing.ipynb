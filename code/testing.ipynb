{
 "cells": [
  {
   "cell_type": "markdown",
   "metadata": {},
   "source": [
    "# Here we test whether main works at all\n"
   ]
  },
  {
   "cell_type": "code",
   "execution_count": 1,
   "metadata": {},
   "outputs": [
    {
     "name": "stderr",
     "output_type": "stream",
     "text": [
      "100%|██████████| 3/3 [00:00<00:00, 44.18it/s]\n"
     ]
    },
    {
     "data": {
      "text/html": [
       "<div>\n",
       "<style scoped>\n",
       "    .dataframe tbody tr th:only-of-type {\n",
       "        vertical-align: middle;\n",
       "    }\n",
       "\n",
       "    .dataframe tbody tr th {\n",
       "        vertical-align: top;\n",
       "    }\n",
       "\n",
       "    .dataframe thead th {\n",
       "        text-align: right;\n",
       "    }\n",
       "</style>\n",
       "<table border=\"1\" class=\"dataframe\">\n",
       "  <thead>\n",
       "    <tr style=\"text-align: right;\">\n",
       "      <th></th>\n",
       "      <th>Gen</th>\n",
       "      <th>Price</th>\n",
       "      <th>Mismatch</th>\n",
       "      <th>Val_NT</th>\n",
       "      <th>Num_TF</th>\n",
       "      <th>Num_VI</th>\n",
       "      <th>Num_NT</th>\n",
       "      <th>Mean_TF</th>\n",
       "      <th>Mean_VI</th>\n",
       "      <th>Mean_NT</th>\n",
       "      <th>Div</th>\n",
       "      <th>RDiv</th>\n",
       "      <th>WShare_TF</th>\n",
       "      <th>WShare_VI</th>\n",
       "      <th>WShare_NT</th>\n",
       "      <th>Pos+</th>\n",
       "      <th>Pos-</th>\n",
       "      <th>Rep</th>\n",
       "    </tr>\n",
       "  </thead>\n",
       "  <tbody>\n",
       "    <tr>\n",
       "      <th>0</th>\n",
       "      <td>0.0</td>\n",
       "      <td>994.875539</td>\n",
       "      <td>-1.252700e+06</td>\n",
       "      <td>10388.0</td>\n",
       "      <td>1.0</td>\n",
       "      <td>1.0</td>\n",
       "      <td>1.0</td>\n",
       "      <td>2.0</td>\n",
       "      <td>10000.0</td>\n",
       "      <td>10000.0</td>\n",
       "      <td>0.000039</td>\n",
       "      <td>0.024144</td>\n",
       "      <td>33.333333</td>\n",
       "      <td>33.333333</td>\n",
       "      <td>33.333333</td>\n",
       "      <td>1500000.0</td>\n",
       "      <td>1.252700e+06</td>\n",
       "      <td>0.0</td>\n",
       "    </tr>\n",
       "    <tr>\n",
       "      <th>1</th>\n",
       "      <td>1.0</td>\n",
       "      <td>9881.416998</td>\n",
       "      <td>-2.227026e+05</td>\n",
       "      <td>10048.0</td>\n",
       "      <td>1.0</td>\n",
       "      <td>1.0</td>\n",
       "      <td>1.0</td>\n",
       "      <td>2.0</td>\n",
       "      <td>10000.0</td>\n",
       "      <td>10000.0</td>\n",
       "      <td>0.000039</td>\n",
       "      <td>-1.612241</td>\n",
       "      <td>33.333333</td>\n",
       "      <td>33.333333</td>\n",
       "      <td>33.333333</td>\n",
       "      <td>1500000.0</td>\n",
       "      <td>1.475402e+06</td>\n",
       "      <td>0.0</td>\n",
       "    </tr>\n",
       "    <tr>\n",
       "      <th>2</th>\n",
       "      <td>2.0</td>\n",
       "      <td>30707.428037</td>\n",
       "      <td>-1.312310e+05</td>\n",
       "      <td>11075.0</td>\n",
       "      <td>1.0</td>\n",
       "      <td>1.0</td>\n",
       "      <td>1.0</td>\n",
       "      <td>2.0</td>\n",
       "      <td>10000.0</td>\n",
       "      <td>10000.0</td>\n",
       "      <td>0.000039</td>\n",
       "      <td>2.031015</td>\n",
       "      <td>32.421762</td>\n",
       "      <td>33.788994</td>\n",
       "      <td>33.789244</td>\n",
       "      <td>1500000.0</td>\n",
       "      <td>1.475402e+06</td>\n",
       "      <td>0.0</td>\n",
       "    </tr>\n",
       "  </tbody>\n",
       "</table>\n",
       "</div>"
      ],
      "text/plain": [
       "   Gen         Price      Mismatch   Val_NT  Num_TF  Num_VI  Num_NT  Mean_TF  \\\n",
       "0  0.0    994.875539 -1.252700e+06  10388.0     1.0     1.0     1.0      2.0   \n",
       "1  1.0   9881.416998 -2.227026e+05  10048.0     1.0     1.0     1.0      2.0   \n",
       "2  2.0  30707.428037 -1.312310e+05  11075.0     1.0     1.0     1.0      2.0   \n",
       "\n",
       "   Mean_VI  Mean_NT       Div      RDiv  WShare_TF  WShare_VI  WShare_NT  \\\n",
       "0  10000.0  10000.0  0.000039  0.024144  33.333333  33.333333  33.333333   \n",
       "1  10000.0  10000.0  0.000039 -1.612241  33.333333  33.333333  33.333333   \n",
       "2  10000.0  10000.0  0.000039  2.031015  32.421762  33.788994  33.789244   \n",
       "\n",
       "        Pos+          Pos-  Rep  \n",
       "0  1500000.0  1.252700e+06  0.0  \n",
       "1  1500000.0  1.475402e+06  0.0  \n",
       "2  1500000.0  1.475402e+06  0.0  "
      ]
     },
     "execution_count": 1,
     "metadata": {},
     "output_type": "execute_result"
    }
   ],
   "source": [
    "import main\n",
    "main.main(\"between\", 3, 0, 3, 0, 0)"
   ]
  },
  {
   "cell_type": "markdown",
   "metadata": {},
   "source": [
    "# Here we test whether the trading signal and excess demand functions/values work well\n"
   ]
  },
  {
   "cell_type": "code",
   "execution_count": 2,
   "metadata": {},
   "outputs": [
    {
     "name": "stdout",
     "output_type": "stream",
     "text": [
      "[[2], [10000.0], [10000.0]]\n",
      "tf\n",
      "-285407.7253218884\n",
      "vi\n",
      "143760.11887624383\n",
      "nt\n",
      "143753.2902227376\n",
      "2105.683777093014\n"
     ]
    }
   ],
   "source": [
    "import sampling\n",
    "import balance_sheet as bs\n",
    "pop = sampling.create_pop(\"between\", 3)\n",
    "print(pop)\n",
    "price_history = [100, 100]\n",
    "current_price = 100\n",
    "bs.calculate_wealth(pop, current_price)\n",
    "bs.determine_edf(pop, price_history)\n",
    "# Under simulations for market clearing in Colab, we obtain that the clearing price is 5312.95\n",
    "\"\"\" def func1(asset_key, price): #value investor\n",
    "  return ((50_000_000 + 500_000 * float(initial_price)) / price) * (np.tanh(np.log2(10000) - np.log2(price)) + 0.5) - 500_000\n",
    "\n",
    "def func2(asset_key, price): #noise trader\n",
    "  return ((50_000_000 + 500_000 * float(initial_price)) / price) * (np.tanh(np.log2(10000) - np.log2(price)) + 0.5) - 500_000\n",
    "\n",
    "def func3(asset_key, price): #trend follower\n",
    "  return ((50_000_000 + 500_000 * float(initial_price)) / price) * (np.tanh(0) + 0.5) - 500_000\n",
    "\n",
    "\"\"\"\n",
    "current_price = 233\n",
    "bs.calculate_edv(pop, current_price)\n",
    "\n",
    "true_value_tf = -285711\n",
    "true_value_vi = 142849\n",
    "true_value_nt = 142849\n",
    "\n",
    "for ind in pop:\n",
    "    print(ind.type)\n",
    "    print(ind.edv)\n",
    "\n",
    "# Result: TF and VI are exact. NT is only marginally wrong (due to ind.process being 1 in the Colab reference)\n",
    "# Hence: the EDV functions well.\n",
    "\n",
    "print(bs.calculate_total_edv(pop))\n",
    "# THe deviation is understandable with regards to the NT randomness factor."
   ]
  },
  {
   "cell_type": "markdown",
   "metadata": {},
   "source": [
    "# Testing whether wealth earnings profit can be imported\n"
   ]
  },
  {
   "cell_type": "code",
   "execution_count": 2,
   "metadata": {},
   "outputs": [
    {
     "data": {
      "text/plain": [
       "([[2], [10000.0], [10000.0]], 0.9977060218238474, -0.6173766483997932)"
      ]
     },
     "execution_count": 2,
     "metadata": {},
     "output_type": "execute_result"
    }
   ],
   "source": [
    "import balance_sheet as bs\n",
    "import sampling\n",
    "pop = sampling.create_pop(\"between\", 3)\n",
    "bs.wealth_earnings_profit(pop, 1, 10)"
   ]
  },
  {
   "cell_type": "markdown",
   "metadata": {},
   "source": [
    "# Here we test whether market aggregate_edf works as expected"
   ]
  },
  {
   "cell_type": "code",
   "execution_count": 5,
   "metadata": {},
   "outputs": [
    {
     "name": "stdout",
     "output_type": "stream",
     "text": [
      "Process identified 0.9873329030372872\n",
      "Real result (1): 348499999.998829\n",
      "Function result (1): 348499999.998829\n",
      "Real result (10): 33499999.91006049\n",
      "Function result (10): 33499999.91006049\n"
     ]
    }
   ],
   "source": [
    "import sampling as sampling\n",
    "import numpy as np\n",
    "import balance_sheet as bs\n",
    "pop = sampling.create_pop(\"between\", 3)\n",
    "price_history = []\n",
    "current_price = 100\n",
    "bs.calculate_wealth(pop, current_price)\n",
    "bs.determine_edf(pop, price_history)\n",
    "\n",
    "# Define aggregate demand function\n",
    "def squared_agg_ed(p): \n",
    "    result = 0\n",
    "    for ind in pop:\n",
    "        result += ind.edf(p)\n",
    "    return result\n",
    "\n",
    "for ind in pop:\n",
    "    if ind.type == \"nt\":\n",
    "        process = ind.process\n",
    "        print(\"Process identified \" + str(process))\n",
    "\n",
    "def func1(price): #value investor\n",
    "  return ((50_000_000 + 500_000 * float(current_price)) / price) * (np.tanh(np.log2(10000) - np.log2(price)) + 0.5) - 500_000\n",
    "\n",
    "def func2(price): #noise trader\n",
    "  return ((50_000_000 + 500_000 * float(current_price)) / price) * (np.tanh(np.log2(10000 * process) - np.log2(price)) + 0.5) - 500_000\n",
    "\n",
    "def func3(price): #trend follower\n",
    "  return ((50_000_000 + 500_000 * float(current_price)) / price) * (np.tanh(0) + 0.5) - 500_000\n",
    "\n",
    "print(\"Real result (1): \" + str(func1(1) + func2(1) + func3(1)))\n",
    "print(\"Function result (1): \" + str(squared_agg_ed(1)) )\n",
    "\n",
    "print(\"Real result (10): \" + str(func1(10) + func2(10) + func3(10)))\n",
    "print(\"Function result (10): \" + str(squared_agg_ed(10)) )\n",
    "\n",
    "# They are the same. squared_agg_ed in leap_mc works well.\n"
   ]
  }
 ],
 "metadata": {
  "interpreter": {
   "hash": "04d1ac1ce665b910e7ce9779815cb12d32b65fb6afac4574d56f0a49ce737342"
  },
  "kernelspec": {
   "display_name": "Python 3.9.6 64-bit",
   "name": "python3"
  },
  "language_info": {
   "codemirror_mode": {
    "name": "ipython",
    "version": 3
   },
   "file_extension": ".py",
   "mimetype": "text/x-python",
   "name": "python",
   "nbconvert_exporter": "python",
   "pygments_lexer": "ipython3",
   "version": "3.9.6"
  },
  "orig_nbformat": 4
 },
 "nbformat": 4,
 "nbformat_minor": 2
}
