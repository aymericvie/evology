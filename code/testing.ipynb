{
 "cells": [
  {
   "cell_type": "markdown",
   "source": [
    "# Here we test whether main works at all\r\n"
   ],
   "metadata": {}
  },
  {
   "cell_type": "code",
   "execution_count": 1,
   "source": [
    "import main\r\n",
    "main.main(\"between\", 3, 0, 3, 0, 0)"
   ],
   "outputs": [
    {
     "output_type": "stream",
     "name": "stderr",
     "text": [
      "100%|██████████| 3/3 [00:01<00:00,  1.67it/s]\n",
      "C:\\Users\\aymer\\AppData\\Local\\Programs\\Python\\Python39\\lib\\site-packages\\pandas\\core\\dtypes\\cast.py:881: VisibleDeprecationWarning: Creating an ndarray from ragged nested sequences (which is a list-or-tuple of lists-or-tuples-or ndarrays with different lengths or shapes) is deprecated. If you meant to do this, you must specify 'dtype=object' when creating the ndarray.\n",
      "  element = np.asarray(element)\n"
     ]
    },
    {
     "output_type": "execute_result",
     "data": {
      "text/html": [
       "<div>\n",
       "<style scoped>\n",
       "    .dataframe tbody tr th:only-of-type {\n",
       "        vertical-align: middle;\n",
       "    }\n",
       "\n",
       "    .dataframe tbody tr th {\n",
       "        vertical-align: top;\n",
       "    }\n",
       "\n",
       "    .dataframe thead th {\n",
       "        text-align: right;\n",
       "    }\n",
       "</style>\n",
       "<table border=\"1\" class=\"dataframe\">\n",
       "  <thead>\n",
       "    <tr style=\"text-align: right;\">\n",
       "      <th></th>\n",
       "      <th>Gen</th>\n",
       "      <th>Price</th>\n",
       "      <th>Mismatch</th>\n",
       "      <th>Val_NT</th>\n",
       "      <th>Num_TF</th>\n",
       "      <th>Num_VI</th>\n",
       "      <th>Num_NT</th>\n",
       "      <th>Mean_TF</th>\n",
       "      <th>Mean_VI</th>\n",
       "      <th>Mean_NT</th>\n",
       "      <th>Div</th>\n",
       "      <th>RDiv</th>\n",
       "      <th>WShare_TF</th>\n",
       "      <th>WShare_VI</th>\n",
       "      <th>WShare_NT</th>\n",
       "      <th>Pos+</th>\n",
       "      <th>Pos-</th>\n",
       "      <th>Rep</th>\n",
       "    </tr>\n",
       "  </thead>\n",
       "  <tbody>\n",
       "    <tr>\n",
       "      <th>0</th>\n",
       "      <td>3</td>\n",
       "      <td>100</td>\n",
       "      <td>609108.18841</td>\n",
       "      <td>8387.0</td>\n",
       "      <td>1</td>\n",
       "      <td>1</td>\n",
       "      <td>1</td>\n",
       "      <td>2.0</td>\n",
       "      <td>10000.0</td>\n",
       "      <td>10000.0</td>\n",
       "      <td>0.000039</td>\n",
       "      <td>-0.101714</td>\n",
       "      <td>56.252344</td>\n",
       "      <td>21.873828</td>\n",
       "      <td>21.873828</td>\n",
       "      <td>1500000.0</td>\n",
       "      <td>374992.433283</td>\n",
       "      <td>[]</td>\n",
       "    </tr>\n",
       "  </tbody>\n",
       "</table>\n",
       "</div>"
      ],
      "text/plain": [
       "  Gen Price      Mismatch  Val_NT Num_TF Num_VI Num_NT  Mean_TF  Mean_VI  \\\n",
       "0   3   100  609108.18841  8387.0      1      1      1      2.0  10000.0   \n",
       "\n",
       "   Mean_NT       Div      RDiv  WShare_TF  WShare_VI  WShare_NT       Pos+  \\\n",
       "0  10000.0  0.000039 -0.101714  56.252344  21.873828  21.873828  1500000.0   \n",
       "\n",
       "            Pos- Rep  \n",
       "0  374992.433283  []  "
      ]
     },
     "metadata": {},
     "execution_count": 1
    }
   ],
   "metadata": {}
  },
  {
   "cell_type": "markdown",
   "source": [
    "# Here we test whether the trading signal and excess demand functions/values work well\r\n"
   ],
   "metadata": {}
  },
  {
   "cell_type": "code",
   "execution_count": 5,
   "source": [
    "import sampling\r\n",
    "import balance_sheet as bs\r\n",
    "pop = sampling.create_pop(\"between\", 3)\r\n",
    "print(pop)\r\n",
    "price_history = [100, 100]\r\n",
    "bs.determine_edf(pop, price_history)\r\n",
    "# Under simulations for market clearing in Colab, we obtain that the clearing price is 5312.95\r\n",
    "\"\"\" def func1(asset_key, price): #value investor\r\n",
    "  return ((50_000_000 + 500_000 * price) / price) * (np.tanh(np.log2(10_000) - np.log2(price)) + 0.5) - 500_000\r\n",
    "\r\n",
    "def func2(asset_key, price): #noise trader\r\n",
    "  return ((50_000_000 + 500_000 * price) / price) * (np.tanh(np.log2(10_000) - np.log2(price)) + 0.5) - 500_000\r\n",
    "\r\n",
    "def func3(asset_key, price): #trend follower\r\n",
    "  return ((50_000_000 + 500_000 * price) / price) * (np.tanh(0) + 0.5) - 500_000\r\n",
    "\"\"\"\r\n",
    "current_price = 5312.95\r\n",
    "bs.calculate_edv(pop, current_price)\r\n",
    "\r\n",
    "true_value_tf = -245_294\r\n",
    "true_value_vi = 122_647\r\n",
    "true_value_nt = 122_647\r\n",
    "\r\n",
    "for ind in pop:\r\n",
    "    print(ind.type)\r\n",
    "    print(ind.edv)\r\n",
    "\r\n",
    "# Result: TF and VI are exact. NT is only marginally wrong (due to ind.process being 1 in the Colab reference)\r\n",
    "# Hence: the EDV functions well.\r\n",
    "\r\n",
    "print(bs.calculate_total_edv(pop))\r\n",
    "# THe deviation is understandable with regards to the NT randomness factor."
   ],
   "outputs": [
    {
     "output_type": "stream",
     "name": "stdout",
     "text": [
      "[[2], [10000.0], [10000.0]]\n",
      "tf\n",
      "-245294.5162292135\n",
      "vi\n",
      "122647.59557767748\n",
      "nt\n",
      "122231.08345509402\n",
      "-415.83719644200755\n"
     ]
    }
   ],
   "metadata": {}
  },
  {
   "cell_type": "code",
   "execution_count": null,
   "source": [],
   "outputs": [],
   "metadata": {}
  },
  {
   "cell_type": "markdown",
   "source": [
    "# Testing whether wealth earnings profit can be imported\r\n"
   ],
   "metadata": {}
  },
  {
   "cell_type": "code",
   "execution_count": 5,
   "source": [
    "import balance_sheet as bs\r\n",
    "import sampling\r\n",
    "pop = sampling.create_pop(\"between\", 3)\r\n",
    "bs.wealth_earnings_profit(pop, 1, 10)"
   ],
   "outputs": [
    {
     "output_type": "execute_result",
     "data": {
      "text/plain": [
       "([[2], [10000.0], [10000.0]], 1.0000582506152018, 0.004964592465173012)"
      ]
     },
     "metadata": {},
     "execution_count": 5
    }
   ],
   "metadata": {}
  }
 ],
 "metadata": {
  "orig_nbformat": 4,
  "language_info": {
   "name": "python",
   "version": "3.9.6",
   "mimetype": "text/x-python",
   "codemirror_mode": {
    "name": "ipython",
    "version": 3
   },
   "pygments_lexer": "ipython3",
   "nbconvert_exporter": "python",
   "file_extension": ".py"
  },
  "kernelspec": {
   "name": "python3",
   "display_name": "Python 3.9.6 64-bit"
  },
  "interpreter": {
   "hash": "04d1ac1ce665b910e7ce9779815cb12d32b65fb6afac4574d56f0a49ce737342"
  }
 },
 "nbformat": 4,
 "nbformat_minor": 2
}