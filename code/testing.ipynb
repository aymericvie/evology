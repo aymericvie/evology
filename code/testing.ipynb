{
 "cells": [
  {
   "cell_type": "markdown",
   "source": [
    "# Here we test whether main works at all\r\n"
   ],
   "metadata": {}
  },
  {
   "cell_type": "code",
   "execution_count": 1,
   "source": [
    "import main\r\n",
    "main.main(\"between\", 3, 0, 3, 0, 0)"
   ],
   "outputs": [
    {
     "output_type": "stream",
     "name": "stderr",
     "text": [
      "100%|██████████| 3/3 [00:01<00:00,  1.72it/s]\n"
     ]
    },
    {
     "output_type": "execute_result",
     "data": {
      "text/html": [
       "<div>\n",
       "<style scoped>\n",
       "    .dataframe tbody tr th:only-of-type {\n",
       "        vertical-align: middle;\n",
       "    }\n",
       "\n",
       "    .dataframe tbody tr th {\n",
       "        vertical-align: top;\n",
       "    }\n",
       "\n",
       "    .dataframe thead th {\n",
       "        text-align: right;\n",
       "    }\n",
       "</style>\n",
       "<table border=\"1\" class=\"dataframe\">\n",
       "  <thead>\n",
       "    <tr style=\"text-align: right;\">\n",
       "      <th></th>\n",
       "      <th>Gen</th>\n",
       "      <th>Price</th>\n",
       "      <th>Mismatch</th>\n",
       "      <th>Val_NT</th>\n",
       "      <th>Num_TF</th>\n",
       "      <th>Num_VI</th>\n",
       "      <th>Num_NT</th>\n",
       "      <th>Mean_TF</th>\n",
       "      <th>Mean_VI</th>\n",
       "      <th>Mean_NT</th>\n",
       "      <th>Div</th>\n",
       "      <th>RDiv</th>\n",
       "      <th>WShare_TF</th>\n",
       "      <th>WShare_VI</th>\n",
       "      <th>WShare_NT</th>\n",
       "      <th>Pos+</th>\n",
       "      <th>Pos-</th>\n",
       "      <th>Rep</th>\n",
       "    </tr>\n",
       "  </thead>\n",
       "  <tbody>\n",
       "    <tr>\n",
       "      <th>0</th>\n",
       "      <td>0.0</td>\n",
       "      <td>200.0</td>\n",
       "      <td>0.000000e+00</td>\n",
       "      <td>10711.0</td>\n",
       "      <td>1.0</td>\n",
       "      <td>1.0</td>\n",
       "      <td>1.0</td>\n",
       "      <td>2.0</td>\n",
       "      <td>10000.0</td>\n",
       "      <td>10000.0</td>\n",
       "      <td>0.000039</td>\n",
       "      <td>-0.053869</td>\n",
       "      <td>33.333553</td>\n",
       "      <td>33.333224</td>\n",
       "      <td>33.333224</td>\n",
       "      <td>1500000.0</td>\n",
       "      <td>0.000000</td>\n",
       "      <td>0.0</td>\n",
       "    </tr>\n",
       "    <tr>\n",
       "      <th>1</th>\n",
       "      <td>1.0</td>\n",
       "      <td>400.0</td>\n",
       "      <td>1.124966e+06</td>\n",
       "      <td>11712.0</td>\n",
       "      <td>1.0</td>\n",
       "      <td>1.0</td>\n",
       "      <td>1.0</td>\n",
       "      <td>2.0</td>\n",
       "      <td>10000.0</td>\n",
       "      <td>10000.0</td>\n",
       "      <td>0.000039</td>\n",
       "      <td>0.420210</td>\n",
       "      <td>30.000713</td>\n",
       "      <td>34.999644</td>\n",
       "      <td>34.999644</td>\n",
       "      <td>1500000.0</td>\n",
       "      <td>46865.562002</td>\n",
       "      <td>0.0</td>\n",
       "    </tr>\n",
       "    <tr>\n",
       "      <th>2</th>\n",
       "      <td>2.0</td>\n",
       "      <td>800.0</td>\n",
       "      <td>6.091898e+05</td>\n",
       "      <td>11025.0</td>\n",
       "      <td>1.0</td>\n",
       "      <td>1.0</td>\n",
       "      <td>1.0</td>\n",
       "      <td>2.0</td>\n",
       "      <td>10000.0</td>\n",
       "      <td>10000.0</td>\n",
       "      <td>0.000039</td>\n",
       "      <td>-1.864069</td>\n",
       "      <td>22.222806</td>\n",
       "      <td>38.888597</td>\n",
       "      <td>38.888597</td>\n",
       "      <td>1500000.0</td>\n",
       "      <td>374992.433545</td>\n",
       "      <td>0.0</td>\n",
       "    </tr>\n",
       "  </tbody>\n",
       "</table>\n",
       "</div>"
      ],
      "text/plain": [
       "   Gen  Price      Mismatch   Val_NT  Num_TF  Num_VI  Num_NT  Mean_TF  \\\n",
       "0  0.0  200.0  0.000000e+00  10711.0     1.0     1.0     1.0      2.0   \n",
       "1  1.0  400.0  1.124966e+06  11712.0     1.0     1.0     1.0      2.0   \n",
       "2  2.0  800.0  6.091898e+05  11025.0     1.0     1.0     1.0      2.0   \n",
       "\n",
       "   Mean_VI  Mean_NT       Div      RDiv  WShare_TF  WShare_VI  WShare_NT  \\\n",
       "0  10000.0  10000.0  0.000039 -0.053869  33.333553  33.333224  33.333224   \n",
       "1  10000.0  10000.0  0.000039  0.420210  30.000713  34.999644  34.999644   \n",
       "2  10000.0  10000.0  0.000039 -1.864069  22.222806  38.888597  38.888597   \n",
       "\n",
       "        Pos+           Pos-  Rep  \n",
       "0  1500000.0       0.000000  0.0  \n",
       "1  1500000.0   46865.562002  0.0  \n",
       "2  1500000.0  374992.433545  0.0  "
      ]
     },
     "metadata": {},
     "execution_count": 1
    }
   ],
   "metadata": {}
  },
  {
   "cell_type": "markdown",
   "source": [
    "# Here we test whether the trading signal and excess demand functions/values work well\r\n"
   ],
   "metadata": {}
  },
  {
   "cell_type": "code",
   "execution_count": 2,
   "source": [
    "import sampling\r\n",
    "import balance_sheet as bs\r\n",
    "pop = sampling.create_pop(\"between\", 3)\r\n",
    "print(pop)\r\n",
    "price_history = [100, 100]\r\n",
    "bs.determine_edf(pop, price_history)\r\n",
    "# Under simulations for market clearing in Colab, we obtain that the clearing price is 5312.95\r\n",
    "\"\"\" def func1(asset_key, price): #value investor\r\n",
    "  return ((50_000_000 + 500_000 * price) / price) * (np.tanh(np.log2(10_000) - np.log2(price)) + 0.5) - 500_000\r\n",
    "\r\n",
    "def func2(asset_key, price): #noise trader\r\n",
    "  return ((50_000_000 + 500_000 * price) / price) * (np.tanh(np.log2(10_000) - np.log2(price)) + 0.5) - 500_000\r\n",
    "\r\n",
    "def func3(asset_key, price): #trend follower\r\n",
    "  return ((50_000_000 + 500_000 * price) / price) * (np.tanh(0) + 0.5) - 500_000\r\n",
    "\"\"\"\r\n",
    "current_price = 5312.95\r\n",
    "bs.calculate_edv(pop, current_price)\r\n",
    "\r\n",
    "true_value_tf = -245_294\r\n",
    "true_value_vi = 122_647\r\n",
    "true_value_nt = 122_647\r\n",
    "\r\n",
    "for ind in pop:\r\n",
    "    print(ind.type)\r\n",
    "    print(ind.edv)\r\n",
    "\r\n",
    "# Result: TF and VI are exact. NT is only marginally wrong (due to ind.process being 1 in the Colab reference)\r\n",
    "# Hence: the EDV functions well.\r\n",
    "\r\n",
    "print(bs.calculate_total_edv(pop))\r\n",
    "# THe deviation is understandable with regards to the NT randomness factor."
   ],
   "outputs": [
    {
     "output_type": "stream",
     "name": "stdout",
     "text": [
      "[[2], [10000.0], [10000.0]]\n",
      "tf\n",
      "-245294.5162292135\n",
      "vi\n",
      "122647.59557767748\n",
      "nt\n",
      "168162.90428618377\n",
      "45515.98363464774\n"
     ]
    }
   ],
   "metadata": {}
  },
  {
   "cell_type": "code",
   "execution_count": null,
   "source": [],
   "outputs": [],
   "metadata": {}
  },
  {
   "cell_type": "markdown",
   "source": [
    "# Testing whether wealth earnings profit can be imported\r\n"
   ],
   "metadata": {}
  },
  {
   "cell_type": "code",
   "execution_count": 3,
   "source": [
    "import balance_sheet as bs\r\n",
    "import sampling\r\n",
    "pop = sampling.create_pop(\"between\", 3)\r\n",
    "bs.wealth_earnings_profit(pop, 1, 10)"
   ],
   "outputs": [
    {
     "output_type": "execute_result",
     "data": {
      "text/plain": [
       "([[2], [10000.0], [10000.0]], 1.0051748329525099, 1.3586850351754305)"
      ]
     },
     "metadata": {},
     "execution_count": 3
    }
   ],
   "metadata": {}
  }
 ],
 "metadata": {
  "orig_nbformat": 4,
  "language_info": {
   "name": "python",
   "version": "3.9.6",
   "mimetype": "text/x-python",
   "codemirror_mode": {
    "name": "ipython",
    "version": 3
   },
   "pygments_lexer": "ipython3",
   "nbconvert_exporter": "python",
   "file_extension": ".py"
  },
  "kernelspec": {
   "name": "python3",
   "display_name": "Python 3.9.6 64-bit"
  },
  "interpreter": {
   "hash": "04d1ac1ce665b910e7ce9779815cb12d32b65fb6afac4574d56f0a49ce737342"
  }
 },
 "nbformat": 4,
 "nbformat_minor": 2
}